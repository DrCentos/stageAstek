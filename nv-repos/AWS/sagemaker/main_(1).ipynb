{
 "cells": [
  {
   "cell_type": "code",
   "execution_count": 1,
   "id": "9a91be52-793b-498e-8d5f-437a02369558",
   "metadata": {
    "tags": [],
    "colab": {
     "base_uri": "https://localhost:8080/"
    },
    "id": "9a91be52-793b-498e-8d5f-437a02369558",
    "outputId": "1ca6a321-7a10-4a03-a1f2-2c59964d6814"
   },
   "outputs": [
    {
     "output_type": "stream",
     "name": "stdout",
     "text": [
      "Looking in indexes: https://pypi.org/simple, https://us-python.pkg.dev/colab-wheels/public/simple/\n",
      "Requirement already satisfied: numpy in /usr/local/lib/python3.9/dist-packages (1.22.4)\n"
     ]
    }
   ],
   "source": [
    "%pip install numpy \n",
    "# If you are using a Conda environment (such as with the Data Science Kernel), you may prefer to use conda instead of pip:\n",
    "# %conda install numpy"
   ]
  },
  {
   "cell_type": "code",
   "execution_count": 2,
   "id": "771cc733-74e6-41fc-a4ab-a8cfb0ffaa2a",
   "metadata": {
    "tags": [],
    "colab": {
     "base_uri": "https://localhost:8080/"
    },
    "id": "771cc733-74e6-41fc-a4ab-a8cfb0ffaa2a",
    "outputId": "3394589e-80cb-4dcf-cbb4-36d9bb310aa7"
   },
   "outputs": [
    {
     "output_type": "stream",
     "name": "stdout",
     "text": [
      "['.config', 'sample_data']\n"
     ]
    }
   ],
   "source": [
    "# This Python 3 environment comes with many helpful analytics libraries installed\n",
    "# It is defined by the kaggle/python docker image: https://github.com/kaggle/docker-python\n",
    "# For example, here's several helpful packages to load in \n",
    "\n",
    "import numpy as np # linear algebra\n",
    "import pandas as pd # data processing, CSV file I/O (e.g. pd.read_csv)\n",
    "\n",
    "# Input data files are available in the \"../input/\" directory.\n",
    "# For example, running this (by clicking run or pressing Shift+Enter) will list the files in the input directory\n",
    "\n",
    "import os\n",
    "print(os.listdir(\"./\"))\n",
    "\n",
    "# Any results you write to the current directory are saved as output."
   ]
  },
  {
   "cell_type": "code",
   "execution_count": null,
   "id": "1654255e-0488-4f39-be9b-20e5eb32dd6e",
   "metadata": {
    "tags": [],
    "id": "1654255e-0488-4f39-be9b-20e5eb32dd6e"
   },
   "outputs": [],
   "source": [
    "import pandas as pd\n",
    "import io\n",
    "import boto3\n",
    "\n",
    "s3c = boto3.client('s3', region_name=\"eu-west-3\")\n",
    "obj = s3c.get_object(Bucket=\"nvabucket\",Key=\"coinbaseUSD_1-min_data_2014-12-01_to_2018-11-11.csv\")\n",
    "df = pd.read_csv(io.BytesIO(obj[\"Body\"].read()))"
   ]
  },
  {
   "cell_type": "code",
   "execution_count": null,
   "id": "21d171ba-9464-4346-a368-6b5a61c8caab",
   "metadata": {
    "tags": [],
    "id": "21d171ba-9464-4346-a368-6b5a61c8caab"
   },
   "outputs": [],
   "source": [
    "import warnings\n",
    "warnings.filterwarnings(\"ignore\")\n",
    "\n",
    "from sklearn.preprocessing import MinMaxScaler\n",
    "# from keras.wrappers.scikit_learn import KerasRegressor\n",
    "# from sklearn.model_selection import GridSearchCV\n",
    "import numpy as np \n",
    "import pandas as pd \n",
    "\n",
    "\n",
    "df['date'] = pd.to_datetime(df['Timestamp'], unit='s').dt.date\n",
    "group = df.groupby('date')\n",
    "Real_Price = group['Weighted_Price'].mean()"
   ]
  },
  {
   "cell_type": "code",
   "execution_count": null,
   "id": "7b2c7885-4185-4e64-b4ed-2e72aa8ed5d4",
   "metadata": {
    "tags": [],
    "id": "7b2c7885-4185-4e64-b4ed-2e72aa8ed5d4"
   },
   "outputs": [],
   "source": [
    "prediction_days = 30\n",
    "df_train = Real_Price[:len(Real_Price)-prediction_days]\n",
    "df_test = Real_Price[len(Real_Price)-prediction_days:]\n",
    "\n",
    "# Adaptation to the RNN\n",
    "training_set = df_train.values\n",
    "training_set = np.reshape(training_set, (len(training_set), 1))\n",
    "sc = MinMaxScaler()\n",
    "training_set = sc.fit_transform(training_set)\n",
    "X_train = training_set[0:len(training_set)-1]\n",
    "y_train = training_set[1:len(training_set)]\n",
    "X_train = np.reshape(X_train, (len(X_train), 1, 1))"
   ]
  },
  {
   "cell_type": "code",
   "execution_count": null,
   "id": "981b743e-e527-41f9-b0d0-6f49e1cd3839",
   "metadata": {
    "tags": [],
    "id": "981b743e-e527-41f9-b0d0-6f49e1cd3839"
   },
   "outputs": [],
   "source": [
    "%pip install keras"
   ]
  },
  {
   "cell_type": "code",
   "execution_count": null,
   "id": "8c9a1747-75c5-4312-b514-f58bc10e7dce",
   "metadata": {
    "tags": [],
    "id": "8c9a1747-75c5-4312-b514-f58bc10e7dce"
   },
   "outputs": [],
   "source": [
    "%pip install tensorflow"
   ]
  },
  {
   "cell_type": "code",
   "execution_count": null,
   "id": "21dbaafd-f592-4967-9686-359ff6ac0579",
   "metadata": {
    "tags": [],
    "id": "21dbaafd-f592-4967-9686-359ff6ac0579"
   },
   "outputs": [],
   "source": [
    "# Building the RNN\n",
    "from keras.models import Sequential\n",
    "from keras.layers import Dense\n",
    "from keras.layers import LSTM\n",
    "# from keras.layers import Dropout\n",
    "\n",
    "def create_model(units=32, activation='relu', optimizer='adam', dropout_rate=0.0):\n",
    "    regressor = Sequential()\n",
    "    regressor.add(LSTM(units=units, activation=activation, input_shape=(None, 1)))\n",
    "    # regressor.add(Dropout(dropout_rate))\n",
    "    regressor.add(Dense(units=1))\n",
    "    regressor.compile(optimizer=optimizer, loss='mean_squared_error')\n",
    "    return regressor\n"
   ]
  },
  {
   "cell_type": "code",
   "execution_count": null,
   "id": "7693abd8-ca71-414c-8b63-4f1d8db2bab2",
   "metadata": {
    "tags": [],
    "id": "7693abd8-ca71-414c-8b63-4f1d8db2bab2"
   },
   "outputs": [],
   "source": [
    "regressor = create_model()\n",
    "regressor.fit(X_train, y_train, batch_size=5, epochs=20)"
   ]
  },
  {
   "cell_type": "code",
   "execution_count": null,
   "id": "d455c5a0-3443-40c1-8b89-90c110088a5a",
   "metadata": {
    "tags": [],
    "id": "d455c5a0-3443-40c1-8b89-90c110088a5a"
   },
   "outputs": [],
   "source": [
    "# Predicting the future\n",
    "test_set = df_test.values\n",
    "inputs = np.reshape(test_set, (len(test_set), 1))\n",
    "inputs = sc.transform(inputs)\n",
    "inputs = np.reshape(inputs, (len(inputs), 1, 1))\n",
    "predicted_BTC_price = regressor.predict(inputs)\n",
    "predicted_BTC_price = sc.inverse_transform(predicted_BTC_price)"
   ]
  },
  {
   "cell_type": "code",
   "execution_count": null,
   "id": "9c5cf3f9-7ab6-4545-8b1c-595e6cd45086",
   "metadata": {
    "tags": [],
    "id": "9c5cf3f9-7ab6-4545-8b1c-595e6cd45086"
   },
   "outputs": [],
   "source": [
    "# Get model Root Mean Squared Error\n",
    "import math\n",
    "from sklearn.metrics import mean_squared_error\n",
    "rmse = math.sqrt(mean_squared_error(test_set, predicted_BTC_price))\n",
    "print('Root Mean Squared Error: ', rmse)\n",
    "\n"
   ]
  },
  {
   "cell_type": "code",
   "execution_count": null,
   "id": "9047d214-4243-46c7-a2e9-653a4c7c9c72",
   "metadata": {
    "tags": [],
    "id": "9047d214-4243-46c7-a2e9-653a4c7c9c72"
   },
   "outputs": [],
   "source": [
    "# Get model R2 score\n",
    "from sklearn.metrics import r2_score\n",
    "r2 = r2_score(test_set, predicted_BTC_price)\n",
    "print('R2 score: ', r2)\n",
    "\n"
   ]
  },
  {
   "cell_type": "code",
   "execution_count": null,
   "id": "e0d8844e-0d60-4d44-bfc5-c1d4498eb50e",
   "metadata": {
    "tags": [],
    "id": "e0d8844e-0d60-4d44-bfc5-c1d4498eb50e"
   },
   "outputs": [],
   "source": [
    "# Explained variance score\n",
    "from sklearn.metrics import explained_variance_score\n",
    "evs = explained_variance_score(test_set, predicted_BTC_price)\n",
    "print('Explained variance score: ', evs)\n",
    "\n"
   ]
  },
  {
   "cell_type": "code",
   "execution_count": null,
   "id": "8e2e9691-028e-45d5-9cda-5da901eecf0b",
   "metadata": {
    "tags": [],
    "id": "8e2e9691-028e-45d5-9cda-5da901eecf0b"
   },
   "outputs": [],
   "source": [
    "import joblib\n",
    "# Persist the model\n",
    "path = \"./scaler.bin\"\n",
    "joblib.dump(sc, path ,compress=True)\n",
    "print(\"scaler persisted at \" + path)"
   ]
  },
  {
   "cell_type": "code",
   "execution_count": null,
   "id": "98dbc88d-de2d-4abc-8f77-859ef0147ded",
   "metadata": {
    "tags": [],
    "id": "98dbc88d-de2d-4abc-8f77-859ef0147ded"
   },
   "outputs": [],
   "source": [
    "s3 = boto3.client('s3')\n",
    "s3.put_object(Bucket='nvabucket', Key='scaler.bin',Body=path)"
   ]
  },
  {
   "cell_type": "code",
   "execution_count": null,
   "id": "6da2cd67-24d4-4a7a-a69d-91a6a06d16c5",
   "metadata": {
    "tags": [],
    "id": "6da2cd67-24d4-4a7a-a69d-91a6a06d16c5"
   },
   "outputs": [],
   "source": [
    "regressor.save('./model')"
   ]
  },
  {
   "cell_type": "code",
   "execution_count": null,
   "id": "d31f9455-df76-4b3b-bd0a-575312550870",
   "metadata": {
    "tags": [],
    "id": "d31f9455-df76-4b3b-bd0a-575312550870"
   },
   "outputs": [],
   "source": [
    "s3 = boto3.client('s3')\n",
    "s3.put_object(Bucket='nvabucket', Key='model',Body='./model')"
   ]
  }
 ],
 "metadata": {
  "availableInstances": [
   {
    "_defaultOrder": 0,
    "_isFastLaunch": true,
    "category": "General purpose",
    "gpuNum": 0,
    "memoryGiB": 4,
    "name": "ml.t3.medium",
    "vcpuNum": 2
   },
   {
    "_defaultOrder": 1,
    "_isFastLaunch": false,
    "category": "General purpose",
    "gpuNum": 0,
    "memoryGiB": 8,
    "name": "ml.t3.large",
    "vcpuNum": 2
   },
   {
    "_defaultOrder": 2,
    "_isFastLaunch": false,
    "category": "General purpose",
    "gpuNum": 0,
    "memoryGiB": 16,
    "name": "ml.t3.xlarge",
    "vcpuNum": 4
   },
   {
    "_defaultOrder": 3,
    "_isFastLaunch": false,
    "category": "General purpose",
    "gpuNum": 0,
    "memoryGiB": 32,
    "name": "ml.t3.2xlarge",
    "vcpuNum": 8
   },
   {
    "_defaultOrder": 4,
    "_isFastLaunch": true,
    "category": "General purpose",
    "gpuNum": 0,
    "memoryGiB": 8,
    "name": "ml.m5.large",
    "vcpuNum": 2
   },
   {
    "_defaultOrder": 5,
    "_isFastLaunch": false,
    "category": "General purpose",
    "gpuNum": 0,
    "memoryGiB": 16,
    "name": "ml.m5.xlarge",
    "vcpuNum": 4
   },
   {
    "_defaultOrder": 6,
    "_isFastLaunch": false,
    "category": "General purpose",
    "gpuNum": 0,
    "memoryGiB": 32,
    "name": "ml.m5.2xlarge",
    "vcpuNum": 8
   },
   {
    "_defaultOrder": 7,
    "_isFastLaunch": false,
    "category": "General purpose",
    "gpuNum": 0,
    "memoryGiB": 64,
    "name": "ml.m5.4xlarge",
    "vcpuNum": 16
   },
   {
    "_defaultOrder": 8,
    "_isFastLaunch": false,
    "category": "General purpose",
    "gpuNum": 0,
    "memoryGiB": 128,
    "name": "ml.m5.8xlarge",
    "vcpuNum": 32
   },
   {
    "_defaultOrder": 9,
    "_isFastLaunch": false,
    "category": "General purpose",
    "gpuNum": 0,
    "memoryGiB": 192,
    "name": "ml.m5.12xlarge",
    "vcpuNum": 48
   },
   {
    "_defaultOrder": 10,
    "_isFastLaunch": false,
    "category": "General purpose",
    "gpuNum": 0,
    "memoryGiB": 256,
    "name": "ml.m5.16xlarge",
    "vcpuNum": 64
   },
   {
    "_defaultOrder": 11,
    "_isFastLaunch": false,
    "category": "General purpose",
    "gpuNum": 0,
    "memoryGiB": 384,
    "name": "ml.m5.24xlarge",
    "vcpuNum": 96
   },
   {
    "_defaultOrder": 12,
    "_isFastLaunch": false,
    "category": "General purpose",
    "gpuNum": 0,
    "memoryGiB": 8,
    "name": "ml.m5d.large",
    "vcpuNum": 2
   },
   {
    "_defaultOrder": 13,
    "_isFastLaunch": false,
    "category": "General purpose",
    "gpuNum": 0,
    "memoryGiB": 16,
    "name": "ml.m5d.xlarge",
    "vcpuNum": 4
   },
   {
    "_defaultOrder": 14,
    "_isFastLaunch": false,
    "category": "General purpose",
    "gpuNum": 0,
    "memoryGiB": 32,
    "name": "ml.m5d.2xlarge",
    "vcpuNum": 8
   },
   {
    "_defaultOrder": 15,
    "_isFastLaunch": false,
    "category": "General purpose",
    "gpuNum": 0,
    "memoryGiB": 64,
    "name": "ml.m5d.4xlarge",
    "vcpuNum": 16
   },
   {
    "_defaultOrder": 16,
    "_isFastLaunch": false,
    "category": "General purpose",
    "gpuNum": 0,
    "memoryGiB": 128,
    "name": "ml.m5d.8xlarge",
    "vcpuNum": 32
   },
   {
    "_defaultOrder": 17,
    "_isFastLaunch": false,
    "category": "General purpose",
    "gpuNum": 0,
    "memoryGiB": 192,
    "name": "ml.m5d.12xlarge",
    "vcpuNum": 48
   },
   {
    "_defaultOrder": 18,
    "_isFastLaunch": false,
    "category": "General purpose",
    "gpuNum": 0,
    "memoryGiB": 256,
    "name": "ml.m5d.16xlarge",
    "vcpuNum": 64
   },
   {
    "_defaultOrder": 19,
    "_isFastLaunch": false,
    "category": "General purpose",
    "gpuNum": 0,
    "memoryGiB": 384,
    "name": "ml.m5d.24xlarge",
    "vcpuNum": 96
   },
   {
    "_defaultOrder": 20,
    "_isFastLaunch": true,
    "category": "Compute optimized",
    "gpuNum": 0,
    "memoryGiB": 4,
    "name": "ml.c5.large",
    "vcpuNum": 2
   },
   {
    "_defaultOrder": 21,
    "_isFastLaunch": false,
    "category": "Compute optimized",
    "gpuNum": 0,
    "memoryGiB": 8,
    "name": "ml.c5.xlarge",
    "vcpuNum": 4
   },
   {
    "_defaultOrder": 22,
    "_isFastLaunch": false,
    "category": "Compute optimized",
    "gpuNum": 0,
    "memoryGiB": 16,
    "name": "ml.c5.2xlarge",
    "vcpuNum": 8
   },
   {
    "_defaultOrder": 23,
    "_isFastLaunch": false,
    "category": "Compute optimized",
    "gpuNum": 0,
    "memoryGiB": 32,
    "name": "ml.c5.4xlarge",
    "vcpuNum": 16
   },
   {
    "_defaultOrder": 24,
    "_isFastLaunch": false,
    "category": "Compute optimized",
    "gpuNum": 0,
    "memoryGiB": 72,
    "name": "ml.c5.9xlarge",
    "vcpuNum": 36
   },
   {
    "_defaultOrder": 25,
    "_isFastLaunch": false,
    "category": "Compute optimized",
    "gpuNum": 0,
    "memoryGiB": 96,
    "name": "ml.c5.12xlarge",
    "vcpuNum": 48
   },
   {
    "_defaultOrder": 26,
    "_isFastLaunch": false,
    "category": "Compute optimized",
    "gpuNum": 0,
    "memoryGiB": 144,
    "name": "ml.c5.18xlarge",
    "vcpuNum": 72
   },
   {
    "_defaultOrder": 27,
    "_isFastLaunch": false,
    "category": "Compute optimized",
    "gpuNum": 0,
    "memoryGiB": 192,
    "name": "ml.c5.24xlarge",
    "vcpuNum": 96
   },
   {
    "_defaultOrder": 28,
    "_isFastLaunch": true,
    "category": "Accelerated computing",
    "gpuNum": 1,
    "memoryGiB": 16,
    "name": "ml.g4dn.xlarge",
    "vcpuNum": 4
   },
   {
    "_defaultOrder": 29,
    "_isFastLaunch": false,
    "category": "Accelerated computing",
    "gpuNum": 1,
    "memoryGiB": 32,
    "name": "ml.g4dn.2xlarge",
    "vcpuNum": 8
   },
   {
    "_defaultOrder": 30,
    "_isFastLaunch": false,
    "category": "Accelerated computing",
    "gpuNum": 1,
    "memoryGiB": 64,
    "name": "ml.g4dn.4xlarge",
    "vcpuNum": 16
   },
   {
    "_defaultOrder": 31,
    "_isFastLaunch": false,
    "category": "Accelerated computing",
    "gpuNum": 1,
    "memoryGiB": 128,
    "name": "ml.g4dn.8xlarge",
    "vcpuNum": 32
   },
   {
    "_defaultOrder": 32,
    "_isFastLaunch": false,
    "category": "Accelerated computing",
    "gpuNum": 4,
    "memoryGiB": 192,
    "name": "ml.g4dn.12xlarge",
    "vcpuNum": 48
   },
   {
    "_defaultOrder": 33,
    "_isFastLaunch": false,
    "category": "Accelerated computing",
    "gpuNum": 1,
    "memoryGiB": 256,
    "name": "ml.g4dn.16xlarge",
    "vcpuNum": 64
   },
   {
    "_defaultOrder": 34,
    "_isFastLaunch": false,
    "category": "Accelerated computing",
    "gpuNum": 1,
    "memoryGiB": 61,
    "name": "ml.p3.2xlarge",
    "vcpuNum": 8
   },
   {
    "_defaultOrder": 35,
    "_isFastLaunch": false,
    "category": "Accelerated computing",
    "gpuNum": 4,
    "memoryGiB": 244,
    "name": "ml.p3.8xlarge",
    "vcpuNum": 32
   },
   {
    "_defaultOrder": 36,
    "_isFastLaunch": false,
    "category": "Accelerated computing",
    "gpuNum": 8,
    "memoryGiB": 488,
    "name": "ml.p3.16xlarge",
    "vcpuNum": 64
   },
   {
    "_defaultOrder": 37,
    "_isFastLaunch": false,
    "category": "Accelerated computing",
    "gpuNum": 8,
    "memoryGiB": 768,
    "name": "ml.p3dn.24xlarge",
    "vcpuNum": 96
   },
   {
    "_defaultOrder": 38,
    "_isFastLaunch": false,
    "category": "Memory Optimized",
    "gpuNum": 0,
    "memoryGiB": 16,
    "name": "ml.r5.large",
    "vcpuNum": 2
   },
   {
    "_defaultOrder": 39,
    "_isFastLaunch": false,
    "category": "Memory Optimized",
    "gpuNum": 0,
    "memoryGiB": 32,
    "name": "ml.r5.xlarge",
    "vcpuNum": 4
   },
   {
    "_defaultOrder": 40,
    "_isFastLaunch": false,
    "category": "Memory Optimized",
    "gpuNum": 0,
    "memoryGiB": 64,
    "name": "ml.r5.2xlarge",
    "vcpuNum": 8
   },
   {
    "_defaultOrder": 41,
    "_isFastLaunch": false,
    "category": "Memory Optimized",
    "gpuNum": 0,
    "memoryGiB": 128,
    "name": "ml.r5.4xlarge",
    "vcpuNum": 16
   },
   {
    "_defaultOrder": 42,
    "_isFastLaunch": false,
    "category": "Memory Optimized",
    "gpuNum": 0,
    "memoryGiB": 256,
    "name": "ml.r5.8xlarge",
    "vcpuNum": 32
   },
   {
    "_defaultOrder": 43,
    "_isFastLaunch": false,
    "category": "Memory Optimized",
    "gpuNum": 0,
    "memoryGiB": 384,
    "name": "ml.r5.12xlarge",
    "vcpuNum": 48
   },
   {
    "_defaultOrder": 44,
    "_isFastLaunch": false,
    "category": "Memory Optimized",
    "gpuNum": 0,
    "memoryGiB": 512,
    "name": "ml.r5.16xlarge",
    "vcpuNum": 64
   },
   {
    "_defaultOrder": 45,
    "_isFastLaunch": false,
    "category": "Memory Optimized",
    "gpuNum": 0,
    "memoryGiB": 768,
    "name": "ml.r5.24xlarge",
    "vcpuNum": 96
   },
   {
    "_defaultOrder": 46,
    "_isFastLaunch": false,
    "category": "Accelerated computing",
    "gpuNum": 1,
    "memoryGiB": 16,
    "name": "ml.g5.xlarge",
    "vcpuNum": 4
   },
   {
    "_defaultOrder": 47,
    "_isFastLaunch": false,
    "category": "Accelerated computing",
    "gpuNum": 1,
    "memoryGiB": 32,
    "name": "ml.g5.2xlarge",
    "vcpuNum": 8
   },
   {
    "_defaultOrder": 48,
    "_isFastLaunch": false,
    "category": "Accelerated computing",
    "gpuNum": 1,
    "memoryGiB": 64,
    "name": "ml.g5.4xlarge",
    "vcpuNum": 16
   },
   {
    "_defaultOrder": 49,
    "_isFastLaunch": false,
    "category": "Accelerated computing",
    "gpuNum": 1,
    "memoryGiB": 128,
    "name": "ml.g5.8xlarge",
    "vcpuNum": 32
   },
   {
    "_defaultOrder": 50,
    "_isFastLaunch": false,
    "category": "Accelerated computing",
    "gpuNum": 1,
    "memoryGiB": 256,
    "name": "ml.g5.16xlarge",
    "vcpuNum": 64
   },
   {
    "_defaultOrder": 51,
    "_isFastLaunch": false,
    "category": "Accelerated computing",
    "gpuNum": 4,
    "memoryGiB": 192,
    "name": "ml.g5.12xlarge",
    "vcpuNum": 48
   },
   {
    "_defaultOrder": 52,
    "_isFastLaunch": false,
    "category": "Accelerated computing",
    "gpuNum": 4,
    "memoryGiB": 384,
    "name": "ml.g5.24xlarge",
    "vcpuNum": 96
   },
   {
    "_defaultOrder": 53,
    "_isFastLaunch": false,
    "category": "Accelerated computing",
    "gpuNum": 8,
    "memoryGiB": 768,
    "name": "ml.g5.48xlarge",
    "vcpuNum": 192
   }
  ],
  "instance_type": "ml.t3.medium",
  "kernelspec": {
   "display_name": "Python 3 (Data Science)",
   "language": "python",
   "name": "python3__SAGEMAKER_INTERNAL__arn:aws:sagemaker:eu-west-3:615547856133:image/datascience-1.0"
  },
  "language_info": {
   "codemirror_mode": {
    "name": "ipython",
    "version": 3
   },
   "file_extension": ".py",
   "mimetype": "text/x-python",
   "name": "python",
   "nbconvert_exporter": "python",
   "pygments_lexer": "ipython3",
   "version": "3.7.10"
  },
  "colab": {
   "provenance": []
  }
 },
 "nbformat": 4,
 "nbformat_minor": 5
}
