{
 "cells": [
  {
   "cell_type": "code",
   "execution_count": 12,
   "id": "4e54af8b-bab2-456c-90be-7a7b01c8a706",
   "metadata": {
    "execution": {
     "iopub.execute_input": "2023-03-15T09:18:18.480377Z",
     "iopub.status.busy": "2023-03-15T09:18:18.479878Z",
     "iopub.status.idle": "2023-03-15T09:18:22.376255Z",
     "shell.execute_reply": "2023-03-15T09:18:22.375261Z",
     "shell.execute_reply.started": "2023-03-15T09:18:18.480332Z"
    },
    "tags": []
   },
   "outputs": [
    {
     "name": "stdout",
     "output_type": "stream",
     "text": [
      "Defaulting to user installation because normal site-packages is not writeable\n",
      "Requirement already satisfied: sparkmagic in /home/emr-notebook/.local/lib/python3.7/site-packages (0.20.4)\n",
      "Requirement already satisfied: tornado>=4 in /mnt/notebook-env/lib/python3.7/site-packages (from sparkmagic) (6.2)\n",
      "Requirement already satisfied: pandas>=0.17.1 in /mnt/notebook-env/lib/python3.7/site-packages (from sparkmagic) (1.3.5)\n",
      "Requirement already satisfied: nest-asyncio==1.5.5 in /mnt/notebook-env/lib/python3.7/site-packages (from sparkmagic) (1.5.5)\n",
      "Requirement already satisfied: requests-kerberos>=0.8.0 in /mnt/notebook-env/lib/python3.7/site-packages (from sparkmagic) (0.12.0)\n",
      "Requirement already satisfied: ipykernel>=4.2.2 in /home/emr-notebook/.local/lib/python3.7/site-packages (from sparkmagic) (4.10.1)\n",
      "Requirement already satisfied: hdijupyterutils>=0.6 in /mnt/notebook-env/lib/python3.7/site-packages (from sparkmagic) (0.12.8)\n",
      "Requirement already satisfied: ipywidgets>5.0.0 in /mnt/notebook-env/lib/python3.7/site-packages (from sparkmagic) (7.6.5)\n",
      "Requirement already satisfied: numpy in /mnt/notebook-env/lib/python3.7/site-packages (from sparkmagic) (1.21.6)\n",
      "Requirement already satisfied: ipython>=4.0.2 in /home/emr-notebook/.local/lib/python3.7/site-packages (from sparkmagic) (6.5.0)\n",
      "Requirement already satisfied: notebook>=4.2 in /mnt/notebook-env/lib/python3.7/site-packages (from sparkmagic) (6.4.12)\n",
      "Requirement already satisfied: autovizwidget>=0.6 in /mnt/notebook-env/lib/python3.7/site-packages (from sparkmagic) (0.20.0)\n",
      "Requirement already satisfied: requests in /mnt/notebook-env/lib/python3.7/site-packages (from sparkmagic) (2.28.1)\n",
      "Requirement already satisfied: plotly>=3 in /mnt/notebook-env/lib/python3.7/site-packages (from autovizwidget>=0.6->sparkmagic) (5.11.0)\n",
      "Requirement already satisfied: mock in /home/emr-notebook/.local/lib/python3.7/site-packages (from hdijupyterutils>=0.6->sparkmagic) (5.0.1)\n",
      "Requirement already satisfied: jupyter<2,>=1 in /home/emr-notebook/.local/lib/python3.7/site-packages (from hdijupyterutils>=0.6->sparkmagic) (1.0.0)\n",
      "Requirement already satisfied: nose in /home/emr-notebook/.local/lib/python3.7/site-packages (from hdijupyterutils>=0.6->sparkmagic) (1.3.7)\n",
      "Requirement already satisfied: jupyter-client in /mnt/notebook-env/lib/python3.7/site-packages (from ipykernel>=4.2.2->sparkmagic) (6.1.11)\n",
      "Requirement already satisfied: traitlets>=4.1.0 in /mnt/notebook-env/lib/python3.7/site-packages (from ipykernel>=4.2.2->sparkmagic) (5.5.0)\n",
      "Requirement already satisfied: jedi>=0.10 in /mnt/notebook-env/lib/python3.7/site-packages (from ipython>=4.0.2->sparkmagic) (0.18.1)\n",
      "Requirement already satisfied: pickleshare in /mnt/notebook-env/lib/python3.7/site-packages (from ipython>=4.0.2->sparkmagic) (0.7.5)\n",
      "Requirement already satisfied: backcall in /mnt/notebook-env/lib/python3.7/site-packages (from ipython>=4.0.2->sparkmagic) (0.2.0)\n",
      "Requirement already satisfied: pygments in /mnt/notebook-env/lib/python3.7/site-packages (from ipython>=4.0.2->sparkmagic) (2.13.0)\n",
      "Requirement already satisfied: decorator in /mnt/notebook-env/lib/python3.7/site-packages (from ipython>=4.0.2->sparkmagic) (5.1.1)\n",
      "Requirement already satisfied: pexpect in /mnt/notebook-env/lib/python3.7/site-packages (from ipython>=4.0.2->sparkmagic) (4.8.0)\n",
      "Requirement already satisfied: prompt-toolkit<2.0.0,>=1.0.15 in /home/emr-notebook/.local/lib/python3.7/site-packages (from ipython>=4.0.2->sparkmagic) (1.0.18)\n",
      "Requirement already satisfied: simplegeneric>0.8 in /home/emr-notebook/.local/lib/python3.7/site-packages (from ipython>=4.0.2->sparkmagic) (0.8.1)\n",
      "Requirement already satisfied: setuptools>=18.5 in /mnt/notebook-env/lib/python3.7/site-packages (from ipython>=4.0.2->sparkmagic) (59.8.0)\n",
      "Requirement already satisfied: ipython-genutils~=0.2.0 in /mnt/notebook-env/lib/python3.7/site-packages (from ipywidgets>5.0.0->sparkmagic) (0.2.0)\n",
      "Requirement already satisfied: nbformat>=4.2.0 in /mnt/notebook-env/lib/python3.7/site-packages (from ipywidgets>5.0.0->sparkmagic) (5.7.0)\n",
      "Requirement already satisfied: jupyterlab-widgets>=1.0.0 in /mnt/notebook-env/lib/python3.7/site-packages (from ipywidgets>5.0.0->sparkmagic) (1.0.0)\n",
      "Requirement already satisfied: widgetsnbextension~=3.5.0 in /mnt/notebook-env/lib/python3.7/site-packages (from ipywidgets>5.0.0->sparkmagic) (3.5.2)\n",
      "Requirement already satisfied: Send2Trash>=1.8.0 in /mnt/notebook-env/lib/python3.7/site-packages (from notebook>=4.2->sparkmagic) (1.8.0)\n",
      "Requirement already satisfied: prometheus-client in /mnt/notebook-env/lib/python3.7/site-packages (from notebook>=4.2->sparkmagic) (0.15.0)\n",
      "Requirement already satisfied: jinja2 in /mnt/notebook-env/lib/python3.7/site-packages (from notebook>=4.2->sparkmagic) (3.1.1)\n",
      "Requirement already satisfied: argon2-cffi in /mnt/notebook-env/lib/python3.7/site-packages (from notebook>=4.2->sparkmagic) (21.3.0)\n",
      "Requirement already satisfied: terminado>=0.8.3 in /mnt/notebook-env/lib/python3.7/site-packages (from notebook>=4.2->sparkmagic) (0.17.0)\n",
      "Requirement already satisfied: jupyter-core>=4.6.1 in /mnt/notebook-env/lib/python3.7/site-packages (from notebook>=4.2->sparkmagic) (4.11.1)\n",
      "Requirement already satisfied: pyzmq>=17 in /mnt/notebook-env/lib/python3.7/site-packages (from notebook>=4.2->sparkmagic) (24.0.1)\n",
      "Requirement already satisfied: nbconvert>=5 in /mnt/notebook-env/lib/python3.7/site-packages (from notebook>=4.2->sparkmagic) (7.2.3)\n",
      "Requirement already satisfied: python-dateutil>=2.7.3 in /mnt/notebook-env/lib/python3.7/site-packages (from pandas>=0.17.1->sparkmagic) (2.8.2)\n",
      "Requirement already satisfied: pytz>=2017.3 in /mnt/notebook-env/lib/python3.7/site-packages (from pandas>=0.17.1->sparkmagic) (2022.5)\n",
      "Requirement already satisfied: cryptography>=1.3 in /mnt/notebook-env/lib/python3.7/site-packages (from requests-kerberos>=0.8.0->sparkmagic) (3.4.8)\n",
      "Requirement already satisfied: pykerberos<2.0.0,>=1.1.8 in /mnt/notebook-env/lib/python3.7/site-packages (from requests-kerberos>=0.8.0->sparkmagic) (1.2.4)\n",
      "Requirement already satisfied: urllib3<1.27,>=1.21.1 in /mnt/notebook-env/lib/python3.7/site-packages (from requests->sparkmagic) (1.26.11)\n",
      "Requirement already satisfied: idna<4,>=2.5 in /mnt/notebook-env/lib/python3.7/site-packages (from requests->sparkmagic) (3.4)\n",
      "Requirement already satisfied: certifi>=2017.4.17 in /mnt/notebook-env/lib/python3.7/site-packages (from requests->sparkmagic) (2022.9.24)\n",
      "Requirement already satisfied: charset-normalizer<3,>=2 in /mnt/notebook-env/lib/python3.7/site-packages (from requests->sparkmagic) (2.1.1)\n",
      "Requirement already satisfied: cffi>=1.12 in /mnt/notebook-env/lib/python3.7/site-packages (from cryptography>=1.3->requests-kerberos>=0.8.0->sparkmagic) (1.14.6)\n",
      "Requirement already satisfied: parso<0.9.0,>=0.8.0 in /mnt/notebook-env/lib/python3.7/site-packages (from jedi>=0.10->ipython>=4.0.2->sparkmagic) (0.8.3)\n",
      "Requirement already satisfied: qtconsole in /home/emr-notebook/.local/lib/python3.7/site-packages (from jupyter<2,>=1->hdijupyterutils>=0.6->sparkmagic) (5.4.1)\n",
      "Requirement already satisfied: jupyter-console in /home/emr-notebook/.local/lib/python3.7/site-packages (from jupyter<2,>=1->hdijupyterutils>=0.6->sparkmagic) (5.2.0)\n",
      "Requirement already satisfied: beautifulsoup4 in /mnt/notebook-env/lib/python3.7/site-packages (from nbconvert>=5->notebook>=4.2->sparkmagic) (4.11.1)\n",
      "Requirement already satisfied: packaging in /mnt/notebook-env/lib/python3.7/site-packages (from nbconvert>=5->notebook>=4.2->sparkmagic) (21.3)\n",
      "Requirement already satisfied: bleach in /mnt/notebook-env/lib/python3.7/site-packages (from nbconvert>=5->notebook>=4.2->sparkmagic) (5.0.1)\n",
      "Requirement already satisfied: markupsafe>=2.0 in /mnt/notebook-env/lib/python3.7/site-packages (from nbconvert>=5->notebook>=4.2->sparkmagic) (2.1.1)\n",
      "Requirement already satisfied: tinycss2 in /mnt/notebook-env/lib/python3.7/site-packages (from nbconvert>=5->notebook>=4.2->sparkmagic) (1.2.1)\n",
      "Requirement already satisfied: jupyterlab-pygments in /mnt/notebook-env/lib/python3.7/site-packages (from nbconvert>=5->notebook>=4.2->sparkmagic) (0.2.2)\n",
      "Requirement already satisfied: defusedxml in /mnt/notebook-env/lib/python3.7/site-packages (from nbconvert>=5->notebook>=4.2->sparkmagic) (0.7.1)\n",
      "Requirement already satisfied: mistune<3,>=2.0.3 in /mnt/notebook-env/lib/python3.7/site-packages (from nbconvert>=5->notebook>=4.2->sparkmagic) (2.0.4)\n",
      "Requirement already satisfied: nbclient>=0.5.0 in /mnt/notebook-env/lib/python3.7/site-packages (from nbconvert>=5->notebook>=4.2->sparkmagic) (0.7.0)\n",
      "Requirement already satisfied: importlib-metadata>=3.6 in /mnt/notebook-env/lib/python3.7/site-packages (from nbconvert>=5->notebook>=4.2->sparkmagic) (4.11.4)\n",
      "Requirement already satisfied: pandocfilters>=1.4.1 in /mnt/notebook-env/lib/python3.7/site-packages (from nbconvert>=5->notebook>=4.2->sparkmagic) (1.5.0)\n",
      "Requirement already satisfied: fastjsonschema in /mnt/notebook-env/lib/python3.7/site-packages (from nbformat>=4.2.0->ipywidgets>5.0.0->sparkmagic) (2.16.2)\n",
      "Requirement already satisfied: jsonschema>=2.6 in /mnt/notebook-env/lib/python3.7/site-packages (from nbformat>=4.2.0->ipywidgets>5.0.0->sparkmagic) (4.16.0)\n",
      "Requirement already satisfied: tenacity>=6.2.0 in /mnt/notebook-env/lib/python3.7/site-packages (from plotly>=3->autovizwidget>=0.6->sparkmagic) (8.1.0)\n",
      "Requirement already satisfied: wcwidth in /mnt/notebook-env/lib/python3.7/site-packages (from prompt-toolkit<2.0.0,>=1.0.15->ipython>=4.0.2->sparkmagic) (0.2.5)\n",
      "Requirement already satisfied: six>=1.9.0 in /mnt/notebook-env/lib/python3.7/site-packages (from prompt-toolkit<2.0.0,>=1.0.15->ipython>=4.0.2->sparkmagic) (1.16.0)\n",
      "Requirement already satisfied: ptyprocess in /mnt/notebook-env/lib/python3.7/site-packages (from terminado>=0.8.3->notebook>=4.2->sparkmagic) (0.7.0)\n",
      "Requirement already satisfied: argon2-cffi-bindings in /mnt/notebook-env/lib/python3.7/site-packages (from argon2-cffi->notebook>=4.2->sparkmagic) (21.2.0)\n",
      "Requirement already satisfied: typing-extensions in /mnt/notebook-env/lib/python3.7/site-packages (from argon2-cffi->notebook>=4.2->sparkmagic) (4.4.0)\n",
      "Requirement already satisfied: pycparser in /mnt/notebook-env/lib/python3.7/site-packages (from cffi>=1.12->cryptography>=1.3->requests-kerberos>=0.8.0->sparkmagic) (2.21)\n",
      "Requirement already satisfied: zipp>=0.5 in /mnt/notebook-env/lib/python3.7/site-packages (from importlib-metadata>=3.6->nbconvert>=5->notebook>=4.2->sparkmagic) (3.10.0)\n",
      "Requirement already satisfied: pyrsistent!=0.17.0,!=0.17.1,!=0.17.2,>=0.14.0 in /mnt/notebook-env/lib/python3.7/site-packages (from jsonschema>=2.6->nbformat>=4.2.0->ipywidgets>5.0.0->sparkmagic) (0.18.1)\n",
      "Requirement already satisfied: attrs>=17.4.0 in /mnt/notebook-env/lib/python3.7/site-packages (from jsonschema>=2.6->nbformat>=4.2.0->ipywidgets>5.0.0->sparkmagic) (22.1.0)\n",
      "Requirement already satisfied: pkgutil-resolve-name>=1.3.10 in /mnt/notebook-env/lib/python3.7/site-packages (from jsonschema>=2.6->nbformat>=4.2.0->ipywidgets>5.0.0->sparkmagic) (1.3.10)\n",
      "Requirement already satisfied: importlib-resources>=1.4.0 in /mnt/notebook-env/lib/python3.7/site-packages (from jsonschema>=2.6->nbformat>=4.2.0->ipywidgets>5.0.0->sparkmagic) (5.10.0)\n",
      "Requirement already satisfied: soupsieve>1.2 in /mnt/notebook-env/lib/python3.7/site-packages (from beautifulsoup4->nbconvert>=5->notebook>=4.2->sparkmagic) (2.3.2.post1)\n",
      "Requirement already satisfied: webencodings in /mnt/notebook-env/lib/python3.7/site-packages (from bleach->nbconvert>=5->notebook>=4.2->sparkmagic) (0.5.1)\n",
      "Requirement already satisfied: pyparsing!=3.0.5,>=2.0.2 in /mnt/notebook-env/lib/python3.7/site-packages (from packaging->nbconvert>=5->notebook>=4.2->sparkmagic) (3.0.9)\n",
      "Requirement already satisfied: qtpy>=2.0.1 in /home/emr-notebook/.local/lib/python3.7/site-packages (from qtconsole->jupyter<2,>=1->hdijupyterutils>=0.6->sparkmagic) (2.3.0)\n",
      "Note: you may need to restart the kernel to use updated packages.\n",
      "Defaulting to user installation because normal site-packages is not writeable\n",
      "Requirement already satisfied: pyspark in /home/emr-notebook/.local/lib/python3.7/site-packages (3.3.2)\n",
      "Requirement already satisfied: py4j==0.10.9.5 in /home/emr-notebook/.local/lib/python3.7/site-packages (from pyspark) (0.10.9.5)\n",
      "Note: you may need to restart the kernel to use updated packages.\n"
     ]
    }
   ],
   "source": [
    "%pip install sparkmagic\n",
    "%pip install pyspark"
   ]
  },
  {
   "cell_type": "code",
   "execution_count": 8,
   "id": "a6274a5a-f6b0-423a-9845-e099520a4302",
   "metadata": {
    "execution": {
     "iopub.execute_input": "2023-03-15T09:17:57.067006Z",
     "iopub.status.busy": "2023-03-15T09:17:57.066755Z",
     "iopub.status.idle": "2023-03-15T09:17:58.371006Z",
     "shell.execute_reply": "2023-03-15T09:17:58.370131Z",
     "shell.execute_reply.started": "2023-03-15T09:17:57.066980Z"
    },
    "tags": []
   },
   "outputs": [
    {
     "name": "stdout",
     "output_type": "stream",
     "text": [
      "Defaulting to user installation because normal site-packages is not writeable\n",
      "Requirement already satisfied: pandas in /mnt/notebook-env/lib/python3.7/site-packages (1.3.5)\n",
      "Requirement already satisfied: python-dateutil>=2.7.3 in /mnt/notebook-env/lib/python3.7/site-packages (from pandas) (2.8.2)\n",
      "Requirement already satisfied: pytz>=2017.3 in /mnt/notebook-env/lib/python3.7/site-packages (from pandas) (2022.5)\n",
      "Requirement already satisfied: numpy>=1.17.3 in /mnt/notebook-env/lib/python3.7/site-packages (from pandas) (1.21.6)\n",
      "Requirement already satisfied: six>=1.5 in /mnt/notebook-env/lib/python3.7/site-packages (from python-dateutil>=2.7.3->pandas) (1.16.0)\n",
      "Note: you may need to restart the kernel to use updated packages.\n"
     ]
    }
   ],
   "source": [
    "%pip install pandas"
   ]
  },
  {
   "cell_type": "code",
   "execution_count": 36,
   "id": "6709243c-88a4-4e0b-8f33-ddb0ff26922a",
   "metadata": {
    "execution": {
     "iopub.execute_input": "2023-03-15T09:51:00.782080Z",
     "iopub.status.busy": "2023-03-15T09:51:00.781778Z",
     "iopub.status.idle": "2023-03-15T09:51:00.795706Z",
     "shell.execute_reply": "2023-03-15T09:51:00.795084Z",
     "shell.execute_reply.started": "2023-03-15T09:51:00.782054Z"
    },
    "tags": []
   },
   "outputs": [],
   "source": [
    "import pandas\n",
    "import boto3\n",
    "import io\n",
    "client = boto3.client('kinesis',region_name=\"eu-west-3\")\n",
    "\n",
    "s3 = boto3.resource('s3')\n",
    "s3_object = s3.Object('nvabucket', 'flights.csv')"
   ]
  },
  {
   "cell_type": "code",
   "execution_count": 37,
   "id": "c070acef-03e2-466d-b70b-3d09424ff2eb",
   "metadata": {
    "execution": {
     "iopub.execute_input": "2023-03-15T09:51:05.780750Z",
     "iopub.status.busy": "2023-03-15T09:51:05.780466Z",
     "iopub.status.idle": "2023-03-15T09:51:06.810190Z",
     "shell.execute_reply": "2023-03-15T09:51:06.809480Z",
     "shell.execute_reply.started": "2023-03-15T09:51:05.780727Z"
    },
    "tags": []
   },
   "outputs": [],
   "source": [
    "csv_data = s3_object.get()['Body'].read().decode('utf-8')"
   ]
  },
  {
   "cell_type": "code",
   "execution_count": 53,
   "id": "612bfc5f-57f4-4946-9fa6-08623935d21b",
   "metadata": {
    "execution": {
     "iopub.execute_input": "2023-03-15T10:03:01.847321Z",
     "iopub.status.busy": "2023-03-15T10:03:01.846985Z",
     "iopub.status.idle": "2023-03-15T10:03:02.924038Z",
     "shell.execute_reply": "2023-03-15T10:03:02.923377Z",
     "shell.execute_reply.started": "2023-03-15T10:03:01.847293Z"
    },
    "tags": []
   },
   "outputs": [],
   "source": [
    "df = pd.read_csv(io.StringIO(csv_data))"
   ]
  },
  {
   "cell_type": "code",
   "execution_count": 52,
   "id": "c0b79a12-f0ce-4870-9c9f-56e057aa0528",
   "metadata": {
    "execution": {
     "iopub.execute_input": "2023-03-15T10:02:39.417481Z",
     "iopub.status.busy": "2023-03-15T10:02:39.417150Z",
     "iopub.status.idle": "2023-03-15T10:02:39.431424Z",
     "shell.execute_reply": "2023-03-15T10:02:39.430728Z",
     "shell.execute_reply.started": "2023-03-15T10:02:39.417451Z"
    },
    "tags": []
   },
   "outputs": [
    {
     "data": {
      "text/html": [
       "<div>\n",
       "<style scoped>\n",
       "    .dataframe tbody tr th:only-of-type {\n",
       "        vertical-align: middle;\n",
       "    }\n",
       "\n",
       "    .dataframe tbody tr th {\n",
       "        vertical-align: top;\n",
       "    }\n",
       "\n",
       "    .dataframe thead th {\n",
       "        text-align: right;\n",
       "    }\n",
       "</style>\n",
       "<table border=\"1\" class=\"dataframe\">\n",
       "  <thead>\n",
       "    <tr style=\"text-align: right;\">\n",
       "      <th></th>\n",
       "      <th>DayofMonth</th>\n",
       "      <th>DayOfWeek</th>\n",
       "      <th>Carrier</th>\n",
       "      <th>OriginAirportID</th>\n",
       "      <th>DestAirportID</th>\n",
       "      <th>DepDelay</th>\n",
       "      <th>ArrDelay</th>\n",
       "    </tr>\n",
       "  </thead>\n",
       "  <tbody>\n",
       "    <tr>\n",
       "      <th>0</th>\n",
       "      <td>19</td>\n",
       "      <td>5</td>\n",
       "      <td>DL</td>\n",
       "      <td>11433</td>\n",
       "      <td>13303</td>\n",
       "      <td>-3</td>\n",
       "      <td>1</td>\n",
       "    </tr>\n",
       "    <tr>\n",
       "      <th>1</th>\n",
       "      <td>19</td>\n",
       "      <td>5</td>\n",
       "      <td>DL</td>\n",
       "      <td>14869</td>\n",
       "      <td>12478</td>\n",
       "      <td>0</td>\n",
       "      <td>-8</td>\n",
       "    </tr>\n",
       "    <tr>\n",
       "      <th>2</th>\n",
       "      <td>19</td>\n",
       "      <td>5</td>\n",
       "      <td>DL</td>\n",
       "      <td>14057</td>\n",
       "      <td>14869</td>\n",
       "      <td>-4</td>\n",
       "      <td>-15</td>\n",
       "    </tr>\n",
       "    <tr>\n",
       "      <th>3</th>\n",
       "      <td>19</td>\n",
       "      <td>5</td>\n",
       "      <td>DL</td>\n",
       "      <td>15016</td>\n",
       "      <td>11433</td>\n",
       "      <td>28</td>\n",
       "      <td>24</td>\n",
       "    </tr>\n",
       "    <tr>\n",
       "      <th>4</th>\n",
       "      <td>19</td>\n",
       "      <td>5</td>\n",
       "      <td>DL</td>\n",
       "      <td>11193</td>\n",
       "      <td>12892</td>\n",
       "      <td>-6</td>\n",
       "      <td>-11</td>\n",
       "    </tr>\n",
       "    <tr>\n",
       "      <th>...</th>\n",
       "      <td>...</td>\n",
       "      <td>...</td>\n",
       "      <td>...</td>\n",
       "      <td>...</td>\n",
       "      <td>...</td>\n",
       "      <td>...</td>\n",
       "      <td>...</td>\n",
       "    </tr>\n",
       "    <tr>\n",
       "      <th>2702213</th>\n",
       "      <td>19</td>\n",
       "      <td>6</td>\n",
       "      <td>DL</td>\n",
       "      <td>13204</td>\n",
       "      <td>14869</td>\n",
       "      <td>1</td>\n",
       "      <td>-3</td>\n",
       "    </tr>\n",
       "    <tr>\n",
       "      <th>2702214</th>\n",
       "      <td>19</td>\n",
       "      <td>6</td>\n",
       "      <td>DL</td>\n",
       "      <td>10397</td>\n",
       "      <td>13495</td>\n",
       "      <td>-2</td>\n",
       "      <td>-3</td>\n",
       "    </tr>\n",
       "    <tr>\n",
       "      <th>2702215</th>\n",
       "      <td>19</td>\n",
       "      <td>6</td>\n",
       "      <td>DL</td>\n",
       "      <td>10140</td>\n",
       "      <td>10397</td>\n",
       "      <td>18</td>\n",
       "      <td>9</td>\n",
       "    </tr>\n",
       "    <tr>\n",
       "      <th>2702216</th>\n",
       "      <td>19</td>\n",
       "      <td>6</td>\n",
       "      <td>DL</td>\n",
       "      <td>10397</td>\n",
       "      <td>13244</td>\n",
       "      <td>10</td>\n",
       "      <td>7</td>\n",
       "    </tr>\n",
       "    <tr>\n",
       "      <th>2702217</th>\n",
       "      <td>19</td>\n",
       "      <td>6</td>\n",
       "      <td>DL</td>\n",
       "      <td>10397</td>\n",
       "      <td>13487</td>\n",
       "      <td>0</td>\n",
       "      <td>-13</td>\n",
       "    </tr>\n",
       "  </tbody>\n",
       "</table>\n",
       "<p>2702218 rows × 7 columns</p>\n",
       "</div>"
      ],
      "text/plain": [
       "         DayofMonth  DayOfWeek Carrier  OriginAirportID  DestAirportID  \\\n",
       "0                19          5      DL            11433          13303   \n",
       "1                19          5      DL            14869          12478   \n",
       "2                19          5      DL            14057          14869   \n",
       "3                19          5      DL            15016          11433   \n",
       "4                19          5      DL            11193          12892   \n",
       "...             ...        ...     ...              ...            ...   \n",
       "2702213          19          6      DL            13204          14869   \n",
       "2702214          19          6      DL            10397          13495   \n",
       "2702215          19          6      DL            10140          10397   \n",
       "2702216          19          6      DL            10397          13244   \n",
       "2702217          19          6      DL            10397          13487   \n",
       "\n",
       "         DepDelay  ArrDelay  \n",
       "0              -3         1  \n",
       "1               0        -8  \n",
       "2              -4       -15  \n",
       "3              28        24  \n",
       "4              -6       -11  \n",
       "...           ...       ...  \n",
       "2702213         1        -3  \n",
       "2702214        -2        -3  \n",
       "2702215        18         9  \n",
       "2702216        10         7  \n",
       "2702217         0       -13  \n",
       "\n",
       "[2702218 rows x 7 columns]"
      ]
     },
     "execution_count": 52,
     "metadata": {},
     "output_type": "execute_result"
    }
   ],
   "source": [
    "df"
   ]
  },
  {
   "cell_type": "code",
   "execution_count": 56,
   "id": "73d1572d-a986-4c41-aa44-54343eff7728",
   "metadata": {
    "execution": {
     "iopub.execute_input": "2023-03-15T10:04:20.733749Z",
     "iopub.status.busy": "2023-03-15T10:04:20.732915Z",
     "iopub.status.idle": "2023-03-15T10:04:20.747763Z",
     "shell.execute_reply": "2023-03-15T10:04:20.746945Z",
     "shell.execute_reply.started": "2023-03-15T10:04:20.733707Z"
    },
    "tags": []
   },
   "outputs": [],
   "source": [
    "from pyspark.sql import SparkSession\n",
    "import pyspark.sql.functions as sqlfunc\n",
    "from pyspark.sql.types import *\n",
    "import argparse, sys\n",
    "from pyspark.sql import *\n",
    "import pyspark.sql.functions as sqlfunc\n",
    "import pandas as pd\n",
    "\n",
    "def create_session(appname):\n",
    "    spark_session = SparkSession\\\n",
    "        .builder\\\n",
    "        .appName(appname)\\\n",
    "        .master('yarn')\\\n",
    "        .config(\"hive.metastore.uris\", \"thrift://uds-far-mn1.dab.02.net:9083\")\\\n",
    "        .enableHiveSupport()\\\n",
    "        .getOrCreate()\n",
    "    return spark_session\n",
    "### START MAIN ###\n",
    "if __name__ == '__main__':\n",
    "    spark_session = create_session('testing_files')"
   ]
  },
  {
   "cell_type": "code",
   "execution_count": 57,
   "id": "aad7ed22-5d9f-494c-a4d8-9fbddc80272b",
   "metadata": {
    "execution": {
     "iopub.execute_input": "2023-03-15T10:04:22.545406Z",
     "iopub.status.busy": "2023-03-15T10:04:22.545075Z",
     "iopub.status.idle": "2023-03-15T10:06:40.263342Z",
     "shell.execute_reply": "2023-03-15T10:06:40.262634Z",
     "shell.execute_reply.started": "2023-03-15T10:04:22.545377Z"
    },
    "tags": []
   },
   "outputs": [],
   "source": [
    "from pyspark.sql import SparkSession\n",
    "# Pandas to Spark\n",
    "csv = spark_session.createDataFrame(df)"
   ]
  },
  {
   "cell_type": "code",
   "execution_count": 58,
   "id": "9f791d3e-4bc0-49b6-aebc-7ec55765e288",
   "metadata": {
    "execution": {
     "iopub.execute_input": "2023-03-15T10:06:40.264740Z",
     "iopub.status.busy": "2023-03-15T10:06:40.264395Z",
     "iopub.status.idle": "2023-03-15T10:06:42.532634Z",
     "shell.execute_reply": "2023-03-15T10:06:42.531594Z",
     "shell.execute_reply.started": "2023-03-15T10:06:40.264707Z"
    }
   },
   "outputs": [
    {
     "name": "stdout",
     "output_type": "stream",
     "text": [
      "+----------+---------+-------+---------------+-------------+--------+--------+\n",
      "|DayofMonth|DayOfWeek|Carrier|OriginAirportID|DestAirportID|DepDelay|ArrDelay|\n",
      "+----------+---------+-------+---------------+-------------+--------+--------+\n",
      "|        19|        5|     DL|          11433|        13303|      -3|       1|\n",
      "|        19|        5|     DL|          14869|        12478|       0|      -8|\n",
      "|        19|        5|     DL|          14057|        14869|      -4|     -15|\n",
      "|        19|        5|     DL|          15016|        11433|      28|      24|\n",
      "|        19|        5|     DL|          11193|        12892|      -6|     -11|\n",
      "|        19|        5|     DL|          10397|        15016|      -1|     -19|\n",
      "|        19|        5|     DL|          15016|        10397|       0|      -1|\n",
      "|        19|        5|     DL|          10397|        14869|      15|      24|\n",
      "|        19|        5|     DL|          10397|        10423|      33|      34|\n",
      "|        19|        5|     DL|          11278|        10397|     323|     322|\n",
      "+----------+---------+-------+---------------+-------------+--------+--------+\n",
      "only showing top 10 rows\n",
      "\n"
     ]
    }
   ],
   "source": [
    "csv.show(10)"
   ]
  },
  {
   "cell_type": "code",
   "execution_count": 59,
   "id": "c6cf16ab-e2d6-4683-89f0-bf2fe92b54c1",
   "metadata": {
    "execution": {
     "iopub.execute_input": "2023-03-15T10:06:42.534534Z",
     "iopub.status.busy": "2023-03-15T10:06:42.534147Z",
     "iopub.status.idle": "2023-03-15T10:06:42.711028Z",
     "shell.execute_reply": "2023-03-15T10:06:42.710054Z",
     "shell.execute_reply.started": "2023-03-15T10:06:42.534496Z"
    }
   },
   "outputs": [
    {
     "name": "stdout",
     "output_type": "stream",
     "text": [
      "Select the columns we want to use\n"
     ]
    }
   ],
   "source": [
    "# Select the columns we want to use\n",
    "# data = csv.select(\"DayofMonth\", \"DayOfWeek\", \"Carrier\", \"OriginAirportID\", \"DestAirportID\", \"DepDelay\", ((col(\"ArrDelay\") > 15).cast(\"Int\").alias(\"label\")))\n",
    "data = (csv\n",
    "        .withColumn(\"DayofMonth\", col(\"DayofMonth\").cast(DoubleType()))\n",
    "        .withColumn(\"DayOfWeek\", col(\"DayOfWeek\").cast(DoubleType()))\n",
    "        .withColumn(\"OriginAirportID\", col(\"OriginAirportID\").cast(IntegerType()))\n",
    "        .withColumn(\"DestAirportID\", col(\"DestAirportID\").cast(IntegerType()))\n",
    "        .withColumn(\"DepDelay\", col(\"DepDelay\").cast(\"float\"))\n",
    "        .select(\"DayofMonth\", \"DayOfWeek\", \"Carrier\", \"OriginAirportID\", \"DestAirportID\", \"DepDelay\", ((col(\"ArrDelay\") > 15).cast(\"Int\").alias(\"label\"))))\n",
    "\n",
    "print(\"Select the columns we want to use\")"
   ]
  },
  {
   "cell_type": "code",
   "execution_count": 61,
   "id": "d4809d77-a274-4d8d-bf7c-30492b63b318",
   "metadata": {
    "execution": {
     "iopub.execute_input": "2023-03-15T10:06:42.807147Z",
     "iopub.status.busy": "2023-03-15T10:06:42.806905Z",
     "iopub.status.idle": "2023-03-15T10:06:42.839310Z",
     "shell.execute_reply": "2023-03-15T10:06:42.838617Z",
     "shell.execute_reply.started": "2023-03-15T10:06:42.807120Z"
    }
   },
   "outputs": [
    {
     "name": "stdout",
     "output_type": "stream",
     "text": [
      "Split the data into train and test\n"
     ]
    }
   ],
   "source": [
    "# Split the data into train and test\n",
    "[train, test] = data.randomSplit([0.7, 0.3])\n",
    "test = test.withColumnRenamed(\"label\", \"trueLabel\")\n",
    "\n",
    "print(\"Split the data into train and test\")"
   ]
  },
  {
   "cell_type": "code",
   "execution_count": 60,
   "id": "414ce55b-3e4d-4761-af6f-63eaf15af33d",
   "metadata": {
    "execution": {
     "iopub.execute_input": "2023-03-15T10:06:42.712652Z",
     "iopub.status.busy": "2023-03-15T10:06:42.712319Z",
     "iopub.status.idle": "2023-03-15T10:06:42.806008Z",
     "shell.execute_reply": "2023-03-15T10:06:42.805348Z",
     "shell.execute_reply.started": "2023-03-15T10:06:42.712617Z"
    }
   },
   "outputs": [],
   "source": [
    "# Create the pipeline\n",
    "strIdx = StringIndexer(inputCol = \"Carrier\", outputCol = \"CarrierIdx\")\n",
    "catVec = VectorAssembler(inputCols = [\"CarrierIdx\", \"DayofMonth\", \"DayOfWeek\", \"OriginAirportID\", \"DestAirportID\"], outputCol=\"catFeatures\")\n",
    "catIdx = VectorIndexer(inputCol = catVec.getOutputCol(), outputCol = \"idxCatFeatures\")\n",
    "numVec = VectorAssembler(inputCols = [\"DepDelay\"], outputCol=\"numFeatures\")\n",
    "minMax = MinMaxScaler(inputCol = numVec.getOutputCol(), outputCol=\"normFeatures\")\n",
    "featVec = VectorAssembler(inputCols=[\"idxCatFeatures\", \"normFeatures\"], outputCol=\"features\")\n",
    "lr = LogisticRegression(labelCol=\"label\",featuresCol=\"features\",maxIter=10,regParam=0.3)"
   ]
  },
  {
   "cell_type": "code",
   "execution_count": 62,
   "id": "6bfdd32d-ed01-488f-bd42-27f39daab72c",
   "metadata": {
    "execution": {
     "iopub.execute_input": "2023-03-15T10:06:42.840934Z",
     "iopub.status.busy": "2023-03-15T10:06:42.840352Z",
     "iopub.status.idle": "2023-03-15T10:06:42.845433Z",
     "shell.execute_reply": "2023-03-15T10:06:42.844663Z",
     "shell.execute_reply.started": "2023-03-15T10:06:42.840897Z"
    }
   },
   "outputs": [
    {
     "name": "stdout",
     "output_type": "stream",
     "text": [
      "Create the pipeline\n"
     ]
    }
   ],
   "source": [
    "#dt = DecisionTreeClassifier(labelCol=\"label\", featuresCol=\"features\")\n",
    "pipeline = Pipeline(stages=[strIdx, catVec, catIdx, numVec, minMax, featVec, lr])\n",
    "\n",
    "print(\"Create the pipeline\")"
   ]
  },
  {
   "cell_type": "code",
   "execution_count": 63,
   "id": "0383e329-ffeb-4bef-9199-a68c999a518c",
   "metadata": {
    "execution": {
     "iopub.execute_input": "2023-03-15T10:06:42.846511Z",
     "iopub.status.busy": "2023-03-15T10:06:42.846302Z",
     "iopub.status.idle": "2023-03-15T10:07:25.127947Z",
     "shell.execute_reply": "2023-03-15T10:07:25.127115Z",
     "shell.execute_reply.started": "2023-03-15T10:06:42.846491Z"
    }
   },
   "outputs": [
    {
     "name": "stdout",
     "output_type": "stream",
     "text": [
      "Train the model\n"
     ]
    }
   ],
   "source": [
    "# Train the model\n",
    "pipelineModel = pipeline.fit(train)\n",
    "\n",
    "print(\"Train the model\")"
   ]
  },
  {
   "cell_type": "code",
   "execution_count": 64,
   "id": "f478f7d9-1d22-4146-aa91-74f45a0ec60a",
   "metadata": {
    "execution": {
     "iopub.execute_input": "2023-03-15T10:07:25.129211Z",
     "iopub.status.busy": "2023-03-15T10:07:25.128917Z",
     "iopub.status.idle": "2023-03-15T10:07:25.362447Z",
     "shell.execute_reply": "2023-03-15T10:07:25.361545Z",
     "shell.execute_reply.started": "2023-03-15T10:07:25.129186Z"
    }
   },
   "outputs": [
    {
     "name": "stdout",
     "output_type": "stream",
     "text": [
      "Make predictions\n"
     ]
    }
   ],
   "source": [
    "# Make predictions\n",
    "prediction = pipelineModel.transform(test)\n",
    "\n",
    "print(\"Make predictions\")"
   ]
  },
  {
   "cell_type": "code",
   "execution_count": 65,
   "id": "98c2b2ff-065e-4a81-991d-ea9efad02bc0",
   "metadata": {
    "execution": {
     "iopub.execute_input": "2023-03-15T10:07:25.364000Z",
     "iopub.status.busy": "2023-03-15T10:07:25.363617Z",
     "iopub.status.idle": "2023-03-15T10:07:39.659562Z",
     "shell.execute_reply": "2023-03-15T10:07:39.658854Z",
     "shell.execute_reply.started": "2023-03-15T10:07:25.363912Z"
    }
   },
   "outputs": [
    {
     "name": "stdout",
     "output_type": "stream",
     "text": [
      "AUR =  0.9225174722680995\n"
     ]
    }
   ],
   "source": [
    "# Evaluate the model\n",
    "evaluator = BinaryClassificationEvaluator(labelCol=\"trueLabel\", rawPredictionCol=\"rawPrediction\", metricName=\"areaUnderROC\")\n",
    "aur = evaluator.evaluate(prediction)\n",
    "print (\"AUR = \", aur)"
   ]
  },
  {
   "cell_type": "code",
   "execution_count": 66,
   "id": "a2a3f3a2-5fc8-4e26-8ca1-14412ee16181",
   "metadata": {
    "execution": {
     "iopub.execute_input": "2023-03-15T10:07:39.660606Z",
     "iopub.status.busy": "2023-03-15T10:07:39.660358Z",
     "iopub.status.idle": "2023-03-15T10:12:50.172472Z",
     "shell.execute_reply": "2023-03-15T10:12:50.171669Z",
     "shell.execute_reply.started": "2023-03-15T10:07:39.660583Z"
    }
   },
   "outputs": [],
   "source": [
    "# Tune the model\n",
    "paramGrid = ParamGridBuilder().addGrid(lr.regParam, [0.3, 0.1]).addGrid(lr.maxIter, [10, 5]).addGrid(lr.threshold, \n",
    "                                                                                            [0.4, 0.3]).build()\n",
    "cv = CrossValidator(estimator=pipeline, evaluator=BinaryClassificationEvaluator(), estimatorParamMaps=paramGrid, \n",
    "                    numFolds=2)\n",
    "\n",
    "model = cv.fit(train)"
   ]
  },
  {
   "cell_type": "code",
   "execution_count": 67,
   "id": "35355ca7-8e6e-4cae-8552-f658ef261f3d",
   "metadata": {
    "execution": {
     "iopub.execute_input": "2023-03-15T10:12:50.174179Z",
     "iopub.status.busy": "2023-03-15T10:12:50.173920Z",
     "iopub.status.idle": "2023-03-15T10:12:50.238269Z",
     "shell.execute_reply": "2023-03-15T10:12:50.237536Z",
     "shell.execute_reply.started": "2023-03-15T10:12:50.174152Z"
    }
   },
   "outputs": [],
   "source": [
    "# Make predictions\n",
    "newPrediction = model.transform(test)"
   ]
  },
  {
   "cell_type": "code",
   "execution_count": 68,
   "id": "8ff8b545-1b1a-446c-b60b-d1ffbd374c9a",
   "metadata": {
    "execution": {
     "iopub.execute_input": "2023-03-15T10:12:50.239439Z",
     "iopub.status.busy": "2023-03-15T10:12:50.239193Z",
     "iopub.status.idle": "2023-03-15T10:12:56.743944Z",
     "shell.execute_reply": "2023-03-15T10:12:56.743106Z",
     "shell.execute_reply.started": "2023-03-15T10:12:50.239410Z"
    }
   },
   "outputs": [
    {
     "name": "stdout",
     "output_type": "stream",
     "text": [
      "AUR2 =  0.6888168716879202\n"
     ]
    }
   ],
   "source": [
    "# Evaluate the model\n",
    "evaluator2 = BinaryClassificationEvaluator(labelCol=\"trueLabel\", rawPredictionCol=\"prediction\", metricName=\"areaUnderROC\")\n",
    "aur2 = evaluator2.evaluate(newPrediction)\n",
    "print( \"AUR2 = \", aur2)"
   ]
  },
  {
   "cell_type": "code",
   "execution_count": 84,
   "id": "93cbf94b-d839-4ca4-8b70-1a2b80267add",
   "metadata": {
    "execution": {
     "iopub.execute_input": "2023-03-15T10:31:53.901653Z",
     "iopub.status.busy": "2023-03-15T10:31:53.901321Z",
     "iopub.status.idle": "2023-03-15T10:31:53.906291Z",
     "shell.execute_reply": "2023-03-15T10:31:53.905476Z",
     "shell.execute_reply.started": "2023-03-15T10:31:53.901628Z"
    },
    "tags": []
   },
   "outputs": [
    {
     "data": {
      "text/plain": [
       "pyspark.ml.tuning.CrossValidatorModel"
      ]
     },
     "execution_count": 84,
     "metadata": {},
     "output_type": "execute_result"
    }
   ],
   "source": [
    "type(model)"
   ]
  },
  {
   "cell_type": "code",
   "execution_count": 81,
   "id": "f997adc2-8b4d-465b-a813-55d844a7d514",
   "metadata": {
    "execution": {
     "iopub.execute_input": "2023-03-15T10:24:46.489142Z",
     "iopub.status.busy": "2023-03-15T10:24:46.488853Z",
     "iopub.status.idle": "2023-03-15T10:24:46.614196Z",
     "shell.execute_reply": "2023-03-15T10:24:46.613407Z",
     "shell.execute_reply.started": "2023-03-15T10:24:46.489118Z"
    },
    "tags": []
   },
   "outputs": [
    {
     "ename": "TypeError",
     "evalue": "path should be a string, got type <class 'boto3.resources.factory.s3.Object'>",
     "output_type": "error",
     "traceback": [
      "\u001B[0;31m---------------------------------------------------------------------------\u001B[0m",
      "\u001B[0;31mTypeError\u001B[0m                                 Traceback (most recent call last)",
      "\u001B[0;32m<ipython-input-81-22e8b40f8ec0>\u001B[0m in \u001B[0;36m<module>\u001B[0;34m()\u001B[0m\n\u001B[1;32m      1\u001B[0m \u001B[0ms3_object\u001B[0m \u001B[0;34m=\u001B[0m \u001B[0ms3\u001B[0m\u001B[0;34m.\u001B[0m\u001B[0mObject\u001B[0m\u001B[0;34m(\u001B[0m\u001B[0;34m'nvabucket'\u001B[0m\u001B[0;34m,\u001B[0m \u001B[0;34m'flights.csv'\u001B[0m\u001B[0;34m)\u001B[0m\u001B[0;34m\u001B[0m\u001B[0;34m\u001B[0m\u001B[0m\n\u001B[0;32m----> 2\u001B[0;31m \u001B[0mmodel\u001B[0m\u001B[0;34m.\u001B[0m\u001B[0msave\u001B[0m\u001B[0;34m(\u001B[0m\u001B[0ms3_object\u001B[0m\u001B[0;34m)\u001B[0m\u001B[0;34m\u001B[0m\u001B[0;34m\u001B[0m\u001B[0m\n\u001B[0m\u001B[1;32m      3\u001B[0m \u001B[0;34m\u001B[0m\u001B[0m\n\u001B[1;32m      4\u001B[0m \u001B[0mprint\u001B[0m\u001B[0;34m(\u001B[0m\u001B[0;34m\"Save the model\"\u001B[0m\u001B[0;34m)\u001B[0m\u001B[0;34m\u001B[0m\u001B[0;34m\u001B[0m\u001B[0m\n",
      "\u001B[0;32m~/.local/lib/python3.7/site-packages/pyspark/ml/util.py\u001B[0m in \u001B[0;36msave\u001B[0;34m(self, path)\u001B[0m\n\u001B[1;32m    244\u001B[0m     \u001B[0;32mdef\u001B[0m \u001B[0msave\u001B[0m\u001B[0;34m(\u001B[0m\u001B[0mself\u001B[0m\u001B[0;34m,\u001B[0m \u001B[0mpath\u001B[0m\u001B[0;34m:\u001B[0m \u001B[0mstr\u001B[0m\u001B[0;34m)\u001B[0m \u001B[0;34m->\u001B[0m \u001B[0;32mNone\u001B[0m\u001B[0;34m:\u001B[0m\u001B[0;34m\u001B[0m\u001B[0;34m\u001B[0m\u001B[0m\n\u001B[1;32m    245\u001B[0m         \u001B[0;34m\"\"\"Save this ML instance to the given path, a shortcut of 'write().save(path)'.\"\"\"\u001B[0m\u001B[0;34m\u001B[0m\u001B[0;34m\u001B[0m\u001B[0m\n\u001B[0;32m--> 246\u001B[0;31m         \u001B[0mself\u001B[0m\u001B[0;34m.\u001B[0m\u001B[0mwrite\u001B[0m\u001B[0;34m(\u001B[0m\u001B[0;34m)\u001B[0m\u001B[0;34m.\u001B[0m\u001B[0msave\u001B[0m\u001B[0;34m(\u001B[0m\u001B[0mpath\u001B[0m\u001B[0;34m)\u001B[0m\u001B[0;34m\u001B[0m\u001B[0;34m\u001B[0m\u001B[0m\n\u001B[0m\u001B[1;32m    247\u001B[0m \u001B[0;34m\u001B[0m\u001B[0m\n\u001B[1;32m    248\u001B[0m \u001B[0;34m\u001B[0m\u001B[0m\n",
      "\u001B[0;32m~/.local/lib/python3.7/site-packages/pyspark/ml/util.py\u001B[0m in \u001B[0;36msave\u001B[0;34m(self, path)\u001B[0m\n\u001B[1;32m    194\u001B[0m         \u001B[0;34m\"\"\"Save the ML instance to the input path.\"\"\"\u001B[0m\u001B[0;34m\u001B[0m\u001B[0;34m\u001B[0m\u001B[0m\n\u001B[1;32m    195\u001B[0m         \u001B[0;32mif\u001B[0m \u001B[0;32mnot\u001B[0m \u001B[0misinstance\u001B[0m\u001B[0;34m(\u001B[0m\u001B[0mpath\u001B[0m\u001B[0;34m,\u001B[0m \u001B[0mstr\u001B[0m\u001B[0;34m)\u001B[0m\u001B[0;34m:\u001B[0m\u001B[0;34m\u001B[0m\u001B[0;34m\u001B[0m\u001B[0m\n\u001B[0;32m--> 196\u001B[0;31m             \u001B[0;32mraise\u001B[0m \u001B[0mTypeError\u001B[0m\u001B[0;34m(\u001B[0m\u001B[0;34m\"path should be a string, got type %s\"\u001B[0m \u001B[0;34m%\u001B[0m \u001B[0mtype\u001B[0m\u001B[0;34m(\u001B[0m\u001B[0mpath\u001B[0m\u001B[0;34m)\u001B[0m\u001B[0;34m)\u001B[0m\u001B[0;34m\u001B[0m\u001B[0;34m\u001B[0m\u001B[0m\n\u001B[0m\u001B[1;32m    197\u001B[0m         \u001B[0mself\u001B[0m\u001B[0;34m.\u001B[0m\u001B[0m_jwrite\u001B[0m\u001B[0;34m.\u001B[0m\u001B[0msave\u001B[0m\u001B[0;34m(\u001B[0m\u001B[0mpath\u001B[0m\u001B[0;34m)\u001B[0m\u001B[0;34m\u001B[0m\u001B[0;34m\u001B[0m\u001B[0m\n\u001B[1;32m    198\u001B[0m \u001B[0;34m\u001B[0m\u001B[0m\n",
      "\u001B[0;31mTypeError\u001B[0m: path should be a string, got type <class 'boto3.resources.factory.s3.Object'>"
     ]
    }
   ],
   "source": [
    "s3_object = s3.Object('nvabucket', 'flights.csv')\n",
    "model.save(s3_object)\n",
    "\n",
    "print(\"Save the model\")"
   ]
  }
 ],
 "metadata": {
  "kernelspec": {
   "display_name": "Python 3",
   "language": "python",
   "name": "python3"
  },
  "language_info": {
   "codemirror_mode": {
    "name": "ipython",
    "version": 3
   },
   "file_extension": ".py",
   "mimetype": "text/x-python",
   "name": "python",
   "nbconvert_exporter": "python",
   "pygments_lexer": "ipython3",
   "version": "3.7.13"
  }
 },
 "nbformat": 4,
 "nbformat_minor": 5
}
