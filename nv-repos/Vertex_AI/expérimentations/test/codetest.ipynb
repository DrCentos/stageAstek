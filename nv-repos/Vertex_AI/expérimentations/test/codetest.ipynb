{
 "cells": [
  {
   "cell_type": "code",
   "execution_count": 24,
   "id": "b58d0af2-0852-4155-9ade-715d690a42a7",
   "metadata": {},
   "outputs": [],
   "source": [
    "# Import libraries\n",
    "from google.cloud import aiplatform\n"
   ]
  },
  {
   "cell_type": "code",
   "execution_count": 8,
   "id": "3420e363-048f-4a77-b0e5-13d8bcadf562",
   "metadata": {},
   "outputs": [
    {
     "name": "stdout",
     "output_type": "stream",
     "text": [
      "INFO:google.cloud.aiplatform.training_jobs:Training Output directory:\n",
      "gs://nvallot_bucket/job_outputs/aiplatform-custom-training-2023-02-27-15:16:36.708 \n",
      "INFO:google.cloud.aiplatform.training_jobs:View Training:\n",
      "https://console.cloud.google.com/ai/platform/locations/europe-west1/training/140392791460020224?project=537761427087\n",
      "INFO:google.cloud.aiplatform.training_jobs:CustomContainerTrainingJob projects/537761427087/locations/europe-west1/trainingPipelines/140392791460020224 current state:\n",
      "PipelineState.PIPELINE_STATE_RUNNING\n",
      "INFO:google.cloud.aiplatform.training_jobs:View backing custom job:\n",
      "https://console.cloud.google.com/ai/platform/locations/europe-west1/training/3885558094083653632?project=537761427087\n",
      "INFO:google.cloud.aiplatform.training_jobs:CustomContainerTrainingJob projects/537761427087/locations/europe-west1/trainingPipelines/140392791460020224 current state:\n",
      "PipelineState.PIPELINE_STATE_RUNNING\n",
      "INFO:google.cloud.aiplatform.training_jobs:CustomContainerTrainingJob projects/537761427087/locations/europe-west1/trainingPipelines/140392791460020224 current state:\n",
      "PipelineState.PIPELINE_STATE_RUNNING\n",
      "INFO:google.cloud.aiplatform.training_jobs:CustomContainerTrainingJob projects/537761427087/locations/europe-west1/trainingPipelines/140392791460020224 current state:\n",
      "PipelineState.PIPELINE_STATE_RUNNING\n",
      "INFO:google.cloud.aiplatform.training_jobs:CustomContainerTrainingJob run completed. Resource name: projects/537761427087/locations/europe-west1/trainingPipelines/140392791460020224\n",
      "WARNING:google.cloud.aiplatform.training_jobs:Training did not produce a Managed Model returning None. Training Pipeline projects/537761427087/locations/europe-west1/trainingPipelines/140392791460020224 is not configured to upload a Model. Create the Training Pipeline with model_serving_container_image_uri and model_display_name passed in. Ensure that your training script saves to model to os.environ['AIP_MODEL_DIR'].\n"
     ]
    }
   ],
   "source": [
    "# Initialize connection\n",
    "aiplatform.init(location='europe-west1')\n",
    "\n",
    "job = aiplatform.CustomContainerTrainingJob(\n",
    "    display_name='custom_training_sdk',\n",
    "    container_uri='europe-west1-docker.pkg.dev/glossy-precinct-371813/nvrep/stroke_model@sha256:20c3abb1ad9d986396b058552a455b5c0f45ac839e2cc077b0339b5e2f43f3f7',\n",
    "    staging_bucket='nvallot_bucket/job_outputs'\n",
    ")"
   ]
  },
  {
   "cell_type": "code",
   "execution_count": null,
   "id": "e016f914-a095-4ef3-98ab-4daa3dbb72ac",
   "metadata": {},
   "outputs": [],
   "source": [
    "#model return nonetype pourquoi ?\n",
    "model = job.run(\n",
    "    replica_count=1,\n",
    "    machine_type='n1-standard-4',\n",
    "    args=['--data_gcs_path=gs://nvallot_bucket/healthcare-dataset-stroke-data.csv']\n",
    "\n",
    ")"
   ]
  },
  {
   "cell_type": "code",
   "execution_count": 28,
   "id": "b62f9001-4463-4165-bc6c-09f60b2bcd9f",
   "metadata": {},
   "outputs": [
    {
     "data": {
      "text/plain": [
       "NoneType"
      ]
     },
     "execution_count": 28,
     "metadata": {},
     "output_type": "execute_result"
    }
   ],
   "source": [
    "type(model)"
   ]
  },
  {
   "cell_type": "code",
   "execution_count": null,
   "id": "f274cc2c-4406-447c-b13b-ea42937c373e",
   "metadata": {},
   "outputs": [],
   "source": [
    "model = aiplatform.Model('/projects/my-project/locations/europe-west4/models/{MODEL_ID}')"
   ]
  },
  {
   "cell_type": "code",
   "execution_count": 27,
   "id": "a8fe7264-cb6b-42e1-a8de-1f7bdf51b965",
   "metadata": {},
   "outputs": [
    {
     "ename": "AttributeError",
     "evalue": "'NoneType' object has no attribute 'deploy'",
     "output_type": "error",
     "traceback": [
      "\u001B[0;31m---------------------------------------------------------------------------\u001B[0m",
      "\u001B[0;31mAttributeError\u001B[0m                            Traceback (most recent call last)",
      "\u001B[0;32m/var/tmp/ipykernel_32129/3980378345.py\u001B[0m in \u001B[0;36m<module>\u001B[0;34m\u001B[0m\n\u001B[0;32m----> 1\u001B[0;31m endpoint = model.deploy(machine_type=\"n1-standard-4\",\n\u001B[0m\u001B[1;32m      2\u001B[0m                         \u001B[0mmin_replica_count\u001B[0m\u001B[0;34m=\u001B[0m\u001B[0;36m1\u001B[0m\u001B[0;34m,\u001B[0m\u001B[0;34m\u001B[0m\u001B[0;34m\u001B[0m\u001B[0m\n\u001B[1;32m      3\u001B[0m                         max_replica_count=5)\n",
      "\u001B[0;31mAttributeError\u001B[0m: 'NoneType' object has no attribute 'deploy'"
     ]
    }
   ],
   "source": [
    "endpoint = model.deploy(machine_type=\"n1-standard-4\",\n",
    "                        min_replica_count=1,\n",
    "                        max_replica_count=5)"
   ]
  },
  {
   "cell_type": "code",
   "execution_count": 22,
   "id": "99662bdb-fdc1-4a72-8770-1f17e670610d",
   "metadata": {},
   "outputs": [],
   "source": [
    "MODEL_NAME = 'ave-bitcoin-predict-term'"
   ]
  },
  {
   "cell_type": "code",
   "execution_count": null,
   "id": "059f912b-1d07-4aad-ae34-20e36aadbf99",
   "metadata": {},
   "outputs": [],
   "source": [
    "#Create a Vertex AI Endpoint resource"
   ]
  },
  {
   "cell_type": "code",
   "execution_count": 18,
   "id": "2b967969-a364-44c5-9927-b757b81d7392",
   "metadata": {},
   "outputs": [
    {
     "name": "stdout",
     "output_type": "stream",
     "text": [
      "INFO:google.cloud.aiplatform.models:Creating Endpoint\n",
      "INFO:google.cloud.aiplatform.models:Create Endpoint backing LRO: projects/537761427087/locations/europe-west1/endpoints/8902613708706938880/operations/6164575768358682624\n",
      "INFO:google.cloud.aiplatform.models:Endpoint created. Resource name: projects/537761427087/locations/europe-west1/endpoints/8902613708706938880\n",
      "INFO:google.cloud.aiplatform.models:To use this Endpoint in another session:\n",
      "INFO:google.cloud.aiplatform.models:endpoint = aiplatform.Endpoint('projects/537761427087/locations/europe-west1/endpoints/8902613708706938880')\n",
      "model-endpoint\n",
      "projects/537761427087/locations/europe-west1/endpoints/8902613708706938880\n"
     ]
    }
   ],
   "source": [
    "ENDPOINT_DISPLAY_NAME = \"model-endpoint\"\n",
    "\n",
    "endpoint = aiplatform.Endpoint.create(\n",
    "    display_name=ENDPOINT_DISPLAY_NAME,\n",
    "    project='glossy-precinct-371813',\n",
    "    location='europe-west1',\n",
    ")\n",
    "\n",
    "print(endpoint.display_name)\n",
    "print(endpoint.resource_name)"
   ]
  },
  {
   "cell_type": "code",
   "execution_count": null,
   "id": "44c01012-505c-4ace-8d32-f7dce4f555c3",
   "metadata": {},
   "outputs": [],
   "source": [
    "#Deploy the Vertex AI Model resource to Vertex AI Endpoint resource"
   ]
  },
  {
   "cell_type": "code",
   "execution_count": null,
   "id": "f90993a6-7ed1-4c73-9293-c5c2403f3763",
   "metadata": {},
   "outputs": [],
   "source": [
    "DEPLOYED_NAME = \"nv\"\n",
    "\n",
    "model.deploy(endpoint=endpoint, deployed_model_display_name=DEPLOYED_NAME)\n",
    "\n",
    "print(model.display_name)\n",
    "print(model.resource_name)"
   ]
  },
  {
   "cell_type": "code",
   "execution_count": null,
   "id": "1e27df63-831f-48c0-8d23-6bc6dbc247eb",
   "metadata": {},
   "outputs": [],
   "source": [
    "#Send prediction request to the Vertex AI Endpoint resource"
   ]
  },
  {
   "cell_type": "code",
   "execution_count": 11,
   "id": "9e858b31-6f37-4068-a411-cbe674e8cfe2",
   "metadata": {},
   "outputs": [
    {
     "data": {
      "text/plain": [
       "google.cloud.aiplatform.training_jobs.CustomContainerTrainingJob"
      ]
     },
     "execution_count": 11,
     "metadata": {},
     "output_type": "execute_result"
    }
   ],
   "source": [
    "type(job)"
   ]
  },
  {
   "cell_type": "code",
   "execution_count": 10,
   "id": "1d2c2c52-0a45-47ed-bcfc-a868a3dcd27b",
   "metadata": {},
   "outputs": [],
   "source": [
    "model"
   ]
  },
  {
   "cell_type": "code",
   "execution_count": 7,
   "id": "baa518c3-5418-477e-a034-b5f0b34de91b",
   "metadata": {},
   "outputs": [
    {
     "ename": "ValueError",
     "evalue": "Please provide a valid model name or ID",
     "output_type": "error",
     "traceback": [
      "\u001B[0;31m---------------------------------------------------------------------------\u001B[0m",
      "\u001B[0;31mValueError\u001B[0m                                Traceback (most recent call last)",
      "\u001B[0;32m/var/tmp/ipykernel_32129/2384164545.py\u001B[0m in \u001B[0;36m<module>\u001B[0;34m\u001B[0m\n\u001B[0;32m----> 1\u001B[0;31m \u001B[0mmodel\u001B[0m \u001B[0;34m=\u001B[0m \u001B[0maiplatform\u001B[0m\u001B[0;34m.\u001B[0m\u001B[0mModel\u001B[0m\u001B[0;34m(\u001B[0m\u001B[0;34m'/nvallot_bucket/job_outputs/aiplatform-custom-training-2023-02-27-15:03:27.321/model/model.joblib'\u001B[0m\u001B[0;34m)\u001B[0m\u001B[0;34m\u001B[0m\u001B[0;34m\u001B[0m\u001B[0m\n\u001B[0m",
      "\u001B[0;32m~/.local/lib/python3.7/site-packages/google/cloud/aiplatform/models.py\u001B[0m in \u001B[0;36m__init__\u001B[0;34m(self, model_name, project, location, credentials)\u001B[0m\n\u001B[1;32m   1464\u001B[0m             \u001B[0mresource_name\u001B[0m\u001B[0;34m=\u001B[0m\u001B[0mmodel_name\u001B[0m\u001B[0;34m,\u001B[0m\u001B[0;34m\u001B[0m\u001B[0;34m\u001B[0m\u001B[0m\n\u001B[1;32m   1465\u001B[0m         )\n\u001B[0;32m-> 1466\u001B[0;31m         \u001B[0mself\u001B[0m\u001B[0;34m.\u001B[0m\u001B[0m_gca_resource\u001B[0m \u001B[0;34m=\u001B[0m \u001B[0mself\u001B[0m\u001B[0;34m.\u001B[0m\u001B[0m_get_gca_resource\u001B[0m\u001B[0;34m(\u001B[0m\u001B[0mresource_name\u001B[0m\u001B[0;34m=\u001B[0m\u001B[0mmodel_name\u001B[0m\u001B[0;34m)\u001B[0m\u001B[0;34m\u001B[0m\u001B[0;34m\u001B[0m\u001B[0m\n\u001B[0m\u001B[1;32m   1467\u001B[0m \u001B[0;34m\u001B[0m\u001B[0m\n\u001B[1;32m   1468\u001B[0m     \u001B[0;31m# TODO(b/170979552) Add support for predict schemata\u001B[0m\u001B[0;34m\u001B[0m\u001B[0;34m\u001B[0m\u001B[0;34m\u001B[0m\u001B[0m\n",
      "\u001B[0;32m~/.local/lib/python3.7/site-packages/google/cloud/aiplatform/base.py\u001B[0m in \u001B[0;36m_get_gca_resource\u001B[0;34m(self, resource_name)\u001B[0m\n\u001B[1;32m    534\u001B[0m             \u001B[0mresource_noun\u001B[0m\u001B[0;34m=\u001B[0m\u001B[0mself\u001B[0m\u001B[0;34m.\u001B[0m\u001B[0m_resource_noun\u001B[0m\u001B[0;34m,\u001B[0m\u001B[0;34m\u001B[0m\u001B[0;34m\u001B[0m\u001B[0m\n\u001B[1;32m    535\u001B[0m             \u001B[0mproject\u001B[0m\u001B[0;34m=\u001B[0m\u001B[0mself\u001B[0m\u001B[0;34m.\u001B[0m\u001B[0mproject\u001B[0m\u001B[0;34m,\u001B[0m\u001B[0;34m\u001B[0m\u001B[0;34m\u001B[0m\u001B[0m\n\u001B[0;32m--> 536\u001B[0;31m             \u001B[0mlocation\u001B[0m\u001B[0;34m=\u001B[0m\u001B[0mself\u001B[0m\u001B[0;34m.\u001B[0m\u001B[0mlocation\u001B[0m\u001B[0;34m,\u001B[0m\u001B[0;34m\u001B[0m\u001B[0;34m\u001B[0m\u001B[0m\n\u001B[0m\u001B[1;32m    537\u001B[0m         )\n\u001B[1;32m    538\u001B[0m \u001B[0;34m\u001B[0m\u001B[0m\n",
      "\u001B[0;32m~/.local/lib/python3.7/site-packages/google/cloud/aiplatform/utils/__init__.py\u001B[0m in \u001B[0;36mfull_resource_name\u001B[0;34m(resource_name, resource_noun, project, location)\u001B[0m\n\u001B[1;32m    192\u001B[0m     \u001B[0;31m# Invalid resource_name parameter\u001B[0m\u001B[0;34m\u001B[0m\u001B[0;34m\u001B[0m\u001B[0;34m\u001B[0m\u001B[0m\n\u001B[1;32m    193\u001B[0m     \u001B[0;32melif\u001B[0m \u001B[0;32mnot\u001B[0m \u001B[0mvalid_name\u001B[0m\u001B[0;34m:\u001B[0m\u001B[0;34m\u001B[0m\u001B[0;34m\u001B[0m\u001B[0m\n\u001B[0;32m--> 194\u001B[0;31m         \u001B[0;32mraise\u001B[0m \u001B[0mValueError\u001B[0m\u001B[0;34m(\u001B[0m\u001B[0;34mf\"Please provide a valid {resource_noun[:-1]} name or ID\"\u001B[0m\u001B[0;34m)\u001B[0m\u001B[0;34m\u001B[0m\u001B[0;34m\u001B[0m\u001B[0m\n\u001B[0m\u001B[1;32m    195\u001B[0m \u001B[0;34m\u001B[0m\u001B[0m\n\u001B[1;32m    196\u001B[0m     \u001B[0;32mreturn\u001B[0m \u001B[0mresource_name\u001B[0m\u001B[0;34m\u001B[0m\u001B[0;34m\u001B[0m\u001B[0m\n",
      "\u001B[0;31mValueError\u001B[0m: Please provide a valid model name or ID"
     ]
    }
   ],
   "source": [
    "\n",
    "model = aiplatform.Model('/nvallot_bucket/job_outputs/aiplatform-custom-training-2023-02-27-15:03:27.321/model/model.joblib')"
   ]
  },
  {
   "cell_type": "code",
   "execution_count": null,
   "id": "329706c8-9338-4246-95bf-8b003aea3d87",
   "metadata": {},
   "outputs": [],
   "source": []
  },
  {
   "cell_type": "code",
   "execution_count": null,
   "id": "e0341ec9-e5cd-4a7f-bd93-86cb619f425d",
   "metadata": {},
   "outputs": [],
   "source": [
    "#test on endpoint"
   ]
  },
  {
   "cell_type": "code",
   "execution_count": null,
   "id": "0ff4f316-6384-40f0-9fe7-8a7dd7276739",
   "metadata": {},
   "outputs": [],
   "source": [
    "!pip3 install google-cloud-aiplatform --upgrade --user"
   ]
  },
  {
   "cell_type": "code",
   "execution_count": null,
   "id": "e94964a1-74e8-470b-a61d-954542d30777",
   "metadata": {},
   "outputs": [],
   "source": [
    "from google.cloud import aiplatform\n",
    "\n",
    "endpoint = aiplatform.Endpoint(\n",
    "    endpoint_name=\"projects/glossy-precinct-371813/locations/europe-west1/endpoints/YOUR-ENDPOINT-ID\"\n",
    ")"
   ]
  },
  {
   "cell_type": "code",
   "execution_count": null,
   "id": "8adcdee5-c63b-4517-9efb-3c2f0a825030",
   "metadata": {},
   "outputs": [],
   "source": [
    "test_instance={\n",
    "    'Time': 80422,\n",
    "    'Amount': 17.99,\n",
    "    'V1': -0.24,\n",
    "    'V2': -0.027,\n",
    "    'V3': 0.064,\n",
    "    'V4': -0.16,\n",
    "    'V5': -0.152,\n",
    "    'V6': -0.3,\n",
    "    'V7': -0.03,\n",
    "    'V8': -0.01,\n",
    "    'V9': -0.13,\n",
    "    'V10': -0.18,\n",
    "    'V11': -0.16,\n",
    "    'V12': 0.06,\n",
    "    'V13': -0.11,\n",
    "    'V14': 2.1,\n",
    "    'V15': -0.07,\n",
    "    'V16': -0.033,\n",
    "    'V17': -0.14,\n",
    "    'V18': -0.08,\n",
    "    'V19': -0.062,\n",
    "    'V20': -0.08,\n",
    "    'V21': -0.06,\n",
    "    'V22': -0.088,\n",
    "    'V23': -0.03,\n",
    "    'V24': 0.01,\n",
    "    'V25': -0.04,\n",
    "    'V26': -0.99,\n",
    "    'V27': -0.13,\n",
    "    'V28': 0.003\n",
    "}\n",
    "\n",
    "response = endpoint.predict([test_instance])\n",
    "\n",
    "print('API response: ', response)"
   ]
  }
 ],
 "metadata": {
  "environment": {
   "kernel": "python3",
   "name": "tf2-gpu.2-3.m103",
   "type": "gcloud",
   "uri": "gcr.io/deeplearning-platform-release/tf2-gpu.2-3:m103"
  },
  "kernelspec": {
   "display_name": "Python 3 (ipykernel)",
   "language": "python",
   "name": "python3"
  },
  "language_info": {
   "codemirror_mode": {
    "name": "ipython",
    "version": 3
   },
   "file_extension": ".py",
   "mimetype": "text/x-python",
   "name": "python",
   "nbconvert_exporter": "python",
   "pygments_lexer": "ipython3",
   "version": "3.7.12"
  }
 },
 "nbformat": 4,
 "nbformat_minor": 5
}
