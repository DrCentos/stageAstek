{
 "cells": [
  {
   "cell_type": "code",
   "execution_count": 116,
   "id": "e7774016-615d-445b-9b48-68382bfd762b",
   "metadata": {},
   "outputs": [],
   "source": [
    "from google.cloud import aiplatform\n",
    "\n",
    "REGION = 'europe-west1'\n",
    "PROJECT_ID = 'glossy-precinct-371813'\n",
    "bucket = 'gs://nvallot_bucket/job_outputs/model' # Should be same as AIP_STORAGE_URI specified in docker file\n",
    "container_uri='europe-west1-docker.pkg.dev/glossy-precinct-371813/nvrep/b_model:latest'\n",
    "model_serving_container_image_uri='europe-west1-docker.pkg.dev/glossy-precinct-371813/nvrep/b_serve:latest'\n",
    "display_name='Custom-nv'\n",
    "\n"
   ]
  },
  {
   "cell_type": "code",
   "execution_count": 117,
   "id": "7c16ab76-1221-4f47-844a-f11a6391b5d3",
   "metadata": {},
   "outputs": [],
   "source": [
    "aiplatform.init(project=PROJECT_ID, location=REGION, staging_bucket=bucket)"
   ]
  },
  {
   "cell_type": "code",
   "execution_count": 118,
   "id": "96561749-5e54-4a84-8346-a58b4a06e20a",
   "metadata": {},
   "outputs": [],
   "source": [
    "# Create CustomContainerTrainingJob and start run with some service account\n",
    "job = aiplatform.CustomContainerTrainingJob(\n",
    "display_name=display_name,\n",
    "container_uri=container_uri,\n",
    "model_serving_container_image_uri=model_serving_container_image_uri,\n",
    ")"
   ]
  },
  {
   "cell_type": "code",
   "execution_count": 119,
   "id": "bc2d58fe-d250-48d0-9337-5ab97922300e",
   "metadata": {},
   "outputs": [
    {
     "name": "stdout",
     "output_type": "stream",
     "text": [
      "aiplatform-custom-training-2023-03-03-08:29:21.166\n",
      "Training Output directory:\n",
      "gs://nvallot_bucket/job_outputs/model/aiplatform-custom-training-2023-03-03-08:29:21.167 \n",
      "View Training:\n",
      "https://console.cloud.google.com/ai/platform/locations/europe-west1/training/5186201184905461760?project=537761427087\n",
      "CustomContainerTrainingJob projects/537761427087/locations/europe-west1/trainingPipelines/5186201184905461760 current state:\n",
      "PipelineState.PIPELINE_STATE_PENDING\n",
      "CustomContainerTrainingJob projects/537761427087/locations/europe-west1/trainingPipelines/5186201184905461760 current state:\n",
      "PipelineState.PIPELINE_STATE_PENDING\n",
      "CustomContainerTrainingJob projects/537761427087/locations/europe-west1/trainingPipelines/5186201184905461760 current state:\n",
      "PipelineState.PIPELINE_STATE_PENDING\n",
      "View backing custom job:\n",
      "https://console.cloud.google.com/ai/platform/locations/europe-west1/training/8574878429525049344?project=537761427087\n",
      "CustomContainerTrainingJob projects/537761427087/locations/europe-west1/trainingPipelines/5186201184905461760 current state:\n",
      "PipelineState.PIPELINE_STATE_RUNNING\n",
      "CustomContainerTrainingJob projects/537761427087/locations/europe-west1/trainingPipelines/5186201184905461760 current state:\n",
      "PipelineState.PIPELINE_STATE_RUNNING\n",
      "CustomContainerTrainingJob projects/537761427087/locations/europe-west1/trainingPipelines/5186201184905461760 current state:\n",
      "PipelineState.PIPELINE_STATE_RUNNING\n",
      "CustomContainerTrainingJob run completed. Resource name: projects/537761427087/locations/europe-west1/trainingPipelines/5186201184905461760\n",
      "Model available at projects/537761427087/locations/europe-west1/models/5987685238170451968\n"
     ]
    }
   ],
   "source": [
    "from datetime import datetime\n",
    "\n",
    "#gs://nvallot_bucket/job_outputs/model/aiplatform-custom-training-2023-03-02-10:48:15.251\n",
    "\n",
    "timestamp = datetime.now()\n",
    "time = timestamp.isoformat()\n",
    "text = time[:10] + '-' + time[11:]\n",
    "delLastStr = text[:-3]\n",
    "var3 = \"aiplatform-custom-training-\" + delLastStr\n",
    "print(var3)\n",
    "model = job.run( model_display_name=display_name)"
   ]
  },
  {
   "cell_type": "code",
   "execution_count": 120,
   "id": "081189b5-d82f-4aa4-95fc-079eacaa6cec",
   "metadata": {},
   "outputs": [
    {
     "name": "stdout",
     "output_type": "stream",
     "text": [
      "Creating Endpoint\n",
      "Create Endpoint backing LRO: projects/537761427087/locations/europe-west1/endpoints/2419119095153688576/operations/4512049374229954560\n",
      "Endpoint created. Resource name: projects/537761427087/locations/europe-west1/endpoints/2419119095153688576\n",
      "To use this Endpoint in another session:\n",
      "endpoint = aiplatform.Endpoint('projects/537761427087/locations/europe-west1/endpoints/2419119095153688576')\n",
      "Deploying model to Endpoint : projects/537761427087/locations/europe-west1/endpoints/2419119095153688576\n",
      "Using default machine_type: n1-standard-2\n",
      "Deploy Endpoint model backing LRO: projects/537761427087/locations/europe-west1/endpoints/2419119095153688576/operations/6119834441201221632\n",
      "Endpoint model deployed. Resource name: projects/537761427087/locations/europe-west1/endpoints/2419119095153688576\n"
     ]
    }
   ],
   "source": [
    "\n",
    "# Finally deploy the model to endpoint\n",
    "endpoint = model.deploy(\n",
    "deployed_model_display_name=display_name, sync=True\n",
    ")"
   ]
  },
  {
   "cell_type": "code",
   "execution_count": 122,
   "id": "48843791-e642-46b1-92af-10d9503a0c6c",
   "metadata": {},
   "outputs": [
    {
     "name": "stdout",
     "output_type": "stream",
     "text": [
      "API response:  Prediction(predictions=[[-25.94390685984194], [-25.64441982529885], [-25.36049676754205]], deployed_model_id='304564720893952000', model_version_id='1', model_resource_name='projects/537761427087/locations/europe-west1/models/5987685238170451968', explanations=None)\n",
      "Predicted MPG:  -25.94390685984194\n"
     ]
    }
   ],
   "source": [
    "\n",
    "response = endpoint.predict([4,5,6])\n",
    "\n",
    "print('API response: ', response)\n",
    "\n",
    "print('Predicted MPG: ', response.predictions[0][0])"
   ]
  }
 ],
 "metadata": {
  "environment": {
   "kernel": "python3",
   "name": "tf2-gpu.2-3.m103",
   "type": "gcloud",
   "uri": "gcr.io/deeplearning-platform-release/tf2-gpu.2-3:m103"
  },
  "kernelspec": {
   "display_name": "Python 3 (ipykernel)",
   "language": "python",
   "name": "python3"
  },
  "language_info": {
   "codemirror_mode": {
    "name": "ipython",
    "version": 3
   },
   "file_extension": ".py",
   "mimetype": "text/x-python",
   "name": "python",
   "nbconvert_exporter": "python",
   "pygments_lexer": "ipython3",
   "version": "3.7.12"
  }
 },
 "nbformat": 4,
 "nbformat_minor": 5
}
