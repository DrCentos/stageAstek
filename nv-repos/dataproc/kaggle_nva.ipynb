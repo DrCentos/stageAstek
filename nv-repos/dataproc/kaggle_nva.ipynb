{
 "cells": [
  {
   "cell_type": "markdown",
   "source": [
    "#création d'un modèle de classification un modèle de régression à l’aide de pipelines."
   ],
   "metadata": {
    "id": "wxTJ22glidI1"
   },
   "id": "wxTJ22glidI1"
  },
  {
   "cell_type": "code",
   "execution_count": null,
   "id": "1c6fc80e-47e3-4529-a287-a88eeb137d0c",
   "metadata": {
    "id": "1c6fc80e-47e3-4529-a287-a88eeb137d0c",
    "outputId": "6d33560a-7202-4b0d-d36d-c12ab749d6f2"
   },
   "outputs": [
    {
     "name": "stdout",
     "output_type": "stream",
     "text": [
      "Requirement already satisfied: sparkmagic in /opt/conda/miniconda3/lib/python3.8/site-packages (0.20.4)\n",
      "Requirement already satisfied: ipython>=4.0.2 in /opt/conda/miniconda3/lib/python3.8/site-packages (from sparkmagic) (8.9.0)\n",
      "Requirement already satisfied: numpy in /opt/conda/miniconda3/lib/python3.8/site-packages (from sparkmagic) (1.19.5)\n",
      "Requirement already satisfied: hdijupyterutils>=0.6 in /opt/conda/miniconda3/lib/python3.8/site-packages (from sparkmagic) (0.20.4)\n",
      "Requirement already satisfied: tornado>=4 in /opt/conda/miniconda3/lib/python3.8/site-packages (from sparkmagic) (6.1)\n",
      "Requirement already satisfied: ipykernel>=4.2.2 in /opt/conda/miniconda3/lib/python3.8/site-packages (from sparkmagic) (6.14.0)\n",
      "Requirement already satisfied: notebook>=4.2 in /opt/conda/miniconda3/lib/python3.8/site-packages (from sparkmagic) (6.2.0)\n",
      "Requirement already satisfied: requests-kerberos>=0.8.0 in /opt/conda/miniconda3/lib/python3.8/site-packages (from sparkmagic) (0.14.0)\n",
      "Requirement already satisfied: autovizwidget>=0.6 in /opt/conda/miniconda3/lib/python3.8/site-packages (from sparkmagic) (0.20.4)\n",
      "Requirement already satisfied: requests in /opt/conda/miniconda3/lib/python3.8/site-packages (from sparkmagic) (2.25.1)\n",
      "Requirement already satisfied: nest-asyncio==1.5.5 in /opt/conda/miniconda3/lib/python3.8/site-packages (from sparkmagic) (1.5.5)\n",
      "Requirement already satisfied: ipywidgets>5.0.0 in /opt/conda/miniconda3/lib/python3.8/site-packages (from sparkmagic) (7.6.6)\n",
      "Requirement already satisfied: pandas>=0.17.1 in /opt/conda/miniconda3/lib/python3.8/site-packages (from sparkmagic) (1.2.5)\n",
      "Requirement already satisfied: plotly>=3 in /opt/conda/miniconda3/lib/python3.8/site-packages (from autovizwidget>=0.6->sparkmagic) (5.13.0)\n",
      "Requirement already satisfied: jupyter>=1 in /opt/conda/miniconda3/lib/python3.8/site-packages (from hdijupyterutils>=0.6->sparkmagic) (1.0.0)\n",
      "Requirement already satisfied: matplotlib-inline>=0.1 in /opt/conda/miniconda3/lib/python3.8/site-packages (from ipykernel>=4.2.2->sparkmagic) (0.1.6)\n",
      "Requirement already satisfied: packaging in /opt/conda/miniconda3/lib/python3.8/site-packages (from ipykernel>=4.2.2->sparkmagic) (23.0)\n",
      "Requirement already satisfied: psutil in /opt/conda/miniconda3/lib/python3.8/site-packages (from ipykernel>=4.2.2->sparkmagic) (5.9.4)\n",
      "Requirement already satisfied: traitlets>=5.1.0 in /opt/conda/miniconda3/lib/python3.8/site-packages (from ipykernel>=4.2.2->sparkmagic) (5.9.0)\n",
      "Requirement already satisfied: debugpy>=1.0 in /opt/conda/miniconda3/lib/python3.8/site-packages (from ipykernel>=4.2.2->sparkmagic) (1.6.6)\n",
      "Requirement already satisfied: jupyter-client>=6.1.12 in /opt/conda/miniconda3/lib/python3.8/site-packages (from ipykernel>=4.2.2->sparkmagic) (7.2.2)\n",
      "Requirement already satisfied: pickleshare in /opt/conda/miniconda3/lib/python3.8/site-packages (from ipython>=4.0.2->sparkmagic) (0.7.5)\n",
      "Requirement already satisfied: pygments>=2.4.0 in /opt/conda/miniconda3/lib/python3.8/site-packages (from ipython>=4.0.2->sparkmagic) (2.14.0)\n",
      "Requirement already satisfied: decorator in /opt/conda/miniconda3/lib/python3.8/site-packages (from ipython>=4.0.2->sparkmagic) (5.1.1)\n",
      "Requirement already satisfied: backcall in /opt/conda/miniconda3/lib/python3.8/site-packages (from ipython>=4.0.2->sparkmagic) (0.2.0)\n",
      "Requirement already satisfied: stack-data in /opt/conda/miniconda3/lib/python3.8/site-packages (from ipython>=4.0.2->sparkmagic) (0.6.2)\n",
      "Requirement already satisfied: pexpect>4.3 in /opt/conda/miniconda3/lib/python3.8/site-packages (from ipython>=4.0.2->sparkmagic) (4.8.0)\n",
      "Requirement already satisfied: prompt-toolkit<3.1.0,>=3.0.30 in /opt/conda/miniconda3/lib/python3.8/site-packages (from ipython>=4.0.2->sparkmagic) (3.0.36)\n",
      "Requirement already satisfied: jedi>=0.16 in /opt/conda/miniconda3/lib/python3.8/site-packages (from ipython>=4.0.2->sparkmagic) (0.17.2)\n",
      "Requirement already satisfied: nbformat>=4.2.0 in /opt/conda/miniconda3/lib/python3.8/site-packages (from ipywidgets>5.0.0->sparkmagic) (5.7.3)\n",
      "Requirement already satisfied: jupyterlab-widgets<3,>=1.0.0 in /opt/conda/miniconda3/lib/python3.8/site-packages (from ipywidgets>5.0.0->sparkmagic) (1.0.2)\n",
      "Requirement already satisfied: widgetsnbextension~=3.5.0 in /opt/conda/miniconda3/lib/python3.8/site-packages (from ipywidgets>5.0.0->sparkmagic) (3.5.2)\n",
      "Requirement already satisfied: ipython-genutils~=0.2.0 in /opt/conda/miniconda3/lib/python3.8/site-packages (from ipywidgets>5.0.0->sparkmagic) (0.2.0)\n",
      "Requirement already satisfied: terminado>=0.8.3 in /opt/conda/miniconda3/lib/python3.8/site-packages (from notebook>=4.2->sparkmagic) (0.17.1)\n",
      "Requirement already satisfied: nbconvert in /opt/conda/miniconda3/lib/python3.8/site-packages (from notebook>=4.2->sparkmagic) (6.0.7)\n",
      "Requirement already satisfied: prometheus-client in /opt/conda/miniconda3/lib/python3.8/site-packages (from notebook>=4.2->sparkmagic) (0.16.0)\n",
      "Requirement already satisfied: Send2Trash>=1.5.0 in /opt/conda/miniconda3/lib/python3.8/site-packages (from notebook>=4.2->sparkmagic) (1.8.0)\n",
      "Requirement already satisfied: argon2-cffi in /opt/conda/miniconda3/lib/python3.8/site-packages (from notebook>=4.2->sparkmagic) (21.3.0)\n",
      "Requirement already satisfied: jinja2 in /opt/conda/miniconda3/lib/python3.8/site-packages (from notebook>=4.2->sparkmagic) (3.0.3)\n",
      "Requirement already satisfied: jupyter-core>=4.6.1 in /opt/conda/miniconda3/lib/python3.8/site-packages (from notebook>=4.2->sparkmagic) (5.2.0)\n",
      "Requirement already satisfied: pyzmq>=17 in /opt/conda/miniconda3/lib/python3.8/site-packages (from notebook>=4.2->sparkmagic) (25.0.0)\n",
      "Requirement already satisfied: python-dateutil>=2.7.3 in /opt/conda/miniconda3/lib/python3.8/site-packages (from pandas>=0.17.1->sparkmagic) (2.8.2)\n",
      "Requirement already satisfied: pytz>=2017.3 in /opt/conda/miniconda3/lib/python3.8/site-packages (from pandas>=0.17.1->sparkmagic) (2022.7.1)\n",
      "Requirement already satisfied: pyspnego[kerberos] in /opt/conda/miniconda3/lib/python3.8/site-packages (from requests-kerberos>=0.8.0->sparkmagic) (0.8.0)\n",
      "Requirement already satisfied: cryptography>=1.3 in /opt/conda/miniconda3/lib/python3.8/site-packages (from requests-kerberos>=0.8.0->sparkmagic) (39.0.0)\n",
      "Requirement already satisfied: chardet<5,>=3.0.2 in /opt/conda/miniconda3/lib/python3.8/site-packages (from requests->sparkmagic) (4.0.0)\n",
      "Requirement already satisfied: idna<3,>=2.5 in /opt/conda/miniconda3/lib/python3.8/site-packages (from requests->sparkmagic) (2.10)\n",
      "Requirement already satisfied: certifi>=2017.4.17 in /opt/conda/miniconda3/lib/python3.8/site-packages (from requests->sparkmagic) (2022.12.7)\n",
      "Requirement already satisfied: urllib3<1.27,>=1.21.1 in /opt/conda/miniconda3/lib/python3.8/site-packages (from requests->sparkmagic) (1.25.11)\n",
      "Requirement already satisfied: cffi>=1.12 in /opt/conda/miniconda3/lib/python3.8/site-packages (from cryptography>=1.3->requests-kerberos>=0.8.0->sparkmagic) (1.15.1)\n",
      "Requirement already satisfied: parso<0.8.0,>=0.7.0 in /opt/conda/miniconda3/lib/python3.8/site-packages (from jedi>=0.16->ipython>=4.0.2->sparkmagic) (0.7.0)\n",
      "Requirement already satisfied: jupyter-console in /opt/conda/miniconda3/lib/python3.8/site-packages (from jupyter>=1->hdijupyterutils>=0.6->sparkmagic) (6.6.0)\n",
      "Requirement already satisfied: qtconsole in /opt/conda/miniconda3/lib/python3.8/site-packages (from jupyter>=1->hdijupyterutils>=0.6->sparkmagic) (5.4.0)\n",
      "Requirement already satisfied: entrypoints in /opt/conda/miniconda3/lib/python3.8/site-packages (from jupyter-client>=6.1.12->ipykernel>=4.2.2->sparkmagic) (0.4)\n",
      "Requirement already satisfied: platformdirs>=2.5 in /opt/conda/miniconda3/lib/python3.8/site-packages (from jupyter-core>=4.6.1->notebook>=4.2->sparkmagic) (3.0.0)\n",
      "Requirement already satisfied: jsonschema>=2.6 in /opt/conda/miniconda3/lib/python3.8/site-packages (from nbformat>=4.2.0->ipywidgets>5.0.0->sparkmagic) (4.17.3)\n",
      "Requirement already satisfied: fastjsonschema in /opt/conda/miniconda3/lib/python3.8/site-packages (from nbformat>=4.2.0->ipywidgets>5.0.0->sparkmagic) (2.16.2)\n",
      "Requirement already satisfied: ptyprocess>=0.5 in /opt/conda/miniconda3/lib/python3.8/site-packages (from pexpect>4.3->ipython>=4.0.2->sparkmagic) (0.7.0)\n",
      "Requirement already satisfied: tenacity>=6.2.0 in /opt/conda/miniconda3/lib/python3.8/site-packages (from plotly>=3->autovizwidget>=0.6->sparkmagic) (8.2.0)\n",
      "Requirement already satisfied: wcwidth in /opt/conda/miniconda3/lib/python3.8/site-packages (from prompt-toolkit<3.1.0,>=3.0.30->ipython>=4.0.2->sparkmagic) (0.2.6)\n",
      "Requirement already satisfied: six>=1.5 in /opt/conda/miniconda3/lib/python3.8/site-packages (from python-dateutil>=2.7.3->pandas>=0.17.1->sparkmagic) (1.16.0)\n",
      "Requirement already satisfied: argon2-cffi-bindings in /opt/conda/miniconda3/lib/python3.8/site-packages (from argon2-cffi->notebook>=4.2->sparkmagic) (21.2.0)\n",
      "Requirement already satisfied: MarkupSafe>=2.0 in /opt/conda/miniconda3/lib/python3.8/site-packages (from jinja2->notebook>=4.2->sparkmagic) (2.1.2)\n",
      "Requirement already satisfied: jupyterlab-pygments in /opt/conda/miniconda3/lib/python3.8/site-packages (from nbconvert->notebook>=4.2->sparkmagic) (0.2.2)\n",
      "Requirement already satisfied: testpath in /opt/conda/miniconda3/lib/python3.8/site-packages (from nbconvert->notebook>=4.2->sparkmagic) (0.6.0)\n",
      "Requirement already satisfied: defusedxml in /opt/conda/miniconda3/lib/python3.8/site-packages (from nbconvert->notebook>=4.2->sparkmagic) (0.7.1)\n",
      "Requirement already satisfied: pandocfilters>=1.4.1 in /opt/conda/miniconda3/lib/python3.8/site-packages (from nbconvert->notebook>=4.2->sparkmagic) (1.5.0)\n",
      "Requirement already satisfied: nbclient<0.6.0,>=0.5.0 in /opt/conda/miniconda3/lib/python3.8/site-packages (from nbconvert->notebook>=4.2->sparkmagic) (0.5.13)\n",
      "Requirement already satisfied: bleach in /opt/conda/miniconda3/lib/python3.8/site-packages (from nbconvert->notebook>=4.2->sparkmagic) (6.0.0)\n",
      "Requirement already satisfied: mistune<2,>=0.8.1 in /opt/conda/miniconda3/lib/python3.8/site-packages (from nbconvert->notebook>=4.2->sparkmagic) (0.8.4)\n",
      "Requirement already satisfied: krb5>=0.3.0 in /opt/conda/miniconda3/lib/python3.8/site-packages (from pyspnego[kerberos]->requests-kerberos>=0.8.0->sparkmagic) (0.5.0)\n",
      "Requirement already satisfied: gssapi>=1.6.0 in /opt/conda/miniconda3/lib/python3.8/site-packages (from pyspnego[kerberos]->requests-kerberos>=0.8.0->sparkmagic) (1.8.2)\n",
      "Requirement already satisfied: pure-eval in /opt/conda/miniconda3/lib/python3.8/site-packages (from stack-data->ipython>=4.0.2->sparkmagic) (0.2.2)\n",
      "Requirement already satisfied: executing>=1.2.0 in /opt/conda/miniconda3/lib/python3.8/site-packages (from stack-data->ipython>=4.0.2->sparkmagic) (1.2.0)\n",
      "Requirement already satisfied: asttokens>=2.1.0 in /opt/conda/miniconda3/lib/python3.8/site-packages (from stack-data->ipython>=4.0.2->sparkmagic) (2.2.1)\n",
      "Requirement already satisfied: pycparser in /opt/conda/miniconda3/lib/python3.8/site-packages (from cffi>=1.12->cryptography>=1.3->requests-kerberos>=0.8.0->sparkmagic) (2.21)\n",
      "Requirement already satisfied: pyrsistent!=0.17.0,!=0.17.1,!=0.17.2,>=0.14.0 in /opt/conda/miniconda3/lib/python3.8/site-packages (from jsonschema>=2.6->nbformat>=4.2.0->ipywidgets>5.0.0->sparkmagic) (0.19.3)\n",
      "Requirement already satisfied: importlib-resources>=1.4.0 in /opt/conda/miniconda3/lib/python3.8/site-packages (from jsonschema>=2.6->nbformat>=4.2.0->ipywidgets>5.0.0->sparkmagic) (5.10.2)\n",
      "Requirement already satisfied: pkgutil-resolve-name>=1.3.10 in /opt/conda/miniconda3/lib/python3.8/site-packages (from jsonschema>=2.6->nbformat>=4.2.0->ipywidgets>5.0.0->sparkmagic) (1.3.10)\n",
      "Requirement already satisfied: attrs>=17.4.0 in /opt/conda/miniconda3/lib/python3.8/site-packages (from jsonschema>=2.6->nbformat>=4.2.0->ipywidgets>5.0.0->sparkmagic) (22.2.0)\n",
      "Requirement already satisfied: webencodings in /opt/conda/miniconda3/lib/python3.8/site-packages (from bleach->nbconvert->notebook>=4.2->sparkmagic) (0.5.1)\n",
      "Requirement already satisfied: qtpy>=2.0.1 in /opt/conda/miniconda3/lib/python3.8/site-packages (from qtconsole->jupyter>=1->hdijupyterutils>=0.6->sparkmagic) (2.3.0)\n",
      "Requirement already satisfied: zipp>=3.1.0 in /opt/conda/miniconda3/lib/python3.8/site-packages (from importlib-resources>=1.4.0->jsonschema>=2.6->nbformat>=4.2.0->ipywidgets>5.0.0->sparkmagic) (3.12.1)\n",
      "\u001B[33mWARNING: Running pip as the 'root' user can result in broken permissions and conflicting behaviour with the system package manager. It is recommended to use a virtual environment instead: https://pip.pypa.io/warnings/venv\u001B[0m\u001B[33m\n",
      "\u001B[0mRequirement already satisfied: pyspark in /usr/lib/spark/python (3.1.3)\n",
      "Requirement already satisfied: py4j==0.10.9 in /opt/conda/miniconda3/lib/python3.8/site-packages (from pyspark) (0.10.9)\n",
      "\u001B[33mWARNING: Running pip as the 'root' user can result in broken permissions and conflicting behaviour with the system package manager. It is recommended to use a virtual environment instead: https://pip.pypa.io/warnings/venv\u001B[0m\u001B[33m\n",
      "\u001B[0m"
     ]
    }
   ],
   "source": [
    "!pip install sparkmagic\n",
    "!pip install pyspark"
   ]
  },
  {
   "cell_type": "markdown",
   "source": [
    "* Entrainement d'un modèle LogisticRegression avec un Pipleline préparant les données\n",
    "* Une crossvalidation pour régler les paramètres du modèle\n",
    "* Une classification binaire (0 ou 1) pour évaluer notre modèle entraîné."
   ],
   "metadata": {
    "id": "zwrjqrIqizWB"
   },
   "id": "zwrjqrIqizWB"
  },
  {
   "cell_type": "code",
   "execution_count": null,
   "id": "31d54a9d-aaad-4d85-b1ca-cf9eb5c8daf0",
   "metadata": {
    "id": "31d54a9d-aaad-4d85-b1ca-cf9eb5c8daf0",
    "outputId": "13270589-0a53-4c1c-808c-ccb497372427"
   },
   "outputs": [
    {
     "name": "stdout",
     "output_type": "stream",
     "text": [
      "['data', 'sys', 'mnt', 'tmp', 'opt', 'lost+found', 'copyright', 'lib32', 'lib64', 'etc', 'proc', 'root', 'srv', 'libx32', 'census_training', 'localfile', 'sbin', 'boot', 'dev', 'media', 'airports.csv', 'flights.csv', 'hadoop', 'lib', 'home', 'run', 'var', 'bin', 'usr']\n"
     ]
    }
   ],
   "source": [
    "# This Python 3 environment comes with many helpful analytics libraries installed\n",
    "# It is defined by the kaggle/python docker image: https://github.com/kaggle/docker-python\n",
    "# For example, here's several helpful packages to load in \n",
    "\n",
    "import numpy as np # linear algebra\n",
    "import pandas as pd # data processing, CSV file I/O (e.g. pd.read_csv)\n",
    "\n",
    "# Input data files are available in the \"../input/\" directory.\n",
    "# For example, running this (by clicking run or pressing Shift+Enter) will list the files in the input directory\n",
    "\n",
    "import os\n",
    "print(os.listdir(\"./\"))\n",
    "\n",
    "# Any results you write to the current directory are saved as output."
   ]
  },
  {
   "cell_type": "code",
   "execution_count": null,
   "id": "280e3e00-333e-4b8c-ad58-1a5bbbcb2677",
   "metadata": {
    "id": "280e3e00-333e-4b8c-ad58-1a5bbbcb2677",
    "outputId": "d4fcaf81-2049-4fc3-b8bf-35303c8c1b25"
   },
   "outputs": [
    {
     "name": "stderr",
     "output_type": "stream",
     "text": [
      "Setting default log level to \"WARN\".\n",
      "To adjust logging level use sc.setLogLevel(newLevel). For SparkR, use setLogLevel(newLevel).\n",
      "23/02/21 15:27:44 INFO org.apache.spark.SparkEnv: Registering MapOutputTracker\n",
      "23/02/21 15:27:44 INFO org.apache.spark.SparkEnv: Registering BlockManagerMaster\n",
      "23/02/21 15:27:44 INFO org.apache.spark.SparkEnv: Registering BlockManagerMasterHeartbeat\n",
      "23/02/21 15:27:45 INFO org.apache.spark.SparkEnv: Registering OutputCommitCoordinator\n"
     ]
    }
   ],
   "source": [
    "from pyspark.sql.types import *\n",
    "from pyspark.sql.functions import *\n",
    "from pyspark.sql import SparkSession\n",
    "\n",
    "from pyspark.ml import Pipeline\n",
    "#from pyspark.ml.classification import DecisionTreeClassifier\n",
    "from pyspark.ml.feature import VectorAssembler, StringIndexer, VectorIndexer, MinMaxScaler\n",
    "from pyspark.ml.classification import LogisticRegression\n",
    "from pyspark.ml.tuning import ParamGridBuilder, CrossValidator\n",
    "from pyspark.ml.evaluation import BinaryClassificationEvaluator\n",
    "\n",
    "spark = SparkSession.builder.appName(\"nvkaggle\").getOrCreate()"
   ]
  },
  {
   "cell_type": "markdown",
   "source": [
    "Quand on est sur un cluster, on ne peut pas récupérer les data facilement (Quand je le fais avec spark ça ne fonctionne pas), j'ai donc utilisé 2 méthodes pour les récupérer :\n",
    "\n",
    "* créer le fichier flights.csv dans le répertoire courant du cluster en le récupérant d'une bucket puis lire ce fichier via pandas\n",
    "\n",
    "* directement lire le csv contenu dans le bucket avec pandas\n",
    "\n",
    "(commande de base qui ne fonctionne pas avec le cluster: csv = spark.read.csv('../input/flights.csv', inferSchema=True, header=True))"
   ],
   "metadata": {
    "id": "f-o99_w6jjou"
   },
   "id": "f-o99_w6jjou"
  },
  {
   "cell_type": "code",
   "execution_count": null,
   "id": "97dccfc0-9385-4833-b747-b8684a13761e",
   "metadata": {
    "id": "97dccfc0-9385-4833-b747-b8684a13761e",
    "outputId": "ce13f545-73cb-4c7c-ad84-ddaac554aecd"
   },
   "outputs": [
    {
     "name": "stdout",
     "output_type": "stream",
     "text": [
      "Copying gs://nvkaggle/flights.csv...\n",
      "- [1 files][ 68.8 MiB/ 68.8 MiB]                                                \n",
      "Operation completed over 1 objects/68.8 MiB.                                     \n"
     ]
    }
   ],
   "source": [
    "!gsutil cp gs://{'nvkaggle'}/flights.csv flights.csv"
   ]
  },
  {
   "cell_type": "code",
   "execution_count": null,
   "id": "5f3b4e4f-f747-462b-8741-ce61470fe642",
   "metadata": {
    "id": "5f3b4e4f-f747-462b-8741-ce61470fe642",
    "outputId": "1ce011d9-5445-4403-8579-a43799c96188"
   },
   "outputs": [
    {
     "name": "stdout",
     "output_type": "stream",
     "text": [
      "airports.csv\t copyright  flights.csv  lib32\t    lost+found\tproc  srv  var\n",
      "bin\t\t data\t    hadoop\t lib64\t    media\troot  sys\n",
      "boot\t\t dev\t    home\t libx32     mnt\t\trun   tmp\n",
      "census_training  etc\t    lib\t\t localfile  opt\t\tsbin  usr\n"
     ]
    }
   ],
   "source": [
    "!ls"
   ]
  },
  {
   "cell_type": "markdown",
   "source": [
    "Comme expliqué je passe donc par une dataframe pandas quand j'ai des erreurs lorsque je fais : "
   ],
   "metadata": {
    "id": "wCcjrDdBkK7C"
   },
   "id": "wCcjrDdBkK7C"
  },
  {
   "cell_type": "code",
   "execution_count": null,
   "id": "811a417d-4602-41fa-9829-91269ccddfbc",
   "metadata": {
    "id": "811a417d-4602-41fa-9829-91269ccddfbc"
   },
   "outputs": [],
   "source": [
    "import pandas\n",
    "df = pd.read_csv('flights.csv')"
   ]
  },
  {
   "cell_type": "code",
   "source": [
    "type(df)"
   ],
   "metadata": {
    "id": "78Zr4pqrkefd"
   },
   "id": "78Zr4pqrkefd",
   "execution_count": null,
   "outputs": []
  },
  {
   "cell_type": "markdown",
   "source": [
    "On passe ensuite d'un dataframe panda à un dataframe spark"
   ],
   "metadata": {
    "id": "J8R-qi7okEDV"
   },
   "id": "J8R-qi7okEDV"
  },
  {
   "cell_type": "code",
   "execution_count": null,
   "id": "d78c8681-8805-41e1-8f2f-364d415a39d8",
   "metadata": {
    "id": "d78c8681-8805-41e1-8f2f-364d415a39d8"
   },
   "outputs": [],
   "source": [
    "from pyspark.sql import SparkSession\n",
    "import pyspark.sql.functions as sqlfunc\n",
    "from pyspark.sql.types import *\n",
    "import argparse, sys\n",
    "from pyspark.sql import *\n",
    "import pyspark.sql.functions as sqlfunc\n",
    "import pandas as pd\n",
    "\n",
    "def create_session(appname):\n",
    "    spark_session = SparkSession\\\n",
    "        .builder\\\n",
    "        .appName(appname)\\\n",
    "        .master('yarn')\\\n",
    "        .config(\"hive.metastore.uris\", \"thrift://uds-far-mn1.dab.02.net:9083\")\\\n",
    "        .enableHiveSupport()\\\n",
    "        .getOrCreate()\n",
    "    return spark_session\n",
    "### START MAIN ###\n",
    "if __name__ == '__main__':\n",
    "    spark_session = create_session('testing_files')"
   ]
  },
  {
   "cell_type": "code",
   "execution_count": null,
   "id": "9c2d37d5-4ba7-4fa3-befe-8635f283334f",
   "metadata": {
    "id": "9c2d37d5-4ba7-4fa3-befe-8635f283334f"
   },
   "outputs": [],
   "source": [
    "from pyspark.sql import SparkSession\n",
    "# Pandas to Spark\n",
    "csv = spark_session.createDataFrame(df)"
   ]
  },
  {
   "cell_type": "code",
   "source": [
    "type(csv)"
   ],
   "metadata": {
    "id": "0b2_TmJHkoxy"
   },
   "id": "0b2_TmJHkoxy",
   "execution_count": null,
   "outputs": []
  },
  {
   "cell_type": "markdown",
   "source": [
    "Les données du fichier flights.csv contient des infos spécifiques pour chaque vol, ainsi qu’une colonne indiquant combien de minutes de retard ou d’avance le vol est arrivé."
   ],
   "metadata": {
    "id": "aB5G_VsnkRxE"
   },
   "id": "aB5G_VsnkRxE"
  },
  {
   "cell_type": "code",
   "execution_count": null,
   "id": "69d1c200-f54e-406c-9e8e-348b6e017eaf",
   "metadata": {
    "id": "69d1c200-f54e-406c-9e8e-348b6e017eaf",
    "outputId": "36cc5c32-dab9-4f22-e855-61e65384897a"
   },
   "outputs": [
    {
     "name": "stdout",
     "output_type": "stream",
     "text": [
      "+----------+---------+-------+---------------+-------------+--------+--------+\n",
      "|DayofMonth|DayOfWeek|Carrier|OriginAirportID|DestAirportID|DepDelay|ArrDelay|\n",
      "+----------+---------+-------+---------------+-------------+--------+--------+\n",
      "|        19|        5|     DL|          11433|        13303|      -3|       1|\n",
      "|        19|        5|     DL|          14869|        12478|       0|      -8|\n",
      "|        19|        5|     DL|          14057|        14869|      -4|     -15|\n",
      "|        19|        5|     DL|          15016|        11433|      28|      24|\n",
      "|        19|        5|     DL|          11193|        12892|      -6|     -11|\n",
      "|        19|        5|     DL|          10397|        15016|      -1|     -19|\n",
      "|        19|        5|     DL|          15016|        10397|       0|      -1|\n",
      "|        19|        5|     DL|          10397|        14869|      15|      24|\n",
      "|        19|        5|     DL|          10397|        10423|      33|      34|\n",
      "|        19|        5|     DL|          11278|        10397|     323|     322|\n",
      "+----------+---------+-------+---------------+-------------+--------+--------+\n",
      "only showing top 10 rows\n",
      "\n"
     ]
    },
    {
     "name": "stderr",
     "output_type": "stream",
     "text": [
      "23/02/21 15:31:26 WARN org.apache.spark.scheduler.TaskSetManager: Stage 1 contains a task of very large size (29432 KiB). The maximum recommended task size is 1000 KiB.\n"
     ]
    }
   ],
   "source": [
    "csv.show(10)"
   ]
  },
  {
   "cell_type": "markdown",
   "source": [
    "# Préparation des données pour un modèle de classification (modèle d'apprentissage d'arbre de décision)\n",
    "* Séléction d'un sous-ensemble de colonnes à utiliser comme fonctionnalités et labéliser (0 ou 1 )\n",
    "  * 1 = vol arrivé en retard\n",
    "  * 0 pour un vol en avance ou à l'heure"
   ],
   "metadata": {
    "id": "Hedf5LfrlfCe"
   },
   "id": "Hedf5LfrlfCe"
  },
  {
   "cell_type": "code",
   "execution_count": null,
   "id": "63c5d2c0-1b10-438b-a5d5-d8e4b61b5df9",
   "metadata": {
    "id": "63c5d2c0-1b10-438b-a5d5-d8e4b61b5df9",
    "outputId": "c2085de4-c2d8-4656-b4d2-8b964cfbd972"
   },
   "outputs": [
    {
     "name": "stderr",
     "output_type": "stream",
     "text": [
      "23/02/21 15:31:27 WARN org.apache.spark.scheduler.TaskSetManager: Stage 2 contains a task of very large size (29432 KiB). The maximum recommended task size is 1000 KiB.\n"
     ]
    },
    {
     "name": "stdout",
     "output_type": "stream",
     "text": [
      "+----------+---------+-------+---------------+-------------+--------+-----+\n",
      "|DayofMonth|DayOfWeek|Carrier|OriginAirportID|DestAirportID|DepDelay|label|\n",
      "+----------+---------+-------+---------------+-------------+--------+-----+\n",
      "|        19|        5|     DL|          11433|        13303|      -3|    0|\n",
      "|        19|        5|     DL|          14869|        12478|       0|    0|\n",
      "|        19|        5|     DL|          14057|        14869|      -4|    0|\n",
      "|        19|        5|     DL|          15016|        11433|      28|    1|\n",
      "|        19|        5|     DL|          11193|        12892|      -6|    0|\n",
      "|        19|        5|     DL|          10397|        15016|      -1|    0|\n",
      "|        19|        5|     DL|          15016|        10397|       0|    0|\n",
      "|        19|        5|     DL|          10397|        14869|      15|    1|\n",
      "|        19|        5|     DL|          10397|        10423|      33|    1|\n",
      "|        19|        5|     DL|          11278|        10397|     323|    1|\n",
      "+----------+---------+-------+---------------+-------------+--------+-----+\n",
      "only showing top 10 rows\n",
      "\n"
     ]
    }
   ],
   "source": [
    "data = csv.select(\"DayofMonth\", \"DayOfWeek\", \"Carrier\", \"OriginAirportID\", \"DestAirportID\", \"DepDelay\", ((col(\"ArrDelay\") > 15).cast(\"Int\").alias(\"label\")))\n",
    "data.show(10)"
   ]
  },
  {
   "cell_type": "markdown",
   "source": [
    "* Train: 70 % \n",
    "* Test 30 %  (label = TrueLabel)"
   ],
   "metadata": {
    "id": "ZxxeD5uGl9pV"
   },
   "id": "ZxxeD5uGl9pV"
  },
  {
   "cell_type": "code",
   "execution_count": null,
   "id": "4df42d1b-a0a2-4240-abdb-f6d0d3439775",
   "metadata": {
    "id": "4df42d1b-a0a2-4240-abdb-f6d0d3439775",
    "outputId": "fbe934e6-21a8-47ea-9430-4cf39a58f94a"
   },
   "outputs": [
    {
     "name": "stderr",
     "output_type": "stream",
     "text": [
      "23/02/21 15:31:27 WARN org.apache.spark.scheduler.TaskSetManager: Stage 3 contains a task of very large size (29432 KiB). The maximum recommended task size is 1000 KiB.\n",
      "23/02/21 15:31:32 WARN org.apache.spark.scheduler.TaskSetManager: Stage 6 contains a task of very large size (29432 KiB). The maximum recommended task size is 1000 KiB.\n",
      "[Stage 6:>                                                          (0 + 2) / 2]\r"
     ]
    },
    {
     "name": "stdout",
     "output_type": "stream",
     "text": [
      "Training Rows: 1891792  Testing Rows: 810426\n"
     ]
    },
    {
     "name": "stderr",
     "output_type": "stream",
     "text": [
      "                                                                                \r"
     ]
    }
   ],
   "source": [
    "splits = data.randomSplit([0.7, 0.3])\n",
    "train = splits[0]\n",
    "test = splits[1].withColumnRenamed(\"label\", \"trueLabel\")\n",
    "train_rows = train.count()\n",
    "test_rows = test.count()\n",
    "print(\"Training Rows:\", train_rows, \" Testing Rows:\", test_rows)"
   ]
  },
  {
   "cell_type": "code",
   "execution_count": null,
   "id": "a3d9d4ca-6836-40b0-8ca0-4475f2824642",
   "metadata": {
    "id": "a3d9d4ca-6836-40b0-8ca0-4475f2824642",
    "outputId": "50b5f267-ad83-431e-e1fe-d337d1c55993"
   },
   "outputs": [
    {
     "name": "stderr",
     "output_type": "stream",
     "text": [
      "23/02/21 15:31:35 WARN org.apache.spark.scheduler.TaskSetManager: Stage 9 contains a task of very large size (29432 KiB). The maximum recommended task size is 1000 KiB.\n",
      "[Stage 9:>                                                          (0 + 1) / 1]\r"
     ]
    },
    {
     "name": "stdout",
     "output_type": "stream",
     "text": [
      "+----------+---------+-------+---------------+-------------+--------+---------+\n",
      "|DayofMonth|DayOfWeek|Carrier|OriginAirportID|DestAirportID|DepDelay|trueLabel|\n",
      "+----------+---------+-------+---------------+-------------+--------+---------+\n",
      "|         1|        1|     9E|          10397|        12264|      23|        0|\n",
      "|         1|        1|     9E|          10397|        13851|       2|        0|\n",
      "|         1|        1|     9E|          10423|        11433|      14|        1|\n",
      "|         1|        1|     9E|          10423|        13487|      -7|        0|\n",
      "|         1|        1|     9E|          10423|        13487|      -2|        0|\n",
      "|         1|        1|     9E|          10423|        14869|     -10|        0|\n",
      "|         1|        1|     9E|          10529|        11193|      -5|        0|\n",
      "|         1|        1|     9E|          10529|        11193|      -5|        0|\n",
      "|         1|        1|     9E|          10529|        13487|      -4|        1|\n",
      "|         1|        1|     9E|          10529|        14492|      20|        1|\n",
      "+----------+---------+-------+---------------+-------------+--------+---------+\n",
      "only showing top 10 rows\n",
      "\n"
     ]
    },
    {
     "name": "stderr",
     "output_type": "stream",
     "text": [
      "                                                                                \r"
     ]
    }
   ],
   "source": [
    "test.show(10)"
   ]
  },
  {
   "cell_type": "markdown",
   "source": [
    "# Pipeline à 7 étapes \n",
    "series de transformer et estimator afin de former un modèle prédictif.\n",
    "\n",
    "* StringIndexer : Convertit les valeurs de chaîne en index pour les caractéristiques catégorielles\n",
    "* VectorAssembler : Combine des caractéristiques catégorielles en un seul vecteur\n",
    "* VectorIndexer : Crée des index pour un vecteur de caractéristiques catégorielles\n",
    "* VectorAssembler : Crée un vecteur d'entités numériques continues\n",
    "* MinMaxScaler : Normalise les caractéristiques numériques continues\n",
    "* VectorAssembler : Crée un vecteur de caractéristiques catégorielles et continues\n",
    "* LogisticRegression : Entraîne un modèle de régréssion \n",
    "* DecisionTreeClassifier : Entraîne un modèle de classification. (ici pas utilisé)"
   ],
   "metadata": {
    "id": "j2wQ4DQ7mUzy"
   },
   "id": "j2wQ4DQ7mUzy"
  },
  {
   "cell_type": "code",
   "execution_count": null,
   "id": "70d2a85f-94ee-4d9b-aedf-e6eb6ab72017",
   "metadata": {
    "id": "70d2a85f-94ee-4d9b-aedf-e6eb6ab72017"
   },
   "outputs": [],
   "source": [
    "strIdx = StringIndexer(inputCol = \"Carrier\", outputCol = \"CarrierIdx\")\n",
    "catVect = VectorAssembler(inputCols = [\"CarrierIdx\", \"DayofMonth\", \"DayOfWeek\", \"OriginAirportID\", \"DestAirportID\"], outputCol=\"catFeatures\")\n",
    "catIdx = VectorIndexer(inputCol = catVect.getOutputCol(), outputCol = \"idxCatFeatures\")\n",
    "numVect = VectorAssembler(inputCols = [\"DepDelay\"], outputCol=\"numFeatures\")\n",
    "minMax = MinMaxScaler(inputCol = numVect.getOutputCol(), outputCol=\"normFeatures\")\n",
    "featVect = VectorAssembler(inputCols=[\"idxCatFeatures\", \"normFeatures\"], outputCol=\"features\")\n",
    "lr = LogisticRegression(labelCol=\"label\",featuresCol=\"features\",maxIter=10,regParam=0.3)\n",
    "#dt = DecisionTreeClassifier(labelCol=\"label\", featuresCol=\"features\")\n",
    "pipeline = Pipeline(stages=[strIdx, catVect, catIdx, numVect, minMax, featVect, lr])"
   ]
  },
  {
   "cell_type": "markdown",
   "source": [
    "Execution du pipeline sur les données \"train\" (70%)"
   ],
   "metadata": {
    "id": "YHUqe3-6nurB"
   },
   "id": "YHUqe3-6nurB"
  },
  {
   "cell_type": "code",
   "execution_count": null,
   "id": "8892af3d-45f0-4976-8dc7-d8a9b19f7570",
   "metadata": {
    "id": "8892af3d-45f0-4976-8dc7-d8a9b19f7570",
    "outputId": "8ee27ce7-98e8-412a-9506-d81a50c6bd40"
   },
   "outputs": [
    {
     "name": "stderr",
     "output_type": "stream",
     "text": [
      "23/02/21 15:31:37 WARN org.apache.spark.scheduler.TaskSetManager: Stage 10 contains a task of very large size (29432 KiB). The maximum recommended task size is 1000 KiB.\n",
      "23/02/21 15:31:43 WARN org.apache.spark.scheduler.TaskSetManager: Stage 13 contains a task of very large size (29432 KiB). The maximum recommended task size is 1000 KiB.\n",
      "23/02/21 15:31:47 WARN org.apache.spark.scheduler.TaskSetManager: Stage 14 contains a task of very large size (29432 KiB). The maximum recommended task size is 1000 KiB.\n",
      "23/02/21 15:31:52 WARN org.apache.spark.scheduler.TaskSetManager: Stage 17 contains a task of very large size (29432 KiB). The maximum recommended task size is 1000 KiB.\n",
      "23/02/21 15:31:59 WARN org.apache.spark.scheduler.TaskSetManager: Stage 18 contains a task of very large size (29432 KiB). The maximum recommended task size is 1000 KiB.\n",
      "23/02/21 15:32:07 WARN com.github.fommil.netlib.BLAS: Failed to load implementation from: com.github.fommil.netlib.NativeSystemBLAS\n",
      "23/02/21 15:32:07 WARN com.github.fommil.netlib.BLAS: Failed to load implementation from: com.github.fommil.netlib.NativeRefBLAS\n",
      "23/02/21 15:32:07 WARN org.apache.spark.scheduler.TaskSetManager: Stage 19 contains a task of very large size (29432 KiB). The maximum recommended task size is 1000 KiB.\n",
      "23/02/21 15:32:08 WARN org.apache.spark.scheduler.TaskSetManager: Stage 20 contains a task of very large size (29432 KiB). The maximum recommended task size is 1000 KiB.\n",
      "23/02/21 15:32:08 WARN org.apache.spark.scheduler.TaskSetManager: Stage 21 contains a task of very large size (29432 KiB). The maximum recommended task size is 1000 KiB.\n",
      "23/02/21 15:32:09 WARN org.apache.spark.scheduler.TaskSetManager: Stage 22 contains a task of very large size (29432 KiB). The maximum recommended task size is 1000 KiB.\n",
      "23/02/21 15:32:09 WARN org.apache.spark.scheduler.TaskSetManager: Stage 23 contains a task of very large size (29432 KiB). The maximum recommended task size is 1000 KiB.\n",
      "23/02/21 15:32:10 WARN org.apache.spark.scheduler.TaskSetManager: Stage 24 contains a task of very large size (29432 KiB). The maximum recommended task size is 1000 KiB.\n",
      "23/02/21 15:32:10 WARN org.apache.spark.scheduler.TaskSetManager: Stage 25 contains a task of very large size (29432 KiB). The maximum recommended task size is 1000 KiB.\n",
      "23/02/21 15:32:11 WARN org.apache.spark.scheduler.TaskSetManager: Stage 26 contains a task of very large size (29432 KiB). The maximum recommended task size is 1000 KiB.\n",
      "23/02/21 15:32:11 WARN org.apache.spark.scheduler.TaskSetManager: Stage 27 contains a task of very large size (29432 KiB). The maximum recommended task size is 1000 KiB.\n",
      "23/02/21 15:32:12 WARN org.apache.spark.scheduler.TaskSetManager: Stage 28 contains a task of very large size (29432 KiB). The maximum recommended task size is 1000 KiB.\n",
      "23/02/21 15:32:12 WARN org.apache.spark.scheduler.TaskSetManager: Stage 29 contains a task of very large size (29432 KiB). The maximum recommended task size is 1000 KiB.\n"
     ]
    }
   ],
   "source": [
    "piplineModel = pipeline.fit(train)"
   ]
  },
  {
   "cell_type": "markdown",
   "source": [
    "Génération des labels sur la base de test"
   ],
   "metadata": {
    "id": "4QUNpMXwpzYT"
   },
   "id": "4QUNpMXwpzYT"
  },
  {
   "cell_type": "code",
   "execution_count": null,
   "id": "c40cb09a-e4ec-4054-882a-c6c197590044",
   "metadata": {
    "id": "c40cb09a-e4ec-4054-882a-c6c197590044",
    "outputId": "213cb912-b5aa-4186-df52-78ae0bb6df39"
   },
   "outputs": [
    {
     "name": "stderr",
     "output_type": "stream",
     "text": [
      "23/02/21 15:32:14 WARN org.apache.spark.scheduler.TaskSetManager: Stage 30 contains a task of very large size (29432 KiB). The maximum recommended task size is 1000 KiB.\n",
      "[Stage 30:>                                                         (0 + 1) / 1]\r"
     ]
    },
    {
     "name": "stdout",
     "output_type": "stream",
     "text": [
      "+---------------------------------------------------+----------+---------+\n",
      "|features                                           |prediction|trueLabel|\n",
      "+---------------------------------------------------+----------+---------+\n",
      "|[10.0,1.0,0.0,10397.0,12264.0,0.043523859465128475]|0.0       |0        |\n",
      "|[10.0,1.0,0.0,10397.0,13851.0,0.032511798636601995]|0.0       |0        |\n",
      "|[10.0,1.0,0.0,10423.0,11433.0,0.03880440482433141] |0.0       |1        |\n",
      "|[10.0,1.0,0.0,10423.0,13487.0,0.02779234399580493] |0.0       |0        |\n",
      "|[10.0,1.0,0.0,10423.0,13487.0,0.030414263240692185]|0.0       |0        |\n",
      "|[10.0,1.0,0.0,10423.0,14869.0,0.026219192448872573]|0.0       |0        |\n",
      "|[10.0,1.0,0.0,10529.0,11193.0,0.028841111693759833]|0.0       |0        |\n",
      "|[10.0,1.0,0.0,10529.0,11193.0,0.028841111693759833]|0.0       |0        |\n",
      "|[10.0,1.0,0.0,10529.0,13487.0,0.029365495542737284]|0.0       |1        |\n",
      "|[10.0,1.0,0.0,10529.0,14492.0,0.04195070791819612] |0.0       |1        |\n",
      "|[10.0,1.0,0.0,10693.0,12478.0,0.1232302045097011]  |1.0       |1        |\n",
      "|[10.0,1.0,0.0,10693.0,13487.0,0.029365495542737284]|0.0       |0        |\n",
      "|[10.0,1.0,0.0,10721.0,11193.0,0.028841111693759833]|0.0       |1        |\n",
      "|[10.0,1.0,0.0,10721.0,12478.0,0.0356581017304667]  |0.0       |1        |\n",
      "|[10.0,1.0,0.0,10721.0,12478.0,0.0508652333508128]  |0.0       |1        |\n",
      "|[10.0,1.0,0.0,10792.0,12478.0,0.0540115364446775]  |0.0       |1        |\n",
      "|[10.0,1.0,0.0,10821.0,11193.0,0.026219192448872573]|0.0       |0        |\n",
      "|[10.0,1.0,0.0,10821.0,11193.0,0.030414263240692185]|0.0       |0        |\n",
      "|[10.0,1.0,0.0,10821.0,12478.0,0.028316727844782383]|0.0       |1        |\n",
      "|[10.0,1.0,0.0,10821.0,13487.0,0.03093864708966964] |0.0       |0        |\n",
      "|[10.0,1.0,0.0,10821.0,13487.0,0.06659674882013635] |0.0       |1        |\n",
      "|[10.0,1.0,0.0,10821.0,14492.0,0.028841111693759833]|0.0       |0        |\n",
      "|[10.0,1.0,0.0,10821.0,14492.0,0.06974305191400106] |0.0       |1        |\n",
      "|[10.0,1.0,0.0,11042.0,11433.0,0.027267960146827478]|0.0       |0        |\n",
      "|[10.0,1.0,0.0,11042.0,12478.0,0.028841111693759833]|0.0       |0        |\n",
      "|[10.0,1.0,0.0,11042.0,13487.0,0.026743576297850027]|0.0       |0        |\n",
      "|[10.0,1.0,0.0,11042.0,13487.0,0.029889879391714735]|0.0       |0        |\n",
      "|[10.0,1.0,0.0,11057.0,11193.0,0.0854745673833246]  |0.0       |1        |\n",
      "|[10.0,1.0,0.0,11057.0,12478.0,0.04771893025694809] |0.0       |1        |\n",
      "|[10.0,1.0,0.0,11057.0,12478.0,0.08599895123230204] |0.0       |1        |\n",
      "|[10.0,1.0,0.0,11057.0,13244.0,0.029889879391714735]|0.0       |0        |\n",
      "|[10.0,1.0,0.0,11066.0,12478.0,0.08180388044048244] |0.0       |1        |\n",
      "|[10.0,1.0,0.0,11066.0,13487.0,0.029365495542737284]|0.0       |0        |\n",
      "|[10.0,1.0,0.0,11193.0,10529.0,0.030414263240692185]|0.0       |0        |\n",
      "|[10.0,1.0,0.0,11193.0,10529.0,0.03985317252228632] |0.0       |1        |\n",
      "|[10.0,1.0,0.0,11193.0,10529.0,0.0702674357629785]  |0.0       |1        |\n",
      "|[10.0,1.0,0.0,11193.0,10721.0,0.03828002097535396] |0.0       |0        |\n",
      "|[10.0,1.0,0.0,11193.0,11057.0,0.02779234399580493] |0.0       |0        |\n",
      "|[10.0,1.0,0.0,11193.0,11278.0,0.029889879391714735]|0.0       |0        |\n",
      "|[10.0,1.0,0.0,11193.0,11278.0,0.029889879391714735]|0.0       |1        |\n",
      "|[10.0,1.0,0.0,11193.0,11433.0,0.029365495542737284]|0.0       |0        |\n",
      "|[10.0,1.0,0.0,11193.0,11433.0,0.030414263240692185]|0.0       |0        |\n",
      "|[10.0,1.0,0.0,11193.0,11433.0,0.03618248557944415] |0.0       |0        |\n",
      "|[10.0,1.0,0.0,11193.0,11618.0,0.028841111693759833]|0.0       |0        |\n",
      "|[10.0,1.0,0.0,11193.0,12451.0,0.11116937598321971] |1.0       |1        |\n",
      "|[10.0,1.0,0.0,11193.0,13198.0,0.027267960146827478]|0.0       |0        |\n",
      "|[10.0,1.0,0.0,11193.0,13342.0,0.029889879391714735]|0.0       |0        |\n",
      "|[10.0,1.0,0.0,11193.0,13342.0,0.060304142632406924]|0.0       |1        |\n",
      "|[10.0,1.0,0.0,11193.0,13487.0,0.02779234399580493] |0.0       |0        |\n",
      "|[10.0,1.0,0.0,11193.0,13487.0,0.02779234399580493] |0.0       |0        |\n",
      "|[10.0,1.0,0.0,11193.0,13487.0,0.028841111693759833]|0.0       |0        |\n",
      "|[10.0,1.0,0.0,11193.0,13487.0,0.029365495542737284]|0.0       |0        |\n",
      "|[10.0,1.0,0.0,11193.0,13487.0,0.030414263240692185]|0.0       |0        |\n",
      "|[10.0,1.0,0.0,11193.0,13487.0,0.13476664918720505] |1.0       |1        |\n",
      "|[10.0,1.0,0.0,11193.0,13930.0,0.028316727844782383]|0.0       |0        |\n",
      "|[10.0,1.0,0.0,11193.0,13930.0,0.028841111693759833]|0.0       |0        |\n",
      "|[10.0,1.0,0.0,11193.0,13930.0,0.029365495542737284]|0.0       |0        |\n",
      "|[10.0,1.0,0.0,11193.0,13930.0,0.046670162558993186]|0.0       |1        |\n",
      "|[10.0,1.0,0.0,11193.0,13930.0,0.04771893025694809] |0.0       |1        |\n",
      "|[10.0,1.0,0.0,11193.0,13930.0,0.0713162034609334]  |0.0       |1        |\n",
      "|[10.0,1.0,0.0,11193.0,14100.0,0.02779234399580493] |0.0       |0        |\n",
      "|[10.0,1.0,0.0,11193.0,15016.0,0.030414263240692185]|0.0       |0        |\n",
      "|[10.0,1.0,0.0,11278.0,11193.0,0.05506030414263241] |0.0       |1        |\n",
      "|[10.0,1.0,0.0,11278.0,12478.0,0.028841111693759833]|0.0       |1        |\n",
      "|[10.0,1.0,0.0,11278.0,12478.0,0.03985317252228632] |0.0       |0        |\n",
      "|[10.0,1.0,0.0,11278.0,13244.0,0.029889879391714735]|0.0       |0        |\n",
      "|[10.0,1.0,0.0,11298.0,11193.0,0.028316727844782383]|0.0       |0        |\n",
      "|[10.0,1.0,0.0,11298.0,11193.0,0.046670162558993186]|0.0       |0        |\n",
      "|[10.0,1.0,0.0,11298.0,11433.0,0.029889879391714735]|0.0       |0        |\n",
      "|[10.0,1.0,0.0,11298.0,13487.0,0.028841111693759833]|0.0       |0        |\n",
      "|[10.0,1.0,0.0,11298.0,14869.0,0.03303618248557944] |0.0       |0        |\n",
      "|[10.0,1.0,0.0,11433.0,10423.0,0.028316727844782383]|0.0       |0        |\n",
      "|[10.0,1.0,0.0,11433.0,10423.0,0.029889879391714735]|0.0       |0        |\n",
      "|[10.0,1.0,0.0,11433.0,10423.0,0.030414263240692185]|0.0       |0        |\n",
      "|[10.0,1.0,0.0,11433.0,10423.0,0.030414263240692185]|0.0       |0        |\n",
      "|[10.0,1.0,0.0,11433.0,10529.0,0.0346093340325118]  |0.0       |0        |\n",
      "|[10.0,1.0,0.0,11433.0,10693.0,0.03198741478762454] |0.0       |1        |\n",
      "|[10.0,1.0,0.0,11433.0,10693.0,0.03670686942842161] |0.0       |0        |\n",
      "|[10.0,1.0,0.0,11433.0,10792.0,0.029889879391714735]|0.0       |0        |\n",
      "|[10.0,1.0,0.0,11433.0,10792.0,0.029889879391714735]|0.0       |0        |\n",
      "|[10.0,1.0,0.0,11433.0,11042.0,0.03828002097535396] |0.0       |1        |\n",
      "|[10.0,1.0,0.0,11433.0,11066.0,0.028841111693759833]|0.0       |0        |\n",
      "|[10.0,1.0,0.0,11433.0,11193.0,0.029889879391714735]|0.0       |0        |\n",
      "|[10.0,1.0,0.0,11433.0,11193.0,0.07551127425275302] |0.0       |1        |\n",
      "|[10.0,1.0,0.0,11433.0,12264.0,0.04299947561615102] |0.0       |1        |\n",
      "|[10.0,1.0,0.0,11433.0,12339.0,0.030414263240692185]|0.0       |0        |\n",
      "|[10.0,1.0,0.0,11433.0,12339.0,0.03775563712637651] |0.0       |1        |\n",
      "|[10.0,1.0,0.0,11433.0,12339.0,0.04090194022024122] |0.0       |0        |\n",
      "|[10.0,1.0,0.0,11433.0,12478.0,0.031463030938647094]|0.0       |0        |\n",
      "|[10.0,1.0,0.0,11433.0,12478.0,0.12952281069743052] |1.0       |1        |\n",
      "|[10.0,1.0,0.0,11433.0,13232.0,0.027267960146827478]|0.0       |0        |\n",
      "|[10.0,1.0,0.0,11433.0,13232.0,0.03093864708966964] |0.0       |0        |\n",
      "|[10.0,1.0,0.0,11433.0,13232.0,0.031463030938647094]|0.0       |0        |\n",
      "|[10.0,1.0,0.0,11433.0,13871.0,0.033560566334556896]|0.0       |0        |\n",
      "|[10.0,1.0,0.0,11433.0,14100.0,0.029365495542737284]|0.0       |0        |\n",
      "|[10.0,1.0,0.0,11433.0,14100.0,0.029889879391714735]|0.0       |0        |\n",
      "|[10.0,1.0,0.0,11433.0,14122.0,0.028316727844782383]|0.0       |0        |\n",
      "|[10.0,1.0,0.0,11433.0,14122.0,0.03828002097535396] |0.0       |1        |\n",
      "|[10.0,1.0,0.0,11433.0,14307.0,0.028841111693759833]|0.0       |0        |\n",
      "|[10.0,1.0,0.0,11433.0,14307.0,0.07813319349764028] |0.0       |1        |\n",
      "+---------------------------------------------------+----------+---------+\n",
      "only showing top 100 rows\n",
      "\n"
     ]
    },
    {
     "name": "stderr",
     "output_type": "stream",
     "text": [
      "                                                                                \r"
     ]
    }
   ],
   "source": [
    "prediction = piplineModel.transform(test)\n",
    "predicted = prediction.select(\"features\", \"prediction\", \"trueLabel\")\n",
    "predicted.show(100, truncate=False)"
   ]
  },
  {
   "cell_type": "markdown",
   "source": [
    "Calcule de la matrice de confusion et la zone sous ROC (Receiver Operating Characteristic) pour évaluer le modèle."
   ],
   "metadata": {
    "id": "v9WfjxIkqYFv"
   },
   "id": "v9WfjxIkqYFv"
  },
  {
   "cell_type": "markdown",
   "source": [
    "![image.png](data:image/png;base64,iVBORw0KGgoAAAANSUhEUgAAA1IAAALwCAYAAACdhURWAAAgAElEQVR4nOzdb3McR3Ym+qeyEoViqdVqQRBFwRyOhtZoxrNa2TMTO3vX3hv2vTHhL+Av6vALh185vN67Mbve8NieHWv0h+JIFAVBEAg1m81isVCddV9kneys6gYIAt1AVdfzi4BAkSAJdldl5cmTeU5w586d8osvvsDMGIRKgYgIAIqigDEGANznJlWNGaHWCACoQAHB1Xx/xhj34f/cMkopKKUQKMVx7qqV9tOsNJgVBYDl75NSCsYYd01FW9GVXUttdp77EECvXjd5HfzX5jTyumit3Y/bbmbOvldEF/9tRJtGX/c3sNHK6/4GiF6OKReDkmawUvt6mfhWD32lFHS4/mHFlAaFN9F40WRq/hsNAq1twEdXYlZdU7OicO/ZMv71ppTCrDQI0d/3Se5FY8yZrxtg77uiKNzrFpTY2Gv8Ive+vD7RVrTub28lXnSvAPX33H8NNvV9J1qpFS42MZBaoTzP3QpZmqa1/yfqmuYqeDNjsMxVroo2M1HNCYXP/764cnt5/mv4otfe/zr/84v+bL5PlgQL/v13WkbP/7zpThuffF19Tc57rwitOZUjehF/PBgOh0iSBKHWl96lwrtvVUq7zSDLMmRZhuPjY+R5jjRNX7iyRNQmCyuc55gkX5eX+d5eNBGlq8P34Hwu+jrx9d2M1+Blx6xN+DcTrVMURW4rbBTZDHUYXS5TzUBqhdI0xXg8RpqmODg4QJqmtdVErhpRly3LAPm6tupLF+Nvp2Kmj9rktPOSfPYSUVEUmE6nAOzzajAYALj8uVKOLisyKw3G4zH29/dxfHyMe/fu4cmTJ3jllVegtYbW2kW/XDGirmoWeJAiDm2ZRJ/3++A9eHF5ni8sDl30/T/r9/E9Oh1ftzoZg+Q8mf/Zf/Z22WnveR/fb6KXpZRCnuf49NNPkaYpoijC7u4uhsMh4ji+1NlCBlIrZIxBnuduonFycgKlFOI4doO5n3pvpu35mZ/b/Nnft5/nOYB5tSg/mLru7/O8rvv77Npnee+VsofcZYFIXkt5/1/mteV7tJ5r/Lq/v+t4PeTHEkDJOBVFEeI47vxrxPebn/n5Yp/lx4BdCHz69GltrLgsBlIrppTddzkajRDHMe7cuYOdnR1EUYQkSdzXreLNI7pq/gQFgJtMyyDVBquYmNDppIiOUqr23l/kGuB7dDF83eaW/duLonALmlrrpYFUl/D9Jroc2db39ddf185JAVWB7RIX3t7HQGrFZHAbDocYDAa4c+cO9vb2FgIpgKtI/Nytz/41LoGUv2VGa92q7/Ms1/09dvUzcL5AahXv1XX/W9v+ma/b8tfBv07zPHeBlFLq2r/XVb/XfXy/+ZmfX/azLKqMx2P85je/QZZlK93uG7Ah72rMjMFn9+7h4cOHSNMUk8kExhi8//77LpCSg21EXWTM/HyUDEzNlR3FMWSjGWPcar9MTAHwGqBWMcYgyzIXSMn12bbsORGtX1H1ZZtMJvjrv/5rfPHFF/izP/sz/OQnP8FoNMLrOzsIA8WMVBv5EwsZxIm6amYMTJWJklVS/xrn9d0PfjsHOSvlv/+cqNJ1k5VouSYlgxpFkW0YvsJmnETUDTIehGG40j+XTzwiemkyWa5tOymv6ZuhKyULQ36G0v3aJSofEa2KCpZXEjXGwJQ8U0REq8On3hq9aG8zUdcsDaAEV3l746xgiqgNpFKu1hpZli2URSei/jHGYDabrXQMYCBFROfSjJMWBiJmpHrBD6YZRFGb+VkpXq9EtI6zvAykiOil8AwM+T2kAG+Sym1T1AaBvUa3qt6Nco5PKk4ymCLqJ7n3mZEioisnCafTBiBTGmalemDZ9k5umaK2UYFCGMwLTkiwz+uUqL+YkSKiaxMAtZLXPk5M+iOoroHTrgWiVgjg9iNLRmrhXB8Xfoh6hRkpImodBlH9EgAIl/Tj4fkTaiN/a59ko7gVlaifmJEiomsVnDL4MDNBRG0kGdRmM15jDBNSRD3DjBQRXTt/RWcdgxK1m1L27ImP26WorcJAIY7j2lmpoihQFAVmXnNpItp8zEgR0bVj8ETA4nk5NmemVqrOSbEUOhGtY/6iX/wlRES2CpYpzVpWdKi7JDPJ64HaSlUZ1GZWSik1D/rZUJxo4zEjRUSt4a/scGW3Z85Y5fd/nagVgnrlPgBuex8LThD1B89IEVErNFdzmI3on2YJdPeAYj8xaikpOgHU+0oVs4LXLFEPMCNFRK3ADBQB9ea88lECXOWn1lGBwnYcI45jAPNrNs9z5Hl+zd8dEV0FZqSIqDWYhSKA1wF1R4B6Q2mgkUkloo3GjBQRXSs5tO0PQlJswGUiuEWmF/xtUv6kdFYUvASofYJ56f4oihBFkWvS685LsXw/0UZjRoqIrs1pK7YLAxILDfRC4K3sNQuOlNz6SW3VKJTCYjlE/cGMFPVHifrqIFcJr50KOFzQXIDFSmiANzHlPUstpbV2GSm/6ESe57bwBBFtJPaRWpcSXEVvmVk537euGO+3gikNgymqCZYEUURtp7W2W5G9IilFYQMonvkj2lzryEh1KpDKsgzGGGRZhslk4vY0G2MwGAwwGAwQRRGSG8mpgZGc5XgymSDLMuR5jslkAqUUkiSB1hrD4RBJkgCYN/B7WUopmCDgoHxBs8JbFVQKYbW3na7PsiCKE+f+kgbN7v+roIrXBHWBTBH8cujuMxdXiTZS7zNSaZoiTVMcHx/j/v37SNMUgH1B9vb2cPv2bQyHQ2zH8fJJdwkXfB0eHuL4+BjHx8d48OABtNbYe3sP8Y0Y7777rpsU6FBfakBVSgFhaD/oXGbGoChL5CcniLa2gNnM/VrIwPTaSEaquZVrASchvSHXg/DPm7hsMq8Fahm5ZrXW0FrXr1tjeO0SbajeZ6QAuL4PWZa5j6IoMBgMkKYpoiiyB52XvEiz0tSyUMfHx5hMJkjTFFprHH93jMHJAOPx2O2hPjUoO8f3aao911vpM5TpM6DkqPwiJ9XBiix/jvBZhuxGbCsrKYUbKkTIJ9t6aTW/d7Yi+1kOZy+5D5YORnyLekMyUs1gipl46gqttavaB8wXA0oF7oIg2jC9z0g1q+sYYzCZTPD06VPEcey24+3t7S3+5hJ4nmXY39/HZDLB/fv3cXh4CGCe2j86OsLR0RGMMTg6OsJwOEQcx7iRJAhw/gi2KArg6TMgTaG/+hpb3z1FPnwF+Ob4ci9AD2wBQDnD8HmO6VaI4ckM060QyckMelsm9szurc2rCXAjBra2gNdeBbS2gZVavjq7UKmNE+j+CGxwXaJeCr0oCgZS1AlyzWqtMZ1OXUCVZRm01gi3Yy4MEW0QZqQq/uFQV2nH6wOxNNKsBkPJZslnpWxPCcl0AfYsVvYsQxzbbEiAF1cs88fa105mmFTbDgFAP5kCAIobs/mZK8OSVgtU4FYF82cZomdADrjPgq/hmqgAmBnAGLud8pSXN/AGoOZgxDkHyf3Ju5PaTgUKodYw+fwJU5s/cEAj2ii9z0glSeIOM6dpitFo5M5rxHEM4JQXp7Tb+vI8R5qmmEwmAIA4jjEajXD79m1kWYaDgwO3VXD8eAy9pV2wtRVFCIN5qVQJxCSQy7IMDx8+xP7+Psyj7zA7OMTRv38I/S+/wz0Ab+28gWTGqcWLyAUZzGYonz9HsL3tfi3kObP10iHw9lvAzggYDoGffQC8NgCSKktFtERzrlkUha2KZgwQMjNFLRYAIRRmVUZV5hP+Nj8V8KwU0abofUYquZEguZG4AS9NU+R5DmOMyx4tMysNZlXGajqduip9g8EAt27dwvvvv480TaGUwvHxMfI8x3Q6xWAwQJZlrt9EWGWuJPV/dHSEPM8xHo+Rpin29/dxdHSE5198iXf+v/+NPQD6v/0T3j2piiWE27bohFc8gRqq10eCJpOnUFHC12zdwhDYCoB33wP+4C3g7beBvZsAbgKhZiBF51bbfs2S+dR2ARBWRSdkVwswL0wFBRaeINoQvc9INauG+dXDLhJdyu+JoghZltV+3u8rURQFoiiqfy+NrYX+x0kcYf97b2Pvy6/x5fs/Bn77Ee689QeIA47E55WVNnsXl0AW2M8A7PYzWh1TAmYGZM+BkxlQVj9+lgLPT+Zb/YjO0Cx9Lpn7gGelqAPkDLRfeEKuZ17DRJuj9xmpZf9wv6Hei/jBjytvXq1ERVHkfiz9qpb9+f6fkaYpsixz1f/G4zEeP36MYWb3W+9/7238dOctvPGf/y88BRAPhsysnJM+OQEAFLAXqXSV0ltb1/UtbSZjgMkT4ONPgEffAbMSOHoEbCfAs2c2qPJ7enmaE2fqL9klIDsExKwoEG5FXM2nVlNKYTuOUZp5ZV95zhdFceHqvUTULr3PSDX5gdXS6LLqZ1OeEWid9WJKANX8s5tBWHIjwezkBNM4RhRFODEG+P5t+7Wvv4Vw+Bpe3doCXh2wQMI5PFcBtrMc4/QpXt3awpOTE9zYeR3bxYxV4VZFBUBRBfXHj4Gv9oHpU/v/JzNgls+LTohGfyi5d+T+YNnrfjpt6x6vB+qSMFAw1eXqn5XiNUy0OXqfkVpGApqzXpSgsRXQb8AnhSP8FSj5c/0/22/gF1ZVqW7fvu2aAfvFJvI8h35iJ6WTH/4Qt968iScARqOR3SpFZ9ouDYrnOXCS4wmAZDBAOp0iGAwAABEAcHXw8qoeQDj4Fvj2W/vjpxnw5DEQRmcGrc2+Qc2fo35Z9nBiIEWdEtizUM0mvcaYeWa1+joi6iZmpDx+/wffaQ9uPxACsLBdz/84K2KV1dfkRoLtqlJgWQVjfg+KtOppFe3dQnH7tv17kwEABlIvUhiDqbedLDUGWikoea85OVsNGUi2I+DNN4HDY7uNb/Jy1RE5WaZAKfhXQW1sZcEJ6govSGpmpHgdE3Vf7zNSaZqiKAocHx/jwYMHmE6n+Oijj/D111/jtddew2g0wng8RhzHiOPYnXXSXkWeKIqwu7uLg4MDTKdT9+fIn5vnOXZ2drC7u4vRaIQkSRDH8Txgk4G2rLYClLYJaTNzBQBFVTDBBWcKQNCpl/xaaGWgvewggHrwFPI1XI1isZDEOY7wNRdk/Ukzg6oeCoDAduUFcPY2a6K201ojjuNab0r5LHMJIuqmfmekSrg+UBJIHR8f4/e//z2++uorvP766xgOh5hOpxiNRoiiCJPJBEVRIEkSJEniikrEcYz9/X1MJhM8evQIH3/8sWvMu7W1hZs3b2I0GmE4HCKuzj0tdJesJgVuhcoLpNwh/Gpi6SYWHIDPpzzlzIWyzRPBvh4rogGTv/jLROM1l+vcnziX8h++P70i46B/TciDyg2dvC6oA6RvpL9rxS9QRUTd1fuMlNBaI0kSFEWBnZ0dALZZ76uvvorhcIgoihBFEQaDQS2Qksa9SincfPOmK10ufaUkk7W7u4udnR0MBoNLv9isZnYJStUyJnyItcdpFfvYhLW/TLlYfASYXxPcGkVd4p+nBvgsJ9oE/c5IBfOBLUkS3Lx5E8PhEKPRCGmauvLlcRy7YGo0GtVKm0dR5DJTSZLgzvfvIE1THB0dQWvtMlDyZyulEF3wgKk/0aQLYhGD1uMkgwDY8TmYF+gBFq8JBlHUBfK8mXk7TJpb+xR3RRB1Uu8zUvKQjuMYg8GgdhZKzihJJsoNeF6Zcj+oGkgFuCqFLz8nwVYURfaFvuBgyYnl6vhbhUIGVa3jX+tsXtlvp/X6Q8jD+tQt/jb9ZmEqKC4MEHVRvzNSwEJmyT8M6p9PckEQ5oOh/DiKIqhAuWCpKApblrz682WLn8tE0bXw3zf/QVYaA8OHWGtxax8J/0HFIIq6RuYCAFxBKmmXIvMQIuqW3mekJLgxkUEcx0sjSqXUwqq4JJX8dHwURdiqBsJZVR1O+kMx69EeEkSxUlL71AqrgFX7iGhzqMAWN5p5vSWlgh/HOaJu6n1GqlkpTwYzvxjUqauezYpj3tcF1SSdK6bt0zy4Tu3gnxsg8jWbmRpjUIJZKeqeAHBHBJZt8eNZKaJu6X1GynfpF8FvvMeHeyv5Dy+uALYPg1xqkjOpzSC7NIbn56hbqgIqKOeLA36TXmMMSgWEYDBF1BXryEjxyUZERCvBYIk20bJS6MYYe2a35EISUVesIyPFpx4REa1Ms3GpXxSIqHMCYLuqEOxvW82yDFmWzRtOE1HrMSNFRESttWyHE7flUteFVeGJ5nZmY4wrRkFE7ceMFBG1EhvzEjCvdOY/pGrXRglwCZ+6KAxUrRdlnucuOzXzClEQUXsxI0W9wVXs9mv2aBM8M9Bvy7JSnGRSpwX2Q3pRAnCl0IuiwIxbV4k6gRkp6g0+lFqoyiT4VS6Xre6wCma/qUDVguzmvcxAm7pKrmvd2OYnARURtRv7SFFvsLR2dzB7SI7fVsJr2Jznub1OAkBx/Y46SmsNHWpkyNzPSSEVyVQRUXsxI0VErbDsDAyRT+v6Op07I0XUZdViQTMrJWeleI0TtRfPSFGvud4d1/2N9NWSwy/+6g4DKhJhFUT5TbUBu62PW/uo66TohGSh8jxHnuc4yXPkJzmDKaKWYkaKeuW0C51N5NvFD6IMG1TSEnJ9qEDxDB11XqBUbesqEXUDz0hRr/AB1Q1ukuwHviUY8facNC+VQ/jGGOQnOUKtETKYog4LA4Wyur79LaxyFjDUGiEUx0CilmFGinqFRQy6RQIq7mqhAPXy+IB3joTVzajrgqrwhPcB2EDKlUNnZp6odXhGinqFGal2Y6BLZzmtIAmLTtAmUUqdumjA65yoXZiRot5oPpgEg6t2CL2KVc3KVUQqUO4ciVQ3q23zKznJpO6TBr1xHNe2skrxiRmzUkStwoxUB3AiuT58bduNGSryyfa+ZjaK9zFtEjkT1cxMGWNQ8lonapV1ZKRYbGLFOJlcgcYBXZl88bVtN75H5ASoVedjg23aVHKdy1kpP/OqtUaglFtUIKLrxYxUB/hvDgfOy2uu8BFRtzTHQekFx+19tBECuMW/5vOKWSmidmFGqk1KOxEoATydTpFlGY6OjnB4eIg8zznpXwH/gaS9Bp90zQIgKOe9VIB6kFsaA6MAxfK/vaeC+TkpmVjK5DLgvUwbJNQacRyjKAqkaQoAKIoCxpha814iuj7sI9UyMilI0xTT6RTj8Rjj8Rh5nrvO59zutBrruPjp4lSgWN6XzmVZMRLDQIo2TKgUwi0bLCmlUBQFiqJwWSoGUkTXjxmplgmUgmn0RFl2mJqT/8vzL37uBiLqjmVb+wAvc8nmvLRBJAPrc+d8A2bpia4Tz0i1TOm9IX7JU0nns0jC6jAj1TLBfNuWfNS2bl3390ftEMwnln4FP1mtJ9oo3vUuO1KyLJvPD05yngskukbMSLWM3ydFeknIHmntlUNlMLU6fB1bxFtZZYBLp1lWAp33MW0yf4HJ39rK657oevGMVJsEQAi7J3o4HCKOY4zHY2RZhizLXMEJVpy7GH/y1ewYH17XN0Wnak6WiURzUinnR7jIRJtIBcplo/wtfpKBDbVGyEI8RNeCGam2qQbCeDuGUgqDwQCDwaC2zYkux59scdLVXs2MA4NdEnIGqrkg4j7LVidOLGlDqEABarHQilLKHgkI+Rwjug48I9Vy7CG1OrJtcllWilqimgCz1xedqdFnB2hU8GP1R9ok1fUuZ0ijKHLXvZwNLGYFx0qia7COjBRnp6sQ2HR98+A9wABgFbhtrL2WXd+y6soJMvn8gBtYXuGUaGMEgNbanZeWQlRSeILXPtHVY0aqQ7hCvzrc0tcN/gDF656WWXYfs4gZbTJ/BbxZ3ZQXP9HV4hmpDuFEcnXk4SMHd0tjAOk9w3MV18cr9euXsmbgS8v4Gak8zwHYa4X9pGhTSRNeP3iSax+oF2IhovVjRop6JTgjq8dtY+3FSQEts2zCyL5j1AenrYLz2ie6WjwjRb1WK+bB1evWqW1ZIVritGCq5DVDG0xrjSRJFgpPZFmGEy9DRUTrxT5S1EvLVhBMaRhMXbfy7FUdrrSSL1iyjWkdDzWitpHqffLjWtVKOSvFbepEa8eMFPVSs4iBMQyiWiFYfh6KWSlaJgwUQr24dsdrhXqhnJ8plcyUq+J3kmPG4hNEa8czUtQb0nqmOUnn+Zt2aVakIjpLGCxmpIqimK/KcyJJmyqYZ6akcJKUQi+KAid5zrO/RGvGjBT10rKtQAALTrTFaaX+ee6FarytS9JbRxj2HaMekJ0UeknfyaIo7DoCFxSI1oZnpIg83N53/QKlgLOaT8uEgPv/CXCr8ssa85bg2UfacMG8JHpRFIiiCMYYZFk2P0eltd2NwfuAaOWYkSLycAX7+sn2y7MGJb5P5Ft2pk5wIZ76YlkPKWMMZl5PPiJaLWakiCpcuW4Hf+K7LMtgFIMoqguqA/f++SgpgR7wnB31hH9OSu6DPM/ZpJdojdaRkWIgRUQXFmAxi8AqbPQip517JOoLHS45J8h2AERrxYwU9RofLt3C94uWWXZczk0ijUG4FfFMHfWKZKfkPiiKAqHWCAPFe4FohZiRot7wt+2t48Kn1VCBAhRq1acYQNFZVFDf2ieKouA9Tv0R2Hthqyo+YYxBmqYoisIGVlnmek4R0WqwjxT1hl+ggNsdusMPqIhO0zwLxbYG1FfNgj3+ghT7qxGtFqv2UW80M1LMSrWbH+w2q7BxDkA1gZ08ho1eOnLgnr10qE9UoBBtRdiKItesV0qiF0WBYlZgVhreD0QrwIwU9YasSje3izHT0T4qWF5hiu8VnUYFyh39aB64D8CsFPVIYD/CYLFanywusCQ60WowI0W9IRkpY8yplY2oBapJgI/ZQ3qhYB6Ay3VS285E1ENRFCGO49o9kec58jy3WSkiuhRmpKg3/IyU+7lGUEXt4Z+L8j+XnBTTaRoBOLPO1GsB3BY/v4qf9JliVoro8piRot5oNttlEYP28wcmBrx0HqpqztvcwluC2/uov5RStfNS8jFjxpboUpiRot5oTqKWFTHgRKtd/G1aBVdP6Ry01gur7zwTQr0VAGEVREVRBKUU8jxHURTI8xwn1Y+J6GKYkaLeaGakACwcxCWi7uN9TVQXeNUs/YytLDSwqiXRxTAj1RHNQ9T08prZJr6WRJsnUGppGfSiKDhPpN4Kq5Lo2rs3/JLos9Kw+ATRBTAj1VKyFcUdDJ0VrD51ScsyUtRuXDygl+XXm/DHTF5H1GtVNdRlZwhlvlFKZoqIzm0dGSm9sj+pb0qbNSkBPEtTZFmG8XiM4+Njt6eZk4FLCJb/NIPTdmoWmvAHK2V/8nq+MWo1FahahU5/C5NSCuFWZL/wlPGAaJOFWiOK7D0g2Sgpie6yVVC8P4jOaR0ZKQZSl1ACOMlzTKdTTCYTHD86xtHREYqigK4GQK6wXp7fU4OvY3uxeTJdxLJ+Uj5TGmaoqZfCQCHcjmFKGzwB895SxhhsVUEWEZ0Pz0i1kL/63tzS579RnFReXHObJF/L9gm8VZ5msMv3i07jn4Vs9oyTX2cQRb3lZZqkwqW/4HCS5yhmBbf4EZ0TM1IttKwJqf9ZMJNyMcsm5nwt260Z9PL9otOoJQE4M5pEnsBmbaWvVJZlyPO8Vhr9RpIg5IID0QsxI9UyZTVJlAOhsp3Pr0AlOCm4nGamr+Tr2TrNyTCveXpZzaCbC+1E1rKsv4yzrvAEbxiiMzEj1SYBoEMNowxGoxGSJMFkMkGe57VDoet40/po2XaxgK9pa7zwrLM84HkompaQxajmgsmsKBBoze191Hth4BVfwfysFGC3/RltEGrNzBTRGVi1r22qlHscx4iiCMPhEMPhEFEUYTKZuECKq/OX47+GLLHdXsveF3nPZqWxD/gSDKZoQeDd180xk4vsRHDjZqg1IsAVnJAqlyJkAQqiU7GPVIuVmKfZm6uqnPxfTrPyIYPS9lGBqm098Rlj5qukDKJoiQCL5yFr25aICMD8XpHjBJLJlfNS3OJHdDpmpDrgtHNRnPxfHoPSdpMY6bRiE6Y07HlCS6nATgz9lXXAO2vHraFEAOoLDn4Q5Wf/AXCLH9ESzEgRgUFp2y0tgS5lrDkRplNIPykhW5b8UuhEZAVeVsrfrfE8yzArWBKdaBlmpKiX/F5dLKfdbqf1kSrBnkB0hirA9otOAPXqj7x2iObCQCG5kWBWzs9IycKD1toWnuAOAKIaZqSIwIxU2zWDXaUUn+X0Upbd48xIEdXJPbGsD9usKOyvMzNF5DAjRb3GbFSLBYCCQqkWq65JRgoAq/bRC0lWyl9dn5WGlw2Rr6oajBKI4xjGGNesV8qiK2WrCmvNqR4RwIwU9dSy7WIMqNrJn+z6K6SsvEbn4Z+Tal4/XFgnWiKwJdH9s1JAvYowEVnryEhxNkqd0Lzo+XDoFjZPpvM67ZwdD9ATLRdgsfiEFGspigIzBlREANaTkWK+lzqDfaS6ofk+KaVQGsNgis5FKYUoitzWvto2URYsIVogY25UNeMtigJZlrmtsSrP3X1F1GfMSFEvLavgRS3k7evj1ku6kGqbUhPvfaLzkYyufNTaCLBZL/UcM1LUO/7DQP6f2kuyBcwe0kWFSiGotij5ZZ1lHHAZKVafIKrRoYYONXKV17K5aZq6ohOBUmzWS73FjBT1Fifm3cIzbbQK/n3PxrxELxDYj2ZGyv9g4R/qM2akqPf8h4MyBmCGqpWUUrUzLgDsAzzk+0UvJtX7pDlvLSPFe57oTDrUriS6KIoC0+kUWmuXnVIBG/ZSvzAjRb3lX/TMbrTbOlZ8qGeCevW+dTz8iDZWUG3za5RFL4rC9Zgqwewu9Q/7SFFvNUsic5LebsvKV3MSTC9j2aF5d3CeE0CiF5LMbhRFtaa8eZ7jeVXVj6hPmJGiXlp6ToIPgNZqBr18r+giZGsfsFi5U4pQENEpqvNS8XaMJEkQRZEbl7MsQ5Zl9j5iFeliuFwAACAASURBVD/qEWakqNe4Zayb+L7RRTQzUgAYRBFdgH/msFkWPT/JMeNiF/XEOhbjWWyCWi1YktnggfPuaGYRjWJDVTofFSiocDGQkiajRHQOVTGJraoZr5RDl0CqKArEcYwwjq/xmyS6GqzaR0Stt6zvF7f30UsLcOq2I9dclBXHiM4lDBTKqgqmf+YQ8O4ngPcUbTRmpKjX/Ak6tZsfQDW3Z3ECTOcWwFUeA+BK6mutMSsNgpJbRonOS4caRhkkSeIq+PmV/KQwBe8p2lQ8I0W9xiCqW5ZV7iO6iGUFZ4joJTSa9UbeVj9ZoCiKgrUnaKOxah+RhxOqdmPvL1oFOSTfPCg/46SP6ELCKsPr31eSnZoVBWZcsKANxTNS1Fv+BMr/OWqZwBYIkXemeUaKE196WRJINUugG2OAokBYrawT0fmESiGMIrf1uigKZFkGoL69L+K9RRuGZ6So15oZDq6YtVAVKQVLAl+iVeG1RXR5/tlDHyvj0qZiRqoj/IP1HIzWo1a4AGDxgrYIgMBLO/mZRN4LdBFKKahAwShTa9Cb5zkiWVUPFMcAopekQ70wLud5jizLEFfl0P3G2ERdxzNSbVUCs+qwZrNhJFdNV4cT8W5Qgar1iuI9QJcWzJuK+uOAMYbbRYkuyis+IWel/P5SUoSCNxltCmak2qQEZqU98JymKdI0xeHhIfb392ulRDmJvLxmz4smU7LJa6uckhngvUCX5Wc45aM0BkaBYwDRBfkZJ79lRZZliKIIodZsNUAbgWekWkayUNPpFJPJBEdHRzg8PHSdwv3UOK0PJ1DttOy6d5NecCsWXUwzkHLNn7m9j+hCXGGJEsi1XQiWjBQAV3yC9xh1HftItYz/hiz7ALgKf1nLxuxmdsqUfI3bzM/M8n6gCwvq5ZqF235ERJfj3WP+fZbnOfI8x6ystvlxqx91FDNSLRN4QZPWGlEUzVduvA8+5C+neS5i4deZkWqtZtlqgM9gurhQayivgWjtg1t8iS4t3o5hIlvMRe6tNE3nz+EoQgA+d6mbmJFqKX8FJ45jRFFUW83h1r71YkaqvZYtIpRcWKAVaBadIKLVkCBp2SImG2FTlzEj1SYBEAYK4VaE0WiEwWCAyWSC4qRA+iytNbfjQ/7iVKBQNuLQ5sDOlbF2WrbFVQ4yM3tAFxEqBTS2TxdFAaWUndyxHQLR5VT3zla1u6YoCuR5jqIqrAXAnQEvUd2TRB3Bqn1tVO0pVkrZweVGDATzffvMRq1e83XlpLy9uJBA67DsYVgaA4QM0olWIQwUgqqaX57ntSIvtXOJLEBBHcKMVIv5qW7/jeIkcj3815WTpvbjfUCrJOdSZVLnJnmKQRTRSgS2umpYnf+WJtgAXHZKFpB1qBlMUSfwjFRHqICr8OvWzEhRe/nvFTO0tCpLe0qB4wHRylRHGKSQFjBfIJZKfm6uw4NT1AHryEhxVrMGfJCvHzNS7besBQCztLQKkpGSHwsWMiFaPaVsZkqqEwPzcb0oCuQnOec91AnMSFGvnXYDcABvr2bWgGgVpPWEBFPAvIEorzOiFQqqQKraxpckSS2YyrIMaZrOs1PMTFGL8YwUERaLTTAj1V4sNkHrEGD5iiIDdqL1Cb0ssL/jwP+A4jOZ2otV+6iXTjvD6lYWWKWrlSSI8gcuVrKkVVCBggoVjDYLRSeUUiyDTrQGUuo8jmM3jqdp6jJTeZ4jiiIkNxL7G3j/UcswI0VU4RmpbvAzUusYwKinTpmg8doiWj8daiDy+gJ6mWDeg9RmzEgRob61j9mo9gqUAqqHqr8VhGhV5LqSxqFAtdWoOjfJsYFoPQKloABEUQSttTujqJRC+qwqjb4dMytFrcKMFPVP1cvCV6vSBQZTXeEPXDyPTKsQeP2kmmXQOX8jWpOqLDqUwo0kwawo3NY+KfgixWB0qN3vIbpurNpHBG4d6Jpazy++d7RCUnRCa127zmas3kd0JQLYIhRK2X5T/nZulkantmEfKSKwqWtXNCurLfT7KcHUFF2KChS2qsmbkMIT7twGrzGitVFKuaa9SZK4DHGe58iyDFmW2W23vA+pBZiRIgKzGl21bCWIK5W0KsvKMRPRFQjmWamFPo/VvTgruahB149npKifguWrCMYYbrvuCH+SW/t5nm2jy6jOagRVfxtp0CuFJ7aiyJ6hhOIZDaI1CgOFcCtyW22L6twUYEukqyxDHMe2AAXA+5GuBTNS1HtcZe6WQJ1eKARgRopWZ9lZvJLjBdHVCOAWPZVXBEa22RbeuUWO+3RdeEaKiDqluejYHMSYkaJVaW4r4vY+oqunAuW2+cVx7ApQADZTnD5Lkef5/Pwit/vRFWIfKeo9mSxxgtR+EiSdNmCx1w+tigrmq+BSglmuO87TiK5QUN/mZ4xBmqa2gl+eI8/zWtaK4z9dJWakqLeaK82s3Nd+3L5BV8kvgy5jhDGG2/uIrkNQ39rdfGZLA18+J+gqMSNFveVPjOT/qd2WDVT++8emqbQyAdyZDD9rLWczAqUQsuAE0ZUKlc1MIUGtJLoxBlmWud5TcWwLUHCBlNaNGSnqLX8VgYNtt5y1AsRtV7QqgbJnM4B6lciiKDCrqvjxgiO6YlVpdN0oj94sRMFbk64CM1LLLLv7XnbVcRV/Bq3VaasIHHzb76xsIm8zWpWwOmshmSkAtbNSgN1uyjMZRFcrDBQQ2uyTkIIT8llrje04XmjkTrRK7CO1zCpmYpzNEa3NWcVBGAjTylTj+GkNQRlEEV2T6t7UVWZKzkdJv7csyxBFEbTWLqtMtA7MSAFACWTPM6SpLaF5fHyM6XQKwD4w4zjG7u4uoijCcDhcbP5WzdwmTybIMvvnHB0dufQyAIxGIyRJgiiKsLOzUzvETNfjrPM21H7LgqmSRUNoDZo9bIB5ZirU2mWuiOhqqUDBlDb7JGXR/f5SeZ5DFcU8MxXwXCOtFjNS1en0LMtweHiI6XSKDz/8EA8ePIAxBrPZDG+++SY++OADDIdDaK3tIUZv2duU9pD7eDzG8fExDg4O8Nvf/hZZluH58+eYzWb48Y9/jN3dXYxGI9uJO455NqdF/Kpc1A1y/8jEFrADWbNhL9FlSSDlT9AAuGsv9LYXEdEVCubtLrbjGNsAnlcL2lIe3S+NDsX2GLRavc9IFbPC7amdTqeYTqdupdE/wJimKQAgTVMkSeIqw6CEe7imaYrJZOK+VlYwt7a2kOc50jSF1tr9uruxz4E3/nrVKr9xMt56gXdvNpXGAFx1pBUKvOeBLLoURVE7n0FE18sf8tWSZ4RbaCuX/AaiC+p9Rmo6nSJNUxwcHOCjjz7CdDqFUgq7u7u1YOrzzz93JTWLosBwOMRoNEJZ/RlZluHBgwe4f/8+lFLY2dmB1toFXYeHh7h37x52dnYQxzGSJME777zjSnQuUzsgGawn6u27Za8lg6hu8B+U8uF0ahSitguVclknv9hEnucA4BbEODYTXR+5/+I4RhRFrjQ6AHdcQ34NABdCaCX6nZEq4W40OduUZRkGg4E7pChd7SeTCYqiwHQ6xWAwQBzHKGFXv2USJ3+W37/APwjp/121G7jaXtjcf18UhfuepE/CwoSRLqwZMMnWPmakuo2TWVqnpWfzwMVtorZQStmzU9rUtuQuzKF449IK9D4jlWUZJhNbJEIOK+7u7rrzUFEUuS1//hbAwWDgDrZLUJQkCYbDoStYoZTCeDx25zjiOMZgMMDOzg4Gg4FbxSxm86Dp6OjIBW6SKTs4OAAwX0lhILU+MkkKORlvNcnWLrsXeH/QujTPSkl2Sje2gxPR9ZMz7dKs16/s52cRWPiLLqPfGSnYzI/cYIB9IZIkcVvzpApMFEUuqySHGI0x0KF2N2IURUiSxAVFPqnYF0URBoMBkiRxgZQ8kLMsw9HRkQugptMpjo6O8OjRI2it8cYbb2AwGCyc4aLV4SS8W5bdA7wvaF3krJTWurZLAODYQdQqVRGKaCtCMZvPmWTu5gdQLI9Ol9H7jJS47AvQfCGbq+XNjtt+pTH5egnYjDEYDAau9PqNGzcQhuHCPnw+uC+nbLw/ghPxbmo26SVaNf/caq0pr79VSL6QiK5fUM86STAln7XWmBUFyurX+Pynl9XrjJQpl585Ut4N1Uz5XuSckkzu/HNUUtHP//ukOIWcy5LP/oFm3uTr0SyjTe2mAj7w6OqpYN5PSsZt2TaktYaJqga9PHtB1BpKKXd2XYpPAHDzKwmoZNcQ0ctgRqrBD3rOEzTNyuWZJtmX20wny9fleb7w58p+XqUUBoOB22aYJIndRlgVruAEcnX895uva3eYsn7v+AOZUpzI0notK0ZjjO0naErDdhVELSPPd1kIac6/JJhiVpleVq8zUipQ7syS7HeXjNFkMnHnompnohrds6UwxHQ6xWQywWQyQZIkuHv3LuLtGINXbVGJe/fu4fDwEMYYHB0dIY5j3Lx5EwAWzlkBcH/2YDBw35+spPjZLLq4wGvC62cHqf0kI9UMgF1gXBoosJcUrZg0/yyxcMZVtgjxvAVRe0VbEcLqXvV7wjULyMRxPF8Q4XOEztD7jJS/jQ/AQmYJmHevN8bUthT52/X8FLFklJIkcf2oHj586H5flmVQgbeVLJhPDP0GvcYYjMdjTCaTeYU/bj9bKdUIphigdkQwP/jvD2LMLNKVCObPDralIOqQAAgD2xfOn8P5QZRSitllOrdeZ6QQwDXMLYoCg8EAAHB4eIj9/f1akCUrFMXMVtc7ODjA8fFxbbudVO3Lsgz37t1zW/OkDLrcpDs7O0iS5MxmvIDNMC/bYsgH9nrwde0uf3GDgRRdBVn48q85WegKtOYEjKjl5P6N43ghI/UsTd38ToeaWSk6Ve8zUhLQSCPeoihw//59fPvtt67Iw2g0wg9/+EN3s2XPMhwfH7vmu7dv37Z9oUK7NW88HuOLL76oZY9GoxG2t7fdj6Xp73k0M2BEdDreI3QVmrsE/DOwoZy14OSLqLX8HUDS0kDmfQBc/0+lFLeK06n6nZECXHPFJElw69Yt1yh3Z2cHSil3TunOnTuI49itUMhWPvnaOI5x862biG/EGI1GrtiETOqGwyHi2P6a/LrmXnqiS1tW8txty+DDj9bM3xruN+gNtyIGU0QdIPevtJ/xt+zKQonLTAG8p6mm9xkpuTl2dnZcRmo8HruGupL2HY1GC2XQ/UOJWmuMRiNXCvf4+HhpIKW1xnA4tA/bsFMvVW8YY6AAgFvEWs1/ljW39pXGLK2sRrQq/ipkcyXSFTzh9j6i1pNqff65R5kDSpGvOI4RxzECpRBygY48vc9IAQCCxUouUnLc7+/kr3z72/YkSyWrGX6mSb5OtvLJWSoiWg1WXaTr1MxIifK030BE7eM17i28in5AvbCYUgpBFNndDtXvo37rfUbKCYAQCmEVUDULQfjBkQoUTGRq7QbcymOIWhlz93uUQqAU77kWCVDPZFC3+CXQgfnDTg4QMyNFV0GeF1LttVb1NYoQMitF1AlKKdt0O9QuoMqyzLWjkUBKnjOh1ry/iRmpmirKkdKYZzlry4b0pyKi9fJLoDf7SRFdBVkcW3pWzxhuESbqkuqGluyUv93Pz1QZY6B4fxOYkSKqYWaqQwIg8PZP8b2j66CC+nYgALVtQLWtC0TUCSpQgLIFKKTAmNzf0jM0iiJ330dbEe/xnmJGighs5rop/IlsyPeSrkLVUD2sVq/9leuiKNy2cBaeIOqQ6r6Ot2OY0i7SSWl0KUAhW/y01jaQYpXOXlpHRopPC+qUZjVG6i7//Sv5XtIVW7YyyaITRB0WzLPOstVPFkdkAdYYg/wkx6zkM6ePmJGi3mPw1G3+HnZmFem6BICrzCpbf6SnFABu/SHqqqqys9YaJQCdZW77rtzrfjscV4SC93svMCNFvceJNxGtCscTog1UlUcPq2qx2tvKC9jWB/LjsuojR/3AjBT1mpxjWNZQk/udu6NZBp3oqsn2Hz8rKuelAFsmPWTvGaJuC2zmWbbs+ucii6JAmqYu0GpuBaTNxKp91HvLgiiuKnfDsgP88t6xjxRdqaC+MnlqjzoGUUSd5uYH1VZeCaJkux8AxHHsqnkykNpszEgReRhEdc+yQNgYAxQFAq1ZLY2ujJRM9lehJSM1k+sRPDtBtAkC2EwzYAMnyUzJZ8lOAWCJ9A3GjBSRZ1lTTeoOBsJ0rQJAQbmMlKxUy5a/EoApDYN7og0gz5qwKkRRFAWyLHPBVJZlbkFFaz0vQkEbZR0ZKV4lRHSl1jGQEV2Ufz7CX5xhSX6izSX3u1Tv1I3ecrOiwEx2TNDGYEaKiDqtWWji1LMpRFchgGvOKyvT/o9d805u8SHaDFWvKaUUkiQBgNo9L+empLBVFEXYjmME4OLfJmBGiog2BoMoaoMAttjJsuadDjv1Em0c5d33kpEC6ve/MQYzKZdegmNBxzEjRb0lK0icdHebvxokB/sFn090HeQMlH9t+g2jJbjiWSmizSRBVBTNz081i1EAtkiFvw2QuodV+4jA9HpnLdkexfeSrl11XTar98nWPhZFIdpszRYIWmukaQpgcSygbmNGigjLbwBTGluqGOB5hrZaknLy38vSGCBguWm6Hv5kyifXqMtI8fok2lih1iiNcUUoJCOllEKe5wv953RYTaM5LnQCM1JEOPsGYLniFgvq753/Y6700XXzG3HmeV7b0qO1hg41xxeiDRcqBSiFQClsA3ieZW4rugRS0iZBaw19g+NCl6wjI8V3fsWM4Q21bmfdAHztu4dBFLVF6AVTzUCfkyWi/ggDhdArROEXopHPxhjkJznP93YIM1IdoJSqrbyzQMJqvegm4GSn3VSgALX4PspDyahqiya3SdAVk3Ej0BpRFLlslKw+y2eOL0Q9UD2DJIjym3Xnee4aeEuWioUouoFnpFqs9N+cxvIEb6rVO+0m4CSnm3iP0LWTohOYl0SWLX5yfXLlmahf5N6Poqg272j2Q3SNvK/+W1xU2kVlH5+xFjNSbVICs9L2F5hOp0jTFPv7+3j48KFr6OaXeOZFvFrNEsWCGanuYB8paitZeZbVZ78Ucrgd2y9i1pSoP0pgK4pQNpp2yxwv885SuXLq19DMe2YMvjs+xmQyQZ7nmE6niKIIt2/fxmAwQKg1wqssnFMumZdd5O+tItRZaWxz5Av+G5iRahlp0jYejzGZTHBwcICHDx/CGIMkSRDH8cJqBa2GlCNtYhDVftITTPDeoFYJ7FmpEHCLYn7lrllk5hMRIuqHwJ6bQlWpz0TzRRZZcAHmmSuttQ2kSlxpMDUrCozHYxwcHGA6neLg4ACDwQCDwQBxbBeBwii6um8I9iUw5SXbSATz5shKKajwYkcAmJFqGQmQ4jhGnueI4xhJktRWJAAsZE3oYgKlgOq19INTY4xLpzMj1X6y5aCZkWJARW0RwD78m/1lADtRCbTmWT6inpMmvpKVkjFCFl3SZymUUtiKonkWZU1jxswYnOQ5sizDw4cP8cknnyCKIreof3h4iOl0islkgjRNMRgMsLu7iyRJsLu764KsS6t2az06OnK7tY6Pj912aa01dnZ2sLu7iyiKEG/HS1+TmTF4nmUwxuDg4ADj8dgFrPK6R1GEvb09DIfDWh/AszAj1TJB9ZCN4xhFUWAwGGA0GrkU77JKL3RB1czmRQEpg6iWCxYzUkBjcFN8H+l6yfXpb/HzD5sbY+yKKBH1T/Uci7YiRFsRTGmQVZN+vxCFLMTEVYZqncVqZkWBNE0xHo/x0Ucf4Ve/+hVu3bqFP//zP4fWGvfu3UOapvj444/x+9//Ht///vfx85//HLdu3cLPfvaz1QRSJVDM7L/9wYMHePDgAQ4ODvC73/0OAPDqq69ia2sLP/3pT/Enf/InGA6Htl/XktfkeZZhOp2iKAr8+te/xkcffYSTkxO3VfGVV17BYDDAX/zFX+Du3buIouhcgRQzUi2kvGBKPoD6AURmo1agSjk1A1KekequZlaRiw3UNs0mvf7Ks1Eca4h6zStQI4ssEkAB9Xmg35MOWH12Ks9zHB4eYjwe4+joCEdHRxgOh8iyDPF2DK01kiRxX19U5/slWAEw34ZYAvnJfFvzi0jiQALJPM9xdHSEw8NDpGnq/t7ZbIYwDDGZTHB4eIiiKFw2ySnn35+c85pMJnjy5Am2trYwHA4BwAVVk8kEk8kESZLU/n2nYUaqTbz9ssPhEEVRYGdnB9PpFFmWIU1Tno9ak7MCU05susGfoLpBHNwGS+0Sao1YKWRZ5n4uz3M3GYqu+KwBEbVQAJeZ8gMqOUOVpikA1HpSbccxgnIFAVUV/BwdHeEf//EfcXh4iF//+tdInz7F/fv38b3vfQ+7u7t47733MBqNoJTC66+/Dq01xuOxO47iy09skQoJiuT812miKMJwOIQxxs1/P/nkE/zbv/0bfvSjH+Gv/uqvMJ1O8eDBA0ynUxwdHeHv//7vcffuXezt7dnxtPp3zKqt/8fHx/jwww+RZRnG4zGUUrh79y5++ctf4ujoCP/wD/+A4+NjPHjwAJPJBO+88w5239h94WvJjFRLKaUQVjeHHDT0H7y0WhKYLrsRmJHqDr/yoq8V5WOJYBfLZqo+1nBxjIgWBF4vOm+MaI4XEmRFxthz3ysiGabHjx8DAO7//vd4//33XRAUx7ErOiGL/2maLgRRQgKoNE1rlaj9xU55fg8Gg1rwKL/v6dOnUErh5s2biOMY4/EYRVEgyzJ89913mEwmS8fSsvpz5e+WColRFNWOzwC2WmKWZS8M9gQzUh3hmovyYbtyzUbHzWCKQVS3NA/zG2MQXvP3ROQLYFeS5SysPLBl5XmdB8iJqFvcHCSKFuYp/tmp6XTqiiasopHvYDDAu+++i52dHRRFgefPn+Pu3bv40z/9U+zu7uLmzZtIkgTD4RBJkiCvClMsk2UZDg4OkGWZK1KxdOG6embv7u7ixz/+satinaYp4jjGm2++iZ2dHQyHQzd+3rx5Ex9++CG++OILFyi5oDNQdqdXqDAYDPDOO++472UymeDTTz/F3/zN3yDLMnzzzTfI8xy7u7s2G7W7e67XiRmpDuI2pdVqNsETpTEwLFLQGWdV7CuNAXjfUBs0iqP4/WOkWiiz4ETkVIsqYaBsmXFvi4U/dsgcpvZxkUWZ6uvjOMbe3h6SJMHBwQG+/vprvPXWW25L340kQRgod5bI/3ubiqqE+nQ6xf7+vttat6xtiWSM7ty547JIaZpCa41XX30Vw+HQZcAkgHzw4IH7Or+QT/Pfs7Oz46r0+UEdAHf2ajgcuiDxPK8dM1IdxKzUaq1jNYHahfcMtZHWeuE836woEJ6jUhQR9Zdkpvyqcs0JvYwtgVIXbpjrB0fb29vu59zfWS4W61r2vPWrTkuZ8WbGTH6vfM3C37WkkJQfSPpff1qxCT9rJn/P66+/jtls5l4v+ZrzVOw79e+8JD4BqDOktwvAogRdt2ww81fp3BvNLVPUAjrUboIiW1H8ffvhKb1QiKjngnlRmq0oQlmNHVIu3Q8UJICJ49gGVC/Rq87vrSSBjzsX9coAQD2Q8jNiy/4syVrleX5qaXEZB0ejkeun1QzOmudLlz3za+euSpvpz7IMR0dHLkgaDod488038d5777lMlhSiePDgAfb29nDrrVsvfL2YkSLC4s1I3dMsKLEwuHK7FLWMFBVa1hCc1ysRvUgYKBg1r94n290kAAHmwYlSat74GzhXNbrmdj33Y28VuhnovCgjJZmg5vl0+b3++a5m/1TJHDULUcjvd6Xgq9cg1Npl+YuiQPo0RfbcBppSKGNnZwdaa9y4cQOAzUhJtezzYEaKyMNgqrsCzBta+9X7iqI4tUEf0bUJ5p9k0uAfHJdJQMjCE0R0msD2nFKh7T3qZ7b9zzKu+Fkq18z3HAHVi/ozNn/dGFNb3fSfx/Ihf7b/9zQzUFIGXWuNPM8xHo8xmUxcZb39/X1MJhNMp1MkSYI4jl2QJv2sJKM2nU7x8KuHLiP1xhtv4Pbt23j33XdxfHyM8XiM4+NjpGmKLMuws7NzrgUtZqSIaCPIYLdQddFL7zOYojZadg6AiOhcqkCoeV7KD6b8bXfNbW/nDRSAsxeb5e9yX+OfncBisOV/L34A1gzWZBujbL3zy6FPp1OMx+PadkEpsuH3q9Jau217EiRJ2fbd3V0oZav6SRAlpdzPgxkp6q9qJadsXPucyHSUt6rmD2iyEsdqaNRGKlBuAuRPfPI8hyoKbMfx/KA4EdFZStv0W1p+SEsFCSgkE+Rv93NZqlAvzU41t+VJxbv79+9jMpng17/+NT799FMURYHJZILvvvsOo9EIn3/+OW7duoU7d+64CoBS2vy0XlMSRCVJgp2dHQDz/lO3bt1ylf/+7u/+zmWo8jzHzs4Ofv7zn+PWrVsAgOnTKX7729/i6OgId+/exTvvvIMkSfCTn/wEeZ7j4cOH+OKLL1wglmUZHj58iKIocPfuXezs7GBvb+9c8wVmpIhoo6yyISHR2gVAtBUtHNqWSU7E0v1EdF4B3MJLuB0DAIrZPHiS0uLA/LyTFIGoVfer+GekZMucBFL37t3Dw4cP8c///M+4/9ln7vccHR1he3sbu7u7+OCDD7C3t4c4jl2Q81JKID+x3/Pu7i5u3bqFR48e4W//9m9dFcE4jrG7u4v3338fg4EtgpGmKT788EN89tlnUEphd3cXcRzj3XffRVEUuH//Ph48eID9/X387ne/c39dFEX4xS9+gffee8/9WS/CjBTREjwr1V0BFntKAWBZaWo16S3lZ6fcZ1acJKILMKVBUI0r0lvJP/Mk55LkmVlqbQMqL8gyxuD27dsoigK3b992wZRkln70ox/ZnkuwAcxoNMKdO3cwGo0wHA4vPZ/y/74syzAYDBCGNucmhSv29vYwGAyQJInLnPkZWdHOdwAAIABJREFUMPl3yL/9zp07C+e0ZGvgzs4OkiRxWwpf+BozI0W0iNv7uu2s5rxErVMFSPLglmpU/iTHNdckIjqPYH52ONyOgW2bnfIr3sm5I2m74JdLlwBFAqk8z+2vbcfYiiL85Cc/wbvvvotf/OIXbrySPlAyZg0GA8SXaeUQzCsSfvDBB3j//feRZZk7vyRjZhzHSJLEZdXiOMYvf/lLZFnmilAIYwz+8i//0mXn5HuP4xhaayRJgq0ost/yOb5vZqSIPGf1QaBuYhBFXeKPP/7Ba25ZJaILqwICv+CE3xC8WZmveX5KghGt7TmqEMplcPxsj0+Cs1Vl0iUYkip8QL1XVq0CYDD/nkOt7U4Vr0KhlEV351G9rYunnRU7DTNS1G+NqjJ+9RjqJtkiJe9lrZxqUSA8Z7qe6Kppre320yxzkwK5fuM45rVLRJciGSoJgiSgAlArTe4HF8A8K+T3a9yOY5SnBBHryNLIXy7ZI8CeiXZBUsNCJt8LjsLA9tQqve/RVT18ycCPGSnqPf9w5bJVFeoubu2jLlFK1SYLp5UDJiK6EMlMBfWdN7LoCNTLmC804/WCkjBQV1sI55Tv/TRnfo2/7fGSC1TMSFHvmfL04Klc+rPUdrLSJpr9Ks7ThJDoWgTzA9TNppqySuz3iyEiurASLtMkZzIBuHLp/kKONLKtbafjs5QZKSJgvpLQnHCHzE51T2DT/QqLAxtX9akLQq2hq8mLHIiWiltERCvjZ2a2otq5KRl3/IyLLPIopew25J4HUQAzUkQLe2u5ta/jSrh92wDfT+oev4R/c/sNAJsq5wSGiFbMP2PsB1VNxhjMigJl1X+qWcyhT5iRIvIwY7EZAqVQNiowyop+iWo7J/o56FP7ySFvv3qWMQZpmrpD4qwuSkQrVT0PdaihQw1TmlO3GEu2HJgXrtBaI9qKFv68TceMFJHH39pHHRUAgd3wXS+HyveUOuasA+EAmJkiotXzizoECtDzs1LNMuny2X2U82MSfcGMFJGHVd42gwoUTFmvdCY/Lo252kpDRBcVzPukZFkGALW+J1tRVKs6SkS0ciWwVZ2LAubFnPzWIs3mts0+T5uMGSkiLK4kbPqNv/GC+mp+M6BiERHqilBrhICbpAC2opbWGlvsK0VE6yQNbAPlyoSHWqOsqvj5vaeAeuAkZ6yiDR+nmJEiwmLVPmakNocfTPFcCXWNZJz8sueyGjwrCkBr+zXc4kdEVyAMFIxC7axms+WInzmXn9daI1Bq48YrZqSIgIWBgJPtDVDOO5s3B7jSGCDke0wdIAfAvd5Sss1PVnoD6edCRLRu1Y6POI4BzBd2/I8sy2qLl1pr9/VBFG3UeMWMVFtVJZzZ1f7qLDtPQ93XfF9ZTOQKlABKAxgDFMb++HkO5DmgNRBHQKCA7Yjn1c5pWTliv6ofr2kiui6hly33M+f+Lh9/7JLslCSmujx+MSPVUnJQ3n9junyhEV25oD75bFYYUkpt1KpYK5TVZ2OAWWGDp/QZ8Pw5sH8IfH0AjF4Dbr9tg6jdHWA7lsZJ1/mdt54ObXlhOdTtlx+WQKqvfVyI6PrI3FQa+pYAZl65dPmcpikAuEDLb+7ryqZ3cPxiRqqlmhegXx2FAdV6NLeAGWOguAWs85pnpHgPrVFpbDB1kgMnBfAsAyZPgOw5cHQEfPvIft3rrwEzYz9KY7NTdDY59K3rj1juWCCiVqi2/AFA6W2rbzb1lSw6MM/izEpj19Ogan9eFzAj1SalvZhmRYHj42NMp1M8fPgQn3/+uavS5G/t4GRwtTgZ2TzNlSI/iCrdf9CZAbt1mlv4ssxmova/Ab78Cjg4BD66D0we2x8ffAO8dxf4r/8F2HkdGCTAlrbb/TienUsAuLNSkpGSMwlKKcSS4SMiuiY6tKGAiudFcmS88hMEUpBCy+dGAYsuYEaqZWbeQb3JZILj42McHR3BGIMkSRDH8UJTNFoNvqabJ1DKTvI9zYyUKQ23+F1GCZt9KgpgOrVZqC+/An73KfDgK+B//osNpI6+ASZT4Okz4A9u2697ltkATPG+Oy8VzAvj5HleO3+gteb1TETXz2vqK0VxZI4lwZMEU/7cK4oilzQwxnRiuzIzUi3jVzcZDAYYjUYYjUbuISnROif8RC9mj96o2oqR35jXcL758mbV2JPn1RmoFDg4Ah4/Bj77HBg/Br7+BvjiS2CaAvmz+u/X4fzPoJcXLPZn8bf3ybOiCxMQIuqJ0i5sKqAWKPlZKvksAZZ/lko+u0WiFo1tzEi1jKygS+ZpMBhgOBwuHCqWH9PqMUjdHCpQkC3XzW0CPCv1kmQb5MwAqKrwpRnw6Dvgo0/s+adf/W/g4dfA4wnwzRGwFQLx9vI/rygYUF2QHM72V3NlUhJFUT2YIiK6bkHVE08pt+2vmBW1LJUfRCmlagtFfpPfto1rzEi1kGSloihyH0D9gB7ACf8qNYNTTrA3R9n4f943L6FZhc8YGzydnNgiEt8eA8fHwIN94NtvgaNHNojKcyDZBra3gdGO/TNmM7u1T4XVn92iJcUOk0p+zS3fzeueiKgVZNufV1VXkgR+JmpZgCJfK8FYGzJTzEi1iUTsgcKNJIFSymWk0jR1Dc5oPeQmBjjZ3iSyvU/47y0nm6dw2acqeHqe2/NM09Ru2Xv0HfD5A+CjT+1Wvof79mtUCMQx8KM/BO7etdmo1wZAWQL/7VdA+hzljW0EsxMg4Kt/KQGwHceu3yCA2vkDAAhZeIKIWkpaNkhA5fdN9StXy46sfElBiq0oss/4a9zKzIxUG1UB1XYcu4yUfzHR1QmYmeq807YBGGMQXvH30ilSjW9mbIYpy4CnT4Ev94HDb20Q9c//ZvtEHR8BJ8+B7/0AeOUGsPsG8P6PbK+onZHtI/XRp8BWiGBrGwi3mJFagVDZhbdl1SmdEgymiKidqpLpMnbNjKn1oPIXuIH52CZZq9KYa5+nMSPVAf6bwy1nV2tWFAhauCeXzsnbQiD3TrOnRe9JYkgCJ8lA5bkNmr59BHx9CHz8ma3K99W+zUJlVQbq7beAn/5HYPAK8EfvAW/uAjffAL5/u/pzToCnqS1xTmvhn//LsgyAvc5zNV/BJSJquwBw2ak4jgHMxzf/2e1X/nMNyauPUOsrzVIxI9Ux3HK2Ps0glcUINot/fsSv3Hfdq1mtEMAGVAZVIFXYanwP94HPvgB+9wnwv/7Zbu0bP7JnnXbfBG7uAq++CvzJB8DeW8B/+mP7czdiu8XvaWr7R5kSkM715ewa/6EbqKriJ5MKf1sMgygi6hI/uyNj18wYlMYgyzI3xjX7qcrXy1h4lX0JmZEiqjBw6pdeL0pII90S9hxUUdgzUMdjIHtug5/jMfDJZ8BXX9v/B2wD3UFSZaJuArf3gJs3gXffAd54HXglAaLIPsSW3UtbfDysg5QV9s8aAPMVXJZDJ6JOKqthywuslvVSlf/3A6xZlaEKlFprhooZKaJTMKjaLFIdyA+YTbWVLawqY/ZGaWzwZIzdovf8uc0+/fsnwHdj4L//yv7/d4+Bb74CRrvA6yPgtSHwx+8D39sD3rkD/PFPbPbptaE9DxXqxQBq5m0ZPOG2ynUIq8DVr+DnTypqla4YTBFRVwTzc85htdXPL0ghRdhOy1JJGXUJwiLZGbHCcZAZKaIlZHWDwdRm8A+s9vI9bVbhywtbOOL5c5t5evIU+PKr+TmoR4+Bp89s5umNt4A337DZp9FrwN3vA7duAns3bSGJKAKSBAjP8boyI7VWxpjagoH/AQCsrkJEXacChVIBqMY7CaL8bDxQL77jClfM5vOAVTX3ZUaKaIleb/vaQIHXr8If9FywvKmVzeTf5ZcxT58Bx98Bn30OHD8G7n0OfPZ74PFj4IuH9vfpEHjlBswP7kDtvQ3cuW1Lmg8HwM6O/RzH1Ta/ahvfeV5DZqTWSgXz1Ve/XUaWZfPzA+AWPyLqsAAIoRBu2bHO7lSfZ6SkwrX8vxTg8c9dyVkqrfWlM/XMSBFVN5Bsi6HNtizbaEqzmRNMOQdVFEBhbBA1eWK37z3YBx4d2yDqw4/szz/6BtjaBm7tAa/FNoj60bvAD+4A/6EqZ/7qwGahLipgWmRtgvl2Fn81Vq5517lrUxcOiKgfpCKvyyopN875WXj//2VcbP7YqMs9/5mRIqpmF+u4Gagdmk15AdQ6qG+EZhnzorDnn/LcZp3GY+Dh18C/fww8ngAPv0KZPUdQFHYL3w/uAP/PfwVuJMAf/dAWj9i7Bey+boOn0dBmnkI9/7te5sEjrz+r9q2VZFi11ojjGEVRuG0tz7PMNbEM2dKBiDaF9KMKFFCt80kPVv/8lARReZ4jz3M3B2hmq1yBinNkmZiRIloyGezlOZoNF6gXNC7tOrmOS++zNNLdP7DV9373CfA//smWNn/0Dcq8QPD6LrDzuj3/9B9/YotK/PR94K037da9JFnN9yevNTNS6xegVuFKAimZVGi9pCgIEVHXeWOfPAvzk3nPKb8Ajz82NjNV4UuMj8xIEaHeYwjYsAk2AZjHGc1+Up0Omv0sVF4AqKrwpant4fTtke359PkD4OtvbCNdHQLDVwGtoaIIeGsX2H0DuHPHFpF49Qbwyg3bQHeV58eYkbpSsnAgZ6MA1AKqC2UViYg6wpTGZqmqZ49fjOKsAlR+dd+wGjtrGfzGmMmMFFGleTN0eoJNNf5AKhbKoCtvv3UXSC8oKWM+zQBT2OzTx5/Z3k//9C/A4SPg4VfAZALE2zaIeuN14P/9v4E3doA/fKdeSCLSNojSGlhl340uZqQ6HGyESrmy/v4Wv+biQdS30v9E1AvuuR9qV7FUxrtm8/KiKFzriOY5U7/Rb6g1QtTnCcxIETX4h7MZTG0WfzXK3+oEVHPmrhzC94OovGqom05tVb7vHgOPvgMOvgW++Qb45sgGUU/HQPwWylcSBKPXbBB1e8+eg3r7LSC5AQwG6/v3dykj5TcsBuSQ3TV+Q5fXzMS6h35XrnkioovwxjdZLJUqvk3NcdI/ZwUAKAoEXmZrWbn1VWAgRZ1Wq+bmV7qizmtWMxPGGLvGdJ5eSNdpZuwEX4pIPDoGPv8SePwE+M3vbDW+x98BD/ZRFgWC5yd2m96P/tCegfr+9xD84Tu2cMTeLeCVxGaohq/O/+3rmli3NSPlSsSbqnlwVaTDGODkBJiVwKvVWbEOBlSyktrsLZVVhSdk+59aZfaRiKjFVKBc6fRm8OS3SfGLVMj5Uvl62Sq40K9vBRhIUacxE7W5/IITQD2YCrrwns+M7Qn1PJufgfrwE1u6/L//T+DgG+BZCoyPELgy5kPgh+8CP/iercz3x/8BuBHbIOoq/81tzUhJ5mlWzDN8aVpl+TL761rZ0u9h9x5v/jYVv79KcyKg2r6IQES0KsE8OyVboFHac1V5ni8sPPn/f9ocYpW696Qh8jCI2mzNXhNua58x7cpINcuZnxQ2cHr8BPjiS2D/G+DhAcynn0I9e26r88WRzTy9/0fA4BXgB+8Ab4zsOai3du0ZqBvx+rNPy7QlIyXb9oyZNyk+KWx5+MPjeZn4p1UwBQA/+wD44I9s/6ykCkA7mL2RbSoAFqpXBbGye/87+O8iIrqU6nkrxSn8UujLMk7+2arTgqzLYCBFncaM1OZq9oVYdTp+LUrM+0I9PLDFJP7pX1H+5jcIvjmCevil/bqdXTvRf2sX+MXPgFtv2uzT668Bb+7ajIpStojEdZyLaUNGyi8NL4HUs8xuk/ziK+DT+/bzv/0fYPrUBqdBaF+z22/bLN52BKjuFWhQSiGKoqo/8/xsgFTy00UxX5klIuoT73lYK8BTZan8cul+4NTMXq0KAynqnEApgAFUb5zaT6oNx3dkkn9SZUqeTG3xiCdPgX/9rS0i8eABgvHENtK9/T07uX/njs1Cff97wHt/aCvzvfkGMBzaX/cfDteRdbjqjJR/uNFUZ8vy3G7dm07t6/o8t9UNp6nN8n3+EPj2W9tzK8uB/LkNoiZP5tUR2x54n0EFypYEXnJWsNlThYio9wJAoV7Bzx87/f9vttG5DAZS1DkBgLBRxaW25YsTi40gaftmH6nWZCHdWR1j+z9Np8BnXwD/8Cvg0SPgX/8P8OU+sFUNs+/+APjP/wnYeQ34Lz+3W/eS2H7Wat4Lqg1l3a8jIyUBlGT0jsc2A/XxPeCje8DkKfDrfwWO/n/23u2rjTzb8/xEKAiCQAhZCIzBxviSmU5XZmXdzqVO31avNZfHeZv/cJ7naR5m9azudbr7VPc5farrVFZlZaYzbWMMGGMQQoggCEIR87DjFwrJshMbsCWxP2vJ3AQWQcQvfnt/9/7uPXE73G9BGkFYcHMqleAwgOBYAlIT6I5ieV/WF+B5Xn6+t9vt/MuO4+C6rlqiK4qiGKze0SmkoloZy3TXdS98/6CBlDI22LY9GiYEyjtTXPg+ehBl1JNO3HXka7dhd182/y9fSqnZ/gFEx+BVpVenPgfLi+LCN1+HWlWUp7L/UX+dgXxIRapoHpFkLoenp3L8Dg9hZ1cGFIcR7DXl8ycn3e8vZa+xM2TGGBdIMYHwmi36CM/PUhRFuVSKduoFNUrtzxWF1zfUSZKIIqXWwGNDv4MZFMqbsknoH4zCbAriGJotWFuX2U+P1+DP34la8mxDgqsb1+GTu/Dwc/j0jvRB3b8rwdN8DSZcsBnOjfBlKlJGJQJxNiSRY9lowtERfPNIrOEfPYHNLWhms7ZAjl2lAreXYXlJnr/bgIM2PPoBTge83mE6ru+BU+pa+PYPpoTuOqjKlKIoytu5jHJoDaSUkaW/vrXn4tDBlWOBZdsSHGd8VMOJonPccSib+7UNMZT483fw+z+KgnJ0CO6UOPLduglffAa//EKMJBYXxJZ72M/Ny1Sk0swW3rgbdhLSwyOsFy8laPr2B3ixDd89ktLI0w5EhzAxCat3YbYsQdSvv4KdPXjxQv4WG5vikliys9c9Jup0wfrXDKY0D/PxR1dpFUVRrigaSCkjyyBFCj6CUqFcGhbk6ojJJJkSpw8yfNmoJ51MgWoHYnjw41OxN//jn6R3p90GpwQ3l0lu3cCenoZffQUrS6JMzV3LhsTaEkgMu3X1RSpSpvzMBE9BKLblR8dyLF/tYW1tiwPf4SFsZvO1rBIs3cis4GfBn4bV21Apy3FdWoJn62IucdAa9B+f/7UPEWYoZX+fYBRFOI5DJ0lec7pUFEVRuvSbV10EGkhdIuqodLm8SZnQIGpMyBx4+p3L4AOXcXZENaHRlGDqL9/D//f3Usb37Q/SBzU9AzMzsDiP/e//DdSuwVcPRYGacMDzLvlFXjAXqUiZWVCdzESi3ZZg6fAQfv+1lEVubMqxPO2I+96EJepTvS6lkb94KDO1Pv9UesumPAlMJ0rw5Bns+2LWMc5Y3dlSg2aiuK5L6WPZ5SuKoowAxR7Ti2LM7zwfjnTA0FC4vEnKijAoUFVFary51GvKyFxGhYpjsTI/OYHnm/BqT4wPmi2IO2JhHk+KdfnidSk5m5+Tsr58jtEInovvo0gNsjBPElHxTAB1dCw9Tc+3pA9q+5WU84UReJPgAe418Kfg3m2Ym4Pl63JMPU+MOaY8CZpMCV+aRQ3J+JpNFDFulkWFFrLrIo6xHEfXP0VRlAGoIjWkDAqgzOeVy+W1jQSqSI0VVu/f89LtzxOjnGR9UI2m9D+92oN/+p9iLtE+ko8rM6KQ1Gtw/x58kaklKzczU4SybPhH8Xx8V0WqPwDtZL1kJydiCd9qwZN1ePxU+pl+fArxqQRWUST9Y59/CrOz8LPP5JjeWclma5VhtiI/f9ofcEyv2DprwaTn4SYJQRDk614Yhnnpn62GO4qiKK+hitSQIm0USU/JhfJhGHQxqCI1ZhSUjstYBHv+HxMERDEcBdJ/s74ppWjf/ShOchMlKUGrzEjp3vINuL8KDz+VDf9sRRSdUVSiDO+qSKXGhS+WYxfHEARyDF/uiPr0+Cl88730Rz1+DKcn4M7I8Zyvy7GszcHnn8D1BVi9KQGVma/V8//1vNjz/rYjR8mySeze8vFiQi+xdQ1UFEXpRxWpYSKFuCNBU6PRoN1u8+TJE9bW1nI3JVPPrlweg6ZT6wZizMgG7PXPz4njGMu2Kb2vcUOPipKIMvJ8Qzb9L3fhn7+G5gHp48dYTTEzSD+9g7W4IH07c1UJnmpVUVRqNSnlK43BsvpTipQx4UizvqcglLcvX8HmC1HyHq9J2d7jNSnrCyOxK5+ehr/9W5iekiB0fh6WrsOtJZiclIBqekqed6ZjeQXX2Kx/0AyXTJKEMAyJ4zhXphzHwZ1w8+criqJcdVSRGiKStKs+NZtNGo0GOzs7bG5uAnDt2jUAtaa9ZFSRujqY6+hCr6k0CwbI3u7ui5350+fw9/8Ae/tYuy9FPbn3GVa1Cp/ch3//dxI83VvN3PgYbQWqn7cpUuaaMz1QcTZEN47Ehe/7x7C+IXbwe/uwvQWttpTouVNwZxpWV+BaFX7+OdxdhYWaBFDvpeSN0XF/FyzEXAJ6TCeA7vBeXQsVRVFyVJEaIooNv+VymSRJqFarzM3NEcdxnim89J6OK06/IpUkCc44KAJKD8VrqXg9pUkiJU7vslk058tJJI92G7ZeShna7/8oZhJ7+9Ij5blw7x6p42B98bn0P91ckpKz6WkxPBhH+hUpK+2qT1FmYd5ui/IUBLC1I31Q26/giShRaRxjuS6srEr5Xn1OHjcW4ZNVGax7cwmqFTGQeO8N/xVUpDIsJJhKkgTP8/IkQ//QXnfCVVVKUZQrjypSQ4Ypn6hWq3ieR6vVIooioijKb2hOljHUEr+Lw7a6ltiqSF0dikmJc11PRkUJAjhoS+/Of/wH2N+Hf/gnUVDcKbEtX1yAf/U3WEuL8Ntfw707Un5W9ke/D+pt9CtSqQUd5Li1WlIG+WQN/vIj7DXgD19LL1TrEPZewsQkVq0uqt0vvoSFBXhwD778XALQ+ZocX2McYZ/HHGFM/wZnwCQULNfNPzYlfubjnhI/RVGUK4wqUkNICnk/1Jv6onSe1OWjqt9486bF78x/93ywbgKHLVGftl/JLKi1DdjckMG6TgkqVfB90uXrWAt1UaGWb0gpmj/VDQDGnQlHLN5PQhmQ++IFnByLCtU+kvlNzzayQcVH8lzfB3cFZstiB1+Zhk/uipnEjesSWLmu9JKZIOrcSokmqYoVEk7fuZkkCXEnVjc/RVGuPKpIDRPGljkFz/PyEr9yuYzjOLTb7fypg6zRlYvhMrILyvDR/3cuqlLpG7+LbolanJlJRBH85Qfpg/r6W/jmW5lr9GJbnndnRfqelpew/u6vxEhi9ZY49PlT5yxBG0FOIjk+R0fSB1UqwdpTKYU8aEOjIQFRuSwGEasrcO8u1Gbh83tQrYqq53ny8D1Rn0bVFn6IcSfcvGfKcZyeyogwDLFtO0/4KYqiXEVUkRpGsoBqoqBIFevUlcunv29GGX/O/DePMyOJKJZg4OhYnOWeb8LzdXGUCwI4DKSPpzoL1zMHuc/uiUGCCQSu4vkVn8pxOwlFceqk8OMzUadOY4iOpQzy2qwETfPzcG8FFutiyjFbkV4oT0vLLpVMZSrRVaaiKMqvk9dKzFNUmVIU5cqhitQIoMHTh6c4R0UZT2zLJs3imGLwZEYN9KgbuZtcLGrKcShlfP/4e9hviQq1/VJmQQHcvQsPP5FhsH/9FSzMi/K0fEMCANe9WuqJbYNtwYQrPU//8if5/OSkHAujPC0uwJ1VmJkW1W5+TgKn+jUJPGeygcSu05UNdfN+uVjgui4p4CUJURQB5G8Ng0oAFUVRxh1VpEYAVUU+PEaZ0GN/NUmSBEp9JiPGUKLZFne555vwhz+T7u1iffcjNHehWoeZGZibhV9/BfVZ+PkXEiDA1eiDehNOSX7/vUM4aHQ/PzUthhvzMxJE/frnMDsjQ3Rr1SxwUvXpY1LcKBTnrxmL9Dz5oCiKcsVQRUpRBqCK1NVARjX12qDnJAl2J5YSvpMQdnbh8Aj+/K2YI7x4CS9fYrWPJFC6VoXbt+DWTVi9KaV8lbIoUVcVy+4qTtVZuF6XvrBrFbBLsHxdeqHurUoJ38qS2JdPT8n3aSJjqDA9UWbeoQmq+kvPNQGlKMpVQRUpRcnotzfXHqnxxziTFUnIXMnsBCfOgqhXDfjDn8VQ4r/+Izx7LkYJrZZ801/9EpaX4KuH8POfyRyj5UWZCeW6cFXnkDm2BEUkMFeTY9SJpUSyXIZffpmV863A0nUJOn1fAjDHvrrHbUgxluclx+lRo4pJCBNsKYqiXAVUkVIUeku4dODx1cD8zfuHLwMQneIkCbQDOGiJk9yLl/LYbcB+U4wRJhzp+6nOwuK89PQsLcC0LwHBuWYZjQM2lCYkmKxWZOhwkkqZ5PQ0rCyLSrU4L1+bcMd3IPE4kJ3L1lttLRVFUa4OqkgpCr1qVDG7YC4M3TeMH8XFz3Yc7KyRPkkS7Fc7YsX97Dnx77/GaTTgx6cSVE26oqLMz8Mvfy7zjX72WTYXalbMESacKx5AZbgOVHyY9kj/5tdYd1fFdKJki+15vSZBlu93+8fURGLosS0b3/dJsmvGXDdBEOS9UrZt45T0OlAUZbxRRUpRUEXqKmMV+uFKxyElIN56ibvbgEePcf7p9xJAbb6E6BAePCStVrCWF8WRr1YVs4T6nGm6+qi/z1Bh27lRhHVrWcr3rsrw4XHGIg+Yiv1RpszPcZy897C/ZFpRFGWcUEVKUcgUKat3KGvxbeljvjjlckiBJCE9jXBPTphotDheW6f07Dml7x4T7+/jvNqTIMqZIP3Vz7DKZfjqC6y5GsxdE5OESU8MFJS3U7KB7EajqtPYYIKmXM21beI4BmQ9NQN9S5pgUBRlDFFFSlEGoKrU1cE5jTmNTjlo7MEfvqafJaqfAAAgAElEQVSztc3c7/4HPH4MlitDdZduYP3sc1i5CX/za+mDKpflUbK1F+oslGwoqQnBuOG6bh4YmwDKzJgqlvmpUqsoyjiiipSiDOAyMgzKEGCUkCSBIJDBugctJn54wtT2DpN//p50extOO4TX5vBqVRkUOzcnfVBLi7BQg0pF+n8c3SAqCvRaoxfnTJmv5WV+mnBQFGWMUEVKUeC1m7sqUmNMkogF96sGNFvwbB3+n//A5PYOfPsIa+8l6Rc/x/30Dqyuwv/278REYmkRyj44rgRQuilUFMESa/SS43AaRQRB0GNEYZQpx3HUgEJRlLHiMhQp3XkqI09/hiFNEpJU1amRpahEnYQQhBJE7ezA3r5YmjezmVDTVazqLOncHJ3FugRRtao4y3memCVoKZ+ivIYZcG36poCeGVOJrqOKoowZqkgpylswylSSJLm7mzKCpAl0EjGOeLYFBwfwn34Hj36Ao2OxNvenOPz550zV63R++xs6t2/hLF2ndGNRyvhcV1UoRXkTlpj2OI6D53m5ImXK+4IgwLZtPM97LdhSFEUZVbRHSlHeginvs21b98+jTBxDFMtsqO1t2N2Hx0/h+x/l68cBeC5Tn3xCe6EGXz4gurWE5/uUymV1HFOUM2Jb4tRnZ3boBpOQiuMYx3F0Np+iKGOBKlKK8gaKVujKiBLFkMSwtSMB1NoG/MP/gMMD2NyCuCMDdL98QLx4g+TvfgPL1/HLZaxO92+fJIk2yivKWbDASmU+m1GdkiQhDENADChMgGVlM8ZUmVIUZVRRRUpR+iiW8ykjSkpWzheLM9/2Dvz5e/jxGfzn34ljn5OV65Wn4W//GufGAumXD7EX67Qy+2YX6Y9TZz5FOTtmQ+FNeiRpkgdPptwP6B3aq9eXoigjiipSijKAomufBlQjRpJIKV8ci4lEowlr6/D0uZhLOCUxjpi7BtVZWF6ChTrx9XnS8hSO45B0OsRRRGJZch5ANlBWUZT3oZi1LZb52bYtTn6giq+iKCOHKlKK8gY0gBoxTNNFHEM7gDCEr/8C3z+GH57Av/wJTiKYdGHWg3/1t/DZPZiZhq++wJme4nTaxymViPqcxgAofZxfS1FGlsyAwp2QEr6iAYV5FJUptUZXFGXUUEVKUQr0ZxQ0mBohkkTK+aJYSvfaAaxvwZN10rVnWNs7UCrBrWVRou7cgvu3YWYGFurgOlh9piI6mFlRLgBLSvlMIGXbdk+vlCYrFEUZVVSRKtDJFvNOYTI7yMEpZQMFS29rOE8hSRPSws8wP6dYB26yc5p5Gz6K5Xw6lHdESBJRo/ZbEIWwswu/+2fYa8Dv/wjPnsO0D/fvwNJ1+Ne/FYOJz+7JkN2SDZ4Ltp0PwSv2bpiNX8dNKKGGE4ryPti2jW3ZPdbohiAI8kBLrdEVRRklVJEagKndNuT212dc2NMsgCo+zGR3kGDLtvQmMYwUb96qRowAafboJBJEHQXwag++/gZ29+DxGjx/inXnPiwuwPJN+MUXMmR3vg6Vsvwck1HCfGhrf5yiXDSWJBKNAYVZb6Moyu+TmsBSFGWUUEUqU5GCIKDVahFFEY1Gg3a7Dcgm2vd9arUarutSq9XwfR/oO2gptI/aRFFEEATs7u4SxzFBEJAkCdVqFdd18TyPer2O67pMuK7Opxky+pVIvaEPKcaVL4rETCIM4S+PRI3afgUbW6TNA5idwZr7lahRDz6Rsr76NfA8UaHewKCFMU0SNZxQhgvTF5gm3feL69UQq6cmaDJufkb9NQGVKbPV9VdRlGHmyitSnTShE8e0223W19dptVo8evSIZ8+e5Qv73NwcX3zxBZVKhU8//RTXdXstW7MbWLvdptlssrOzw1/+8hfa7TaNRoPT01Nu375NrVajWq3yxRdf4Ps+5XKZkued+bXqDeXyUUVqREgTiBMIQth4AY19+H//Hr77EZpN2Hohe8jf/gY+uQ9fPoC//ZWU9M1WxPr8LZjyomJ5bpIkJLaqycoQIvXk2QfZuT2s94vMgKJojW6usSiKiKII13XzgMp135zwUBRF+dhceUXqJAxz5ajdbudK1MzMDADT09N4nkcQBIAES77v43lebtkanUoWzQRS7cN23ldRrVYB8iCqUqnguu6ba8CzoCzJArz+EkHlcunvaVNFasgwSlQQSsC0fwA/PoUXL+HVK8iuX5ZuiDvf7Vtw7zbcuA7T0zI36ox/T/N3L5YgpeafIc70K2OOuQZSRJGNYwiO4ehIEgTTPli2WPy/RXUdJor9UcX7XRzHlBxHlCkdiK0oyhBy5RUpE0Dt7OywtbVFEARUKhVqtVqelY6iiFarRRAE7Ozs5AHSZKYmhWFIFEVsbW2xvr5OmAVnnuextLSU/7xyuYzneZTLZRzH6fZNpd3X00l7DS/6AygNpi4XVaSGFBO8nMZiLtFoiLX5+hb859+RbmxhHRxCeAL1Ofg3v4VaFX79pQRS09PSF1VyzhRImWu/6Cpm3rccR1Up5cNjAqgke0SxJBOOQ1h7Lr2BxpXS98RIxa1JUDWMAUjBGr3kOHQK11qSJLkBBcj1OOG6YvakKIoyRFxtRSqVUgITCIVhSBiGVCqVPNhxXZcgCGg0GsRxnPdAlctl6ZmA3MbVKFLmea7r5g/P83rmZWT/fU6SJrmTkdm0RVFEu90mDMO810o39ZdL//FVNWoIyDeQwEkIJzHsNiWIer4F2ztYL15mGfhJ0tlprOXrYi6xuCCmEhOOqFHnQK8/5aNgbhSnkZiqdBK5Do5D2GmIEvV8U3oD3QmYnoKTaahUJJlgMdy9fRbihlkwmjAUr7k0SSQJooqwoihDxJVXpEywEkURjuPgeR7V2Sq1uVoeSLVaLXZ2dojjmDAMabfbecmeyZy12212d3fZ2tqi0+nQbDbxfZ9msyk/s1rF932q1SoPHjzA930qlQq+7xOdRrnqZRSt7e1tWq0Wu7u77O3t4TgO165do1wu52WDysXT79aWFILlCa3V/7AUM/DHoahRf/wGnj6DtU343X8nDU+w4hjm5+BvfgO3lrAW5uGXX8DsjGwmpzzJyr8DJhPevzCajV2uSOmGTrkMij1PcSwf7zWklHU3U2P3mvD4KeneLlazJV/zp+Bvfg0LC/C//lu4uSg/Y5gDKciDKc/z8p4pk1QMwxAgH96rfVOKogwTV1qRMo2uZtI6yIFwJ118388XbBO4GIch8/ziJtsoVYeHhwB5eV8cx/i+TxiGeJ5HFEWsrKxg2zblslgvGwUqCAIaew1ahxJQ7e3t0Ww2OTg4YHJyMle3DBpMXS5qfz0kJIkEUWEkvVA/rJGsrWF/+wPWhAPXqjB3DVaW4fN7UJ+H1VvSI+WcrZTvTbyx1LOkYwyUS8QosGSmKmkiA6Z3G3INPHoCL1/CN4+wXmzD8REAScnCXr4hJa4HB/Iz7BFZw7KhvU7JITrt3pPNvdaU2up9T1GUYeLKK1KD6O9N6jcgKEafxYDKBF6Tk5PUajUmJydZWFjA8zxarRZhGJIkCY1GgyiKqFQq+c9xXZdyuczijUWq10S9Mr1be3t72LbNzMwMnufl/79u8i8XPb4fCVPKdBxI8NRuw+NnYm3++z/C9z9ixaewUJcA6mefQ70GP/sMbt6U/pDzBlBW9xofpE5pEKVcCOZcN+fWaSSB09ERtA7hMIDtbWi2pJT1xTYctODZphiueC7cWITdl9BqY7vZ7dcpmR9Mdzra6GDuiYP6g01liG1Lf5WqwoqifEyutCJlW72BEbweWb7N6KHHFjlzHJqcnKRareYmEzdv3sTzPL7++ms2NjaIoojd3V2CIGBxUcouTO9UpVLJVZCbN28ShiEbGxtsbW3lU+CLtszK5aKK1EciSaSs6fBIypVe7cF/+h2sPZVM/OPHWLU6fPk5LC/B//5v4dYtuD4P1cq5gygg35z1L4zmWk/RYEo5JylyrqeZ4tpJIAjEiW9jGza2xNb/f34tZhKbL6QXaiI7Od0puHlLFNg4htMTcMVtlrhT+D8Yrb4io0wV7nOmxM+U4JtHyXGwUnX0UxTl46GKFAwMpky5nVGdBlEsBzSPUqn0VsWoX9Xq/5opXzA3iuLn+ofFKpeLBlEfgRTJyp/GkpVvtqRE6agtGXiA6Rlx4PM9MZiYmJQM/AAXzItAA2rlwjFB1GksgdRRCJ3TrgrVbEoQ1TiQMr1OKuf4tC/GKRMueJNiJjE7DduT0CnBRKn3/7H63o4Y3RnDg++buQGFoijKR+JKK1JAbkduXPHiOKbVagHdUj1jRlEs8TMmFeZjz/OoVCrMzs7i+z5A3vdkeqhANufuhNtjf25bNnap90Zhmm2DIMhd+8xrNF9XLo9+0wnlkjHN9XECW9uwuw9//ha++R62X5E+W8d6tQe3lkh++xvs1VX4N7+BahXu3YGZaQmkJi62Cd0qKMCm6T1JZMZb6SeG+ipKD2YtMfblJxEctqHVhh+fyNvvHsPTdQmkXr2S58QdeVyvy1y0eg2+fChB1dw1MVP5v/5vODwU+/MxUklLlp2PGYFuktPcj00liOu63XlTGlgpivIBufKKlHHqK/Yemfrr4hwp81yDCZKKz/MmPXzfx3Xd3GjC9EX19FmV7J6flZcRWXaPmUTRPt38LOXDoUHUB8CUHJns/EkkQdTmC3i8TvrNt1iv9rH29uTr5bIEUfduw4NPYbYCM+VzW5u/jUEujoryzpjKhiiW99vtrgvf949FffrmW3i8JkFRc1eeX63DlA/VWbi3KsOl/+orqFRFlfVc+A9/L0kEO7uZdC5Ylv1YWOSzo0xCoxhEQW9FyZuqPRRFUS6Lq61IWeD7fq4wLV5fpHXYym3HzUFxXZdKpZIrVEmS0Gw2abVauK5LtVqVt9eq3OzczAf3tlotGo0GIDeBSqWS90+Z4O1tdPuQdbbRh8IqKFFFddC2bS0juUjS7OzuxNLD0W7D2oaU8/3j7+HHpzIf6tW+lCt9+TO4NgO//iV8ckeG7larsom8RGXIZLhNmW2PEU0cU1IbZmUQZs2OswHScSIqUxTB5ktRXff25ZxvHcDmNhwHYufvurC6AtUvSaYmJXEwW4Gl63BjQYZLryzBxAR0Ot3/CyAZkwBqACXHwe67F5qgypTgmwSlZduUdK1WFOUDcOUVKc/zcovzymwFLNja2mJzczMv9avVaiwuLuaqVZIktFotgiDA9/08KDJDfLe2tvKvHx8fE8cx9+7do16vUy6XqdVquXJ1FgY1vCsfBj3Wl4RVbNrImuyfrcN+E/77P8OfvpUvnZzAzAz8q7uwclMy8Z/dFwVqpnzpL7PYo1gMrIubNkUZiOmDihMJoPYPxEDl20dSsrq5Bd88glZLeqNKHaxqXez86zV4+Dn24jx8/omoULVqNmDXloTOaSzlgFFWqZB0wC699SWNMiVbfu/+USRGpQJym3QbNOmlKMoHYfQVqWIC7j0aam3bxrJtfN9nYWGBarWKbdssLCwAsjCXy2VWVlZwXTc/UNVqNXcQMoGRUbbMBiuKory0b2lpiXK5nD9c19WN2IigCuA5GbS3i2MZsrvXkNKmrW3456+heSAP15X+j+ps19r81jLM16UnxLY/ihNZf5lfPpx3RJv5lXNihkabt3HW59dqQRhKmepBC9pH8OQZBMfw7DlsvJCvey54dbhzW96/uSx25ovzMhetOtsNonwfStk9w0Jcza/g0mRbNqWszM9UiBQfZu6jUaqckqPXp6Iol8ZYKFK5DbEJqt5h0cwDo9kqlUqFFLh7927uyGcyXCaIMotzsUbblP1Uq1VA+qfu37+ff3+SJHielwdOrmmI18V9qFE16gIxGz7bloZ4E0g9fS72zk+ewX/8L9IbMjMjgdSDT+CvfwmLdemHmq9LH8jkh50dUxyTUJwpla8BNthoMHU1KEQuaSLqkDFK6WQGEkEAa+vQaMKfH8F3jyRo+sOfYL8FaQSnqSQKbi1LouA3v4LaLHzxmZinTExA2Zf/z8n+z0EBe5r0lvZdBbK+qdKk12MEY9Qp07tsKkgsz877rBRFUS6a0VCksgApSZPih9Kzgmxqcsee910wre73DlKL8sF/aRa42Xb+OvJF2io8N6M/2NLs9WhQdO0r9ksp58QEUCB25i9fwfYrydrHHSiVSGdnsKqzsLAgZU7VGnie2D47w3P9aKB99UjTFMsoUKa/7zSS0r2TSM7jwyN4/kJ6oF69EoU1PJH+pYkSTMxIQqA+B4sLMD8v/U8z03K+T0/LeX6WYbPp1V6XLNsWYa7grllMdtq2TSeOsRxH772KolwKw69IpdBJE9JMsjfzlPpfuFGMjHoE7x8dOiWHxO4Gbfnam0VOrwVrAxbnYiCWgmbERgzdJF8QpcLF0YnEmew0hvVN2NmD5+vwh29kRs7ydfA8rH/9W/jiU1iYh5s3JIjyPVGpPsZ1ZPW6gZk1yGzcLA2yxx/bBhssKxXlKYqkr+nkRAbnmsDp629gd490ewfr4FCSA0kH/Cm4f0/K8z69I66Tc9ekfM+fgtnMOMV15a05z0dpkO6HxoISNpRspnw/3yMU+6bCMMwTo3lliQZUiqJcIMOrSGVBS9yJeyT7ovVp/xwJ13VzOf9c6o91DmXrIr5f+WjoHJJLoINk7k9iCZ6iCNY3xOJ8e0cGj5anxdq5Ogv3V+X92YqUPZ0lM/8B0PPiCnMai0Oemf1UKsl5a9Snx2vS7/fdD7C3j9XYh+hYhkdP+WICsbwg5/Qnq/DwAcxVpR/KdcHVftn3IlsXSpYNlk3iJD1l+eat+ZzjOKR2FoANwZqiKMroM7SKVHQa5cNxt7a2aLfb7O7u0mw284xwkaWlJarVKgsLCywtLeE4jtZGK8rHppNKf0jrQDaWf/8PMDkh5XxHR6TTPnz5AOvmMvzdX0lp04P7sFCXDWZpODaYttUtHSqq4sYGPS8dUsaH4j2mdSAqanQqAVUYwtom7OxI6d7unqhPR8fgl+H2TfAmZYDujeuiRK3elP6/a9egVhGl1XGk7UqVp/ORJV5L2VzI4nVqZjpCd0ak67pYtq2JM0VRzs3QKlJm8Wu1WmxsbNBoNFhfX2dzczNfFItZps8++4ylpSVs26ZerwPg6twfRfn4nEZwHMhjvymfC04gOsF6cB9Wb8P9O/BXv4TZGQmmPoC1+btSXCSLfRjQax6qjBHGTvwolNK93X0xkTg6kuG5zzfhMCBp72O7DtxYEVX15pLY9X/+iZzb3qT0QxnHSb0vXSwFZarkupBCSDgwoMr7lQvmMYqiKO/L0CpSYRjSbrdpt9u5hbixJ3ddN7cbNywsLFCpVKjX67lDnmaalIskSRLNHJ+Z7NorWRCfSuAEWbO9I6V79Rp8ehe++gIW5qRnxPfFlQ+G61hbvVmn4kwpoDuseZhes/L+mDlncQzRCfzwA5yeiGlEeCLndNyBWg3urGB7npSn3lmVkr1by5IUWL4h57XjZCWqek/6UBgF2fO811RkY5FuAquS4+gAX0VR3ovhVKRSCIKARqNBq9XKTSYWFxepVqv5gNziizYGE6ZXClSyV96ffvWhB90snw1j23wSQXQo70/IiADu34Wvfgb3VuCrh9I7MluRYKTPBXNYyPsuC5hBvY7jqCw1TqTGKrYDRPDdX+DxY7EtB5j2YSkLkj65J8rT3DV4+KkEUOWyGKTYdrc8taT3ow+G1TV8KjkOTqZGmaRsGIpzqNkrJElCyfM+2stVFGV0GVpFqkjRQtwESv0W5bnBxIDNjqK8K+radx7s7lunJArTxKR8ypsU1alSlj6R8rTYPbvuSJU8DcxAZeMRlBGnhMxxckqiJAHgShA1YYE7JedxuQzVClRm5O3sTG8QZVwmhywhcBUp7g/gDeu7JsgURXkPhlORyrJJnuflD1Pj3G63cV2XdrudB1ImI2yaSM89U0q58rztgsgHQCuvI93bYuFcq8D169KMD6TVCtYvfyGlT188kPK+6bJsPh1nNIKoQqa76AZmPtbzYgyYdGF+Do4CMYpwXZltVi5Ln9O9VQmeVpbheh0qVTnXHUcSBI4jKpRuyoeCkiUW6cUxBUaZKg7wNeqyGaWiNumKopyFoVWkzIJWbAw1G5firIj+8r4kSbr9CorynhQviP6gSjfLP4GNbCY9D6anpPk+PMGqzUoJVH1WNqM3l6TcyXV/8kcOK/2mE8oY4DhiCjHtZ+duiFWfk56+u6vw88+lN2r1JtSq0vukZXvDS8GIwsr2CI7j5OYTJoAqGlBoW4CiKGdlOBUpui8ojmOCIKDVatFoNIjjmHK5zNraWr7gOY5DtVqlUqlQq9Wo1+tif55llhTlrNiWTclxpMk8ozivDFSReiuWDC5lyhO3smpFAqb2kahUD+7L1yozsvkcwevTrDn98+ySJAFbA+2RxagP5TLcydz3QJSpek16+GpVWFwg9X0szxvJ8/cqY1s2qU3P3qE4d8oYURRNKNQiXVGUtzG0ihSQy+0miNrc3OTg4IDJycnciceU2XzyyScsLi5y9+5dyuVyj5qlKOelR6HSjfKbsZBgqlyGh59BmkAnO3YlW8qmTC/UiF6bJnNtVHFDkiQ95UPKiDJbkYA/SeBnn4nxhD8Fk14e/FugZV+jiJVZpGfGEqbCxZT4QVdlNj3ZpjpGURRlEEOrSLmui+d51Go1bt68SaVSoVqt0mzKHJr+WRA3b96kXq9TrVZxHEcUKd3UKBdEj4ufKlJnw7EhQTafCaJUmd6RET5+ppRvkLNjmiRqMDDqmD4/EPX0NJZyP8fufY4y8lgFVcq0BhhMK4HZZ1i2Lf1W+rdXFKXA0CpS5XIZ3/epVCosLCyQJAmtVitvEjULnJkZVS6X8Twvd/TLFz1FOSf9PTAaRJ0BC8ngg6hShjFIbhTdvwxmTXIcR1zf1AFsdLFt6XsCmMjOXRNc6d91rCjZNqUJN0++Fkv7jFplAq2evm0NqBRFyRhaRcq2bOySTeIk+L6fL2pAXtNcXNiKluiOmduhC51yDkwA9Zr6oIrU2TDX3xgfq2KQ3ZPN1nNktDHnbr+JhN5Txg8LbKQ31i4kaYvXdf/7qY0mahVFAYZYkYo7cd4ftbGxQbvdZn19ne3tbeI45vj4mImJCarVKp7ncf/+fRYWFnKzCdu2sdGskfLumObiNzn36Qb5alPMPvWbTjiOo0GUoowaFpQQm/Qp3yctKFPFMQfFAdymf8pRq3tFudIMrSJVdNBptVo0m022t7fZ3NzMnfwcx+Hk5ISJiQlqtVpeDtivICjKRaIbZQXo6cEsqpc6k1dRRpCCTTqF6xl4rXcKuvPkKH3QV6koypAxtIpUu90mCAIajQbNZpMgCKjX63kvlCn3a7VaAERRxM7LndwK3Qz0zRc7RTkH2iOlDMIoUiZznS+oGmwrykhTchxcXg+iikle6KpUE67bLfdThUpRrgxDq0gFQcDu7i7NZjMPpBYXF1ldXaVWq7G0tES73ebrr78mCALCMKTdbuNNedTr9TyIGqdASlW2D4OZNfImdJOsQLcE1FihR1GkNsmKMiaUbJuS60LKa0YUxi7dGFGYfYaVXf96f1CUq8PQKlLQ3aQUHz/1HMNF/kIfi3TAwM9x+L2GmUFBkikVNcdeb5IKZIY4xfMie79TsExWFGX0sWwbm+7YlbgwsB26rp2GCdfVQb6KckV4J0UqlX0mvD1OubBAqr/Zv/gozpF6UzA10otY+nqU22+AoFw8bwqS1JFNGURxATXXp7FMVvdQRRkDrG7flLnei4N8jVV60YgCMldhY6Ova4CijC3vqkgVzWveJJBcjP15IVgyb82iZcr4wjDMX4h5XjHAGmWi0ygvFzKLtvldlcujGCQVB6+qa58yCJOp7idJEg24FWXMMPeBkuNA1iNVpL9ypJMmokypg7CijC3vokglaXd9eNue/sIG8poNbKPRIEkStre3efLkSW49auqUbdtmcXGRer1OpVLB930cx5HFbpRIu7bvzWaTVqvF+vo6T548ySevm5ps5XIobnwHOTXp5ljJySyTE5ueXkztlVKU8aZk2XielwdNRpEyH4dh2FMCaJK8lm1TGvEkr6IovZxFkSquE0EQ5ONS3sSFRC/GLCKKIjzPI4oi1tbWeP78ef5iHMehUqkwNTXF4uJibn/ueV6vg86IkKRJrj41Gg0ajQZbW1tsbm6SJAnXrl2jXC6rvfslMkiRettzlCuO1e2Vgt6MdEp2rmg2WlHGC6ubPOlkGyJTIVMs8yveq22jXuu9W1HGirMoUiaQiqIoXyuMODLoe98vkBowfMW2bXzfZ2lpKbc0X1xc7AmkyuUyruuysrKSK1KjGmTYVre+ulKpALCwsEAQBHlAaYYAwoj3gA0pb1KkFOWNpL3DeU3vRCfLRud9EoqijBep5EisvlaEYslOUaUyawRkxhVql64oI8+7KFJJkuQBlOd5b2xFeq9AymT5O2lCqS+gKJfLxHHM3bt3CcMwf0G2befKVTHIGNkmbwuckizGJigMggAgD6aKGzbd6F88/YqUovwkhey0CaKKa5QqmIoypljd5JvneYAoVKdZT7PZOJl1wbbtfJ9i2zJmY9QqZxRF6eWt4kYmEhk1Crrun+VyWfYOA4Skdw+kMoe6BNl8nCS9zVjGaMEYTJhNiumVsm2bSqWSB1NTvg9I/8LIBVMZ5g9iaqv7gycNoi4Hc1NM9fgq70j/Ymqu0QFrpKIoY4rZchTVJ0NxbTCJFhxH9irFb1YUZWR42768mEg1fVGvqVADrvt3DqTiTpwrLq1Wq8eNr9Vqsb29nQ/obTQalEqlnu+3bZs7d+6wsLDA0tISKysreUA1ctmeLMNlyoE8z8ubWovlAqqWXBLZCW3p8VXeAafkkNhJboIDdO2Q4xjrDXXQiqKMF7Zt402KOjXhuqR9FukmK120Szdv1S5dUUaPtylS/ey/AgcAACAASURBVBVOxWDqbfvM9yvt63O/MQuOacyKooggCDg+Pu6J5owyFQRBHozlzd5JMrqNnZZYrPbPxxqbOVlDjrmP6TFWzoptvW5OosqxolxBshtIybKhsC4UK0uKCRfz+U42qHOUq2kU5apxFkVq0Fzct13i7xxImbphE6UVg6EwDKlUKkRRxOrqam4baF60yeosLCxQqVSo1+v4vj8Ws6R+Ct2kXT6DLNAVpR+zWBY3Sqan0Tj4KYpyxcgu/OIsTLNGFO3Si/MiiypV3vOtQZWiDC1nUaSKnMV5+90DqYK5BNBTHuP7Pr7v54tNcZp4Matj5keZGVI9jjiK8p70W9jqhlgZRHEhLbp2mUfH9EOMeXJHUZQCWQBUHJHQydaD/jUC6EkA53ui0ms/VVGUIeKsPVKGs4g871XaZ4bnutmL6S/pKw6hDcOQZrNJGIb5sN6bN29Sq9VyRSqOY7UdVs6NqlDKu1AsxR3UWK7ZZUW5wmR26cZpeFBSuNjiYJIyJkFj2Xa371vXEUUZCoZCkcLqWoCWXAl+TBBVDKSM1XkQBOzs7NBsNnn69GlPVsfzPOr1+tiX9SkfhjcN5VWUQdi2GMUUF0qzNrnZ2kaKboIU5SpSsEs360FRoTKlfUW7dFPmZxyKLdeVn6HriKIMBZehSF1IBNNvf24eJlNjmJiYeC3zm2d4Ut0AK+dDgyjlfSgulD2DOXVNUq46afZIku7jCmPBayr2IIvk4p6ok+paoijDwvsoUj/Fe5X29RMEAY1GI38bRVHe9xQci0Llui71ej1/Ue12O3+4rkulUulmgRXlHRl0E1OUn8TqGugUkzuQnUf24MVVUcaOYlOpWUM7cTeA6iQw4YC5T1/BShLbtvMeqn679GLpXxiGAD0DfXPrdC0ZVpSPxoUoUn0N+BcSSMVxnJf3hWFIGIY9lufmBZtp4rZt91ina0mWchGcpZZVUfqxChkqHaKtXHnSLGgigTiGhOxtdk04zpUMonIKJX8U3P2KCRjzfjGIMl9TQwpF+Xi8b49UT57J2KQbB+Bzv6pUsi6e5+WBVHFOlO/7lMtlPM/D9/2Bv9CbfilFeRf6A/I0SXRYr/KTmIZys2CaTZBJ8rgTrmaQlfHC7ApSU7IHRJF8fBxCowlHR/DiJbTaEIYQRnBjAf7qF+D7UPZBh9LKDMls7TD7GNM3BfQoVWZ9Mc8tOU5eLqgoyuXzvopUmiRZTqk7qNtw/kDK6rratNttwjCk3W6zt7dHs9nk+vXrVCoVPM+jXC5j2zbtdru3fOYNv5SivCuqbirvSnGmlNngFE1xSo6jQzeV8cJCAqgUUZtS4CSEkwgOWvB4DRoH8D/+BbZ24OgQ2kfw1RewfAPq16TEz3Hgipe+lgqjEorjYICeXvFBhhTQLRcEdI1RlEvmXRUpg7mujWBkruckSS5OkSqXy0RRRL1ezx37pqamWFhYoF6v47puXi9sZPByuZzPktKMjHIRaBClvA+WbWPT20huMseKMvIYBSpJRHWKIlGYwhD29uXjl6/g8AgO2/D0ObQOYW0d9puiUrXbcHggwdZJpl6BvL3iwVSRYmKmuLcpGm+Zj/PNmCPHMleoNLBSlEvhXRWpYoLVGjAyxbbPW9qXLc6+7+N5Xp5hCcOQVqtFq9WiVquxsLAwMNNrBvOaobyK8r4Uh/FqMKW8E2akg/X6TCmAThyDqlLKKJNm6lMnlv6nwyMJlLZfwZ++lfK9b76HF1uk4QnWxhYEJ5BGcJpCpwNRCDeuw8EB+B6cxmrrPQgrs0tPoeN21xBT7tdvaDPINr3kON0ZVIqiXBjvokj1P8eU4Rrl+XyKVCqRW395HpAHRabcz2RmBj2v3zJUUS4CPaeU96W4JvVsdpIESnpeKSNAUX0CCZ5OIgl8gkDUp/0DeLUHO3uwtgGtA3ixBXv7WGH23IkSnLrgQtLel1kpJ6fytU72szWIejMWknwBUrurUvX3YhqKg37JkjdWqvczRblI3kWRGvScC1GkjLWneVvMrgRBQKvVygfzttttgiBgd3e350XVarXc7lyd1pSLRhUp5X0xCZ6i2yh0jSfUCl0ZWoqb8CTpBjztrFTv6Ai+fwzrG6JEPXkG4bEoU50OzMxI39Pydfhf/h3YFpycQHiC/fs/wqNHMDkhFugGVaTeTnZsiiV+k5l78WnWP1V0+QuCoOf5xYSzGSlT/LmKorwb76tImevQdd3ea5FzmE0kSfJaI2W/dG0WBxN4maCpXC6/tlFRFEX5qLxhcxLHMY7j9I+OUJThwQzONS58cdYHdRJBO4DdPSnn23wJz57DxhY8eQ7RCZA5UE35MF2CclkMJSZKcNCG8ASmpz7iLzce9G/cOoV+cUNRlTJfMwnnXGgc0MehKMrZOK8iBa9fy+8cSKV0L/airad538yRMsN2B72AKIpeswdVFEX52BRLkYu9UlEUSe+C2j0rH5N+0whz7zyJxBTiKBC16egI1rdgrwGHAWxuyefabXHfcybg07tQnoabNySIur0MlRn53OqKqFQ/PIadBmQqinJxFG3TzbozyM3YDPct2qbnKpUO91WUd+I8PVJv4r0Uqf4LvihPm0DKBFP9zduO4+SBVNG1RrO9ykXRU2uuKO+AKd8rlhwXz6UkcyrTjLByaZylXM4EUZ3scRhIz1OjCX95lJlIfAObL0SR2n5J0jnBnp4GdwpuLcG9u7C8BH/9C5idIb27ijV3TXoBZ8rQbEnwFXdIPVf36xdM0Ta92HderPIpVvYUy/2KJX+2muAoypm5CEWqn3cOpMzwSrPJcF03D4pMb4EZxFuv1/OLPkkS4lNZEMozYntuXP4U5Tz0n/jac6e8N4WMTtFlFMjLa3TPolwq5gTLe56M8pSIZXkUibIURLC/D4eHUrb39LlYl798Cc0DsTZ3p6A+BdfnsT0X6nOiOF2/DsuLMHcNVpZhysMq+zIXCl43rFAuj74scrFPs6hWFRM7/aMZHMfBsm21TleUn2AoFCnbtvF9H1KxPU+B4yAgiqLcAj2O49yxz/M8PM8jSRKazWZPb1RxhpRe88p5GOS2pijvTLYQlbIEUDEznCQJnTimpKMalA9BkkACxBFEsbjvHbRFJXr2XAbmfvuDmEccHMDjZ9Lz1OnI98/NwZQH9Rr8/AuYLcPd29L/dG0W5mpiHDHhgg0Uy8TMwF6AuPPhf/erRHbMbas7pJcUEjd5reKn2EYB9CS0oeuabNl27hiomytF6TIUilSO1Y3eirN7iqYSZgiv7/tEUZTPijL9UcVsr5b2KReBlvQpF0Vx9h3ouaVcMknSDWCSzCyik0BwLO55JxHsNUWB2nopgdT+vvRBtY+6QVSpJMpSpQJzs1CdhcV5qFbg+oKoUpUKzFbebumvyv7Hw+rNjvevRf0UZ9ok5vwxs6hURleUnKFQpF4jhXa7TbPZJAxDdnd3SZKEer1OtVqVF5JK8NRoNPLeqSiK8kG9xk6wpKV+yjnp3/ja8smP+pqU0aNk2aRZ4sf0dRazwqXJrPleNyjKeSlZYlUeZbblJ1n53l5Dgqj1TXixA0EoStRxANs7EIYyPPfkFCZd+PIhTE9L31N1Bm4uQW0WJidhcQG8STGT8KdEibLQTfaQU1SpikY4RXWqqFIZM6/XTCmMSmXZknXXe6JyRRkuRaqACY6CIKDRaOSlfeZhXpB5TqvVIggCPM+jUqm80wtWlDcxaMihorwXVm+5qAnQjRW6opwLuzT483EsKlE7gN2s/+n7J7D2TPqg/vKdfK25B6cnWNNV8H24Pi8B1OI8fP5p9vENmM/K9yY9DZhGkb7KH+hVn4qOfsU9VDGIMvbpJAmWrl3KFWc4Falsw2E2F8Yq2ARXruvSPpIAKggCwjDssT4vblYURVGGBdvqzepCYfSDce9TxyzlrFgDkoVhBIeZ6vSX78R1r3EgVubrG/J1Yx7RAbwpUZ0+uyfle4sLsLDQ7X8qT8vnpqeklM/0P8F4q08yl0XcDE0yzbYBWwLTt5Uwjhi2Zed/U9d1cxUKegMqs2b1m4EV17OS4/QaVMD4niOKwvsrUm9rP7qQ9ER/o38URQRBkPdIlctlCaSOAoJjCaaK1ufjGEyN2+8zKqgqpVwYhSSR2awUxz5Yeo0r74o5Z2wLklTK9EqWDMqd/kGc9775VkwlHv0A0TFYWcm7Pynzneo1+OxTcd375I7Ylk9NyueNYcRVc25LMxv4JJYySZBA0/z+YxRIGZWqmMA2b83+q1iGDLy21yo6JpccR8c6KFeG91Wk3raUXkggVXTnM64xYRjmZX5mvlTrsJWbThj7c9MfNeqkffXK/Vkh5cOgJaLKRTPoGs7778Zpg6ZcPkkCpQkp7YtP4DiUAODFSynBe/kSwhM4jcQQIpmGcpl0ahLKPtbqbajMyvDc+TmoVbGmpsBzJYga5/OxmBI263wnFmfD06yv7CSCVlu+5nsSTHmeqHNX5F5c3CiaEsD+zWNRoSoGWQlJPksPuDqBuHJleFdFqpiUeNN1cSERTKVSwfM8bNtmd3cXgI2Njfz9iYkJAEqlEq7rcvfuXRYXF6nValQqFQm+SiMYTGULe3Qa5QFjf9ZaN/YfFg1clYvEtl6f4wL0lMhoeZ9yJqxsAGvJBqcExx14vgVpBOvPs16mSXBdcdT71c9hZho+/xQrm/XE6ooECNO+PM9xJICyuRqBghlCHEWiQkWR2LO/2odWCxoN+P6xPHe+LsfvxiJ89VCOlz2e12pugz7h4k64JGmSx52dvgG/Rft087396lb+uZLTu7kcw2OnXC3Ookj1tyuZayavQumf/XZRL6xodZ50kh7pOAxDXNdlamoqf47v+3nwZY/w4mamkYdhmPd/mdJF5cOjgaty0Vi2DYWsLZCbTujYBuVMmCAKGyYmRCWJOxCc9D7Pn5IhudVZWLkpAdXKMtxekUBgcUHUp3E3jyheWGkiH3di6X+KYggCeb8VwMkxvNqT/rJXe/BkXQLVk0iO45QnwVea0G0YG1MKM6nMMUz7THMM/Zl5kxwq3kNjTL9Z4ecqyghzVkWqZ5xA9vzOG/b1F1balwLVapWVlRUZzjvlsbCwAJC7+FWrVTzPo16vUy6X8X1/dBWEFOKOZHoajQatVov19XWePHlCHMd56aJu7D88OvtHuTAsKGFjZVnaYi8CgBPH4DhYqaqhyluwyMrMXHHWu3dbZj9dr0tAdfcWzM/LY+m62JbfuJ6pUzOiQJUcUaNGsXrjrKRIwJMkEBfMI06z4KkdQLMlNvAnkbzdbchjr0HabmO92pPjdvumzMw6PYW//hU4WTB7RYIBsyl0Sk5+TyyuX/2bxEHDfvsfE67bNadQ+3xlBDmLIjWR7d2NM2aSJARB8MZ7/IUpUiAOMrVaLb9IjSplAqnFxcW8P6pHjYKRuyCTtLvomDlajUaDRqNBp9OdBN/vkqNcDsVacFUDlQul0NxdzFLlw8fVeEI5K7Ytznpzc6JKTfpgdWD1DtxfhRsLsHoLpstiHuGOcdA0iMz0QAKpTIHqxBI0mSBqd1dMOQ5a8MOPsP0KXu1CYxcrjCESS3CiSILV5aWuqnWFKO45zPoFQCHpY4wp+oMq8/39ZX+dOM7NKVSdUkaRtybZsxjESkUgelMpbD8Xskqbi7HVarGzs0O73WZ9fZ3t7W3K5TLVarXHXKLVamHbNpVKJe+Rcl13pC5M27IpOQ6ebVOr1fA8j1arlfdKFQcNa6/Uh0WDVuUy6Lca7h+E6U64I5UMUj4glp31NNnw889FcTqNpeQMpJyvXstsy6vSL1XqlmeN1Xllfqc0U53I+p46CZyEEjQdBRIcHR3LMOL2kQwo3n4FR0ewu0can2KFkXzfjetw57aU9j3+HiYmpUyyyDgdw/Ng9Sa/jVI1yCzLUOz7Jhv4C72OzY7jvL6H02OuDBlvU6Ty51hdt17f93uuh0F7+QsJpEzw0G632djYoNls8uOPP/L8+XMWFxfz5xhXv+LMA8/z8gt5pDbAWclPYpMHiouLi8RxnM/LAt3Ufww0aFUuA8vuGk8U17BixnbUlHXlA2GRqUsOfPEAHtyXz5v7g+PI+1fl/DHle0lf+d5BS4Kn3QY8XpOhxN89gr19ePVKzDlOO5BGcphqdSiXYfk63L4Fmy9gb09+1puGHiuDN5Npt+fbJIiK7xeTSD2GFNnaZ9sy38q2bFWslKHlTG0fhSqU8nQZEFO54vcVq6AuLJAyZgsmm2FUpsnJyfyi67cSLKo3o7r57R/aWZw7M6q/08hhGmz7jnm/05qinAcL8o1v0dHHoJsH5UzkxhNIv1OajPfcp2LfUwLEkbyNIul7iiJotuXt7q7YlzdbEjS1DqHdlsHEVkks4T0XJl1wJuD6Ilwrw/XrMlcLxPmwVJJjHHfe8sKUnEwlLDba2/brjqX9e5r+IKu4D0ptSTbnjOO5PQqMo6p9Ds6iSOWk3ft6/yiB4s+4kEAqCILccMEEU77vMz8/n1ujGwnZKDZRFFEul/Pne553ES/lw5KdmE7JIXGSvHSxGBzqRv4DUKh9f6eLRFHeAbPJeFvtdMlxKGkwpbwN2wbbLX7io72US6Prvd1VnuJMeQoCCYyOjuD5pgRNa8+ldG/zhZTthSdYB4fyM5ySBE4zs7C0BPNV+OQuzJTF0bBalZLIuWvwX/4R/us/Q9AWlU85G4VNtrFPL2XHLy2sc28yqSgySK0qGUMeSwOrD0IWAEgOQ/4+jhnWfcV5JyMyq3DfLznwBpH7Qkv7zAwlE0CYvqhiNuNNj5HGkoWimI2B1xUS5fIYpEblXJVyGeVyKSifg2yEIbtpaRCvvI2rshYZFaqTBVBR1s90FMjQ4WZLSvf2m7C+Abt7YiKxt4d1GkN0DO6UqFDOBEw6EkQt34C7t8Xa/PYy1GoSaE15sFCHiWxO1zgPJ75MrP6Ap9dkB3ht71ZMGpvREP2fB9ncg9qoXzbFICq/P33MStch2oO9d7L9La//wlz7TPbBKWSBTHAVBEH+vpGA89rCvu9RlPdBA1blQ2GMZPpLk6Mo6mZjjT2woow7SdIt34szBSqM5P12IMpTswVb22IksbEFh0eiTL3ckaCq3ZYyvJlpCZzKvljDT3pSsjftw7UqLMzB9DTMz4l5R7UivWfGmKPo2HqaSFA1CoxA+ZVZ94wjc48BBb3qVH/LxiBzip6WCDWpuDCSJKHdbhMEQc99yVSH5W6zxXaUS1Cr3mSpD7zzvr+TJHlQ2C++THpetwrkDL/DZYzGOX8EkzJQiYFu/WxxQG2/5GsOqJZiKedh0KKtKJdBf4N1/81iwpXSGBsNppQxxwI6AIUAKkkkSDoOM1vyJmy9hD99B4eH8ONTMZUIAmg15edMz0hv08qKBEvLS/DFZ1CfhTurUsbnZ8HUoGvKZLzN5izuwLTeBy6EgkJVvLcWx9v0m1P0b3h7nP0G9F8VN9WqVp2DlHzmUbPZJIoiwjDMHaSN2Zs57qZizLmE2XTFc8GYlBTPn/z/PMM9stN3jhWxbRsrOxfPcu5cRvvH+Y+eJRdUuVzOXfiKLn7Hx8fs7+8zMTFBuVzOZ01VZir5x67r5vW4ivI+vM2eMt/Ugm5slQuhaDJjMDcNM/3cnXDf9O2KMrqcxpCkEIZw5EjJXtGy/OQUdnbhsA3NA9hpQOsAtnfgJJayu3KZdHYG686KzNOqz4E3CSs3pWRv7hrcugGeL0HUlCcKVJrA2xIUZpPllIZLkTKKnXkL8lpTpNzRGI64jhiQ2KOThLFsm1Jhc2rUKBic9e+ZwWfbA5OgZj84sN90RI7Lh8YELGEYsra2xvr6Oo7j5B4Ftm3TbDZptVoEQYDv+9TrdTzPy0f4XAhZf5bxTDBzVosVaLVajVqtlpvSvenndFJRosxrDsOQZlOSL+bcWVlZoVwu54HhWY5T8e1FcCHRi+mFAmg2mySJTAPe29sjjmP29/eZmZlheXkZz/NYWFigNlejWq1SLpe1QVs5Nz/Vj6aOasqFYtGzcBdV97ysRc85ZVxJYgmksKHV6g7K/fMjUZuerkngtLcvKtRpnM3GKsGNRZidwVqowcOHMlPrzgrMVmBxXkr7SrY8H1tmb5lS2Z/KIhcTssMSREGva2Enlo+juDt4OIrkd6tUwAVwRqbHywRRpWwtTJIkr1Q8LYyJMAqFob9Kqfi+kz0vdRwx89Leqp/EGLk1m02+++47/tt/+29UKhU++eQTXNel2WziOA5ra2vs7OywuLjIgwcPqNVqlMvlCwukOqkkExuNBo1Gg+3tbR49eoTjOPi+j+d53L9/H9d1JXZ4w/zFJPs5SZLQaDTY2dmh0Wjw5MkTgFyEcV2XlZWVtwdlBYZTkSpgIk7XdalWqywsLBCGYR5o1Wo1fN+nWq1SqVRyJaqk/QTKOfmp7IIuwMpFU7RENU5+0D0X07d9s6KMIienYg5h3nccODiAxgHs7MHaMwhkYC6HR/K8CRemfKjMwtQE3LolvU3XqnB/VfqhbtyAii/GEWX//V+fUaT6bc9T+8NckMVhw0X1KYq6fWNRJEFUEMqxik9ldpbjwL3bMhfL96A0gk7GZBvU7Dh0CptW01dVVKP66VcLiuZllm3TSROsolW77htzoiii2WzSbDbZ3d3l4OAA6Bp+mOMehiGHh4f4vp8HV3m5XMEUongfS39if2XZNiVL/j6nmelco9Fga2uLVquV//9hGOavc3d3l0qlwpTvDxRSTGCYJAm7u7tsb2/nfguD2ojOytAqUsZQIkmSPLKt1+s90q2JRotNb3ZBElaU8/BT2QVVB5QLJytrNgtycVivWfMsx9EbvjI+NBrwT3+Q949COD2BvQPYfSXBSxDIINzKjBhH1G9Jv1O9Bp9/KgHC0iJUylKq5/uiPE1k5WznLfE3399f2mcll38NJgXVyczKimOIE9KDA6xmU/rFXu1B+wiebcLmlhht7DakpPH//D/gs3tw47o4ENr2T6tww0h2rF3XhbRrqV50kisGS8Uk1CBzAqCnr958LX//KtuqZ8FPq9Xi66+/Znd3l2fPnvFye5vJyclccTLlfUbYCIKAtbU1oijiwYMHPT/SBD3Q/fu8bY9VNCIJgoAgCPiXf/kXvvnmG65fv87Dhw8Jw5Dt7W3a7TaPHj1iY2OD1dVV6vU6Jc/rBnFZoBwEARsbG0RRxNdff80PP/zA/Pw8d+/exfO8vGTRlPWdVWEaWkWqf7hu8Y9lmtyKjW1Tvq8BlHKh/JSNvgZRymXRP6CvX5lSlJHGKfgmn5yI2gRwcATHgZTyvdyVz02UssCo1O19uj4vJXsry+BPw9KCqE4XETj1U1SkimYTl6VIFX9mks3KSmJRnDqx9I4lCdbhoQRRjSa8eAnBsQRRG5tw0IatFxI4NVuiVPU11I80ZmxE7qxmQwmi064BQbE0v99S3TwGzefsOfxXPFlq3PqMY5/B7L1zY4nCNReGYT7LtYgYYMZ5YvBtgZRxcTTKlnHobrfbtFqtvBLNvBbz/8ZxTKvVGtxHl3ZnzoZhSKvVotlsMjs72xNXmLfvepyKby+CC5sjFYYhQRCws7NDFEVUKhV836dcLlOpVHouhJMwzIOrd3HuUJQ38bYyAdBFVrlciqUrQE9W1cnq/HWNU0aOTBGxnAkpyzuN4fGaqE6uC5MTsLgIqyuiQi0vwYwvwVPtGszOQK0K/pR8XJoQ4wizXl+07fdlKVL9JXuduGsS0ckeQQCttti9v9oT6/fNF9A6FNON7VdwEsrn41NRpU6izCI+kOe12tJTlgVgjOE9y9yL+5Wl/rlU5m2/kZRxgDPfC70qlXlY2dcsBiRSx3AtNgJGuVzOAxfP8/I9uDGWaB208iApCIKBas5Ru82TJ0/yPX273X7jHitJEur1Og8fPsx/Zpjt8SuVCjdu3ODTTz8liiJqtRrBUcDaszUeP35MtVoliiL8KT8/L4oGE2tra3nf19HREfv7+2xsbOQBlOd5VKtVfN8fcUUqldI+U97XaDRySRDoaf7qr3st2p7rJle5CPovDj2/lA9B0XXU3OhNMGXbkoEdpqGEinImJifBtiRAmZiUIblPf4TpKizUSUsWVr0Gt2/B/Dz84qEYJtxclB6oCUeUqQ9Fv5Jj1LROcjGKlCnf6yQS7MSJ9DwlMewfSIne3j48ey59Y98/kgDqoAWNfTjtQJoFAu6UHJ/gBI6P4HBSlKrDo/FSpProvyf3O59C14hikKV68Xnm+80Q4IFzijLjn/z/Grfm1eyeYgILU/LmT0/jui6e5+UOfZVKRfqWDrsueIOIoijvb3ry5Al7e3s4jkOp1DvV9/T0lDiOuXXrFgsLC9i2TRAE+T3QdV0qlQo3b94kjmN836fdbrPzaifv50qSJP/7QLf0MwiCvC9qb09U8FarRaPR6Klya7fbP1mRVGQ4FSmre9IWpcV2uw1ApVLJbQ5BTmQTQVarVWq1Wp6R0Pk/ynkZlNECVaSUy8VCgimTICre+B3HkSZpNKBXRgjHgdlZuLUM91ZJw2MA0mtV7AkHFpewqjNdu/JaFW7cIJ2axJr2MzXFvnjV6adecxFjOlF6hz5Fs8EyypPpdUoTmY0VhtAK4NUr+fz/z97bdrdxZNmaOyMDySQIghAE0zStlmW1S+VbXdO3p6bWrJ7+ML95vs1f6LWmb3fdnqm6bl+3yyXTKpqiKQgEk8lEvsyHyBOITCRIUAJJgNjPWhRAvBGkAGTs2OfsczY0LtT5BfDTz8DlpRFNV7FxorLc/H2ePjGiUoYIJ6VYOvor8P+cTX9+bbG6Scjno681Cmezve5QzYw4qUWqu31XTQOAPaWqn8ePYINLHKA8z7G3t4fd3V3s7u5if38fvV7P9jDNc/vqjyWR6GmaotfrNTpXslm4v7+PTqcDADYvYd66vp7SWA8fcZ+fmDRiyHz66af4+uuvL6bYfQAAIABJREFUkaYpTk5OkKYpTt+asuLBYIDubvfG/8vVdKQwtWal5vGXX36xefVhGKLb7aLVasH3fSil8MUXX2AwGODZs2eVjHsKKfKxzHuTcAFL7hJbs+8cONzGaaUUZ+WR9SLQwH7fBET8b/8VXm8P2A7hHR4AvY5J39srB+nu7JiYcqVL/aSmZWn3uUhdRo+UFVC5KWXMctMbdnVlRNP5BfDm2JQ4nl8Ar4+M+3Q2BH7+q7mP0H9iSiAHfTMj6+AT497t7pj7JgnwL38A/r//UfaXba6IAmBfK77XELJR/v8lk6QinG4SBk0ulbux7ykFr1h/USXiR8yKnZ0dDAYDHB4emvYab+rMuXO7mtbdQRBgMBiYsrt225YAyn3qG9VSPihBS3LMq/cwSV+TPJbrNnq15yEtQ+Ka7e3tYX9/H7/73e+smxVFEV7/+Bonb0/w6tUrvPzy5Y1/p9VzpMoXtjSXuY1mQhAEVkS1Wq1pip+vK/+J9T8iIR/CvDcJHSlyH3hOvb/7OQiUEbL8nCPrglJlsl4OfPLUlJ3tdozztLtrRFS3dFe226u1AL2pR8oVVW5UeV7Od0oSYFLGkmep6V+K4mms+8lb4Kdj40SdvQfORyapz/dN3Hu4ZZ7DoJyLdTAwzt5+H/hsH9jZBrYC81hbW/f4h/lA3B6xOvf1mSahFQv+vHr5n7upVQlPyHNTTVCmClpRtUqv5wVwHTfXDXJdvWsFaG2jwV3Pi0CqI/cNw7DymHLbLMsqP08eq0nIZWlacZTlubdaLTvjyp0dJYLMDcRYZJ23Wo5UAaRZapM1xuMx4kuTxOH7PnZ3dxGGIZ48eYL9/X1bqymqudvtWrtRlTYrIR+EVwpxxx6mI0UeAg/TGHTZbXNDJ5RSa3mQJhuIUkY4ddpmgfM3nxvRFIZGBEhohF7RIBV3IG/dkRLHSZL2itJ9KnIUw3OTsvfuPXByasTST8emTO/kzPRBTWITFgEARekidbvA3xwC3R3goAzdEPept2dcqVbLRL8DpqQPMBHwq4grnlKJdi9LHRWmQ5K3wnv9/9e+Rq6qs/qyWnz6vH6qevKfXcg7QmFeCeDMIn0FX/Pu79w0ANn9ctO20zS1KYpBENhZT+PxGMfHxxgOh5W/S/3nHBwcoNfr2T4t+Xnn5+c2Dt19THG6RBP4WuOqnDHlCsFer4cwDNFqtdBqtWzUuQzzlXJCV5zd5m+0LD7KkXJLV6IoQnw1jVGUBrd+v4/9/X37vdbazpqSWVIs6SMfixl6P2s5C3SkyH0gQ3rt97WdUL4GydqglBFLgFnsHz7s01kIt3zWdaTyWnhDXn5JWESRT6PK358Dv/xiSvW+/U/jRP2P/zAC6ue3wNtToOUBXmBK8bpdk0q40wP+5pkJ2fj6b00v1K9eAk/7QBhUBVOWm6S+i8iIq9YKrsqFAmXfWOnWibPul+WbwT2nC3qzG6N+2UMjx313Ye2G/9RFllviJ6eSvqq1hjIXTkviZB2xwv9d80Rk/fd3y+rqs6Ly3KTmjUYjnJ6e4t27dwBQCZsQtynLMmitEcdxJU1PnCIZwivJ3uPx2P59XSNFnoPcX2bPuus6eXy5TbvdtlHqiwqjlXKk0iyd1ii+fo2joyOMx2NcXl5iMpkAMH902Y0NggAHBwe2J8r9Y3lcYJCPxHzW5xVhLm8shqWR+0R2MqVvtHKwylIzBR6rfTAmpEK9v2hVX7tNPVJ5KZYuY/MFAMOhKduT+U6jsYksn0yM6zR6D0Rl2V6ambjyVgC8+MJ8Pd0Dnj41AulpH9hpGwG1/9SU6g36pryv3zNi1G8I3chy83yz7D7/QlWkpFH6wuR5yXNLEvP17r05/fmtEZydHSNad9rAq78F9rrmvg/8upB1ZCsIrEtV71mV81LiJ8h17iBauX89Zt193GuTgR/g7yFujtsTliSJjTH/4Ycf8Je//AWTyQTn5+fIsgw//PAD4jhGv9/Hp+U6/auvvkKSJHj+/Hkl3a8pFKLT6eDZs2cApq0+3W4XnU4H4/EY//qv/2qfQ5Ik0Frj17/+tb1PHMf45ptvMBwO8ezZMxwcHCAIAjx//hxJkuDbb7/Fzz//jOPjY/zhD3+ww3rjOMbz58/R7XZNauACOmKlHCkJlhgOhzg6OsKf//xnTCYTXF5e2ie5tbVlFxJBEODw8NDk23NlS5aMvJzqddGE3CuyW1qgchCr1+b7reCGByJkhViX43VToEtWOimqjCnPc+D4xAy/PT4B/vO1Kdv707fAeAyMRsC70TSm3AuAzz81YmH/UxMYcXgA/N2vTciGXBeUrpN73Fn07za5MnHoD4HbHwYYATVJgThGcXllHLrjN8BwXAZsRICkNXZ2gGefTcsVH3pD3AmrEJfKUhhHaV6P0Dwnp6mkrV7+B8D2WPlNZYD3RF3wuaEOJycnOD09xevXr/HDDz8AAM7Pz5EkiZ3XlOdmJlR7u42XLxuCG9y1e8M6Ps9zGxAh86yiKMK//Mu/YDKZ2J/x5Zdf4tWrVxgMBgCMkPr222/x+vVr5Hlu236ePXuGJEnw3XffYTgcApi6jeKS/f3f/z1evHiBXq93q7/RSjhSAKxdp5TC1tYWtre37R9GFg9i8bm1mJWUlHX5gCZrQX0mBcUUeSjcWm/XmQJYakrInSAOg4RNeJlxl/7yoxFZF+WMpjc/mwCJX4bAX4+B80ugyAClgU7HiKIgAHZ3UIQBvP0BsPfEOE5P+8D+wCTybYemZywIzOOrD1zTtJzACX/Jnwtur5MIhDw3pY2TxIgmCdZAbgRTHAMXF/DGF9NwjdEF8PpH5Fcx1GjPXP60Z267RkE6TT1SUlIm1N0KV5BID6zcri66ilJc5UUOhdrf5A7Xu0opO4B3MBjgyy+/xP7+vn2+UkrX7/fx+eefYzKZ2LyCTqczk7DXiDfnfO15SOrfF198YR2qPM+xu7sLADg4OLBzreRn9no9RFGETqdjn7NUsO3v7+NXv/pVpQdLyv5knFIQBAv9fVfKkRLlGUURwjC0zWZfffUVwjDE69evcXx8DK21HdYbRZH5oU6aiPbLp0BBRZYAHSmyEnhA0ApM5Hk55R1ApZnW19r29hFCloDWRkSlGZCOTTnaN/8T+L/+bxNf/tMxMI6A01NT1idsbQFPTLw7Dj4HPt0HPv0EePW38NqhcaC6XZO21942zovWJnRBOVHdt1nHNCXgAcZBWyZ5Pg2MkHlYk9Scfz8yfVpvf5nOw/rme+DsF+PSHb815ZDDIRBfARdDIw16A+Czz4DDQ+D//D+Azw6MAKy7QKuE01slc4kCpzJA+qCkpE/WEm4wg/T9XDcbyZ2dVAm0QPWzftlGwlYYWmHUbrfx6tUrtNtttIIAkySxwQy//e1v8eLFC3OnAlC+skERIk4+9HkppRBuhcAW8Pvf/x6/+c1vMBqN8ObNGyv0RGTJAF/5+vrrr/Hs2TMMBgMbKiGC6h//8R/x29/+FlEUYTgc2plZoj3k9os+R/d0GXx02ET9RVZPBZFGMKUUzs7OEMex/WOGYQgVXlNfSsiCyKYbHSmySsjxyI2fBcrX5hrt4hKyVmgfiBMjFs4vgJ9PjBB4NzTCIM1MVHmwZfqcdnZMyV47NIl7n39qIt+fHZrrP/vUCKitYHliYd6a50McqXqcOzB1nZJk2u8Ux+b8xaX5/mxo0gd/eWcSCrPMlPG9OzeC8+LC/K2UD7TMcjFPUqiLcyDuAVFkri8kym/NcARDfRiwvdwRSG7qn4u71pDb1J0r1wkDTJBkZX5V7fl8yK8iIk5cnTAM7WadDNeV84Ib+hAEgSlV/Jj2m/J+koEAAOPx2Ao1N3AOALLybyLXuSF02teAD/v7yFDhIAhs+Z/7cxZhpRwpl9FohOPjY5vyobXGyckJ3r9/D8Dswu7s7CCKIrTbbQwGA/R6PfT7fQwGg5khXYTclqadfb6eyINS7oDKh7xb4iAbTVpr0y9FR56Q5RCG5bDbK2A0NOIgSYwA2g5NHPnXvzKnT56YyPLOjpnvFIZGVO22jWhqd8yg4TAok+qWOFTbdaTcHqnbOFIioMro6kpQRJYCV6np+Ypik0T4409GYP50bPrBTs9MoMblhRFZADDJgDwzf4dP94GdXeDZp8bR+8P/C/X2l2kvWpHBqLXHg++ZREKJWJdB6oWzEdYUUuFeJmaC0OhIOW5M3bkCbi+wlKewVYoTEStueXm/30ev17PHnrqwEyHlL8kpC4IALSdYTp6HXCf4noJXPr80TRtLDEV4dbtd9Pt9+xjynG/DSjlSbo2p9EpNJhNre45GI5yX1rkM4XLrG+sKedGh44TMoz7UmY4UWQWaDpJCnufTWnqKKUI+Dq1NnLguF1eTK+ACppSt3Z72NElgxCcD4MvnJqr8s8+AndCIpWCJgmke7kL5Q3qkJCQCmM7EysqEwjQzwucqMaEa5+dGRP3wE3BRhkYM3wM/nxo3CpiGa+zsmoTCnR3zd3n6FHj5hRFnP/xoHjPNzJfwmLSUDP6tO4Y1EdTUH3VdaAVQTf1zAyHc28nsKumjXfj44JUiEIDvOE7yM9r3PK9Mjnd+OepoLuWG43W3cRMIP/b3WClHSoZliZASVSgvInGe5HsRUUEQoLPTmYlnJORjUJ5CVlQ/1CiiyCqg/WnNvOtOAVWRpf0VHWxKyLrw5Anwv/+vJllO+nx6e8Cnn5rhwodlid7TJyZprr1tEve0LkWUao4qvwvm9UgBU5FVlOV5BUqnqjZE+LIs1fvlnSnXGw6n5XqnZ+ayX34xDt3FhXGh0gy4MiNqcPAp8OxzYK8cGqw18PlnQHfXxLn390z/2CdPzWP84U/msS9jI9iyzdwC175GpnJoiJ7N7Wd7k5C6bjiweyxY5FQcMhkU3Mgir9sNTc9eKUfKtQ4lY15CJezwSecJy4tLKQXlK1vL+Vhdg8f4O606bj8KQEeKrAhOiZ/UzUuqqdR8AwD86x+GEDIH+fDvdYD/8gqILk0/1EVk3KevvwJ2d0sh1TZlfstOx7st1/WFuyLLjScvajOexhFwFQM//RV4fw4cvQHeHJtZWD/+aMTPL78YVwqYDv7tPQU6bTPv6tOBCY148blx675+BQx6pqyxW8a5a216qPp7wF+DqSu1qTjuD4Bqr2upLfMityLJPW2KXXdpKvWrfF8+lq911bW6bez6BoooYMUcKc+pTRRnyu0BAGbFhCxse72enUosj7HW/6cFkNVCN5reIOR+oIAiq4gM6ZXPCdedkhQ/Duol5CPYLhP2rq7Moj9OgL1doN83QRJBYATMKrzHruuRSjMz+0p6nbLciKYsNeLwvOxpkqS9n45NH9S7d8aFuzDzPKED4JNPTHleEKDY24GnW8Dg6TRg42nflPB98hTQGsXeLrwwBLY0ADUr+DKYmHjSjAcrpupmgRtAUS/pa+pbci+r9zM1rbNN/LoJsQA4YqiJlXKkfKXQ2+shL3I8HQxsyski4qGusteW8sWaTBLbB5ZOpmKSC/qHgX9zsor4noK/FSIrh0K6yabi0BflKV/DhHwAT3rA7//enM/Lf9yQCLVCC8umHqk4MU7TxaUJiRiNjZuUp8CPfzWi6fgt8H3Z4/TTz0B8aWZixVcmWc/3jev29AnwZBc42Af294FPn8J7+YURm59/ZqLc97rAVmgCNZQCoOD55d+oaRGei92SglxDWYVgP8fnDK8Fml2qenBFXXAB1X4rN1SiKdBC+q6A5aUErisr5UgBqOTyb2qMb+4sitI0RTJJZt4Y5H6Qam0KWLKSlDuVTccu9/NCLzMZjJBNQq34LCOXJkcqz43TdHlpnKeLCxMUMZmY8+/eA8Nz06c0joyIGkcmmRAwIkprU6K3vWME1V7XpBA+2TN9UDtt49LttM3XdUEAZDk0fOjL2lnEjlQmyGVuVVPdvZrXFtN0m/IKK6hkXtamjhxaKUdq4ymME5XnOc7OzjAej3F0dITXr19XIhznlTmSJeM5draanfNAyErgAQrVHlFJOnWH9SqlWJZByGOm7kgll8h/+AEquTLpeu1t4HwM/Pyzuc3wvXGd4njan7TXBQafAE/3jCB6+sSIpe6uKdXbDk20++5u6UDtGqG12ykHCnMJ+JDkhdk4y4scrSCwlV1ucEX9dN4m/bx2ElmHNoVXNAVYADeIrDU/Jq2eI7XBuE7UaDTC2dkZTk5OcHx8jCzL8OTJE7Tb7bkD3MjyEStdUiLpTJGVxKum97l9pfKZ0gqC2zUOE0LWm8kV1I9/Bd6NTBqe75k0vrdvzfUX58a52ukZp6m7a/rBej3g735tesIOPzVDhLsd0xcWlgOEeRxcPZyKrhsruwogzeaXAMrlshnnbuDXE2IFd9POXSv5WtsE5EIqJLyy0ucRHI/oSK0Q7qDNbrcLpRQODg5samEQBHZgGEXU/VL/YChyUyfPhSlZFdwPcde5lgNkJsmn8npd811AQkgNv0zDC4Np0MTFBZBOAN0CtA90OubLB7DdBrZa5vunT4BwG9h/agYLHx6Ug4R3gH7PRJbbobm4nzh3cqdIaV4xJ5RCblOnKRXQDUSrO1T1QcL1kkNgOrPTX0Pnio7UKuFN58MMBgN0u11EUWSbxyUSnnOyCCF15IDUKvs50jS1nxlyINNaI1cU/4Q8OmSRudUypy0NJACOfgS8wJTghVvAwQHwt89NWMarlyZMY7Bn4sp32mag8FZQPl4ZGOE77saKLmbJLbkpj8CJXAdQcaqavtzrmpjnXrlDhAEAWje+xFb5mEVHagVRnokt1mU5WRAEFQVvb0dr/V7h35usAx5gD1Ba68bxCXRSCXmEbAWmRO/TT4AXz4E4RqE1PK1NX1NnB/h0H3j+ObC9DXy2b/qfnuyZ+U/boSnh47GOlGpGYVqeV+TVoIp6m0ndfRKaxJWbMCj3lcub3KqsyG3POjBHWD2QyKcjtWqULwTfM7HFEjARBAHiOG6MrCT3A//eZB1Q5Tw+90CXpimiKLIz9pRSCFoBd5cJeSx4yrhLYQj8w2+BS+NGe096RmAdHpjZTjs7QLcLKJTR5mo6INdTFFGkirMmta8NETRlwn5e5PaiosGlqvddzRsaXO9Bd92qpmALoBZq4c66mvN73AV0pFYY7w7+c8gtcd587E0j60a93l3g65iQR4YHI4aCwPQ1Heyby/s9k653sG9CJMLStSLkQ6mJEnGtACBXs86Uu4atDwluShGU+ywS1S4uWX0DQKou7qP6go4UIQvCxD6yTihv6ky5u4IyrDdRCXytzU4jnSlC1h9xmD47MC4UYBwq3zdhEWGZtpfn1ah0vv/JxyCvn2LqBombVGA2el3ONwmQpvOuKJu3DmuKYG9yiqREce5A4Xm/2zXQkSLkFri7KD5FFVllyvAa+NUI28oU+zSFpzX7pQh5DEgQVRCYMj5C7hO3gsc9psxZK2V5bksBgdnSv0VmXbnulJtWCzSXBkJ6smBEnu2/Kp/zhzhZdKQIuSV0pchaUEzLG2RYrztjKk1TG0YRtMrda+5ME0IIuUvKXiYPRsjUS/1kjVUXRjc5WHXqQRYuTSmC9fMSDy8iy8V9LnSkCFkQd0efYoqsPE68rUSi51Fkr5Y0P601/DJyls4UIYSQO0USAb1mIWMpqt9KqEXhlKoLaZrOlADe1Hc1rwSwfp1SqhpqUYOOFCEL0NT4yNI+si7Ih79EotcPMhzWSwghZKWYE2qRqVm3Sqou5vVhuZfNo2nMkGyc14cIN40VWSYUUuRR4b557upNQ8hd4g7rlddwkiSVWFqtNbywLGMAAygIIYSsENdFsdeYF8nuCqP69/U1XtNar+5WuWFOy6xWopAiG4EkvxCyTjQdLGY+/CmiCCGErDpNx6qi3DwslVSmAFyT9lc/FtbnXtVv544VqW+uL2ujnUKKEEJWEN9TQBDMiCl3N03qwX2W+RFCCFk3vOqpDwXPiWMHZmdbuSxSEuiKrbuoVKKQIoSQVcQzYsrT2s6YkhI/t7xBKYVMYSqmCCGEkHXEmw1S8ssApgqlysqL3H5bOJuNwFQ4SeJtvaKDpX2EELIBKK9a5y3zNlwhpZQCXGeKEEIIecSIiAJKQ0spFE61hrvpKOFN5mbLPU5SSJFHCYMmyKPBA4IgsLXkMlsqSRIA04NCgDk7d4QQQshjosG5AlAZKKx9DXjTuPUgCBAEQSURdxlQSJFHB+dGkUeJzPOozdFwo17rDbaEEELIRlKPZL+m1+pjoJAij476MF55wzC1j6w7QSuo1HsD0/CJOI7tTlvQKp0phk8QQgghAGY3IpfymEt7JEJWgHmRmQDXlOQR4MEm9blDDesDB93acUIIIYRMnSg6UoTMwW2+bxrexpIn8hjwPWWT/Nx+QOmfAqaCi9HohBBCCB0pQhaiXgdL8UQeHR5sCZ/rTLnuVJqmNg6WDhUhhJBNh47UTRTgriuZgWKKPGYk0hXAzIwpmafB/kBCCCGbzl04Uo9DSJUCKi9yExH8saUshXOewmyt8JSyNmv9DZPnOcU2eVyU0ehBECCOYwBGTCVJAqUUwjC0AwkZjU4IIWSToSMlFEY0FQCyMh/eJSgXDJIhv8hjAZiZfOwOvyTrgYepDq73SCmlkBc5FBTFFHl0yGvcnY/hnuZ5bjaZ+NonhBCygdCRKsmKHFfl7msURXYnFjBlLu122+7Gaq2vdSHyIrfDuqIosru38lidToeLjzVCeQqFqorgmUVlkTcPciNkjdFaw9caEydwQjaHZHNJKcVodEIIIRsJHamSwmmqjuMYURTZ69zJxYv8oQpMS2GSJEGapnYWi1xP1ge3qd51F93XAkUUeYwopYACyJzUyvoXYDaifL4HCCGEbBgb70jJ7up4PMbJyQniOMbJyQlGo5FdKHQ6HRwcHCAIAhweHqLT6RhhVC/zK0v6LsZjnJ6eYjwe4+jHI4wvxhgMBgjDEJ1OB2EYYisM4bMcbC1QXlm+Vy4mgaqgKkBHijxiPMDX2kajA9OyviRJbMJfIWMCGI1OCCFkQ9h4R0qE1Gg0wtHREYbDIb7//nv8/PPPAMwf5smTJ/jqq6+sCKr0SzmIcyFi7Pj4GP/2b/+Gs7MzfPHFF+j1etjf38ezZ8+MO+XOY1kA2REm94wHqDmp/vz/IJuA7yn4WyGyohqHXp8xFQQBCgW6U4QQQjYCOlJOKd94PEYURQjDEE+ePLF/FDe9KooiW/YXBIHZfS1r9aSUbzweYzQaIYoiTCYT+7PcRXee5/DdJ1I+RlaKMQm8cL+4aH9Ayt11V8zy/4NsDGXiigdU+gSbAigUgEyBjjshhJBHz2Y7UgUwGo0wGo1wenqKs7MzRFGEg4MDvHr1yu6wRhcRjn46wmg0wsnJCfI8x/7+vg2gECdqNBrZEkEpD/R9H0EQIAxDtNtt62YBpi8LZQ9CXswOvkySxAZfSK8VeTiktE9S+2QhWeQ5Z+qQx49nylzDrRB5kNvPI3Gm5Lz0g3plKA/nrRFCCHmsbLwjJYsA1/UR4aO1tjNT5KvJHZLIdBE+9XIX6SGoI4tviV0X8ZTnuRVP4pbJ5VyUPDyVkAmnT4qQTUH6oOrlxu5nJcerEUIIeexstiMFzCTrSUKfBEoEQWAbqmWBEMdxxZG4LIXO6ekp3rx5gzRN7WOI+Gpq1BZHSsTZcDjE0dERoiiyjtbp6SnevXsHAHj69CnCMKzMMCL3h+tISamnnaVjbvCgz4+Qe6FURxKNnjkbQFIqrbW2n1NbYQgP4MgHQgghj46NdqSknC6O44qSFDElc6Mk+tx1roQCsM7RcDjE2dlZZcHdbretSEvTFHmWV0QYgMoCRMoLj46O8P79e5ydnWE0Gll3TMrKyOpAp5BsIvKa9xzR5JYmA0ZsZeV1UBwTQAgh5HGx0Y6U8lRj6Z2IJRE/bimfCCRbwlKW843HYwyHQ5yenlZKAMfjMbIsQxiG8H0fSZLgxZcvkKYper2eFWkA0Ov18PLlSyRJgsFgYJ2p4+NjALCiTvqsGHZw/zSVMrmnhGwaylPWcXfn7bmCSj5ntdZ0pgghhDwaNtqREpp++Xo/lOsgubeRGVTD4dCGTEwmE9vj9P79eyRJgt3dXWitMZlMcHp6ijRN0W63AZgYdVlohGEIAHj+/DnSNMX333+PXq+HOI5tORlj0B8Gr1ZOWUkqoyNFNhVvmuQHVPtOAcw46P4txz4QQgghq8pGO1IAbLCElPIBJuJ8OBxCa404jjEejyv3UUrZYAlZRLfbbRwcHABAJW0vCAJEUWRF087ODsIwtGV69jE9U/oiCxJxw+S5ucKOPAzuJnqjM8XuerLhyGea60rJZ6Qd4Jvn8GR0BN8vhBBC1pjNdqQ8Uy4njo8c7IfDIaIoqkRduwJGXCjXRep0Omi323j16pUVX6P3I3z7P7+1PU5KKRwcHKDf76PT6Uyj0GVGUVkiI/hO+IVbIkMeDl9roPZ/YReKRW4G93JxSDYU2QjynVlT9fLoygDfVsD3CyGEkLVlsx2poprEBkydBjcZzz3wu6cibsRdcvudJDxCLpOSPRFUt0ndYxkfIWTdcHtJWY5MCCHkMbLxjpQMyU3TFC9evMB4PMbp6SmGw6G9WbvdxuHhIbTWNhZdkvrEMXKvkyTAXq9nAyfkD9zr9dDtdmdK+66DLtRqIIljGa4JnShyJpORjcf3FLzyc1E+E8WZqrhTYV7ZWGK5HyGEkHVisx0pAOFWiDzI0e12MRgMEIYhTk9PEUURANgZUiJ+ALOIHo/HiC9jBFsB+v2+eawwNL1QBZB2TH/TaDSy/VEA7OPcRkiR1UBEUn33QXbc2SJFSIlXpqJ6Cp5SyErx5PZKAVOHft7QckIIIWSV2WxHyiEIAnS7XQRBgJcvX6LX69mylE6ng/39fdu/pJRCp9Oxgye73S7a7XYlucorS/36/b4VUnme29t5svt+qRQTAAAgAElEQVRK1gb5//Jqb5b6gGVCSIkHeIXpmdK1geTSf1rfkAha1d5RQgghZFXZeEdKdk4lLAIAXrx4MfMHcUWSUJSnNspXDvyeuazdbuP58+fWqZBT7ryuKeX/r+f01tXL+xQAsDyJEIsd3BsEaAUBJqUbBRjHP89z60hJeqqnFCPSCSGErDx0pBzu4o9B0fQ4mdcjRQhpxvYYlqV8TfPX7Ly+PAfceVPcmCCEELKC0JEi5JbUSzJnUsn8B3hShKw6pRgKWiaEokA1JVVCKKTcz+2f0r6mmCKEELJy0JEi5JbkRV7p6xDoPhKyAN50M0IGjwszpbISoa44o40QQsjqQUeKkFviLgLdN1Capo29dISQZiQe3Z05JcIqSRKbmiq3aQUB+0wJIYSsDHSkCPkA3DeMNMvLeULIYsj7qBUEyMryPgAzokpuq7VmMiYhhJCVgY4UIUugUpLEobyE3AoPs8moSZLMpGPK/KkgCOApRXeKEELIg0JHipAPoOmN4w7mtdn47Okg5EbkfRQEAYJWgKyYzpmSr/rcqcogX07DJoQQ8gDQkSLktnhmKG/hDBYFnOhmAFmRcw4OIbel3IAQTWTL+YC57zXAvB99MCqdEELI/UJHipAPwINZvDW9cYqG+TiEkAUoRZCCQrgVIi/ySjy6RKTHcQwAlYh0Kffzme5HCCHknqAjRQghZLUQQeVVy/jcA5brSsl5BQA+NzEIIYTcD3SkCPkA3DCJep9UnufwlGLoBCFLQHmzIkqQ8+JUVfqmMA2woENMCCHkLqAjRciHIDvmNRFFCFky5QBfpRS0r5EV1dlt9Yh0meemtbaZL4QQQshdQEeKEELI2uDXHCqh7lSJwFJKAVqbqHSP/VOEEEKWBx0pQj4CmXMjO+GEkDukFEFBEACoCiYJoHDj0uXAJuV+rSBgGAUhhJClcReOFIvRyUbhLtgAs7grWOZHyL1QP4g19SwKRZ7bJEBCCCHkY6EjRchHoJwIdNeRcmfeEELuBqWUKdfzAb8MlpgkiQ2fEGcqiqJKEIXWGq3S1bLz3uhSEUIIuSXskSJkiciOBEUUIfdEKYBEEBXOAN96TLoIK6UUsnLjw9PaiLECFFOEEEJuBR2pNYML9NXDLe2T82ma2h1vQsj94c6cks/LJEkqB7ukdK2kt1HEFePSCSGE3AY6UmsGa/tXC6/2BnIFVZHnABdkhNwrtty2zD7PiqkrJSV/7ueoW+5n789yP0IIIQtAR2oVKYC8yJGV6VP1WSlktWgKm5BZNgBYMkTIQ+ABKEzJXxAElTj0upgCaj2Oepr2BzA2nRBCSDN0pFaNchc1rYkoCqnVxINpcq8LKfuG4kRQQh6OUvzIgN48z1FgNpBCzgPmYBgEQeWgqLWGAl0qQgghVehIrRKlEwUYIRXHMeI4RhRFiOOYYmoFUZ5CVsy+eewbq8inZUKEkAdFecq8J535bwAqc6dch9kNqfBlqC/nUBFCCCmhI7ViyO7o6ekpRqMRXr9+je+//x5pmiIMQ4RhSEG1YvieQuYsygghK4pnxJTWGr7WKErhJG6VfLbW0/601lBOKIX9YskfIYRsNHSkVojcaYqOogij0QhnZ2d4+/YtAODp06dMlVo1yj6MOk09GISQ1cB+fiplA2MyR0SJoHKFlZQHus4VAPZAEkLIBkNHaoWQnVIA6PV6UErh4OAAURQhTVMEQYCgjNTmwNfVw21id/9vWN5HyOri7oW4sen1zRA39Q+ozqSSYcA+HSpCCNko6EitEt60KXp/fx/9ft+W9EVRhCiK7M4owCj0lcGr7ki4bypmTRCy2sh713fmvomIkvlT9UAKoBqbrmXzRGt4BVP+CCFkU6AjtaKIg1FviiarTdPOBNdThKwR5e6H+7lb37xqcqrcz2i/FFQAZt1ofiAQQsijgY7UquKZg/FdKF1yN2itZwZ+cigvIWuGNxU/4VYIwAz1zZy4dACV97qUA4rgck+l7M9D+bjsqSKEkEcDHak1gCJq9fEaSvsIIWtOKXh8KHjOvDi3D9LdOKlfn+c5VHmZpxT7JQkh5JFBR4qQJeBh6kgB1fhkBdCVImSdKV0q5ZlyvwJAUL6/6wEUAJAkCYDqTqXrUqkyLdAXUUWHihBC1hI6UoQsiXn9E3QUCXkkOGV/8BSgzcFTxJScB6aiyn3/u461AgCfLhUhhKwzdKQIWRL15L7Km4t9EYQ8StyBvu55caAkiKLeTwWgMhewMuRX4GcGIYSsNHSkCFkCyitnyThlPjNvKoopQh4P5Xu5KVVVYtPdzRS37Ne9n1LKzgeUcAobTEEIIWSloSNFyJKp7z4DJvXL58KIkI3A1xqqFE+u61Qf5ivulSuylDPot7GXihsyhBCyMtCRImRJeJh9Q0kZjweYXghwUCchjx1fKUApaL+cP1Xklc0V+aqHUwCzswNlSLt7mQJDKgghZBWgI0XIkqlHoDMOnZANRcr/nAHrIp7ke/fzoWl8Ql5ztiRG3X1cQgghDwMdKULuCLcXonjg50IIeVhE9EjZnxs64Q73rYspNwWwEkrhOlT1kAqBjhUhhNwpdKQIWRLKUyjKtUx9WGeR53ZoLyFkA5Hhvp6qzpUrgESZ0r40TZEkSeOwXwAzIkpK/syV04dUHkuICSHkPqAjRcgyKJvA3T4pgGV9hJAb8IxLVTiR6UBVRDWV+wHVWVX1g3lj+h/DKgghZKnQkSJkWXimCbypXCfPc9OATgghNSScAgCCIDAudnndJJm6VfWQChfXpQIAXZYJiqACnJAKQgghS4GOFCH3gFIKRZ4DPhcyhJDrUZ4TKFH2TLkH6brr3fS93R0te6sA2NJjHzWXihBCyAdBR4qQJePuTtTnxuQqZ9IWIeR6vGlJXtAyw3pFWBUAioYo9aaACldkuWLL7a26sRSQEELIXOhIEXIPLPMNRgjZIGoR6uYyBfhAMkkqker1vqp5O6TudbYvq9zsKZQJxMgLbvoQQshN0JEiZJl4zbsTqVNeQwghH4OIHBFBvtbInL6pukvlnq/PsmoqG3SHAQNmdpVrTjEVkBBCDHSkCFky9X4Fd6GS584uLxcihJAPwB64HcfID0wJoKRUJJOkIqik1LipFNBdCGitZ3ZWXXHlKYWsyKd9VvwcI4RsMHSkCLlD3AQ/K6ZYMkMIuSNct0oEkyuOmtwqYNrT6X5WyXl3GLCQOeJLHKtrP9couAghjxA6UoQsGU9VQ4bd0Ik8z6F9vkUIIXeD61bNHNhLtyorcmSOSKpHqrs9V/KYTeV/7gKiaZaVYq8VIeSRQ0eKkDvAq5X3uYM2CSHkIXBFjQwBBpqFUlPpn32c2nXzFhBF2UqVF/nsDCs6VISQRwAdKUKWjE28UoqlfYSQlcFGncvnj1LWIc8D87mUZmljGWC918p1sOaFVcxzsoSZkkCKK0LImkFHipA7oC6Urtu1JYSQB6MWry5ipy6c3MCcOm4PVWO0OppdriLPAcXyP0LI+kJHag3gAnw9aRrMm+c5CtCVIoSsJtLX5KlpvHr9M+y6U/s4NVE1b7HhulS+xK3Xnk8FulaEkBWCjtQKI8cLzh9aM2oH+noqVpamdsFACCErheeIl3nHnsIEVhQNpX9NX+ah5gsoEWyu82UdMOSVOVaVXiuKKkLIA0NHatVwUpUmSYLE+bpuUj1ZPdyFwnULCkIIWSs8wCtMj1PTQN+mQcBNyH2l36ox+U8poFYSaH9eebysuFbe9PKm500I+QAKU0lTADakRvua7ynQkVotnBfqVRwjLr/G4zHiOK4EFpD1QGtt44WFPM/h8/+RELLGyLEoaAWVy93Flvu5534OukEV88RWPZii3m9VF2+SlOoVRkf5TvQ6S6kJ+TgkhCbPcyRJAqUU2u0231egI7WypGmKNE2RJIkVUSKk6EqtH/x/I4Q8Smo70spTpZJRyJURVZkTRpGm6cyAYBd3XERdiLmBFvbnyfflZVI2nRf5zCkXfYR8AAWQJIndDBEhpbVGEAR246RSgnsXm8Wl05wXRtC5Y2Z8T32wOyafJ2Jk33ajm47UiiEv1NFohOFwiDdv3uD4+BhpmiIMQ4RhyAX5muAOqXQHXOZ5DlWmVRFCyKOjlgToB4E9brWCqYNV5NUSQNedajqtO/t1V2reaX1R19SjaheAH7EgI+RRUUzbTE5OTnB2dmbXqFprHBwcoN1u283+IAiMS6UUttvtpVfexFexNRiiKKqsscIwtD97IRFXTB8ziiIAU6e82+0iDMOFnxcdqRXC7pzluS3ri2Pzn5xlmd0BANhnsw54d/DmIoSQdWTmc7B0rQAgU2ZzqWleVV08NZ26Ee11gdX0HArnMb36bSmiCKkga9LhcGhnyIVhiCiKoLVGHMfWsdJaQ8uw7yWvfdxKLckNCMqNGXG5Z97PC/xu8lgipDqdzq0fwz1dBhRSH4jylN0p6/f7CMMQ4/HYvnCA6owPstp4aC7ps4uDAjxoE0I2E690lTxTDuSVfU6qJp7qZX5Ni5a6oGq6Tq5vOu/+HLnOXZBdG8fedCNCHgHJJMF4PMZ4PMY333yDb7/9FmEY4vDw0Jb3nZ2dWbeq1+vh8PAQ3W4Xz549mxUk80Jg5lEGx0h/1snJCYbDIcbjMc7Ozqy5oJTCwcEBDg4OEIYhut3ujRvYycQIv9PTU3z33XdWTAHA7373O7Tb7YWfJh2pVcIzdZ5+EKDf72Ov10MURcjzHFEUWVGlGZ29FogwrjdWu6cUU4SQTcUuQFxxck3kuvRGSL9UvWTaxb3O3dCaVw44b95VvVSoKM+6pYDsvyKPkSRJMBwOcXZ2hm+//Rb//M//jE8++QSdTgdBEFhH6ptvvsGPP/6Ig4MDRFGE/f197O/vNz6mVF7dhPt+Eifq+PgYb968wXA4xPHxMQBYByyOYwRBgF6vh91u98bHF4Pi9PQUf/rTn2wFWBAEePnyJQ4ODhZ6ngAdqbXgpsGHZLWpx6DLaVbkxrXiAZgQQhZCBgVLn4ZbyjfPrXJvO4+mcsHrSgXrgsvdE1voM50baGTFEcdmOBzi4uICV1dXdjPf7Ulqt9tot9vwfR9RFNmeKQD2jSHlgfK4N61jpe9J7pckCYbvTG6A9GeJGMrzHOPxGEdHR0iSBIPBAH4QzD6ok4w9Ho9tFoE85ziO7e94G+hIEXKH+J5CVntz2YQYBk4QQshiNA0KvqZUKM2qblVTaEXdrapfP2+BNHfeVcP19uk7iWZAbbBw+fsRshKU4ieKIrx+/Rqnp6c4Pj5GdHFRCZXo9XrWBXr37h0A4OTkxI59cUnTFOPx2FZYubPj6u/DPM/RbrfR7Xbt7eM4xnf/+R3++Mc/4ssvv8Q//dM/IYoivHnzBuPxGKenp3jz5g1evnyJr776yvRO1Sp+8iK3Iu7k5AQnJyfW4bq8vEQURQiCwLbSLAodqTWAYQVrjKRXNYipPM/NoZT/v4QQcnuuER/a141lRPUBwPNK/+a5UfN6lOW29T4te3/ne08pW5FgHxdMCySrhZTR1l/vYRii0+mg3W5bZ2p7exvA1G1q6g0XZ2k0Gs0VK3JfSc6T+4n4kvK7breLIAgwHo8BAMPh0PZPzRM0cn9xsIbDIZIkQRiGyLIMURRVeqUWhY4UIXdFeVCUWQuSDiM7OpVdUdlp5YGUEEI+ntLBUp4CfHORHdAbTBdKTcOD50Wvz4tnX1SMzevPci93BVlTAllj8AWPG2SZlK+nIAgwGAwAAL1eD0/6ffT7fRwcHKDf72MwGCAIApycnFiRdHp6CmBWVMRxjKOjI+siDYfDmfJZef8kSYLDw0ObyDcajRDHMbTW9ue+ePECSZKg2+0iiiL8+7//O/7jP/4Dw+EQaZoiy53WiWL6HI6Pj5EkCV6/fo3Xr1+j3W7j66+/xmg0wh//+EcrBGWzZZFMAjpShNwT9YOlC5uVCSHkDnBEhnzG2s/a6QROZMp8Jsvw4CZx1LTLLkgAhnu+qXRw3mO519nHrjlidWHF4wa5S0ToaK3h+2Y3QjaGwzC0JX5y3n0P1BFnSZwgV0jJzxIBk2UZOp2Oda0k7tz9+e12G1prdDod+xwllGLmZ8sGSvn4aZoiiiJEUYR2u41Op2N7v+ohNYv+ndzTZUAhRYiD8lTj7qN86Phac0OREEIeAFlk+aUg8bQ2I64w61TVAyuaeq2kdLAegOHepx6QcdPcq5vOz3OuXJElZY6NwosHINKACJUkSWxSn/RGyfcu1wkJCaUAzHgfiS2vj/QRsSP9V3Lf6wJfXOT9ZXvQC7NfkhWmnO/169eVgb5S7id9WKPRyEa+B0Gw0EwpOlKE3AO6PDg3CSmdpnZ+GCGEkHvCmxUWt4liL89WBJebEOgKrHmBF/J9E00LSCk1kuuaXAC7OMXs4OGZ3iwpfaKYIjVESKVpim63i52dHezt7WEwGKC727VpfELTiAFBQinCMIRSCtFFBOU3CyEUQHeva382gEpfY9PPmCtiPCCbmPsOh0N89913iKLIPob0S41GI4xGI1xdXdnI9263u5CQoiNFyD3C4BBCCFlzvGnqXlbkZpAwZp0pl+vKBK8rA2y6vh5osRC1nwcYcWWdKjdFsByE2vR7k82j/tpVygSjZHmOrCyVc0Mm6iEVUlYn5HluXnf57OPLAF4XKecDpmEW0pMlseVyO7enaZIkmDi/g5QAhmFY2YCQuParqyvbx277pBbYZKAjRchd4013/eSNLMETtlQkTeFpzXp3QghZB8rFld8QyW57MhpSA0WfZE4vhnvqpgq6l9dvWy8rvKmsqun76+Ld6+c9NW3ab1pXzhy7KLoeDfVeQHn9XZYpd+LoyHl3RpOUx7kx5lI+1xS0Il9aa9sXJQl9SinbY3VycoIoinB8fIzxeIwoivD06VP0ej0rpobDIeI4tnOuwjDE8795jvjK9GqJGDs7O7PP/+rqypb6hWG40N+HjhQh94VXHfIIcLgyIYQ8Kpxywes2xqQXSzWkANZLA4Xrwi7mOVxN96szr0+r4hSUt/GUqmzSizB0xeNMueCHlg7y8LgSyGvD7WsqANtr5LpDWZbZvqM4jisiQ+4fBIEVRvWfI0Kt3kMl10uohYgkGagLAJ1Ox5YOSsme9ELZcIrdDsLtEFprGzgRx7EN06j/notAR4qQe8R1pOq9UkopxtkSQsgGoMThKftEclWNZLfnGxZp152v96nMSwx0na+6CyaX1Z2peT0w84Iw6pc1pQ62HKE2y7Tcy8Jj470i5XKdTsf2DCmlMEkSnJycYDQa4eTkBO/evbPC6t27d3jz5g3SNMVgMLDBFM+ePUOapnj27BmSJJkbFgGYWVXdbhfAdP7T/v4+hsMhAOBPf/oT0jTFaDSy4RS/+c1vsL+/D6UUkiTB0dERTk5O8NVXX1lX6tWrV7ZsT57v2dmZjW2P4xjPnz/Hs2fPTDnhAq83OlKE3COyo6fKXZe6O5UrxtkSQshG0BDNPoNTMuj2LuVFXgm6qDtQ83bJm+ZfNQ1dXWRHvl5h0XS/JlcLMKKqleXIPDvmq/F3z/Oa00XuFRFSYRhid3fXlrulaYrxeIyzszMbZy6ulNbaChMZqhu0AvT7/ds/gQJIJqYNotvtotvtIk1THB0dIc9zXF1dwfd9DAYDHBwcoNfrWSF1enqKo6MjDAYDHB4eIgxDDJ4OKu+j8cUYvV4P3W4XJycnGI/HGAwGt3qudKQIuUdsyUfpTAHVN2FTfy8hhBBiDxBO2EWujChx49pdIeMOfwfmu1lN39dpCryoXy6zeJpCN+qXTYocO1dXQJE5v2MKZAWSyRU8FPZXlhTCuqu1qEF1rQijy9WI9DdprfHy5Ut0Oh0MBgNbVSOO0atXrzAYDKzTE4YhDg8P0W630e12mwX5vHLPBvdR1kvPnz9Hu922fVaCUgqHh4c4ODiwpX1y+06ng4ODA1tOKIgw11rbSPevv/4acRyj1+vd6u9ER4qQ+6T2wQDANlQC5YFQ3fChTwghZLOoLzrlWLJIXLtQTJ0s2ZQvrhFZTc5W3dGS7+sx1U1Yx8zzoH0f7dG4/F2MJxVnKcIMiJIEcVGgM0mQtjRUUTQ6ZvMev2mulhv84TpcdLrm47pAnU4Hz58/N4KkFSDNUhsC4Q7PBaa9TEopdDqdxv+PueK14XWutYb2jZh7/vw5xuMxTk9PoZSywkmep/yfivg7PDy0vVNa68oaDJiKxTAMbdz6bYUUHSlCHoh6SYQclBo/dAghhJCPpJ4m6B5vJMLdfu+U7jVFrt8UhNFU9mdPy/Pvd3fQn1zBAxD60+Xj7iTFxVYAPZkgV5Vw9srPcx/TRlrPWdBKaX1W/v5y6sZ0L8SGOFjKm/7/SwS56+qI2ynCyd7P2SgOgmA5fy5v+rgyGFh+rpQf2tdj6WpJSWLluqbfs3ydy2Pd1lmiI0XIA+A7ZX1JklRmLwCA3yo/lDbkA5sQQsgd0+RiubgLwRvqzPOi2amqn6/cZnoBcs/DZbeDvfMLe7s4SyGB02+zFDsXKdLdDnLH7TBPs3lW1+yvM7vAvSkYY9517vdNm531Q3Xj33jdjucerEAKgmBajecB2tfY6/Wwh+pA6nooiXeL9Lub0L4GfMDvmnI892dUhkyXP7Pb7d44HsCmCLYChGFY5r/c7vnSkSLkAWj6PGUUOiGEkJXghkW/jTiXoNly8Vk0OFH2PuVpDgB5jmzmFkAxuQIA7BTAZCuAbni8mxauTU5a/b5NKYTz7lNxu8rn7t6v/KbyHFzXr0A5b2yN0wdnhIjXMEPtrnFmt/mOAzaP20SYu2MLbgsdKUIeAGlyTNO0MjNELPSsyOGBvVKEEEJWFCf0wuKXfUfOonKeueUPR8i2tuC1toCriSnt294BAGy3t7Hla+RbAZAZyTVPODWVHt4ktq7buLzOvVj0PnXnq0k0AtPqlOu4VaDGmgm0xwAdKUIeCOWpyodo/UDABD9CCCErTcPCfeENwDmuQrAdQre2kGoFr9VC5vvIXUcI1cVrU7le3YWad/nMc6+5Utf1gdXvM+/nXyey0BDOMSPYGgScX+t1s8xbOFBg3Rl0pAh5COpj4VGLQZfQiQ+dCE8IIYSsOL4rurRJ79POgdH3FKAAVVZuCE2Cpf59U5neTfeZOwOr4ec2BXDUaSotrJcSuueljLDpubj3b3K4ruvj8moCq2lpcecVMI90LUNHipAHxANsaV+aprYOW049rVneRwgh5PGTVuWBhpr24sjGIjC7IL+mfKMeimEvb5iFVb++fpum8sHrUg3dx1mE6yLdr7t8XvjGvMebF9QhwQ1uJP4iwRqC9ILVo+Ufe8Q8HSlCHhCJFyWEEEI2mtKRstQPjYvOHnIfohaKYS9Xyia0FTWh5N6mXhbo9jTXr58bsjHn8jqLOG7ubetrh5tKD123a9HHRO05eeXfbe5jiHBtOK300z0id4qOFCEPjOtIyQeemxCkxZV6RB88hBBCSIV0XiTDR3JTIpunANFw5WnTAN95XDfYuM5tygyvSx10z1/X99UkBq8rWWz6fhnhGzfd3r3Nh8zSvG55dNdR9HSkCHlIvNI6b9jVolNFCCGE3DELBGbcWJpWXi+JheLa1AXWdcf1plJC97r6ba97HLl/k9hye7Bcp2rec2t6Pk2/z6LOWxMVoXfDbaX8sHKK67XRXZYZ0pFaAzhf6HHje6YXSqLQAVRcKbn8MdcYE0IIIeuKLNDd43Re5BV3pSkS3i1mlMG2183AWiQ846bLF73+pvvO6wtzhdmim8LLuk3T7RZ1zhZxwkSsueLpNn1wi0IhtWToTDxyvGmvlHwA1T9MGYVOCCGErCaNpWy33fz80LVeuUDIauWHRcMCv2nBv0iJ4E0liNc9fh13bXMbF+u2YstdUzXd7iYnbt7PdQXkXRkdFFIfQ/mGSLMUSZIgjmP7dV2TIFlziukb232T2g+cPL+/6eGEEEIIWX2KqRs2U9qmZsYlN3JdsMU8F8y9/rrbLyKUFpnVVb/9ouEd88JD3PX0TW0VdbHl3t8VVCztWwXKN0QBII5jJEmCKIowHo8RxzFL/B4z3nTCuThSch4o3+icKUUIIYQQwQnSaHTAlrEB66493NmXdQcM056wm+Llmy5zUxGbHqPpfouEccjtXPF0XR/aPAeqftumlMdlQSH1kRRlf4yIKXGkgI9r5iPrQd2Zqrw5KaYIIYQQcl941fN5PtsPJuSqTDlU+Uy8/E00xcnPux1QFT7z+snmhXcscvmiz4FhEyuGuBHD4RDD4RDHx8d48+YN8jxHGIYIw5BC6pEioRMSNAFUhwL6WsPDPUwfJ4QQQghp4NrwhiZ3TOLlbzFIGZh1vJpwH6Iu2BYtL2xysebdp7FayGFZrhSF1AciL5o0Te1XkiRIkgRZliEIgrnWI3kEeEBTRbOIqSxNbfkfIYQQQsjK8wGDlIFbbBqXaiqv3dxN4fMb1sxNTtlN/V1NiYp3sR7nSu8DUZ5xHQIA/X4fQRBgOBzaoIlrS77I48Azb0pdc6aEIs/N7g7L+wghhBBCbj0fSqLppfzQRTnleu5ImnrPlxtCIWvzZUEh9aF4przLDwL0+310u11EUQQANnRCmvEAzpd6rLhCSt6slUQYH+yVIoQQQgjxbt/ycO3tFxBEIqK01mbO5zXJhx8CbZIl4TkO1G3jIcn64s3Z2bARm0W+UO0wIYQQQghZPk2VYeyRWlEonDYLCZ0AzK6HuFNJktidD6XKxBy6UoQQQgghD4bv+wDoSK0s7IXaXOhEEkIIIYSsLlmWAaAjRchqUKb3+VpDO1O4pbRPnClPKfiyb0FnihBCCCHk3lm2I0UhRcjH4gE+FLKaI+UmxhR5boffEUIIIYSQ+4eOFCGriAf4WleiON1hcNIrpbU2YopJfoQQQggh9wodKUJWFN9TgK+Q63xGRAFTl4quFCGEEELI/bNsRyoTwQMAACAASURBVIorOkKWhBtzXo/Cd/umMsahE0IIIYTcO3SkCFlRRDRJ7HmapkjTFACQJAkAIAgCBACKssyPEEIIIYTcD3SkCFlxlKcqA5qBOdHoxUM8O0IIIYSQzYSOFCFrgO8pQGsEQQAAiOMYAKxDlec5vNCETvgc1ksIIYQQcufQkSJk1fHMl4fmN6r0SxXlFyGEEEIIuXuW7UhRSBFyRyjPDOp1o8+FPM+toMqKnGV+hBBCCCF3DOdIEbIueKZsz9MaWmub2tc0XypXgAJL/AghhBBC7go6UoSsGcozbpSk+QmusCpQjU8nhBBCCCHLhY4UIeuGZyLR69V7FUcqz43QkmG9dKYIIYQQQpYKHSlC1hDlKZPOh9kodHkz21M6U4QQQgghS4eOFCFrSF7ktsQPmLpRcl4cKQCV+VOEEEIIIWQ5cI4UIWuIO5i3Vc6WcmdK5Xlub7OsNzchhBBCCJlCR0ooG06yYnYWj/bLX+uaPhNp8AeArFzQKqXgKWXm/7BXhdwBylPGnVJVd0rElDhVeW4cLL7+CCGEEEKWAx2pEukjydLU7uwDUzEEAH5TnHQBwKsmpqWOkLILXOWIKUKWhYdKiZ/7OnSFlH0t+ppiihBCCCFkCWy2I+W4UJMkQZ7niOO4sqOvtUa73YZSCkEQzLhTeZGjKIAkSZAkCdI0RRzHAICgLLkKw9BGVYdbYeX+hCwD5alKuV+9rM8t9+N8KUIIIYSQj2ejHam8MOV4V3GM8XiMJElwenqK8XgMwJRItdttDAYDBEGAXq+H7XZ7WqpXCqg8z3F2doYoihBFEUaj0TR+WikMBgO0220jrLpAKwia3S1CPpQyEh0FrGBK0xRJklQElpzWZ1ARQgghhJDbsdGOVIFpKV8URUiSBFEUYTweV8qjwjBEGIZWDPl6+mu6JVRRFCEuRRkAu1iNoqhy+yLPkbPUj9wR0hPlUv++PoOKEEIIIYTcjo12pCZlKd5wOMTR0RGiKMLZ2RlGo5FdjIZhiCiKKuV5QRCgvd1GXhgR5QowORU3IM9zjEYjhGGIbreLIAisMJPSP4uzui1qvS6ELIQHK/Sb5kuJQ6XzHIXW8JSCT2eKEEIIIeTWbLQjJf1Mo9EIx8fHGI1GGA6H1lECTJ9TFEW2xK/T6RiRVZYFimCqC6kkSTAcDpEkCcbjMcIwxGAwwPPnz60YqyOP6dOpIh+B7yn4rQDJJEEQBEidABVXlCulgDyH3wpYZkoIIYQQcks22pGSgAg3KMJ1noBp476IriiKoLW25pHWGkEQoNPp2J4qcbHc4An3Z0iYBYDGwAvX5YrjGHEc05kit8OblvhprWdeP5Vo9CI3ARTl/QghhJCNRxZ69bVXkQNKmS+y8WyuI1WgUsonwufw8BC9Xs8KpNFohO+//946TCKsOp0OgiDAdimc2u02gOkCdTQa4ZtvvrGPLy5VFEX2/oARUFnpaklJoIin4+NjnJ6eIkkSALALYkKupRRD2tfQvkZWRvu7It5NpZRwCoagEEIIISV5DmSpORVRJeNxWhqQyiIKqo1mox0pWVi6c6OCVmBdqTAMrYiR20vfk+AB8CTW3AOyPIdKEjvXx53hEwRBJZraxY1eH41G1v2S4Autq39aJq6RGykFkQ+FrEzqa3KlpMw0S1N4WjMenRBCyOOhKV3JVgXl1e8BIC8vT1Mgy4EkAdLcXCHrxR2zeQ6lAJbHbzSb60gBtoSuMkDXL+dFlY6U1hpa65mdfEF5yg7kLQrgMoowHA4rX9If1ev10Ov1KkETbmrg6ekp4jjGyckJRqMRTk9PcXZ2Bt/3sbu7i3a7bd0DQhbGMxsEMnS6PjTaBlA47lTQCux9CSGEkLXDLc0rcnOaA0YQlZdNUiOO0tJ5ykuxlKRAHAPJBLiIgKsrc3mcAFkGfPkcePYZEIbAngZ8rss2lY11pCRxT35xEScinFwnyd7HWYBayoVmAZO0J6JISgXTNLXulsSnh2E487hS9heVQmw0GuH9+/c4Pz+H1hrb29ss6yMfjmdEv9svVf8CpjOmAPMeYUQ/IYSQtaVwRVRZoicuU5EDV8lUSF0lQJoBk8xcf34OTCbAcGREVZoBl7G57e4O0N01P2Ov+6C/InlYNtaRkkWluE6CzIESF6op6MG9XP5wEgxxdnaGH/78A+KrGEmSIAxD7O/vo9frod1uo91uV8IsfK0RAOj3+/ZnPn/+HHEc4+joCMfHxzYUQO5HQUU+FO1r5Mq8fupOKwC7URAjhlIKvtbTAdR0pwghhNwF2i/PqPnujjhMmeselesh2eTOUiN4ssxcn6TT0rwkMV95ClxcGpdpNDYiKU7M+TwDzi+M2Lq8NI8xGgOT0pEavjeP/75Mdz44AAZ9wJ9NYiabwcY6UgAq4gSYOk5uuV+9J0oS/ETcyJe4SWdnZ3j942sAJjo9CAL0+30cHBxYZ8pdlPpKwS9vJwEUgOm16nQ66HQ6ldlU1i2gmCIfQs2ZUkohjmP7up6JR8e05JUQQgi5U1S5Pmra3fdgxFSOqYiSkrzJxIgncZay3AikLDNCKE2B8UXpKGXAuyFweQW8HwGjc+D8PfCudKDen5cu1cTcNoqA+Mo4Ve/PzHPp7QEHnwCtlvlZZGPZWEcKQGU4rpT0xXGM4XAIrbV1meplfpKwJ0JJKWX7oc7OzqyjJY8rpXtyX61NmtptdvhlgUsBRZaFV86RkteoOFQAKhsFAJCp3CT6AXSmCCGELJc0A4rUCJlJar58NQ1+yPJpr9NlbM5HsRFLOYCLi1JEXZnrsxyILs1jvxuW5XpXxokCgPHY/Myr2Aiqq3jqbu2E5tQrl7STq2lZnwgpQko215HygHa7bXfiJchBhug2pe1p3/x6kqqntUan04HWGt9//z2Ojo4wHo/x9u1bGzDRbrdt35Q7p0pOb4LCidwFtrS0FcDXGkUp9l1nyn3t1XsH3ccghBBCPpoMRhidj22pXjHJ4CWOkEknxmG6jE0J3ruhue3pOyOU3o+M8xRfma+riRFNeSmspARQa1NOKCWFwTaw3TLf7/WBdgj094B2e+o4jd4DP74xYirLjVM1mUyT/8hGstGOlPRIBUGAbrdr/wiyGy+3kZCIYCuolNZVmvS9qfDyfR++79sywSRJrLN1W2eJi1Vyp5SlEl752pVyv6bXqZSWevKaLJzHIIQQQj4EScqbJMDbX4C//mwEEHJ4V5NpYt7FpSnbG18YATM6B84jIJsYAZVcARcTI3AkQKLIAKUBBaCjjBBTPortLXham9S9VgvY2QZaW8aN6u4B4RbwtAdsh0a0TTLjkLX82ef+kDqqHu0uoq7ArMC7ZSUUWYzNdaQAbJUx5CKI4jjGm5/eVHqmOp0Onj17ZkMpZMfeda0AINwO0ev1EASBFWIyhFdKBjudDrpdk+4i8eeEPDS+JPOVr3G3FFXcKfk+z3Oo8vVdlKKKQ3wJIYTcGlUeOJLEiJ9f3gH/7b8Db46NeIkTIL40IinNyqCHFLhyRBJgrgNQoIAHz7hKrS1gr2POd8rT7TawvQ34Ct7TnhFQT3rAVmBS+HZ3Ad83bpTvGzG1FRhxNxobN6qzA5y+rf0e9/g3c5HADfe8CDvpHQNMv5mvjChcoBKK3I6NdqR8pQClEIZGBEVRZMr2rqZJfe12285+EoHkDukVMRWGITo7Jiyi2+1WEv0kxGLeLCpCHhRncG9efg64w3tdh6reO6WUArSeijFCCCFkUWRhn1wClxr46a9GQF1cmD6piwuTkDdJpoIKMOl6yp+W5+kWPN8DdMuIqDAAdrtVh6lbRpZr3wiozo6JLt8Ogb1dI7iUMvctj232NAhMip/y5/8uy2Se0+ReN0mn8e5SfiiXSax7uc6F1mZw8Fqt0teDjXakBLdn6eDgAJ1Ox/5BRGS5SlN6qgBYp0rcqyRJsL+/b2+rlEKn07HBFlImuEh/FCH3jfIUoKYbBPUZU27Jn/3QSFN7MLSCig4VIYSQ62i3jdDZ2TY9SgCK4RCe9DGJaNoJgSw0wgcwTtJWC9gKgVbZ67SzY07DbSOEtkPz+GEAdLtTR2Zryxyv2iEQBCjabXhbLSOUWg2DdQsYZ0fi1Ct85AZi3iCOMolxl/lXmA3bkOuTxMS7I5/OwErKxEIZIuz75vftdoAvNaAV4F0TMU9uzUY7UkIQBAhaAfIit6V3LjJLR5Dhu55S9vJ+v28Tz+qq1I2aVkpxJg9ZTcrXpPJMwIp8sItocsv7ANjvtdbQ4sDSnSKEEHITvjLldL09U7JX4v3ljRE/W4Fxl7ZLsdXZMkJqKzT3CQPgab+8LAD6PdPv1A6B9rYRD9tGLM2UtDnx6rbnV5UCQ64HzDFQzucwbk+FJVUWST+T9IrlMIIIKFMMJ9PrsvI0zUzP2GRiAjrGF0AyMYIqKd276NIIqZ028MlT4Mme+fsoxblXS4SOlOA5C8hFaFCe7HsijwqvusNSD1oR6u5U4W4YlI9DCCGEWHwN7A+MGMhTm55XaB9euI18ewtqKzROU3fXrLmedI0btbtjLpe+JgAYPKmKJynH85URWB9yHLIiat4CuTzG5Zg6V8DUSVKo9jABjmjCtI+pyKdDhNPUJBVeXpkesMt4WqaXlvHwMicrujQiKs2mw4QvZIhwORurvWNcuMsr4H/5L0YMsiJqqdCRIoTMRWsNFEBe5DZIRYST2/cnbqwEsrhR6YxLJ4QQUqEdAr//r8BvfgUMh8DxKQDAOxgAANTunnGatksxFZQiyVPT8ISyFB1S5VN3l0QI3dlmnluaV5baSRme9CxljouU59PSuzQ1QmiSmd4rmYF1cQnvKilnX02A0QVwMTaleucX5vHiMsVQRFSamV4ywJzXvhFS8ZUpV9zaAl6+BP7hN8DTJ0ZYbgXNQ4/JraEjRQi5Hg9QmIohN0jF7aNye6hc6j2zhBBCNh1lepe2nEqe1pbpl2q3TTnaVmBO220jjMIVq/pJp5UY9kt6l4rCOkxIcyOA0rR0kzIT735xYc5fxtOyvPGFEVZn76dhG6OxGT58cW7i2+MEmORAmhgXKs2MaALM91oDo6H5PgEQXQHno+kgY869Wip0pAghN1Pu6GnfOE2uOHJ7A+v9VK4jJaWB0nPIXkFCCNlQAg180jeio//EuC+SLucrU/rny/d6WibX1IP7EMeRywg4GwJvfgb+88+mjHA4KuddXRixk5VOkQwTnkzMaRSXM6/KeVfji2nfU+YInTRDgRxemgGeBorUnD5plyWLW+Xfxge2tPlb7bSBYAv48w/AD6+NODs5nT5vJkYvHTpShJDFKXsJAcALAhSAna2mlEIcxwCmHyhujDrK2yJN4bNGmxBCNpvdzkM/g8Vochokov30zAwQBoyLlCRGIF1ERkgN35tkvfPzqcMUXxlHajQyt4+vTLw7YMIhACOGtA8vCMwQYN0y8eWhNj1jLW36w7a3jaDa65jzEr4h5YOnZ0ZITZxFfpazVGSJ0JEihHwwHmBFUZ7nNnClPi/NFVtSApg19E/RpSKEELJyKBjxIuWF70fGifrlF2B4bi67uJiW8CVlqV2STt0mIdwyX53SWcry0oULgLBlfo7Eubfb0wHBwZY5H5aJhu3t6cyr7TKpcCsAghZw9MYIvO2r2d+F0edLhY4UIeSDcHdf/DIuPVFmVy1JEiueXFFVL/WT76XsT/lqulNGQUUIIeShUWrqFCkfCELg51Pg7J0ROv/9T0b0uGJJkIHB9Tj30Ilz39kx37e3zbynMDCJhlqbPrLdHZNW2A6nYgkw99VOwIbLdz8Ar38yZYTkTqEjRQhZGr7WKPK8MnDaHeLr4n7v9lnZHqr6sEMKK0IIIfeN1kbo7OwA+/smES/cKkVSywibVhm57nvl5WWlxvYWVEuXpXoa6O6VjlQZpLEdTlP0gpYRVzJAVwYGb29V49y1Nr1iuuwlAzAz7JSu071BR4oQshw8mGG8SkH7GvCALM+RlSKp7k7J925MulIKyikBBMwuj6cUfLDsjxBCyD2zHZrTqxT4h78DBn3zfZ4B21vAXtcIpac94xw96VlhpHp7+P/be7vnxpE03e8hkAQhCKLYLA5brdVR19Sp7e2ds2djvZfrK0f4yh//ri8c4QiHr2xHeOY4zs5su7e7plqtVrNZLBYLBUEQCAK+AN5kEiIpUqUSKNXzi1BRIkEwC0hm5pPvF1rNIgW54xQiqlWKLs9brOm0JJV7Y1mh4FU1Gs24p1kGZDnQWGIlI/cKLVKEkPunMX8QK5UMMmbclImZVr36d55lyKwyhsqsNk8IIYR8SsQK1FLAs+5i/NPeHtA5KIRU/1lhjer4wF5pWTrYLyxOjjOvhSWWJc+733Y2sCimsgzI7fv9jLtSTW5RTcFuvt7AYh2wHYcWKULIJ0My/MEurEoAoEpLFIAF6xQwd/FbOEfVYmVYqxqWVW7e0Y2BEELIJ6Dlzl3r/qf/viiECxRxUw27dLGz5rFLSs0tTY7xnIXC0mRZAKz1mfPuS0TUZZHKUQi5WQYgK0UdFtO7T8v5Pk3ndbeA4lrtGfFgOz6/0yJFCPl0GJOBXYoqu+kgy+cCyizkmxoiC1gsALzsx67UtCKEEELuFcmo5zjA371cfO2RWE1usG27qxajZROvCCTxGpEMhhmKR5TPSWr2rBRY12Xqd8luuL8HWKWcaKqdF1K0SBFCaqFhpEKXelPyaKZLNzHdArMsQ1ZmB8zNmKpqwcbHOtERQgjZLWSxLO5nj8XVfBMtIuLIFETydwaU/8ytS/r58veZ8TpQFCCeTudiaZYVf89mQDItCxDP5ha+6XURh9Y5BE6yIhlH09l5ZUGLFCHkYTGK+tpG3SlgMSGFFktLrFU6XXollbr5nOn+Z68KziWEEEI25bFnw5PFfnXDUVzx8gxIRUhlc7EkQsm0KKUpkGbI8xyNbFYUFgaKIsPTWSGaLi+L44KwEE7hJXB1VbweXRXvubws3vfhPbJpCuv4K+C/+2+BbqeII5PaXTsKLVKEkNrRwkopWNlNt79VA1RVcC3bEbIAZFJqA4agWuaaQKFFCCHkqZGhEEBJClhJYQVqWNAmpbQUTdN0LppM9ztxzYsSIJ8tiKWGiKrptLA8JaXVKS2tTVcxcHVdZDm8vALiq+K16+vifVfXwHWMPAxhxUnhzjd+X8RIzcrP3WHLHy1ShJD6KQdIu1GmerXnViezxpRpnRJWCS3TMlX9XVKqV5tgMcU6IYSQp8R0BqRJYQG6vASuYy2M8umssCZdp8UxcVJYjIDiMcuK52YzXF9eQn0IAQD25VXxfFyIIFxfA5dxIZbiKTBL5okl0hmQTpcXLAb06403b4G3vxXi6/nvi/dc7X5BYVqkCCG7RSlkxEolgioHMCvd+ySWalmxX9NKZaZct4yYrPLJBUF1I7aKEEIIeSrEcWERshpa1DSSMtFDFBevT6fF70kpvLIMs1JYNaMY7968waFykL57BxVPgavLUkyV7ntZelM0ye/ZDLDsIkU8MH9sOUW7gglwNQXevAXevwc+dObxVibiTXLXTc979kahRWpHyY3Cpfelcgl5jOjBKQcahqjKjbTpAFZaq+QxTVP9mjngmfFW5vPVvxfa9IhqXBBCCPmMyLOy9lUpVJJr4O1b4P/+I/Dbm8JC1bSLx/gamE0Ll79pMne1m6VaIJ1jiubkPaadQzQn7/FL+Xjs+riIQ3x1eIhfw/f46otDNFQTaHlAswE0W0XtrZY7j3Pa94vP3nOL4sUyX4/fA//b/w786f9dWl8rnaV6Ho/jeGF+dhwHbqssmrxiXjbLrCRJsrBOsCwLjuPAsqyFeOtNoUWKEPI4aFSsRsZAKtYqE4mxkiQVZiZAebQsC0mZ+a9ao8q0YonVSsboLM9owSKEELLbSGa8yw/AD38FJu/L+KQyrukqAqZZ4daXJKWbXVq66F0D0xmurwNcA/i+UZhyvskbaP7hD4h/+QV4dohf378HAIR7hZjxvurBbjmAuwcc+MBea16YuOMXAmt/D2i1ylisKfDbCPj/vge++6EQgNmi2cjcKI3LLH9KqbnwaWHt5maOeRhAkiRIxBKHRZd/W20vY2iR2jVyIJkWNzmOY0RRhDiOaZkiZAlWw0KWZ2igSFQxM1KmO46z4OYnLEtKYSarMOOpqseav8uAWx27mX6dEEJIbTTK4sCHh0AnANoHxfOpWKBQJIywG8CeB+zdPEVu50AY4dfZFK/GQ6S/vYH68ndo9nr4GUDvWRdvftcFAIzejvDV3/4tWt1neOPv4dujY8DfL9rgNIvHvT2g1SzEk+MU1ihHFZawOJ4X4BWsBmbIYacZZlmGIAj0mngymWjrkVIK7XYbWZbNLVNL5txpkiAMQ2RZhvF4jCiK9GtKKXieB8dx0O124XneVl4ntEjtCjl0kdI4jpGUNz0IAiRJsnRBSMhnT8VKJenUTbKKm2zVZXZZEotqCnX53Xy+WudKx2AhW7RglRtrdAckhBDySZGMtAcHwNHvgMsQ6PfKJBJxkVVPqcL1r+kAh35hAfJ9wG0VQsf3MZtO8YNr43fhFf7rD3/B//LVIU77X+L3X5+i+6yHzp6HnmXjt4tf8VN6gu6zHp7/4e/R7/cx/f0LNJ51oWS9am5cmvNgwwIuIyAICquZ6y78V2w0kOc5rqdTDAYDjEYjBEGA4XC44I53enqKLMvg+37xnLmZWc6/cRxjPB4jSRKcnZ1hNBoBgBZgnU6nEFCGe5+zZD2xDFqkdgzTB1SsUuJ6VK2dQwjZjIZlwbasuT825t8jM8360vTpa1KwV5NYmAWDzcfiDwD53Iq21DWQQosQQsjH0ACwvw88+6JIHvEfnxfWKLdVvC6xS0oVRW+dFuC5hVXI8wCniZnVAF6/xv/1+6+AH/6C//HiHf5r/0stovY6h0AQ4sOhD7wtXO2SJEEURfjQVOia1qUcSGZFKvUsW3TBt6bXuMoz7F8Xac8VAFh2KU5yzJJrJNfXmEwmGAwGC8mmJFZqMpnAdV2kaYpOp7Mw75pzrcRJm+tpYTweIwgCHB8fI03TG6+vgxapHUJuchiGmEwmGI/HGI/Hc5NlRa0TQm7Hsiy9K2U3ywLA+XzAW1avapmFapkFa53rn/y9VFRVXtMWrEo2oQWxRZFFCCFkE74+LuKR3r0H/uar4jnPKUSUWyZ6aNqFmx0AuC3klo1G0waUg6tfzvGvbQfRL7/i4qse/kvwFqd7Lr78+hQHh4fwPA9KKXT+nz/hZwD5VQT88CNmX0+L+CMjs146SxGVbnVxHC/Mq0mSoPt2gr+8HeLw/BzX+TV8x0LLUbCnUyAMEUwm+O777/Fvf/4zvvzyS3z77beI4xij0QhxHCOOYwwGA5yenuL4+LgQQWXdKZlDTU8Uz0hmIULsz3/+M+I4xtHREXzfh+d5G6+5aZHaEaoLOzPLmAgp4P4ULyGfFRURYgoU2XlqWBZszJNWVIv9rntOWCaslrkAVt+HiiWrYVloAJjlGWyxYLHGFSGEkE3wPMBWhWiy7eJnf6+wQqnyecsqfrcAKFVs6NkKaACxA+C3c1wf+kjL9adSCvsHB3MXOstCvNfS89YkuYZ3dVXMbUbRe1NAiZeVkCQJ4veT4v1N+0a41llLwUsShEGA0WiEL774QgscmYsl9qndbt+4DFXvj2Uue5ZlaQOGtG9Ttz6AFqmdwQycOzo6QqfT0S59ZqpGMWkSQu4HM706GoXVSjY2qt81c1eraqVa9mgWE77187HoEii/T5ccJ6zKMGTqLVq1CCHkM8NxijioljOPPWqqIi6pFE4F5fxglxt1eQbAgpUBTga0LLtIxrC/D6UUXNeF7/vo9XrwPA9BEOiN/yAIsMwmE8cxzs/PEUURhsMhgiDQG5jqeoo0ijAbDOH8/BN+/bKLfxgP8dzfA4L3UMMRRn5hQWq32+j3+/jDH/6AJEnQ7/cRhiFevXqFf/u3f0O73UaSJHOh1ZjPo77v61gqMVDEcazzEHiehyRJFtOfl2uC26BFaoeQmyDZQ9rtNrrdLqIoQhRFC3nvCSH3TGP+KOKjOjDOsgzWEuvUqjiqqrXKxHyv/JguD+tcAuV9+RKB1lgymDNdOyGEfEbYFmA5gINCTAmbZJXNgcy6OfeYtZba7TYO2m20y58oihCG4dKmiMgKwxDD4RDj8VgLFvG8ssMArctLAMC/5hmel+8NkwRxPM/E63keut2unis9z8P5+TmCINDr5GX6x2k6N+KexJLlui6azaY2VGxrrKBFakdpVOraVIPYCSEPTwPLhYogA/U6t7/qo/l6lWXv3yQ5hvl7huIceZnsQv4fa5Ne3AYtW4QQstvIOL3turEBKFjwPA9xHMP3fbRaLbiui3a7rV37bGPDcV1WaXGnc133huUnTVMc/PoG8Nt4Wx7/7fDtwvvNDUbx3DL/FuTz8yy7OU8bG6SSCVuEXRiGcF0XX3zxBXzfh+u6hWvfhvMcLVKPAHOhQ7c+QupjXWIJVBJFAPPYR7Ng8DIr1aqU7FVBtmqgXtWuVWncN/n/mBPRjfkkZ70sQgh5qjiOg6OjI7iui/Pzc3zxxRf48ssv8eLFC7TbbShbLbjAV+swmiil0Ov1EMex/t30wrg67GA/CHH6uz6u/vxv2PtPf4/fhVd44+/h8vISmTpYMCyY511wxTPasnTDs5yjxcvr/Pwcf/zjH5FlGTqdDhzHQb/fR7fb3UoU3bdFiuaST4CZiIIQsqM0bv5YDQtWo0gcYU4Et9WpMp9b9ZrJqrpY655b9T75ybMMszRFnmXIsVQnYpZnRf27PMPKgwghhDwqzLlKBItSCo4zd5HLsTiHYMnf1XOK8NE/DQs9b3/huGlZ4+mofYj9/cXXzDlK3AKrnwEUVqksy+ZzUl7MV+ks1Zn+zLAZsbbJ/28bIUWLFCGEfCpKK40IKgBAsXmFLM8WYt+87wAAIABJREFUdEee3bRUmb9v+ty6Y+TvdVapZS6Dt6V4X0U1vbvJMgPWVm6GtIARQsgnw0yaZGaRRg5EV4UAETESxzGurq60QAnDUCenqMZIBUFQzA2WBefDJSZXEQ7ehxg9a+PvAbz19vCmTDYBQGfjS5IEYRRhNBohSRIMBgP92eJyKCIoCAItkMSdUDIH/uUvf8H5+bn+2/d9vHjxAt1uF77vr3SbXwVjpAgh5CFYk4K9eGK5q+CstEgvS8sumL8v81VflVVw2bHV56oxmlU3w2Xvv8GSCeZGDS3Mre9m/Naqx00zKhFCCLkbS+eHvLAGSUbpJEmQJAmm06n+O47jhTpMcowILbFORUbxxMZ3P+C7/jN8BSA7O8fxP/wnTLod+L6v3QCTOEYYhojLRxFMEtskc1QURTrzteM4ulhwkiS4uLjAjz/+qBNMKKXQ6XTQ6/V0m7dxrqBFihBCdpFSJNjiMS0BtrcksqiyLpugaYFalhW0aqEyz1Otj7WMdRkHbztu3TklgcYyqtavTbUWrWGEEDJHxI5YdURkpGmK8Xis05mPx2NMp1NcXV0hCAIMBgMAQKfT0VmoT09PkSQJjo6OtJCS8j7td+/xNo5x+n/8n/gP//odfv6HPr7sPgMAfGs7CMrMgAcHB0jTFK9+fIX4OtZ1n5RS+Prrr3F8fAygmKcGgwHG4zFOTk7gOA7CMMRgMECSJBiNRhgMBnj27BmOjo5gWRaGwyHiOMbx8XERA6YU7A0L8tIiRQghu4wIKlnob7jrpTMYYe42uM490Mw4uMqCZb53m0ljE6F0WxyYpKa91ZVwAwvZMrFVjUVdsH41SrHaYFFkQsjngYzJknFPLD5pmmIymWA8HmM0GuHdu3fafQ8AhsOhHqv7/T68PQ8nJycA5vORjMH2ZQS8mwDnA+DFt8Cf/4pvggSY5Zg1m5j5PtKyCLDv+4jjGN//+/faujWdTvH111/j9PRUJ7GI4xhnZ2e4uLiA67ro9Xpa4MVxjJ9//hnn5+dwHAfPnz/XQmoymaDdbsPzPMZIEULI545YWLK8mLRyALYRiLvK2rQqpmpdjaxlbOTyh9VWqurrq9q3rK2btvNjJr51WQ4FM+5tXdr8Kuu02r3UA6MYJISsQSmlXeqOj4+RZRmOj4/1uCeFeY+OjgBAu/S12+0FS5SwMF7K7zmKulbKAVQZPOy0imLCBm6rpdsgSSbkEQCOjo5wdHSkLUlZlqHX6wGAfs7zPHQ6HaRpit///vdotVrodrvo9Xo3EmlsOy/QIkUIIU8RI9HFDcyJohprZDqHL3neTOkO3J4kYxmmKDItUcvek1bSxn/sZLWsltc610jz9XXHbjL5mlkYNwlo3uacwtq09cA8vmzVAYSQz56m46DT6egkDt9++62ur5SmKTqdjnb5e/nypR7TRLRYlqVFzMpxRp7PUiArB6XkeuEQ58CH43n4w3/+z/jmm28QRREmk0nxWil8pCiwmQ3w5cuXODk50RYmEUppmqLf7y+4FwqWZekaWbRIEUII2YzqJLdu0ssXLV3FhqIxEZWPMqGuS4ixKVWRdZfJyhQ/q8TTKoF2W3KPde+57VzLYtVWfaawzuJmWdaCsK3eH2CevMQ2BdWngCKNkEdLA3N3anHpcxynyEBrzVOim5YnGZvEqqOUKoaYTRMD2cZBWQ678KkGALjNJrLS8iNxUaYlSdogY6e02WyLmbrdcZwb84FZ7HcbaJEihBCyGcY8Zy0rG2gvpnjXj0uoxiQtW9NXrV1VN7+l591gMjNFi2lpqn6OybrnlgmtZSJp04m2Kqi2sZptk7p3VazaXd97F8zzbOL+eJvb48osj5tA8UcIgHmiCfnd87zihQagbKUtVQBuJCoSAeY4jnYn34hZXrj2ZTPAKr+M6TyGNwfgi6AzrElKKS3WrIYFy7Z0GnOlFJStYBsiSVwDl42nptja9Dot+/1joJAihJDPgY9cdK5d3Iqqsi0tuHRwsmXpzIXCMhGxifCoPndrmyuCZdO4rXXHLLO0ycJk1efc1o5NxdQmFq9lbCoKq4uMW10pV5xTziOxfquQvlJ9nOUZ7E1S6hNCNPK9cyoxS2gsee5jML/3yTVg2XNXP1VueJWJfmzD+rSUcl6qHmM3LNjlc/fZ9uqYfB9QSBFCCPloZHFruhIKVcuFVUmmARTGsDzLYJe7i1XrVtX18Nb2LDn2tlirqtvdbecwj62y6hjz2G2sUatY1uZVwm1VW5edaxPWuUNuS/U9063PsP58645bdX1u+780Kq6ZqxKYNCzrzvsYn1ww0qpHtsXs51WL1C5R3cUpv6uz2ezeRBRAIUUIIeRjadxc8N1pAWhO0NbNIr5rM/pVPs8UcmZKefM81UXyJvFd1QQU5u/LFuVr23xHK9Rtx66zqm3qwnjb/8+yltcyu437cKfZ2nJ2y2eb7zWti8B213/l/+2Wc6y7JvmayyVWu7uQ4xPF3e3geprcM1WL1K5yS1+kax8hhJCnTWUivE2cmXWkLBhuhphbC8QSli8RPGYQ87rF+TKhtUxgVY9ZaOsa18F1Fq67xHCtYpUgqbbjNlfFTR63adM2514lHqufuY07pwiq29pd/f/d9p5NLIbmsWWjVp4v/8iF4Owj3l7msrn5/KdMiLIhdPtcwceI3FUJKJzW3c618jWjv8txswyQou5Z9dF4z6zyWnm+PE3hXieIfxsiCy91zNUCH3FtKKQIIYQ8Dm7bYTQXUEusZAsTuF15rZpwY9WjwTprgKw71iXlqLqGbRoftu74Zcfcdg4zCHydSFwmjm4TkNXH29q8ShiZj/Jzm8iqft46S9U64fgp2VYgbyuk72vX/b7P9RDnve0z78O1dtW5P4ZtathtfE7go6yPC2OpZc3FSp58TLOM82SlVjLEUJoVz09TIE2BPAem0+K166QQTtPSCThJgOmseG02K44vrcv5ZYQEwN74HT78coEsiTH7EH5cuw0opAghhHwe3LPb0UYJOJaQmXrPWDStWkBVLWh3YRO3tnULy2XiadW5lp133Wfe9f9zm+ja9P/8EMJpW4ua+R7z72qdtk3E5DbtWXe/PhW33a+7sK3Ivq/z3su12vB6yEZM9bF6DLB5RvOVTcqzeeZX+Qy7AUzzItmEkGbFh5kbGA3AKvyryyfKf8SapEWUcYwpnq6vi/POUuA6BfIZcBUXCS6m0+K46+vicZoCSSmuZjMgnSFPp1AfQnyYTuH8dI7jj7gOy6CQIoQQQu6bNauWlQJs3Y6xkRFRn+cOC8/78LxqYLWlZ5uF5EMszu+zDcuE4jafscxKt6lbpCm6qvd9lfVvnSheJ+BWHbvstXV9cJkgW8cm1sqq1XCVC+eq+/OUrGr3wbZut3GawLuMkF5dwb2OYTktIEmQRhFU8AHRX3/CXp5jasROWdeJ1kkqmerNAHWdFAIImIugWWlRuk6AdFqIpWRqCKakeD1OCrGWXANpIZhwHZfnmhXnApBlKZoALuMY7+MYaBaH7Adh8X+319T82BAKKUIIIWQX2MZ1sWb0AizHTbfH8u/bEiGsEnWbWt/uGpdlLrBvi4dbhnnstseva+umQug+uM2Ssuz/tOlz5mvbXNdNXVXX/b0u7qx6/DZ9Rt57l/72KdjWknjb8be237aB2QyNy+jGS/H1NdwoRvrhEupDiPfjtwAAfzpDclWIG1W60iUAnOsE15eXmAFoxaVrYBQjmyaw0rRw0ZtOb4okEUizFIivC9EVJ0CeFq/FpZCazub/r/LxAMAHx0Lj7QAAMPmf/4dbrvDmUEgRQggh5M6sqvNk3ZJVbpVu3CRGxEyfv+xxnRhbZdXYRMAsO2bTBfiqz7ovkWGedxtLm3kdzP/Lx7pkrrq+q47d9FrcRvX/sO393PTYTyl4NxFn69ohYnJZPzUfNxaBsxlg25i2HOwteTl/O4KVpQh/6GJv/E670h00m2hEMYKmjfZ0poVSazZDOp0iBdCICnFmpynS2QwqzwthNCu3WrJZIZ5MbAdQM6DVLI4FABzOE04A+KAaOMgb+NDIse+6mE4m+Cr+gP/1b//Dvbr3UUgRQggh5G4YST2qj9XfH5Rdc7X6hNnsbkt6sgnLhOddY6dWWUHuk/s43yrXv4+JOfuYz66e7y7nrb5/k+M2Pr9loXldWJCS9j7c8ml38gHxqzMAZzh8N0G45yIBcHgVo5HOkMfX6DRbyKfXC/1RTXMgSwFLAWlxXmWViSyUU5iTbAtQNtCwAaUA19HPZU0Fq6kASyFtFnKm0SqyCOaehz0AKYD9Lw4RNG1cBe9x8V9m+Ic4RdNp3lufpJAihBBCCPnErLLcfezjOiRz5LKkBObjMiugWPbWWV5WPbeNNepj2cR1cht3vLtanraxBprWt23bu02yi03PfZsLoGVZgGUh2XNxBQBhiPzZM+DLHgAUomp/DzmAg+kMH5qFf++Hg33gYB/+VYyw0wUAHMQzfHDt+WOaa+uRxnYAtwxoahZCSdk2UAqltHy0XBdo2rBUIapmIqgA2E0H166DGYA9AL/vfoHk3W8YJTG+ltio2dwN8K5QSBFCCCGEfErWWO7u63ElhR9k8fuqx7KNC+8pCrBt9N+7wcfH8O8cdy1+fN+YVh0RwjeOKYXRRm6yW1hmXMuCSjMkvg/87e+RvX0La5oiD4sYqPyLDnIA+wAaBz4OchtoKUApHDQdwGogbbVw0GwCto0D10HWaBSvAZg1LdhNp7BCKRtQTaDlFCLKtoA9F7BtKKWQthykAOAVzoYZgKzl6LZaTgsOgMBtYi8I8doGDoY/Y/xmCOUtc1C8GxRShBBCCCFPlbvkvW5UHsk8/feOkOXLRRSwXS2qTY8t8spYmHp7cBIf+OIL4PgrzK4T2EHh6NeQAr0tt3CvdVRRtNeyCre8pgOlFNC0gWYTcB1YqlmIJtuG7TSBpiqO3yvFjlLFsVYDqdNE1nLgKAXbstFo2oBlYdpUyJ3CgtVoOphlGVLLwizL0AKQHLbx5fsA8PZuxALq/9wd+zqF1McgcXB5hlmaIjV+1mWNIYQQQgghj4gdE5W1xB86Ck1lAYdt4L/5B+CrPuzptEhLDhTWp2YpplRhiYJtWJcsFH83m4WFSSxIpeugTkfeaBSv5+X/0SqOUbZVJJSwLTRsC6llQaHMam6Io6Y8WvPaa0Fj7lJ5n3F7FFIfgfgnF7XHNisESAghhBBCyKNDBM+eC/R7wP4ekKRFunKg+BsoBJQcq1Qhimw1f00Zr8l5q2xgJdpUxKg0LSxhnwAKqbtSWqNmeYbrOEYcxwjDEGEYIo5jJElCMUUIIYQQQp4WDat0zXMBJwOSZLl4kmMtq/i7UT6Km6SIpWWi6R4tgJI8/VOsyymkPoIcwCxNEQQBoijCaDTCYDBAWipfx3Ho3kcIIYQQQp4OtgV02gDatx8rLoirBNMDUvUeuw8opD4SuRlmXJT5I9A6RQghhBBCngR3WdfuQJyZXcZh3de6nELqI6jWV7AsS/tgKqXWVggnhBBCCCGEPByzsnbUfa3LaSa5B0RAiXgyf+R1QgghhBBCSH3QIrVDWGU1cN/3oZRCt9tFEASI41inW7zPFIuEEEIIIYSQu3HfFikKqbtiVCn3PA8t10W73Ua320UURQjDUIspQgghhBBCSL3ct0WKPmefiMyInyKEEEIIIYTUC2OkHhF06SOEEEIIIWQ3oEWKEEIIIYQQQraEFilCCCGEEEII2RJapAghhBBCCCFkS2iRIoQQQgghhJAtoUWKEEIIIYQQQraEFilCCCGEEEII2RJapAghhBBCCCFkS2iRIoQQQgghhJAtoUWKEEIIIYQQQraEFilCCCGEEEII2RJapAghhBBCCCFkS2iRIoQQQgghhJAtoUWKEEIIIYQQQraEFilCCCGEEEII2RJapAghhBBCCCFkS2iRIoQQQgghhJAtoUWKEEIIIYQQQraEFilCCCGEEEII2RJapAghhBBCCCFkS2iRIoQQQgghhJAtoUWKEEIIIYQQQraEFqkdx7wx96V2CSGEEEIIIR/HfVuk1L2c5XMlLx5meYZpkiBNU2RZhjRNAdyf2iWEEEIIIYR8HLRI7RhZniHPMmRLfgghhBBCCCG7AS1Su0JeiigAcRwjiiIEQYDxeIyktE5ZlkVBRQghhBBCyA5w3xYpCqmPQCxPYRgiDEOMx2OMRiOkaQqlFFzX1TeK8VKEEEIIIYTUB7P27RANw+K0TNlmWQbLsmiZIoQQQgghpGZokdoh8lIoAYWyVUpBqeKSKqX0axRRhBBCCCGE1AtjpHaIhmUBWaYFlFIKjuMAWBRSdOsjhBBCCCGkXmiR2hUagA0LDaXg+z4cx0G320UURYiiCEmSAADd+gghhBBCCNkBaJHaJRqA1bDgui4cx4Hv+/B9H8pWCD4Eup4UIYQQQgghpF5YR2pHKWvzFpn8cmbqI4QQQgghZJdg1r4dx0wwQZc+QgghhBBCdgNapB4ZtEoRQgghhBBSP7RIPTJolSKEEEIIIaR+aJEihBBCCCGEkC2hRYoQQgghhBBCtoQWKUIIIYQQQgjZElqkCCGEEEIIIWRLaJEihBBCCCGEkC2hRYoQQgghhBBCtoQWKUIIIYQQQgjZElqkCCGEEEIIIWRLaJEihBBCCCGEkC2hRYoQQgghhBBCtoQWKUIIIYQQQgjZElqkCCGEEEIIIWRLaJEihBBCCCGEkC2hRYoQQgghhBBCtoQWKUIIIYQQQgjZkvu2SKl7OcsDk2WZ/kmSBGma6ueVUnBdFwCglFp5oWZZhlma6nOIMs2yDK7r6vcq9SgvESGEEEIIIcTgvi1Sj1Il5ADSUgSFYYg4joHyOVNE2WtEkIioOI4RBIF+vwgvx3EKIWUroPFp/z+EEEIIIYSQT8vnbZHKgSzPME0SRFGEJEkQBAGiKAIALYxMS5IIK33B8uIhSRLEcayFlAgzOY/neVBKaUFmNywKKkIIIYQQQh4pn7VFKpkWLnhBEODi4gJxHGM4HCIIAu3q53kejo6O4Hkejo+P0el0oJSC4zhAPj/HcDjEZDLR55L3A0C/34fv+/A8D8+fP4fjONrdb1Msy0KWZVrA3ZfyJYQQQgghhNxOo7L+/qwtUhLPFMcxoihCGIaIokhbpIDiwoRhiDRN0e12kSRJcbHy+TnSNNWWKDmHCCnLsgphNpvHYIkoukE+/1VcBcWyZVq35PlZlqFRvo3GLbIpj7G/PMY2fw48pvvymNpKCCF18VjGyodup3xedX0+nU4BfKYWKRFQk8kEg8EAURQhTdMbSSVGoxGUUmi327AsC+12G47jIMsyRFGEOI4xGo0wGAx0ogo5hxwTBAE6Vx10u13t5idWLQCYlS6GplASd8M4jnUCCxF6ZvwVIXdB+s99ffmfIrt6jWRsMa3UZJFdvXe7yK5eq11tF7mdXb13u9quXYTXajmyzo/j+Iax4z54PEIqx4I1SmKjHMfRIsiyLC1olFIIwxCe58F1XeRYtGiFYYjJZKLfJxn/xKIVx7E+BzC/EUARpzVLU/1cmqY6e6D5aH5elmWFEJNz1LSgMr9odbVhmcujdOqV1r8HZJcGI2mD6VZqtuuh76F83rL7VKdYMNslf+9C/wZ2pz+tczWuc6Nn2b2rG3M8Mt20627brl2rTfp6HWOU2ZZqm3ZhXNiV+ydt2JU+tao/yWu7cO/MdtXdp8w27Or8J22r81qZa/X7FlHAYxJSKISUWH3kZrTbbfi+D8dx4DgOwjDE+fn5wvHtdht5eeGqFiPXddHpdPT7LcvC2dnZgkUJMG7EbJ7tbzweI01TBEGAOI5xcXGBwWCgxd5sNoPneVrweZ4H4OEHqmrHMb9wdSBfKunUZntWLdIfCmmXtKWu9PfVgccU8iLIH3riMz/PbI+8Vte9k3bJBobZlro2K5a59krymrqofu+EdWUiHqJNwPJEQXWPUQBuJCGquySGeQ9Nb4y6N+XkUTLouq5bm2ioLibNRaXpefLQ3Dbv1YVsQMv3T9ZBdbUFWBw3ZZNH+lRd88uuznvyuamxuS8GBvP1h26Xee/k+bqulXxeGIZ48+aNXrPfF49KSIm1SSw8AOD7Pvr9vv6iKaV08ghTeAGLFikZzJRS6HQ6cF1XC53hcKi/NNUYKXk+jmNMJhMkSYLRaIQgCDAcDvHmzRv9uQCwt7enrVt1CSmzw8gAXsdgWd3ZDcNwYYKrc1EgSP8AcMPaWQfST6UvSp20ugYlmXTN7xSAhf5U16IuSRKEYbgw6dZ572QxkCSJvnee59W6SJGxy9xckWQ6dbUJmLtty9hU9/euKs7ld3OeqWMxrpRacCM3NwDr3jSQLLoA9OamHFNHm8zdZ5nHxU0fqGeBaX7/TGFXtziXmHPLshbuXV2IIJD1nqzTduHemeiQj5qoihZZd4onllDHWGXWeAWwMLbX0R7Z6JlMJri8vLwhij+GRyWkll18mUDMiVc6fdW9YNU5qpP2wiJ1li0sOuT1hfPmN0651f/hU2Lu7Ajm9Xrotpi/m7uqQt0DuEy65kRXdRV56PaYGwAiOOvetTe/X/J9q9viIhOdTG517/KaO4VxHC8IFnOsecgxwRTl5k59na4p8vmmRarO9phUNw2krXVazIG5t0V1EV73mC6Jm0TgSZvqdBczv39CnfdPFpjmGF73BqIpEmTDt25EGIhHT7vdBlCfhUXaVP18EQf3uTDfFNPiagqpXejr5tgJQG8C18Gqa3Bf37lHJaSA9W5q5kVZ506wShQt+zvLl8eBmJYBGYCCIMDe3t7CZ/u+D9/3F45/CEzhaFrlAOid8Tp3oaMownA4RBRF8DxP79S7rlvLTmZ1V1UWA0DhpvKQ904wAyTDMMTbt2+xv7+vr5G06yGxGhaiq0jXXgPmO02yU1+HSJfv4bt379BqtdBut/V1qmuRIhPJZDLBaDRCp9NBv9+v7xo1LAQfAkwmE4RhiOvraz2Wdbvd2qxAVqOIS33//j1s29ZWg7rGAmlTls+tGuamT7fbraVfWWUtQ7HejcdjKKVuzC91jJtA0a6//vWvSNNUz3tAPa7k4vFguuhnWaaTR0m7Hgq5d0EQ6E0xGS9d14Xv+7VZ9K2GhfF4jF9//RVKKV3+pY62AFgQBKPRCL/88gva7TZOTk7Qbrdrc8uURGeylpINO8/z4DSdG2vFh8AUUUmS4M2bN7BtG+12G+2DUng+YLvWrTtlneDteQ9+raRdcs9arda9bvA8OiEFrA5AvO2iVF9fJ7w2GUBMa5hqKr0LJ22azWb6uTrcZ8xrU6Vuk3T1s2URV5dbj/lFM/uJLHrrEJ0iDkx3uv39/QVXyDruoZou7oCb3wPz/j14u5RCkiRoNpu6L9UlpKoWcCkAWNc1Mi2sVZcnYO6a+dD9yYwVybIMtm0vjAV1WhZFZAKLVhWlFJymAzQWk8A8BKa3haTwrX73HtqaZ86ZcRzj+voaQDmmNyyo5sMvM2QjrPo9lLG8DounaT00+33V5alOLwNgcW1Ql7uoCODpdIoPHz7oMcF13VosP8Ci55K5tjLjkeognaYLY7u4INf1vZPHZUYKWSvX0S4Zzz+FN8+jElKi/mVxmWWZth7Il9+sCSU/YRhiPB4DmA+wchGTJNE7e7JYNtOVi7XEvPhNx4EHoNfrIcsydDqdBX912THMsgynp6c4OjrSQuqh3RzSNEWn01mIK5NdJ8/zat3dkWvleZ72y5bd1bomk16vB9/39e6lpM6vw90hTVOMx2OdhdKyLHQ6HTx//lzv+EpbHwpZLHU6nfmAXVo45XtSR0C3ZVnodrt6sj09PV1oTx3IpNbpdNDr9fS9M4XwQ18jGQcl62mapjg9PcXLly/1oqCOe2daEI+Pj7W1tW5XXynaLru+MnbWJdDl+6eUwng8xtHREXq93oN7PJhIX3FdF71eD0mSLPSpusSm7IiL9c7zPBwdHWlry0NjWUWNSpmPJS7bdV1dqqWudsl3TSmFb7/9Ft1ut5a2AFhI4DUcDhEEAfr9Pl68eIGjo6NahJSsWdrt9sLnt9tt/f2r04UuyzJMJhPdjpcvX+Lo6Kg2t1pZF0vWa+lj3W63lk1pUwt8//33AO43jORRCikJigSgB0tZBEhgN7AYX2J2MhncZcAdj8cLu7FmQKEMdlUVa1fcqkzhJq5YAHBycoLj42MtEh4a6dDm/0ncU+py7QOghWeSJNq1QZvJa1w8ieuHXDff92txoQOgXWRkwZskCbrdrnZxkIyVD02SJHpCkcWkLAjqFC6dTkcP2LJgqlOUz7KiTEK73Uan00G73cbx8bFuYx20223tTiuuTycnJzg9PS0W4y23lsqO8j1zHEcLlV0QUlK0vSqkbKVgl+5aD40kLplMJuj3+9otcxfiDw4PDxHHMY6Pj/WmQV330KzrOJlM4DgOjo6O4O15tVUvjaJIb7yaLtq+72v3vzowrb8vX75Ep9OppyGYbyDGcYzXr1/j119/xeHhod6UroskSfR8K33e9329gVcXsyxDXhoVZO49PT1Fv9+vrU3IsSCkAGghVcd4IHNxEATodrsIw/AzFVKNeWyP7/tot9taGMmCTh4lKFEGqmqAp5yn0+lo4WO6J8jOjHzOJjt9OebtM82/C64pkpTigQfLatBvXTEjABYSc/i+v2DJU0rBVqqe61SWwJb7LuJAL8RrKh0uny/9fqFN0m48UNuMeyf3S76D0qaGXKuHapOBUkpbEOtegJtIiQURmpZ5jYCHu3eN+c6gmQjjhvvcQ/b18jpIMPlS18eavnvAoitY1V0ly7Ni8ftQGH1GLOQLWSBruk7SLNmgE2tLbZQNkrlcYpVr7VOV75/Zz8UFsrZ2YT5GLVgQa/zeyRrF9308e/ZMt622tUFJ1YtHzzM1XqsGCqEgmQ11u+pok3GtZD0s7MK1AuZWRNm0tyyraM7ZMERsAAAgAElEQVRHtOnxCClALyLTNEW/39cue5JyNcsyeJ6nVa8MnmIqdhxHvyZfzDAMtWoWl0FZ9HQ6HW25uW1h1gC0id513Rv1NCyrnt0m0z3RfE7ZNd368hrIl766CLfrEnhlu/Y8D72yDdpXvKYvfqOc1KRfiSVIBgCl1MO2q/wspznPoCTU4cJTRSxRslipc5cQAOyGBbvpaGuLGVtTF+ZGgeM4SNN0YfMHQC19Su4dALRcFw1gvris8Xq1yvsGGKUj6rqHxvdPLJwL8Rk1Xqc8K2oynpyc6J372saD8jo0HQd5Ob/I/FebwJN7Z2Sfk+9bXWsDs11mynO9VqhLGBgxf71eD6enp+gcFrU+6/7eVTMHWpZVqyVR2uA0C0EgY2jd1wpYTMEufb2usbOB+caKJHyStf19jFOPSkiZAciyGDDT+ALQliZZgJoBeDLpmDEvIqZMv9dOp6MtAKbv8Nq2NayFz5TjF3aha8JWCnmWFdaCHcEMtNVuMjtAA9C7mNo6VuNOk9lfpV+acUh1Ncw2vg95jQHSJso2gqR3oD+JxaJZtunBha9J+bmmW6FYE+vI9lbFHF93ZSwAyrYohQaMzdYaF02C3DvbtGbURAMAysWvxE7K97DOOcduWMissg1pujBm1YWsE4D5tdmB7gRbKchW8S70J9mYE9e5WoW5gd7whTHv7cINxHx9DDx8EpxlyBjVsKz5+rPmayWGErF23rAI35HG6elp/tNPP2GWZfVZAzalnMni61jHjUgqX6BwUxE/THOhaaauld18cfWL4xij0QjAPM7JtELJRb911yEv2mVmxALmQqpWa0tNrlYbUbOZd9eRjQLTNVXM0bZS9fcpk124j7va13ekn1cL8oqQ8vbq3YUGsLv3Ttil9u1gW+LrIhZJ4kt3ok8JO/L90+xae4Cd6lMS5x6GoU6uIuu6WqnOeztwrRbYoXu4i2uEWZbh3Xisreame+3HUL9s3QbDPF5N3wtgvigod+1N86sIq2pqXQA6cF5cN8y6RsrecBd5RSrcuq1RAGrvvGvZ5bbtAGaCFDO5g13uktfGrt43tmstYrUzY35qH5+EHblGK9ml9u1QW0zLq2QRVUo9fAzZOnboegHYvfYAO9UmsR6aHj07MU7t0DVayi61b5faUmI35hkqRUTdh9X8cQmpEqsxDyIVdyfB3LEHbua1lwuXlwuJqslYxNhdFKqkRs+NYERtzSLkDlgNCyjdU8StoGG+RsiW2ErBMsYomUh2auFLHg0y1zZyLLgW7cTClzxK7LIgthlWwbGJ3AcyRt1nSMmjFFKm9efO2bmMQX7rANQV5l09cayaQMScv+vmYfLwmCZ50+2jYUwgy/oV+xTZhkYZ97OkL61dqOyiKxJ5WG4ZY25Ndf7QmSrJbrLJWFLOexuJcfarz5vqGmhdH2is0AzL+uQWc97jFFIPRV7s0uYAruNY16gSn10zNfXKBADlzU2mxfvMGAXT3VBcCevO6kUeBukHUh9KaqGZQbamK6omB9JZqtP2S18yq9JLQgFJIlC7Xzn59ORAdBUtjDGysJX+4HneZhmmynNJbKmZzXSn3GzIp6WM+82yDFEUIYoiAHNXeUlXvzZWs5xDkyTRSZ3M5E/i/eG6Lue+z4C4XEdJn5KaaOJJ1G6314dTGGOTzH/AYrp0x3HQdJzdj/knd8dYB0k9RFkHmRm7b+0H5RhX7ZMyb27UJ0EhdSs5gFmaIgxDRFGEMAwRBMFC1g/JSQ/cVLsixKRIbxRFmEwmSJJEiyezNtAuZbAjn44kSRAEgS4+GEWRnlBEAMmXuVq7RuL5giDQfUkWObIw6fV6AMp6T5vG+ZFHyyzP9NgUhqEuQC4psuVx0/HFHK/CMFzIHkm3rc+DWT5PcjMcDnXherO8gOd5UFkGe4VXh4xXURRhMBjosUrmP0ns1Ov1in6F+jN7kU+HOe8NBgPEcawFtZSdabgW7BX9YJbPRf1kMrnRJ6UQO4CVfZI8fmRckfXTZDLR4rrdbm/WD8TIYfTJ4XCIKIr0XCeZuy13fYgOhdQasjzDtFSqsrCQxavEaJmp2JftqplJMWRhIjdNsrBJrJYEwNk7VEyU3DN5MRnEcawXFFLLzLRwdrtdAIWFyRRCOaB3XsxFiQgpSUghxXsty8LMyVZOTOTxI1XbZXERxzGiywhoLMZ8JklSLHpb7todX+mfQRAgiiKMx2O9SDGL+ZKnjfQpc+4TAe37PqIoWijwvExci7VdBHlabkrKDrCMUexTTxzJ7FiOK7J4FSElVm+Z93TGx8o5zHFO1lOCZGLTXhh0R37SyDpIhLX0Lcm8LdbOle/P52tzs0+KkBIvn6p3xzIopNYghXzjOMbZ2Rkmk4meEOTCygJFivdW89LLpDEajXB2dqZvtogoy7J01kDXdXF8fIzDTkfXUiBPCzEjj0YjvHr1SruKioueFN0FimyS/X4fALSJema4AgZBgPF4vOAmKK4OMsB0Oh10Ad1X2aeeFlmW4UM5+J+dneHs7Ew/DwCDwQAAcHJyond+0cbSSWGWZdqF+eLiAq9fv0YQBBgOh3qXbxcKHZNPTD7f+T87O8NoNNJpqGWM8jxP7/72ej0cHx8vutGU55hMJhgMBgiCABcXF3qjByjmN3GTT9N0abZk8gQwSsOcnZ3peU+Q+Uzmuna7jePj48XY9Xxe9ub169d4/fq1XmuJS5ZSCmEYwvM8vHz5EnueR++eJ4q5mRwEAUajEUajEX7++Wd89dVX8DwP/X5fb0wvULobx8Zc99133+nNHcmQnKYput2uXqP3+/2b5yqhkFpDauzITSYTDIdD/aU3swC2221tBUgrhf/kHGEYYjQaLfiKy4QiE5Pc/F0rnkvuD/mCSn8QAWTGPMVxrHfmOp0OstLiIJZK83ippyaCTOq4iIXTdV0t2snTw3QbHo/HGAwG2j3U9B93XRdhGOq+kcubjR3b3JicxuMxLi4uEAQBfvvtN1xeXi70VfJ0yfJMb9iMRiPtkidjlxknLBuAWZYV2WqNeSsvF7jj8Xhh00fcQ2UhIzu/5OkifScIApyfny9Yys3NaZn3jo6OFt4vrlxxHGM4HOLs7AydTkcXgA6CAAD0WHd0dLQwZ5KnhVkHUby8xuMxzs7OYFkWgiDQrnk3LJNlYgpTiMkmj3iFmWsr6ZPyuAyurpZRXngp+CumQzEde56nb4DctDRN4fu+9suU2BS5wXIepZRWynJOy7IwHo/1gkgmmq2zCZLdJod2S5hMJrrfSIyd6eInIqvT6Wh/XbEiiCjqdDoA5qn9wzDUOytxHGuXLEkSQIvU02OWphiNRhiPx7owue/7ODk5QZIkODs7065VFxcXevGhlEKjtJxnWRHHGYah9hEXlxmxQMiClyLq6WNu0gwGA5yfn+P09BT9fl/3pdTod0opnJycLNRdTGfFImU4HOIvf/nLQkIdGcfYlz4PxLopmz3v3r2DZVl48eIFut0uBoMBRqMRsizD69ev0el0cHp6urD7L9ZK2YR8+/at3nwWFy5z41tbvOje9ySxjURtvV5vwboNzIX7sjFGBJjEEoubaJZlODk5Qb/f15uSlmXh4uICk8kE/X5fewtVoZBagxZSl5F2bRA3BhFB8sWOogjdblebAh3HQZbPd+Tk/Z7n6YXzxcWFXvyYboPtdpsi6oki/UG+wGaQrCxKZCc4iiIcHx8v9IeGkclPgnOlv43HY7x+/VpPKFJnTbLQcOHyhDA2e0ajkRZAYnE6PT1FFEUYDod6124wGOhFsuu6C65Uefn8YDDQ8TAAMJvN9KQEzCch8nSRnf8gCDAYDPDTTz/h5cuXOD091c9PJhO8fv0al5eXOh7BcRyghYXd3tFohB9//BFpmqLT6ejxTtcGKhMFWEZ9PPK0kGRd4/EY4/F4wVX49PQUALRwPzs701Z0AHqcM63lsjn91Vdfod1u61g9AHpdJi7u5GnSwDxDsSSsGQ6HWjxJX1ll7U4rffLDhw+wbRvdbhcvXrzQHhzi+uc4Dv7xH/9xZXsopNagb8i0+FKL2U+qt7uuq3fazPfIj+y6VdNTe56n01Ob7hKyQKGrw9PEDG40099LX/A8b8Hl00wVLH1DBhAxQwOLfU6QLGtMV/30kYWD2ZfE3cpMgx/HMdJpeqOviJUhCAIdbAsUGSBbrZY+zhRU5GlTvdcyb0lMihmLafYnKeosc54IL6UUms3mwpgkG5VZlqHf72uBxcKrTw9T3DiOo/uCzHsSJz6dTpeKIAl1MEvGmK7L4nYs5+d897Qxa4yZid82CWEwrZsS9ylrKemP4hYo/es2bwwKqSWYk4GYiuXL2e12cXR0pF2xxIXKrGsg8VLAfKdFFjW+76PX68H3fW2KlGPkeK2kaZZ+clTT3zuOoxOVSJpq8fWVxYj5JbYsC27LBVpA5hUuWR/KlNdmHIO49JkugfYGgwx5XJhp8CUg9ujoCL1eD1EUod/v64VvEATwfV/3E6eMaZlMJjg/P9cJUOI41ucxk+JUXfw2qklFHh0ScyKxvEDhRiyufZJUaTab6TmwKrxkc1CSTRwcHODv/u7visy25XgUhiEuLi7Q6/UWArnXFvUljw5ZR43HY51RbX9/H91uF71nvYV4u8lkAuDmZrJsIIqgb7fb2lqQJAnevXsHAPjiiy90HyNPmAaKdRCgN2VkvdNqtQoX4xXk5caPGVN+eHgIpZT2KpPNxcFggB9//PHWWE6urDZEFrLmDv+ynf51PpnAvJih/Kz7LPL0WHZvzUK8ZhzTSjcqSYVepoMVM7WZplNEu97l5Q7dk8W0gFuVnVvzuWp/kt/N0gymGDeFvLlRJBnWZMOJPH3M5EpmqvOqVTw3jjc9MVqtlt7llXEuCAJ8+PABjuPMxT0XwE+S6tijY30buDFOzWazxXkvX+11IWuoZrO59HO40fOEKe+t9CUzG6j5uIDhz76sT0mc57I1Oi1SW2IuDpS9uLA1YwXMBYcplMSlT+5Z9f1Vd77qDeWi9+liiqXqvTcDudctgi3LAnLgslz8DodDnP98jvg61qbpo6MjXZRO7wJz0fskkT4lY4ppNTLHmaUunjn0zpxYIMRlBgDevn2Ld+/e6WKF0r9kQcyx6ulRXZiYmLEHtm3r4+UnzzLMyrdJv4wuL6HKeBjZNXZdF69evcKf/vQnbbGQeZFi6ulhJs+K4xjNZrOYz/K5i5VYv6VfAcVmDTA/xtzs8TwPJycn+nfxDnr//r0ev+jV88QxhNGCgDIEuhwnfcnceBShZK7FASzMpQBg2/Zat0EKqdsob4i54F3lL3mjLsuSBTFQ2TXJ1yhdDgBPDrM/VIVUdRfXPGYBoyK3ZPobvR1pX99qVe4mfcafNKY4N8emLMuQzTI9GayKlZPkJFXXLHFrvr6+vpESVs5Pniar5ixzM3A2m9143YzxFLz9fSil0Ol00G630W634fu+TpAiFilJXa0XR5z/ngSr+lGWZbpouHYXrvS7HHNXLFPES6Y+KTkjIkxqnumFMa3mT5vGTcvSjUcjVGepVRSLfVBi2c0+eRsUUssoB3CzRpQsKobDof5bMmIB0JOB7OqaVZXb7ba+iWEY4vXr1zrLiBnYLYksJK6FPC2sRlEcTnxwxU93MBjciEuQPiBZisRipTNCZhlevXqF169f65pUSikcHx9r9xvpg9MkARynKE7IxcmTQvy6Jb5gMpnAdV388MMPiKII57+cYzwe6yxZnudhOBwiDEOd7UgppTOySeyBjFdBEKDVaqHVammXUSYwedpIjK8IHs/zMJlM8N1332k34iAIsL+/D9u24bquThAwHo/1+x3HQbfbxcnJCZ49e6b73WQyged5GI1GesNHNoBkN5k8LWQNZGYOff36NZIkwfn5uY51+vLLL+H7vo6VAm5uKMpGjukNtMxNixs9T5i8KLEgWWtlPR4EARzH0f1JLKEybsn6CYBOnR6GIa6vrwEA5+fnUEphOBzq/vns2bN5MfsVUEitwbwJsjAdj8d690xSBMtEUHVRECHleZ5+XgLYxEdcjmu323oykSxb5OlhJpSQfjKZTLSQkgxXktrcFFJZli24SFxcXOD777/HdDpFGIbwfR9HR0daSJmup7M01XWDyBPAWGyK+JlMJnj//r22SIqry7t37+D7vk4/LW584g4oE4pYBExrlGzwSL8zMyOxaPjTRO61+SOFVKXWoYxF4uIplgKprWjGafb7fTSbTV3iQ1z7wjCE4zhFcDjF+ZPFsqyFRCKyUSOi6vz8HIPBAK7rotfr6f4mG4fyI+cQIbZgeS9/pFwDefrI2mYymWA8HmM0GuHDhw9QSmE8HgMo5kbpS+ZzZgkZqUWWZRmGw6G2bMrvYkmna98dkQlB0iGaBb+AeaCtxA2YtTHMY8zzCDIRme+v1tcgTw9JS26mOzfvubwuFqnql3dZwG2WZWi1WjcCbpft0pGnhblodV0Xe3t7Cy5+0pfkdWA+AVXPARSbPqb/eLvdxuHhYWE52PcXxijyNGmUC1fZ9JGMVlVXF9/3dcp9E9NFy3VdHBwc3EiiI4vkw8NDvYnImLuniZlISbLJyvPidmzOe2Z/MvuSnEey9plJSoT9/X097rEvPV3MeCdzXJI+tMqdVKybwNwl3nEcHBwcYDqdAoAuESL9VSzzFFJ3xHEcHB0dLfhvy46cqFmllA7qr5qfsyzTxVSlrou8X9JfixvE8fHxQspqWg6eII259VLcP80AWtnh9X0fL1680KnxJe7ArOAOzBfA4hIqi2E5r1i3ALo5PFVk/JE6LHKfJdi62+2i0+ng5OQEL1++RBiGOD8/X0h6IwsTQcYpSSkrE8rLv32JbrdL1+Mnjm1Z8PeL8h3ffPONdn+RMh5moL8sMGRRKy5+WVaU+zg5OcG//Mu/6CKqsvCVRfE//dM/od1ua0sERfrTw2pY2kX0+fPnC2PPaFTE9oo3xTfffKMtClEU6Y1CAFqAffPNN3rek5TqIsy/+eYb3e8ozJ82MhZJan3LsnQxXTO8QbzBpI+YXmBS0FlCKtI01fHm7XYb3W4XL1++1GJqFRy11lDdqRVzsmk5cFvzAl4iuKo7KCKkZAdPKnHLrglTVX8+mFZIWYTIF9jcxTWLX648VyVNZzXLnzxSRD1drMY8Zk7iTcwCvTLGyE6vOT4BWBij5G9gXvTZrHG2ykpKniAN6I0dc0ECzK0HEke1DOlHsqMLAJPJRD9v1rqTzUZF1+OnSQNoOg7ycozqdDraZV3mveoayYyRAhaTNImbcrXGorkRyfCIz4Oqhcnc2Lktdblp4ex0OnpTu1rcXvoULVJ3RBYgYpmSiy3xBXKzZCIwixLKl9gsuioWhl6vpycS+QzxweRO79PGsiw0y/4ALGZHMxcfvV5vISvRsrpAL/7jC3S+KM5TNVfLDqBZkJeLlCdIY+4+fHx8vCCkAOgFarvdXnA/TtN0IS5TU6YLlkmm0+ng5cuXC+McCzt/HjQdB/1+X4sdsUiJQO/1eto9GYC2VMliV9nz2F/xtDA3eGTekwULx6enSwOFy2i/39ceGWaMuGVZaLfbel4EsLCWks0ey7JwcnKixZhsSosrllnYnv3p6WI15hn3JInS8fHxQkIJmbM6nQ6yLNN9S2J9JaOxWJ0kIYV4/ojIkj61Tkg1Tk9P859++gmzLINNBb8SM+2m7OqaPpZO00EyXfTXlUWzbVmYZRmm5TlkkVP1+5XnyNPH9O2N43ihT8luiK0Urg0rKLDYP6Qvyo6xeW4zMYDjOLCVYta+J46ZCVLcYkRIST+YZRmuygWx9DV53STLijp4UyMGYc/zijmCtVk+H8p7HQSBXrRKvxGxNMuLuc20flfd9MykOQB0HEun0ykWvOxPnwVmmnwpIi99xXEceHvFOii6inRf0ZvSex7QAGZl8qQoihaspLKByM3oz4AcmOXzfmC6FJuYG4WmtwUAvTaX/ghAJ6YwDSXVmKtlcGtxC0ylK39blqV3aM289ELDeDR3VsyFDPn8sBpzy5K2GBk/tlJoADf6k+y+VR/FvUswXf4ooj4PzL4gf5tunwB0nzLHn2VjkOzm5uWxlmUVfUhOQj4rTIuA/DSMPiXPVRe/gmwOmUKKLqKfJw0jNGKZW3q1mOrS8ckIuzCP4Xrq88FuWGjc4sW1bJPQnAurz4nXhrlhtIllkxapbTEqKd95QcGCg8QkX/LcJn1j2fuWwX72eXEfYxQhJncdo+77HOTp8LHj1Kr5j33q82LdOuhjxqgt3sstoW25jy8pv+jE5K79gf2ILIP9gtw3nPfIffOx/YH9iQD32w/ueC6aoAghhBBCCCFkSyikCCGEEEIIIWRLKKQIIYQQQgghZEsopAghhJA6ycvUvZsmkCGEELITMNkEIYSQR4XUozFrFwlKKSi7nNp2JCA9yzJd7NFMES71A8MwRBRF8H2/KN5uq51pOyGEkNVQSBFCCHlU5IAuaC2PwM16MpvUAHkI0jTFZDJBGIZa/Cml0Ov1oJTCcDjEaDTC0dERPM9Dw7Vgg7XfCCFk16GQIoQQ8qi4iiItSpIkAQBdONh1XV3RXop+WssKUm9bz2+T49cckyQJoijSbXUcB2maAgCiKEIQBGi328VpsgxQuyECCSGErIZCihBCyOMhBwaDAb777jvEcawFlVSi9zwPnueh3+/j5OQEnufBdd0bFe6zvLRibWL5yYFZebxdtXLl83OVf96wJqVpivF4jNGbEdJZijRN4bquFn3n5+f44YcfoJTC8+fPi7bmoEWKEEJ2HAopQgghj4cGMJlMcH5+jjiOEQQBZrMZms0mLMuC7/twXReWZaHX68FxnHkclZHMQX7N8my1mCoPmuVZYSUCABFSjcXD8tJlz7IszKxSTJXHZVmGOI4xeT/R7ohpmmoLVRAEePv2rRaFhBBCHgcUUoQQQh4PeeEmN5lM4Loujo6OoJRCu92GUgpnZ2d4/fo1lFLo9/vIsgxRFEEphclkgvF4rIWMZVnodDpwXRfdbhedTgdZliEIAiRJgvF4jPF4rOOaHMfB8fHxgjVpPB5jNBohjmN9XrGCeZ6H09NT/bwposStT86dJIl+jhBCyOOAQooQQsjjoHSjE0uU4zjodDrwfV8LqrOzM/zyyy/odDqYTCawLEvHSp2fn+PVq1dI0xRxHEMphZOTE3Q6HW3NStNUZ9F79eoVXr16BQBaIAFAu92G7/vwfR/D4RA//PADwjBEHMeI41iLsm63i+Pj4wUBZf4uiIiikCKEkMcFhRQhhJBHiQiqOI6BHLBsC0EQ4Pr6esHiM5lMkCQJgiAAAC2ugMJNUFKPd7tdJEmCi4sLRFGEOI7heR4sy1qIv5JEFpZlQSkFz/MWMgcmSYLhcAigSG0uWJa11HVPsgwSQgh5XFBIEUIIeRw0iuQQWZbh+voas9lMCxXXdQEAv/zyCz58+LBg/Xn16hUuLi60O5649CVJgrOzM7x58wZZlsF1XcRxjD/+8Y8Yj8fo9/vodDrwPE+7AHY6nYWMgO12G71eD57naYvU69ev8e///u/4+uuv8e2330IppV0J5WcZFFSEEPK4oJAihBDyaLFte+Fvx3HQarW0tUhipN6/f480TdFut7VlKMsyzGYzLXSSJEEcx4iiCJeXlwAA3/fheR7a7baOjRLBIynNoyhCcp3ogrsiqMTdbyHhRQWKJ0IIebxQSBFCCHl0KKXgui4ODw+hlNLpzwVTMAVBgOFwqGOhRGBlWYZmswnf92FZlhZRHz58QBRF8DwPz58/15YopZR2CRyPxwiCAIPBAK9fv9YxV5Zl4d27dxiNRmi32wjDEK7r3oh/krYySx8hhDxeKKQIIYQ8Dio1m5rNpo5ZEhEThiEODg605UgsRO/fv4fneVrQyKNYi+RYsUwlSQKllLZIidiylUJeHheGIYIg0DFYkq0vyzJEl5eFpSpJtPhaBi1ShBDyeKGQIoQQ8iiRrH3tgzZ6v+vp+KcoipBlmU5dnqYpWq0WfN9Hv9+H53no9XpQSiG+ipFME/R6PV13SoRPHMdaJInVy3EcpGmKwWCAV69e6VpQkoq92+3i119/1W2UzxfLk1jC5Kf6GiGEkMcDhRQhhJBHh23bRbKHgzbah21d32kwGGirkBS4nU6nAIBWq6VTlx8fH0MppVOPSzpzSQoBQBfNNZNFSJryyWSCwWAAALrGVKfTQa/Xw/7+Prz9ff1a9UcwrVFJkjzUpSOEEHJPUEgRQgh5VCil0Gw24bouVFNpa5GkIu92u1r8pGmKg4MD/M3f/A1c19XWqsFgoN36RAhJWvQvv/xSf9ZoNNIJJaRwrxzX7XYRhqFOUjGZTLQ4AwDP825Yssz/AzBPxe77vn6OEELI44CjNiGEkEeF4zjY29vTWfQkrbnruuj1erq+lLjl9Xo9HB8fIwxDjEYjWJaF0WikE1aYQsb3fTx//hzdbhdBEOD777/XYsj3ffzhD3/QcVlHR0cYDAY6ffrFxYWuY9Xr9QqhZ4g8s/aU+ZrrujoWi2KKEEIeDxyxCSGEPCrE8lQVKpZlaVGSTlMEQQDLsgq3vX1fu/sB0C598j4ROGaK9CiKtFVLjpHkESKsHMdBs9nE9fW1jnmSdpiJMMykFvJZ8tkiDNclpSCEELJ7UEgRQgh5HJQFeY+OjvDP//zP8H0f3W5XW6OUUjpNebfbRe93PWRZNrcgfXWEIAh0nJKIGKUU+v2+Psfp6SniOEav18NkMlk49uTkZMElUBJYpGmq3x9FEcIwhO/7ODk50YV7zSLB4hpoWRa+/fZb9Ho9HB0dwXVd2EoBjTovNCGEkE2gkCKEEPJ4aEDHQJkucrZSsBqWthK12210Oh1kWaaPkTpRQGGRMi1Dvu+jWYqqXq+nLVPdbhdAkTRCBJFYksQyJp9jJo8QsSS1qzzP0+eRYyVF+9HRkTR/WfoAAABcSURBVE6C4TgOrAZTohNCyGOAQooQQsijQgSM6TJnN6zCYlVajkxRI2IJWCyEK2528h67YSGzsFDcV94nQkrEj5zLrFclz4lYMuOiqgV45TNF6JnnIoQQ8jj4/wE6GN5C6koVHgAAAABJRU5ErkJggg==)"
   ],
   "metadata": {
    "id": "LLTElECSrzqi"
   },
   "id": "LLTElECSrzqi"
  },
  {
   "cell_type": "code",
   "execution_count": null,
   "id": "a0390359-f72c-4746-9340-b5ab4f02f4da",
   "metadata": {
    "id": "a0390359-f72c-4746-9340-b5ab4f02f4da",
    "outputId": "45c66df4-c5f6-45da-b190-d713e4b53d1f"
   },
   "outputs": [
    {
     "name": "stderr",
     "output_type": "stream",
     "text": [
      "23/02/21 15:32:16 WARN org.apache.spark.scheduler.TaskSetManager: Stage 31 contains a task of very large size (29432 KiB). The maximum recommended task size is 1000 KiB.\n",
      "23/02/21 15:32:21 WARN org.apache.spark.scheduler.TaskSetManager: Stage 34 contains a task of very large size (29432 KiB). The maximum recommended task size is 1000 KiB.\n",
      "23/02/21 15:32:25 WARN org.apache.spark.scheduler.TaskSetManager: Stage 37 contains a task of very large size (29432 KiB). The maximum recommended task size is 1000 KiB.\n",
      "23/02/21 15:32:30 WARN org.apache.spark.scheduler.TaskSetManager: Stage 40 contains a task of very large size (29432 KiB). The maximum recommended task size is 1000 KiB.\n",
      "[Stage 40:>                                                         (0 + 2) / 2]\r"
     ]
    },
    {
     "name": "stdout",
     "output_type": "stream",
     "text": [
      "+---------+-------------------+\n",
      "|   metric|              value|\n",
      "+---------+-------------------+\n",
      "|       TP|            19197.0|\n",
      "|       FP|               77.0|\n",
      "|       TN|           649061.0|\n",
      "|       FN|           142091.0|\n",
      "|Precision| 0.9960049808031545|\n",
      "|   Recall|0.11902311393284064|\n",
      "|       F1|0.21263610283448345|\n",
      "+---------+-------------------+\n",
      "\n"
     ]
    },
    {
     "name": "stderr",
     "output_type": "stream",
     "text": [
      "                                                                                \r"
     ]
    }
   ],
   "source": [
    "tp = float(predicted.filter(\"prediction == 1.0 AND truelabel == 1\").count())\n",
    "fp = float(predicted.filter(\"prediction == 1.0 AND truelabel == 0\").count())\n",
    "tn = float(predicted.filter(\"prediction == 0.0 AND truelabel == 0\").count())\n",
    "fn = float(predicted.filter(\"prediction == 0.0 AND truelabel == 1\").count())\n",
    "pr = tp / (tp + fp)\n",
    "re = tp / (tp + fn)\n",
    "metrics = spark.createDataFrame([\n",
    " (\"TP\", tp),\n",
    " (\"FP\", fp),\n",
    " (\"TN\", tn),\n",
    " (\"FN\", fn),\n",
    " (\"Precision\", pr),\n",
    " (\"Recall\", re),\n",
    " (\"F1\", 2*pr*re/(re+pr))],[\"metric\", \"value\"])\n",
    "metrics.show()"
   ]
  },
  {
   "cell_type": "markdown",
   "source": [
    "On cherche à minimiser FP (cas ou on dit qu'un avion est à l'heure alors qu'il est en retard)"
   ],
   "metadata": {
    "id": "n2cN9i0xt2hF"
   },
   "id": "n2cN9i0xt2hF"
  },
  {
   "cell_type": "markdown",
   "source": [
    "* Bonne précision\n",
    "* Faible rappel\n",
    "* F1 pas très bon."
   ],
   "metadata": {
    "id": "qIHxVnc3rYDY"
   },
   "id": "qIHxVnc3rYDY"
  },
  {
   "cell_type": "markdown",
   "source": [
    "Le score AUC semble indiquer un modèle raisonnablement bon, mais les mesures de performance semblent indiquer qu'il prédit un nombre élevé d'étiquettes faux négatifs (c'est-à-dire qu'il prédit 0 lorsque la véritable étiquette est 1), ce qui entraîne un faible rappel. Nous pouvons améliorer cela en abaissant le seuil. À l'inverse, parfois, nous pouvons vouloir traiter un grand nombre de faux positifs en augmentant le seuil.\n"
   ],
   "metadata": {
    "id": "-cEOxqbKwbLG"
   },
   "id": "-cEOxqbKwbLG"
  },
  {
   "cell_type": "code",
   "execution_count": null,
   "id": "a9e59af9-d1c3-4056-8824-4265f10145fa",
   "metadata": {
    "id": "a9e59af9-d1c3-4056-8824-4265f10145fa",
    "outputId": "6e185334-3cda-49d7-96f6-a3a05c09194e"
   },
   "outputs": [
    {
     "name": "stderr",
     "output_type": "stream",
     "text": [
      "23/02/21 15:32:35 WARN org.apache.spark.scheduler.TaskSetManager: Stage 45 contains a task of very large size (29432 KiB). The maximum recommended task size is 1000 KiB.\n",
      "[Stage 55:>                                                         (0 + 2) / 2]\r"
     ]
    },
    {
     "name": "stdout",
     "output_type": "stream",
     "text": [
      "AUR =  0.9148013320164919\n"
     ]
    },
    {
     "name": "stderr",
     "output_type": "stream",
     "text": [
      "                                                                                \r"
     ]
    }
   ],
   "source": [
    "evaluator = BinaryClassificationEvaluator(labelCol=\"trueLabel\", rawPredictionCol=\"rawPrediction\", metricName=\"areaUnderROC\")\n",
    "aur = evaluator.evaluate(prediction)\n",
    "print (\"AUR = \", aur)"
   ]
  },
  {
   "cell_type": "markdown",
   "source": [
    "La courbe ROC montre les taux de vrais positifs et de faux positifs tracés pour différents seuils."
   ],
   "metadata": {
    "id": "5cEbVFmRuTKB"
   },
   "id": "5cEbVFmRuTKB"
  },
  {
   "cell_type": "code",
   "execution_count": null,
   "id": "6075ffa8-805f-440c-8241-c0b7e22473a4",
   "metadata": {
    "id": "6075ffa8-805f-440c-8241-c0b7e22473a4",
    "outputId": "9c568ebc-751e-4d9f-bbd6-2fb1eb1d3e9b"
   },
   "outputs": [
    {
     "name": "stderr",
     "output_type": "stream",
     "text": [
      "23/02/21 15:32:47 WARN org.apache.spark.scheduler.TaskSetManager: Stage 56 contains a task of very large size (29432 KiB). The maximum recommended task size is 1000 KiB.\n",
      "[Stage 56:>                                                         (0 + 1) / 1]\r"
     ]
    },
    {
     "name": "stdout",
     "output_type": "stream",
     "text": [
      "+------------------------------------------+----------------------------------------+----------+---------+\n",
      "|rawPrediction                             |probability                             |prediction|trueLabel|\n",
      "+------------------------------------------+----------------------------------------+----------+---------+\n",
      "|[1.1299563537468855,-1.1299563537468855]  |[0.75583084424345,0.24416915575654996]  |0.0       |0        |\n",
      "|[1.4787795640156531,-1.4787795640156531]  |[0.8143881702874026,0.18561182971259738]|0.0       |0        |\n",
      "|[1.2243920982974605,-1.2243920982974605]  |[0.7728355534125942,0.22716444658740576]|0.0       |1        |\n",
      "|[1.5905111641895897,-1.5905111641895897]  |[0.8306880081319611,0.1693119918680389] |0.0       |0        |\n",
      "|[1.5214523713267165,-1.5214523713267165]  |[0.8207522500961268,0.17924774990387315]|0.0       |0        |\n",
      "|[1.6831303210025719,-1.6831303210025719]  |[0.843318592418896,0.15668140758110405] |0.0       |0        |\n",
      "|[1.48162425523468,-1.48162425523468]      |[0.8148177895208397,0.18518221047916028]|0.0       |0        |\n",
      "|[1.48162425523468,-1.48162425523468]      |[0.8148177895208397,0.18518221047916028]|0.0       |0        |\n",
      "|[1.552773294949025,-1.552773294949025]    |[0.8253139209246553,0.17468607907534472]|0.0       |1        |\n",
      "|[1.258512363086202,-1.258512363086202]    |[0.7787699130729936,0.2212300869270064] |0.0       |1        |\n",
      "|[-0.951180392112811,0.951180392112811]    |[0.2786474975578358,0.7213525024421642] |1.0       |1        |\n",
      "|[1.5584938106306678,-1.5584938106306678]  |[0.8261371183640616,0.17386288163593844]|0.0       |0        |\n",
      "|[1.4883214443253838,-1.4883214443253838]  |[0.8158261968819864,0.18417380311801357]|0.0       |1        |\n",
      "|[1.3563599629162166,-1.3563599629162166]  |[0.7951674593806151,0.20483254061938494]|0.0       |1        |\n",
      "|[0.9558189643115517,-0.9558189643115517]  |[0.7222839116895664,0.2777160883104336] |0.0       |1        |\n",
      "|[0.8754249775919368,-0.8754249775919368]  |[0.7058732677876386,0.2941267322123614] |0.0       |1        |\n",
      "|[1.560868356506332,-1.560868356506332]    |[0.8264779211764426,0.1735220788235574] |0.0       |0        |\n",
      "|[1.4503742879257349,-1.4503742879257349]  |[0.8100560305763355,0.18994396942366454]|0.0       |0        |\n",
      "|[1.5532127022503364,-1.5532127022503364]  |[0.8253772615947641,0.1746227384052359] |0.0       |1        |\n",
      "|[1.5215233276400797,-1.5215233276400797]  |[0.8207626888090316,0.17923731119096842]|0.0       |0        |\n",
      "|[0.5823237447050033,-0.5823237447050033]  |[0.6416019245028689,0.3583980754971311] |0.0       |1        |\n",
      "|[1.613991635809347,-1.613991635809347]    |[0.8339648352602774,0.16603516473972257]|0.0       |0        |\n",
      "|[0.536674467148524,-0.536674467148524]    |[0.6310384754969253,0.36896152450307473]|0.0       |1        |\n",
      "|[1.5498422454729863,-1.5498422454729863]  |[0.824890946013444,0.17510905398655596] |0.0       |0        |\n",
      "|[1.5471096873707073,-1.5471096873707073]  |[0.8244958887928776,0.1755041112071224] |0.0       |0        |\n",
      "|[1.639726139913622,-1.639726139913622]    |[0.8374976697871958,0.16250233021280425]|0.0       |0        |\n",
      "|[1.5568555884781743,-1.5568555884781743]  |[0.8259016872785442,0.17409831272145582]|0.0       |0        |\n",
      "|[0.00837159939605292,-0.00837159939605292]|[0.5020928876259225,0.4979071123740775] |0.0       |1        |\n",
      "|[1.050409596655731,-1.050409596655731]    |[0.7408535452254131,0.25914645477458687]|0.0       |1        |\n",
      "|[0.04215122085778167,-0.04215122085778167]|[0.5105362452594066,0.48946375474059345]|0.0       |1        |\n",
      "|[1.5483790356767915,-1.5483790356767915]  |[0.8246794909121965,0.1753205090878035] |0.0       |0        |\n",
      "|[0.15295922017700514,-0.15295922017700514]|[0.5381654225286581,0.46183457747134193]|0.0       |1        |\n",
      "|[1.571504495687087,-1.571504495687087]    |[0.8279979802633107,0.17200201973668927]|0.0       |0        |\n",
      "|[1.4387581257634654,-1.4387581257634654]  |[0.8082622664289032,0.1917377335710968] |0.0       |0        |\n",
      "|[1.1901464714571217,-1.1901464714571217]  |[0.7667672595086583,0.23323274049134168]|0.0       |1        |\n",
      "|[0.389064474247792,-0.389064474247792]    |[0.5960574702464817,0.4039425297535183] |0.0       |1        |\n",
      "|[1.238692677109932,-1.238692677109932]    |[0.7753363738225038,0.22466362617749625]|0.0       |0        |\n",
      "|[1.5273719759478266,-1.5273719759478266]  |[0.8216214774902463,0.17837852250975372]|0.0       |0        |\n",
      "|[1.48030991830156,-1.48030991830156]      |[0.8146193874716555,0.18538061252834448]|0.0       |0        |\n",
      "|[1.48030991830156,-1.48030991830156]      |[0.8146193874716555,0.18538061252834448]|0.0       |1        |\n",
      "|[1.4998622713529806,-1.4998622713529806]  |[0.8175539335561082,0.18244606644389183]|0.0       |0        |\n",
      "|[1.4722387542078312,-1.4722387542078312]  |[0.8133974271785497,0.18660257282145032]|0.0       |0        |\n",
      "|[1.32030940990951,-1.32030940990951]      |[0.7892331796621576,0.21076682033784244]|0.0       |0        |\n",
      "|[1.5205257072067584,-1.5205257072067584]  |[0.8206158806063423,0.17938411939365773]|0.0       |0        |\n",
      "|[-0.6170693228753414,0.6170693228753414]  |[0.35044828127273353,0.6495517187272665]|1.0       |1        |\n",
      "|[1.6204780105152987,-1.6204780105152987]  |[0.8348610427515665,0.16513895724843353]|0.0       |0        |\n",
      "|[1.5567524151037404,-1.5567524151037404]  |[0.8258868516772472,0.17411314832275282]|0.0       |0        |\n",
      "|[0.7556704178944107,-0.7556704178944107]  |[0.6804129974704479,0.3195870025295521] |0.0       |1        |\n",
      "|[1.617369682938766,-1.617369682938766]    |[0.8344320574228778,0.16556794257712215]|0.0       |0        |\n",
      "|[1.617369682938766,-1.617369682938766]    |[0.8344320574228778,0.16556794257712215]|0.0       |0        |\n",
      "|[1.5897461657936167,-1.5897461657936167]  |[0.8305803873747846,0.16941961262521543]|0.0       |0        |\n",
      "|[1.575934407221042,-1.575934407221042]    |[0.8286279600216075,0.17137203997839245]|0.0       |0        |\n",
      "|[1.5483108900758928,-1.5483108900758928]  |[0.8246696379832352,0.17533036201676477]|0.0       |0        |\n",
      "|[-1.2002290658664632,1.2002290658664632]  |[0.23143446946331944,0.7685655305366805]|1.0       |1        |\n",
      "|[1.619964913747667,-1.619964913747667]    |[0.8347902909295571,0.16520970907044286]|0.0       |0        |\n",
      "|[1.6061531551750925,-1.6061531551750925]  |[0.8328766173910073,0.16712338260899273]|0.0       |0        |\n",
      "|[1.5923413966025177,-1.5923413966025177]  |[0.8309452662036823,0.16905473379631775]|0.0       |0        |\n",
      "|[1.1365533637075542,-1.1365533637075542]  |[0.757046270546632,0.24295372945336802] |0.0       |1        |\n",
      "|[1.108929846562405,-1.108929846562405]    |[0.7519295479325648,0.24807045206743517]|0.0       |1        |\n",
      "|[0.4874007107965459,-0.4874007107965459]  |[0.6194939153541815,0.3805060846458185] |0.0       |1        |\n",
      "|[1.6400728082002662,-1.6400728082002662]  |[0.8375448441997353,0.1624551558002647] |0.0       |0        |\n",
      "|[1.6049390769027019,-1.6049390769027019]  |[0.8327075576999817,0.16729244230001827]|0.0       |0        |\n",
      "|[0.8171623402983281,-0.8171623402983281]  |[0.6936336519317119,0.3063663480682881] |0.0       |1        |\n",
      "|[1.555341648961364,-1.555341648961364]    |[0.8256838933897864,0.17431610661021357]|0.0       |1        |\n",
      "|[1.2652947189372963,-1.2652947189372963]  |[0.7799362174693111,0.22006378253068892]|0.0       |0        |\n",
      "|[1.556087779369737,-1.556087779369737]    |[0.8257912578458183,0.1742087421541817] |0.0       |0        |\n",
      "|[1.5222596513632503,-1.5222596513632503]  |[0.8208709847645111,0.17912901523548885]|0.0       |0        |\n",
      "|[1.0388481013231374,-1.0388481013231374]  |[0.7386276853147306,0.26137231468526945]|0.0       |0        |\n",
      "|[1.4897130380643846,-1.4897130380643846]  |[0.8160351972581626,0.18396480274183735]|0.0       |0        |\n",
      "|[1.5934086910775953,-1.5934086910775953]  |[0.8310951416887215,0.16890485831127855]|0.0       |0        |\n",
      "|[1.5340985035922565,-1.5340985035922565]  |[0.8226051830074084,0.17739481699259163]|0.0       |0        |\n",
      "|[1.4984508205154812,-1.4984508205154812]  |[0.817343307885988,0.18265669211401203] |0.0       |0        |\n",
      "|[1.4570155447977573,-1.4570155447977573]  |[0.811075785688903,0.18892421431109696] |0.0       |0        |\n",
      "|[1.4432037862251827,-1.4432037862251827]  |[0.8089502858656427,0.19104971413435734]|0.0       |0        |\n",
      "|[1.4432037862251827,-1.4432037862251827]  |[0.8089502858656427,0.19104971413435734]|0.0       |0        |\n",
      "|[1.3366355435462478,-1.3366355435462478]  |[0.7919361133243827,0.20806388667561726]|0.0       |0        |\n",
      "|[1.4117682557286741,-1.4117682557286741]  |[0.8040446941824272,0.1959553058175728] |0.0       |1        |\n",
      "|[1.2874624285755023,-1.2874624285755023]  |[0.7837173691985019,0.21628263080149812]|0.0       |0        |\n",
      "|[1.4706818632667518,-1.4706818632667518]  |[0.8131610037664964,0.18683899623350364]|0.0       |0        |\n",
      "|[1.4706818632667518,-1.4706818632667518]  |[0.8131610037664964,0.18683899623350364]|0.0       |0        |\n",
      "|[1.2589527494585344,-1.2589527494585344]  |[0.7788457767529596,0.22115422324704037]|0.0       |1        |\n",
      "|[1.5084532700067643,-1.5084532700067643]  |[0.8188318684127949,0.18116813158720513]|0.0       |0        |\n",
      "|[1.4855333367249273,-1.4855333367249273]  |[0.8154069041432349,0.1845930958567651] |0.0       |0        |\n",
      "|[0.2839103409109325,-0.2839103409109325]  |[0.5705046342495959,0.42949536575040415]|0.0       |1        |\n",
      "|[1.179905028454716,-1.179905028454716]    |[0.7649307271975004,0.23506927280249956]|0.0       |1        |\n",
      "|[1.5141649412024007,-1.5141649412024007]  |[0.8196776308711438,0.18032236912885624]|0.0       |0        |\n",
      "|[1.3208003211863555,-1.3208003211863555]  |[0.7893148282952075,0.2106851717047925] |0.0       |1        |\n",
      "|[1.2379297697509075,-1.2379297697509075]  |[0.7752034551662966,0.22479654483370337]|0.0       |0        |\n",
      "|[1.4916894410415065,-1.4916894410415065]  |[0.8163317130357836,0.18366828696421644]|0.0       |0        |\n",
      "|[-1.0911094120299532,1.0911094120299532]  |[0.251409426446094,0.748590573553906]   |1.0       |1        |\n",
      "|[1.6301087240546834,-1.6301087240546834]  |[0.8361845323376913,0.1638154676623087] |0.0       |0        |\n",
      "|[1.533426414046661,-1.533426414046661]    |[0.8225070864727885,0.17749291352721153]|0.0       |0        |\n",
      "|[1.5196146554740861,-1.5196146554740861]  |[0.8204817296436873,0.17951827035631274]|0.0       |0        |\n",
      "|[1.4880336848739977,-1.4880336848739977]  |[0.8157829559975659,0.1842170440024341] |0.0       |0        |\n",
      "|[1.6070090188459218,-1.6070090188459218]  |[0.8329957138203347,0.16700428617966534]|0.0       |0        |\n",
      "|[1.5931972602733473,-1.5931972602733473]  |[0.8310654597989008,0.16893454020109921]|0.0       |0        |\n",
      "|[1.6354473300461332,-1.6354473300461332]  |[0.8369145025213711,0.16308549747862888]|0.0       |0        |\n",
      "|[1.3730239171672147,-1.3730239171672147]  |[0.797868273564542,0.20213172643545796] |0.0       |1        |\n",
      "|[1.628487248754762,-1.628487248754762]    |[0.8359623016230284,0.16403769837697157]|0.0       |0        |\n",
      "|[0.3301819429327444,-0.3301819429327444]  |[0.5818036457014308,0.41819635429856916]|0.0       |1        |\n",
      "+------------------------------------------+----------------------------------------+----------+---------+\n",
      "only showing top 100 rows\n",
      "\n"
     ]
    },
    {
     "name": "stderr",
     "output_type": "stream",
     "text": [
      "                                                                                \r"
     ]
    }
   ],
   "source": [
    "prediction.select(\"rawPrediction\", \"probability\", \"prediction\", \"trueLabel\").show(100, truncate=False)"
   ]
  },
  {
   "cell_type": "markdown",
   "source": [
    "vecteur = [proba 0, proba 1]\n",
    "\n",
    "seuil = 0,5\n",
    "\n",
    "beaucoup d'erreur quand le seuil est proche exemple ⁉[0.5818036457014308,0.41819635429856916]|pred :0.0       |reel :1        |"
   ],
   "metadata": {
    "id": "6ONzPKtJujUq"
   },
   "id": "6ONzPKtJujUq"
  },
  {
   "cell_type": "markdown",
   "source": [
    "#Tuning\n",
    "Clossvalidation pour tester différents paramètre à notre modèle.\n",
    "\n",
    "Cela peut prendre beaucoup de temps car chaque combinaison de paramètres est essayée plusieurs fois.\n"
   ],
   "metadata": {
    "id": "bW8cnxJdvP7v"
   },
   "id": "bW8cnxJdvP7v"
  },
  {
   "cell_type": "markdown",
   "source": [
    "![image.png](data:image/png;base64,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)"
   ],
   "metadata": {
    "id": "xgwYMUbbvxIP"
   },
   "id": "xgwYMUbbvxIP"
  },
  {
   "cell_type": "code",
   "execution_count": null,
   "id": "0d881d40-2de4-41ea-b40c-797334ce7df2",
   "metadata": {
    "id": "0d881d40-2de4-41ea-b40c-797334ce7df2",
    "outputId": "42f13a45-d218-4b70-d5fa-f5a87c248482"
   },
   "outputs": [
    {
     "name": "stderr",
     "output_type": "stream",
     "text": [
      "23/02/21 15:32:49 WARN org.apache.spark.scheduler.TaskSetManager: Stage 57 contains a task of very large size (29432 KiB). The maximum recommended task size is 1000 KiB.\n",
      "23/02/21 15:32:53 WARN org.apache.spark.scheduler.TaskSetManager: Stage 60 contains a task of very large size (29432 KiB). The maximum recommended task size is 1000 KiB.\n",
      "23/02/21 15:32:54 WARN org.apache.spark.scheduler.TaskSetManager: Stage 61 contains a task of very large size (29432 KiB). The maximum recommended task size is 1000 KiB.\n",
      "23/02/21 15:32:56 WARN org.apache.spark.scheduler.TaskSetManager: Stage 64 contains a task of very large size (29432 KiB). The maximum recommended task size is 1000 KiB.\n",
      "23/02/21 15:32:58 WARN org.apache.spark.scheduler.TaskSetManager: Stage 65 contains a task of very large size (29432 KiB). The maximum recommended task size is 1000 KiB.\n",
      "23/02/21 15:33:01 WARN org.apache.spark.scheduler.TaskSetManager: Stage 66 contains a task of very large size (29432 KiB). The maximum recommended task size is 1000 KiB.\n",
      "23/02/21 15:33:01 WARN org.apache.spark.scheduler.TaskSetManager: Stage 67 contains a task of very large size (29432 KiB). The maximum recommended task size is 1000 KiB.\n",
      "23/02/21 15:33:02 WARN org.apache.spark.scheduler.TaskSetManager: Stage 68 contains a task of very large size (29432 KiB). The maximum recommended task size is 1000 KiB.\n",
      "23/02/21 15:33:02 WARN org.apache.spark.scheduler.TaskSetManager: Stage 69 contains a task of very large size (29432 KiB). The maximum recommended task size is 1000 KiB.\n",
      "23/02/21 15:33:03 WARN org.apache.spark.scheduler.TaskSetManager: Stage 70 contains a task of very large size (29432 KiB). The maximum recommended task size is 1000 KiB.\n",
      "23/02/21 15:33:03 WARN org.apache.spark.scheduler.TaskSetManager: Stage 71 contains a task of very large size (29432 KiB). The maximum recommended task size is 1000 KiB.\n",
      "23/02/21 15:33:03 WARN org.apache.spark.scheduler.TaskSetManager: Stage 72 contains a task of very large size (29432 KiB). The maximum recommended task size is 1000 KiB.\n",
      "23/02/21 15:33:04 WARN org.apache.spark.scheduler.TaskSetManager: Stage 73 contains a task of very large size (29432 KiB). The maximum recommended task size is 1000 KiB.\n",
      "23/02/21 15:33:04 WARN org.apache.spark.scheduler.TaskSetManager: Stage 74 contains a task of very large size (29432 KiB). The maximum recommended task size is 1000 KiB.\n",
      "23/02/21 15:33:04 WARN org.apache.spark.scheduler.TaskSetManager: Stage 75 contains a task of very large size (29432 KiB). The maximum recommended task size is 1000 KiB.\n",
      "23/02/21 15:33:05 WARN org.apache.spark.scheduler.TaskSetManager: Stage 76 contains a task of very large size (29432 KiB). The maximum recommended task size is 1000 KiB.\n",
      "23/02/21 15:33:06 WARN org.apache.spark.scheduler.TaskSetManager: Stage 77 contains a task of very large size (29432 KiB). The maximum recommended task size is 1000 KiB.\n",
      "23/02/21 15:33:17 WARN org.apache.spark.scheduler.TaskSetManager: Stage 88 contains a task of very large size (29432 KiB). The maximum recommended task size is 1000 KiB.\n",
      "23/02/21 15:33:18 WARN org.apache.spark.scheduler.TaskSetManager: Stage 91 contains a task of very large size (29432 KiB). The maximum recommended task size is 1000 KiB.\n",
      "23/02/21 15:33:19 WARN org.apache.spark.scheduler.TaskSetManager: Stage 92 contains a task of very large size (29432 KiB). The maximum recommended task size is 1000 KiB.\n",
      "23/02/21 15:33:20 WARN org.apache.spark.scheduler.TaskSetManager: Stage 95 contains a task of very large size (29432 KiB). The maximum recommended task size is 1000 KiB.\n",
      "23/02/21 15:33:22 WARN org.apache.spark.scheduler.TaskSetManager: Stage 96 contains a task of very large size (29432 KiB). The maximum recommended task size is 1000 KiB.\n",
      "23/02/21 15:33:25 WARN org.apache.spark.scheduler.TaskSetManager: Stage 97 contains a task of very large size (29432 KiB). The maximum recommended task size is 1000 KiB.\n",
      "23/02/21 15:33:26 WARN org.apache.spark.scheduler.TaskSetManager: Stage 98 contains a task of very large size (29432 KiB). The maximum recommended task size is 1000 KiB.\n",
      "23/02/21 15:33:26 WARN org.apache.spark.scheduler.TaskSetManager: Stage 99 contains a task of very large size (29432 KiB). The maximum recommended task size is 1000 KiB.\n",
      "23/02/21 15:33:26 WARN org.apache.spark.scheduler.TaskSetManager: Stage 100 contains a task of very large size (29432 KiB). The maximum recommended task size is 1000 KiB.\n",
      "23/02/21 15:33:27 WARN org.apache.spark.scheduler.TaskSetManager: Stage 101 contains a task of very large size (29432 KiB). The maximum recommended task size is 1000 KiB.\n",
      "23/02/21 15:33:27 WARN org.apache.spark.scheduler.TaskSetManager: Stage 102 contains a task of very large size (29432 KiB). The maximum recommended task size is 1000 KiB.\n",
      "23/02/21 15:33:27 WARN org.apache.spark.scheduler.TaskSetManager: Stage 103 contains a task of very large size (29432 KiB). The maximum recommended task size is 1000 KiB.\n",
      "23/02/21 15:33:28 WARN org.apache.spark.scheduler.TaskSetManager: Stage 104 contains a task of very large size (29432 KiB). The maximum recommended task size is 1000 KiB.\n",
      "23/02/21 15:33:28 WARN org.apache.spark.scheduler.TaskSetManager: Stage 105 contains a task of very large size (29432 KiB). The maximum recommended task size is 1000 KiB.\n",
      "23/02/21 15:33:28 WARN org.apache.spark.scheduler.TaskSetManager: Stage 106 contains a task of very large size (29432 KiB). The maximum recommended task size is 1000 KiB.\n",
      "23/02/21 15:33:29 WARN org.apache.spark.scheduler.TaskSetManager: Stage 107 contains a task of very large size (29432 KiB). The maximum recommended task size is 1000 KiB.\n",
      "23/02/21 15:33:30 WARN org.apache.spark.scheduler.TaskSetManager: Stage 108 contains a task of very large size (29432 KiB). The maximum recommended task size is 1000 KiB.\n",
      "23/02/21 15:33:38 WARN org.apache.spark.scheduler.TaskSetManager: Stage 119 contains a task of very large size (29432 KiB). The maximum recommended task size is 1000 KiB.\n",
      "23/02/21 15:33:38 WARN org.apache.spark.scheduler.TaskSetManager: Stage 122 contains a task of very large size (29432 KiB). The maximum recommended task size is 1000 KiB.\n",
      "23/02/21 15:33:39 WARN org.apache.spark.scheduler.TaskSetManager: Stage 123 contains a task of very large size (29432 KiB). The maximum recommended task size is 1000 KiB.\n",
      "23/02/21 15:33:40 WARN org.apache.spark.scheduler.TaskSetManager: Stage 126 contains a task of very large size (29432 KiB). The maximum recommended task size is 1000 KiB.\n",
      "23/02/21 15:33:43 WARN org.apache.spark.scheduler.TaskSetManager: Stage 127 contains a task of very large size (29432 KiB). The maximum recommended task size is 1000 KiB.\n",
      "23/02/21 15:33:45 WARN org.apache.spark.scheduler.TaskSetManager: Stage 128 contains a task of very large size (29432 KiB). The maximum recommended task size is 1000 KiB.\n",
      "23/02/21 15:33:46 WARN org.apache.spark.scheduler.TaskSetManager: Stage 129 contains a task of very large size (29432 KiB). The maximum recommended task size is 1000 KiB.\n",
      "23/02/21 15:33:46 WARN org.apache.spark.scheduler.TaskSetManager: Stage 130 contains a task of very large size (29432 KiB). The maximum recommended task size is 1000 KiB.\n",
      "23/02/21 15:33:47 WARN org.apache.spark.scheduler.TaskSetManager: Stage 131 contains a task of very large size (29432 KiB). The maximum recommended task size is 1000 KiB.\n",
      "23/02/21 15:33:47 WARN org.apache.spark.scheduler.TaskSetManager: Stage 132 contains a task of very large size (29432 KiB). The maximum recommended task size is 1000 KiB.\n",
      "23/02/21 15:33:47 WARN org.apache.spark.scheduler.TaskSetManager: Stage 133 contains a task of very large size (29432 KiB). The maximum recommended task size is 1000 KiB.\n",
      "23/02/21 15:33:48 WARN org.apache.spark.scheduler.TaskSetManager: Stage 134 contains a task of very large size (29432 KiB). The maximum recommended task size is 1000 KiB.\n",
      "23/02/21 15:33:56 WARN org.apache.spark.scheduler.TaskSetManager: Stage 145 contains a task of very large size (29432 KiB). The maximum recommended task size is 1000 KiB.\n",
      "23/02/21 15:33:57 WARN org.apache.spark.scheduler.TaskSetManager: Stage 148 contains a task of very large size (29432 KiB). The maximum recommended task size is 1000 KiB.\n",
      "23/02/21 15:33:58 WARN org.apache.spark.scheduler.TaskSetManager: Stage 149 contains a task of very large size (29432 KiB). The maximum recommended task size is 1000 KiB.\n",
      "23/02/21 15:33:59 WARN org.apache.spark.scheduler.TaskSetManager: Stage 152 contains a task of very large size (29432 KiB). The maximum recommended task size is 1000 KiB.\n",
      "23/02/21 15:34:01 WARN org.apache.spark.scheduler.TaskSetManager: Stage 153 contains a task of very large size (29432 KiB). The maximum recommended task size is 1000 KiB.\n",
      "23/02/21 15:34:04 WARN org.apache.spark.scheduler.TaskSetManager: Stage 154 contains a task of very large size (29432 KiB). The maximum recommended task size is 1000 KiB.\n",
      "23/02/21 15:34:04 WARN org.apache.spark.scheduler.TaskSetManager: Stage 155 contains a task of very large size (29432 KiB). The maximum recommended task size is 1000 KiB.\n",
      "23/02/21 15:34:04 WARN org.apache.spark.scheduler.TaskSetManager: Stage 156 contains a task of very large size (29432 KiB). The maximum recommended task size is 1000 KiB.\n",
      "23/02/21 15:34:05 WARN org.apache.spark.scheduler.TaskSetManager: Stage 157 contains a task of very large size (29432 KiB). The maximum recommended task size is 1000 KiB.\n",
      "23/02/21 15:34:05 WARN org.apache.spark.scheduler.TaskSetManager: Stage 158 contains a task of very large size (29432 KiB). The maximum recommended task size is 1000 KiB.\n",
      "23/02/21 15:34:05 WARN org.apache.spark.scheduler.TaskSetManager: Stage 159 contains a task of very large size (29432 KiB). The maximum recommended task size is 1000 KiB.\n",
      "23/02/21 15:34:06 WARN org.apache.spark.scheduler.TaskSetManager: Stage 160 contains a task of very large size (29432 KiB). The maximum recommended task size is 1000 KiB.\n",
      "23/02/21 15:34:14 WARN org.apache.spark.scheduler.TaskSetManager: Stage 171 contains a task of very large size (29432 KiB). The maximum recommended task size is 1000 KiB.\n",
      "23/02/21 15:34:15 WARN org.apache.spark.scheduler.TaskSetManager: Stage 174 contains a task of very large size (29432 KiB). The maximum recommended task size is 1000 KiB.\n",
      "23/02/21 15:34:16 WARN org.apache.spark.scheduler.TaskSetManager: Stage 175 contains a task of very large size (29432 KiB). The maximum recommended task size is 1000 KiB.\n",
      "23/02/21 15:34:17 WARN org.apache.spark.scheduler.TaskSetManager: Stage 178 contains a task of very large size (29432 KiB). The maximum recommended task size is 1000 KiB.\n",
      "23/02/21 15:34:19 WARN org.apache.spark.scheduler.TaskSetManager: Stage 179 contains a task of very large size (29432 KiB). The maximum recommended task size is 1000 KiB.\n",
      "23/02/21 15:34:22 WARN org.apache.spark.scheduler.TaskSetManager: Stage 180 contains a task of very large size (29432 KiB). The maximum recommended task size is 1000 KiB.\n",
      "23/02/21 15:34:22 WARN org.apache.spark.scheduler.TaskSetManager: Stage 181 contains a task of very large size (29432 KiB). The maximum recommended task size is 1000 KiB.\n",
      "23/02/21 15:34:22 WARN org.apache.spark.scheduler.TaskSetManager: Stage 182 contains a task of very large size (29432 KiB). The maximum recommended task size is 1000 KiB.\n",
      "23/02/21 15:34:23 WARN org.apache.spark.scheduler.TaskSetManager: Stage 183 contains a task of very large size (29432 KiB). The maximum recommended task size is 1000 KiB.\n",
      "23/02/21 15:34:23 WARN org.apache.spark.scheduler.TaskSetManager: Stage 184 contains a task of very large size (29432 KiB). The maximum recommended task size is 1000 KiB.\n",
      "23/02/21 15:34:23 WARN org.apache.spark.scheduler.TaskSetManager: Stage 185 contains a task of very large size (29432 KiB). The maximum recommended task size is 1000 KiB.\n",
      "23/02/21 15:34:24 WARN org.apache.spark.scheduler.TaskSetManager: Stage 186 contains a task of very large size (29432 KiB). The maximum recommended task size is 1000 KiB.\n",
      "23/02/21 15:34:24 WARN org.apache.spark.scheduler.TaskSetManager: Stage 187 contains a task of very large size (29432 KiB). The maximum recommended task size is 1000 KiB.\n",
      "23/02/21 15:34:24 WARN org.apache.spark.scheduler.TaskSetManager: Stage 188 contains a task of very large size (29432 KiB). The maximum recommended task size is 1000 KiB.\n",
      "23/02/21 15:34:25 WARN org.apache.spark.scheduler.TaskSetManager: Stage 189 contains a task of very large size (29432 KiB). The maximum recommended task size is 1000 KiB.\n",
      "23/02/21 15:34:25 WARN org.apache.spark.scheduler.TaskSetManager: Stage 190 contains a task of very large size (29432 KiB). The maximum recommended task size is 1000 KiB.\n",
      "23/02/21 15:34:26 WARN org.apache.spark.scheduler.TaskSetManager: Stage 191 contains a task of very large size (29432 KiB). The maximum recommended task size is 1000 KiB.\n",
      "23/02/21 15:34:34 WARN org.apache.spark.scheduler.TaskSetManager: Stage 202 contains a task of very large size (29432 KiB). The maximum recommended task size is 1000 KiB.\n",
      "23/02/21 15:34:34 WARN org.apache.spark.scheduler.TaskSetManager: Stage 205 contains a task of very large size (29432 KiB). The maximum recommended task size is 1000 KiB.\n",
      "23/02/21 15:34:35 WARN org.apache.spark.scheduler.TaskSetManager: Stage 206 contains a task of very large size (29432 KiB). The maximum recommended task size is 1000 KiB.\n",
      "23/02/21 15:34:36 WARN org.apache.spark.scheduler.TaskSetManager: Stage 209 contains a task of very large size (29432 KiB). The maximum recommended task size is 1000 KiB.\n",
      "23/02/21 15:34:39 WARN org.apache.spark.scheduler.TaskSetManager: Stage 210 contains a task of very large size (29432 KiB). The maximum recommended task size is 1000 KiB.\n",
      "23/02/21 15:34:41 WARN org.apache.spark.scheduler.TaskSetManager: Stage 211 contains a task of very large size (29432 KiB). The maximum recommended task size is 1000 KiB.\n",
      "23/02/21 15:34:42 WARN org.apache.spark.scheduler.TaskSetManager: Stage 212 contains a task of very large size (29432 KiB). The maximum recommended task size is 1000 KiB.\n",
      "23/02/21 15:34:42 WARN org.apache.spark.scheduler.TaskSetManager: Stage 213 contains a task of very large size (29432 KiB). The maximum recommended task size is 1000 KiB.\n",
      "23/02/21 15:34:43 WARN org.apache.spark.scheduler.TaskSetManager: Stage 214 contains a task of very large size (29432 KiB). The maximum recommended task size is 1000 KiB.\n",
      "23/02/21 15:34:43 WARN org.apache.spark.scheduler.TaskSetManager: Stage 215 contains a task of very large size (29432 KiB). The maximum recommended task size is 1000 KiB.\n",
      "23/02/21 15:34:43 WARN org.apache.spark.scheduler.TaskSetManager: Stage 216 contains a task of very large size (29432 KiB). The maximum recommended task size is 1000 KiB.\n",
      "23/02/21 15:34:44 WARN org.apache.spark.scheduler.TaskSetManager: Stage 217 contains a task of very large size (29432 KiB). The maximum recommended task size is 1000 KiB.\n",
      "23/02/21 15:34:44 WARN org.apache.spark.scheduler.TaskSetManager: Stage 218 contains a task of very large size (29432 KiB). The maximum recommended task size is 1000 KiB.\n",
      "23/02/21 15:34:44 WARN org.apache.spark.scheduler.TaskSetManager: Stage 219 contains a task of very large size (29432 KiB). The maximum recommended task size is 1000 KiB.\n",
      "23/02/21 15:34:45 WARN org.apache.spark.scheduler.TaskSetManager: Stage 220 contains a task of very large size (29432 KiB). The maximum recommended task size is 1000 KiB.\n",
      "23/02/21 15:34:45 WARN org.apache.spark.scheduler.TaskSetManager: Stage 221 contains a task of very large size (29432 KiB). The maximum recommended task size is 1000 KiB.\n",
      "23/02/21 15:34:46 WARN org.apache.spark.scheduler.TaskSetManager: Stage 222 contains a task of very large size (29432 KiB). The maximum recommended task size is 1000 KiB.\n",
      "23/02/21 15:34:54 WARN org.apache.spark.scheduler.TaskSetManager: Stage 233 contains a task of very large size (29432 KiB). The maximum recommended task size is 1000 KiB.\n",
      "23/02/21 15:34:54 WARN org.apache.spark.scheduler.TaskSetManager: Stage 236 contains a task of very large size (29432 KiB). The maximum recommended task size is 1000 KiB.\n",
      "23/02/21 15:34:55 WARN org.apache.spark.scheduler.TaskSetManager: Stage 237 contains a task of very large size (29432 KiB). The maximum recommended task size is 1000 KiB.\n",
      "23/02/21 15:34:56 WARN org.apache.spark.scheduler.TaskSetManager: Stage 240 contains a task of very large size (29432 KiB). The maximum recommended task size is 1000 KiB.\n",
      "23/02/21 15:34:58 WARN org.apache.spark.scheduler.TaskSetManager: Stage 241 contains a task of very large size (29432 KiB). The maximum recommended task size is 1000 KiB.\n",
      "23/02/21 15:35:01 WARN org.apache.spark.scheduler.TaskSetManager: Stage 242 contains a task of very large size (29432 KiB). The maximum recommended task size is 1000 KiB.\n",
      "23/02/21 15:35:01 WARN org.apache.spark.scheduler.TaskSetManager: Stage 243 contains a task of very large size (29432 KiB). The maximum recommended task size is 1000 KiB.\n",
      "23/02/21 15:35:02 WARN org.apache.spark.scheduler.TaskSetManager: Stage 244 contains a task of very large size (29432 KiB). The maximum recommended task size is 1000 KiB.\n",
      "23/02/21 15:35:02 WARN org.apache.spark.scheduler.TaskSetManager: Stage 245 contains a task of very large size (29432 KiB). The maximum recommended task size is 1000 KiB.\n",
      "23/02/21 15:35:02 WARN org.apache.spark.scheduler.TaskSetManager: Stage 246 contains a task of very large size (29432 KiB). The maximum recommended task size is 1000 KiB.\n",
      "23/02/21 15:35:03 WARN org.apache.spark.scheduler.TaskSetManager: Stage 247 contains a task of very large size (29432 KiB). The maximum recommended task size is 1000 KiB.\n",
      "23/02/21 15:35:03 WARN org.apache.spark.scheduler.TaskSetManager: Stage 248 contains a task of very large size (29432 KiB). The maximum recommended task size is 1000 KiB.\n",
      "23/02/21 15:35:11 WARN org.apache.spark.scheduler.TaskSetManager: Stage 259 contains a task of very large size (29432 KiB). The maximum recommended task size is 1000 KiB.\n",
      "23/02/21 15:35:12 WARN org.apache.spark.scheduler.TaskSetManager: Stage 262 contains a task of very large size (29432 KiB). The maximum recommended task size is 1000 KiB.\n",
      "23/02/21 15:35:13 WARN org.apache.spark.scheduler.TaskSetManager: Stage 263 contains a task of very large size (29432 KiB). The maximum recommended task size is 1000 KiB.\n",
      "23/02/21 15:35:14 WARN org.apache.spark.scheduler.TaskSetManager: Stage 266 contains a task of very large size (29432 KiB). The maximum recommended task size is 1000 KiB.\n",
      "23/02/21 15:35:16 WARN org.apache.spark.scheduler.TaskSetManager: Stage 267 contains a task of very large size (29432 KiB). The maximum recommended task size is 1000 KiB.\n",
      "23/02/21 15:35:19 WARN org.apache.spark.scheduler.TaskSetManager: Stage 268 contains a task of very large size (29432 KiB). The maximum recommended task size is 1000 KiB.\n",
      "23/02/21 15:35:19 WARN org.apache.spark.scheduler.TaskSetManager: Stage 269 contains a task of very large size (29432 KiB). The maximum recommended task size is 1000 KiB.\n",
      "23/02/21 15:35:20 WARN org.apache.spark.scheduler.TaskSetManager: Stage 270 contains a task of very large size (29432 KiB). The maximum recommended task size is 1000 KiB.\n",
      "23/02/21 15:35:20 WARN org.apache.spark.scheduler.TaskSetManager: Stage 271 contains a task of very large size (29432 KiB). The maximum recommended task size is 1000 KiB.\n",
      "23/02/21 15:35:20 WARN org.apache.spark.scheduler.TaskSetManager: Stage 272 contains a task of very large size (29432 KiB). The maximum recommended task size is 1000 KiB.\n",
      "23/02/21 15:35:21 WARN org.apache.spark.scheduler.TaskSetManager: Stage 273 contains a task of very large size (29432 KiB). The maximum recommended task size is 1000 KiB.\n",
      "23/02/21 15:35:21 WARN org.apache.spark.scheduler.TaskSetManager: Stage 274 contains a task of very large size (29432 KiB). The maximum recommended task size is 1000 KiB.\n",
      "23/02/21 15:35:30 WARN org.apache.spark.scheduler.TaskSetManager: Stage 285 contains a task of very large size (29432 KiB). The maximum recommended task size is 1000 KiB.\n",
      "23/02/21 15:35:33 WARN org.apache.spark.scheduler.TaskSetManager: Stage 288 contains a task of very large size (29432 KiB). The maximum recommended task size is 1000 KiB.\n",
      "23/02/21 15:35:35 WARN org.apache.spark.scheduler.TaskSetManager: Stage 289 contains a task of very large size (29432 KiB). The maximum recommended task size is 1000 KiB.\n",
      "23/02/21 15:35:35 WARN org.apache.spark.scheduler.TaskSetManager: Stage 292 contains a task of very large size (29432 KiB). The maximum recommended task size is 1000 KiB.\n",
      "23/02/21 15:35:38 WARN org.apache.spark.scheduler.TaskSetManager: Stage 293 contains a task of very large size (29432 KiB). The maximum recommended task size is 1000 KiB.\n",
      "23/02/21 15:35:40 WARN org.apache.spark.scheduler.TaskSetManager: Stage 294 contains a task of very large size (29432 KiB). The maximum recommended task size is 1000 KiB.\n",
      "23/02/21 15:35:41 WARN org.apache.spark.scheduler.TaskSetManager: Stage 295 contains a task of very large size (29432 KiB). The maximum recommended task size is 1000 KiB.\n",
      "23/02/21 15:35:41 WARN org.apache.spark.scheduler.TaskSetManager: Stage 296 contains a task of very large size (29432 KiB). The maximum recommended task size is 1000 KiB.\n",
      "23/02/21 15:35:41 WARN org.apache.spark.scheduler.TaskSetManager: Stage 297 contains a task of very large size (29432 KiB). The maximum recommended task size is 1000 KiB.\n",
      "23/02/21 15:35:42 WARN org.apache.spark.scheduler.TaskSetManager: Stage 298 contains a task of very large size (29432 KiB). The maximum recommended task size is 1000 KiB.\n",
      "23/02/21 15:35:42 WARN org.apache.spark.scheduler.TaskSetManager: Stage 299 contains a task of very large size (29432 KiB). The maximum recommended task size is 1000 KiB.\n",
      "23/02/21 15:35:43 WARN org.apache.spark.scheduler.TaskSetManager: Stage 300 contains a task of very large size (29432 KiB). The maximum recommended task size is 1000 KiB.\n",
      "23/02/21 15:35:43 WARN org.apache.spark.scheduler.TaskSetManager: Stage 301 contains a task of very large size (29432 KiB). The maximum recommended task size is 1000 KiB.\n",
      "23/02/21 15:35:43 WARN org.apache.spark.scheduler.TaskSetManager: Stage 302 contains a task of very large size (29432 KiB). The maximum recommended task size is 1000 KiB.\n",
      "23/02/21 15:35:43 WARN org.apache.spark.scheduler.TaskSetManager: Stage 303 contains a task of very large size (29432 KiB). The maximum recommended task size is 1000 KiB.\n",
      "23/02/21 15:35:44 WARN org.apache.spark.scheduler.TaskSetManager: Stage 304 contains a task of very large size (29432 KiB). The maximum recommended task size is 1000 KiB.\n",
      "23/02/21 15:35:45 WARN org.apache.spark.scheduler.TaskSetManager: Stage 305 contains a task of very large size (29432 KiB). The maximum recommended task size is 1000 KiB.\n",
      "23/02/21 15:35:56 WARN org.apache.spark.scheduler.TaskSetManager: Stage 316 contains a task of very large size (29432 KiB). The maximum recommended task size is 1000 KiB.\n",
      "23/02/21 15:35:56 WARN org.apache.spark.scheduler.TaskSetManager: Stage 319 contains a task of very large size (29432 KiB). The maximum recommended task size is 1000 KiB.\n",
      "23/02/21 15:35:57 WARN org.apache.spark.scheduler.TaskSetManager: Stage 320 contains a task of very large size (29432 KiB). The maximum recommended task size is 1000 KiB.\n",
      "23/02/21 15:35:58 WARN org.apache.spark.scheduler.TaskSetManager: Stage 323 contains a task of very large size (29432 KiB). The maximum recommended task size is 1000 KiB.\n",
      "23/02/21 15:36:01 WARN org.apache.spark.scheduler.TaskSetManager: Stage 324 contains a task of very large size (29432 KiB). The maximum recommended task size is 1000 KiB.\n",
      "23/02/21 15:36:03 WARN org.apache.spark.scheduler.TaskSetManager: Stage 325 contains a task of very large size (29432 KiB). The maximum recommended task size is 1000 KiB.\n",
      "23/02/21 15:36:04 WARN org.apache.spark.scheduler.TaskSetManager: Stage 326 contains a task of very large size (29432 KiB). The maximum recommended task size is 1000 KiB.\n",
      "23/02/21 15:36:04 WARN org.apache.spark.scheduler.TaskSetManager: Stage 327 contains a task of very large size (29432 KiB). The maximum recommended task size is 1000 KiB.\n",
      "23/02/21 15:36:04 WARN org.apache.spark.scheduler.TaskSetManager: Stage 328 contains a task of very large size (29432 KiB). The maximum recommended task size is 1000 KiB.\n",
      "23/02/21 15:36:05 WARN org.apache.spark.scheduler.TaskSetManager: Stage 329 contains a task of very large size (29432 KiB). The maximum recommended task size is 1000 KiB.\n",
      "23/02/21 15:36:05 WARN org.apache.spark.scheduler.TaskSetManager: Stage 330 contains a task of very large size (29432 KiB). The maximum recommended task size is 1000 KiB.\n",
      "23/02/21 15:36:05 WARN org.apache.spark.scheduler.TaskSetManager: Stage 331 contains a task of very large size (29432 KiB). The maximum recommended task size is 1000 KiB.\n",
      "23/02/21 15:36:06 WARN org.apache.spark.scheduler.TaskSetManager: Stage 332 contains a task of very large size (29432 KiB). The maximum recommended task size is 1000 KiB.\n",
      "23/02/21 15:36:06 WARN org.apache.spark.scheduler.TaskSetManager: Stage 333 contains a task of very large size (29432 KiB). The maximum recommended task size is 1000 KiB.\n",
      "23/02/21 15:36:06 WARN org.apache.spark.scheduler.TaskSetManager: Stage 334 contains a task of very large size (29432 KiB). The maximum recommended task size is 1000 KiB.\n",
      "23/02/21 15:36:07 WARN org.apache.spark.scheduler.TaskSetManager: Stage 335 contains a task of very large size (29432 KiB). The maximum recommended task size is 1000 KiB.\n",
      "23/02/21 15:36:07 WARN org.apache.spark.scheduler.TaskSetManager: Stage 336 contains a task of very large size (29432 KiB). The maximum recommended task size is 1000 KiB.\n",
      "23/02/21 15:36:15 WARN org.apache.spark.scheduler.TaskSetManager: Stage 347 contains a task of very large size (29432 KiB). The maximum recommended task size is 1000 KiB.\n",
      "23/02/21 15:36:16 WARN org.apache.spark.scheduler.TaskSetManager: Stage 350 contains a task of very large size (29432 KiB). The maximum recommended task size is 1000 KiB.\n",
      "23/02/21 15:36:17 WARN org.apache.spark.scheduler.TaskSetManager: Stage 351 contains a task of very large size (29432 KiB). The maximum recommended task size is 1000 KiB.\n",
      "23/02/21 15:36:18 WARN org.apache.spark.scheduler.TaskSetManager: Stage 354 contains a task of very large size (29432 KiB). The maximum recommended task size is 1000 KiB.\n",
      "23/02/21 15:36:20 WARN org.apache.spark.scheduler.TaskSetManager: Stage 355 contains a task of very large size (29432 KiB). The maximum recommended task size is 1000 KiB.\n",
      "23/02/21 15:36:23 WARN org.apache.spark.scheduler.TaskSetManager: Stage 356 contains a task of very large size (29432 KiB). The maximum recommended task size is 1000 KiB.\n",
      "23/02/21 15:36:23 WARN org.apache.spark.scheduler.TaskSetManager: Stage 357 contains a task of very large size (29432 KiB). The maximum recommended task size is 1000 KiB.\n",
      "23/02/21 15:36:23 WARN org.apache.spark.scheduler.TaskSetManager: Stage 358 contains a task of very large size (29432 KiB). The maximum recommended task size is 1000 KiB.\n",
      "23/02/21 15:36:24 WARN org.apache.spark.scheduler.TaskSetManager: Stage 359 contains a task of very large size (29432 KiB). The maximum recommended task size is 1000 KiB.\n",
      "23/02/21 15:36:24 WARN org.apache.spark.scheduler.TaskSetManager: Stage 360 contains a task of very large size (29432 KiB). The maximum recommended task size is 1000 KiB.\n",
      "23/02/21 15:36:24 WARN org.apache.spark.scheduler.TaskSetManager: Stage 361 contains a task of very large size (29432 KiB). The maximum recommended task size is 1000 KiB.\n",
      "23/02/21 15:36:25 WARN org.apache.spark.scheduler.TaskSetManager: Stage 362 contains a task of very large size (29432 KiB). The maximum recommended task size is 1000 KiB.\n",
      "23/02/21 15:36:33 WARN org.apache.spark.scheduler.TaskSetManager: Stage 373 contains a task of very large size (29432 KiB). The maximum recommended task size is 1000 KiB.\n",
      "23/02/21 15:36:33 WARN org.apache.spark.scheduler.TaskSetManager: Stage 376 contains a task of very large size (29432 KiB). The maximum recommended task size is 1000 KiB.\n",
      "23/02/21 15:36:34 WARN org.apache.spark.scheduler.TaskSetManager: Stage 377 contains a task of very large size (29432 KiB). The maximum recommended task size is 1000 KiB.\n",
      "23/02/21 15:36:35 WARN org.apache.spark.scheduler.TaskSetManager: Stage 380 contains a task of very large size (29432 KiB). The maximum recommended task size is 1000 KiB.\n",
      "23/02/21 15:36:37 WARN org.apache.spark.scheduler.TaskSetManager: Stage 381 contains a task of very large size (29432 KiB). The maximum recommended task size is 1000 KiB.\n",
      "23/02/21 15:36:40 WARN org.apache.spark.scheduler.TaskSetManager: Stage 382 contains a task of very large size (29432 KiB). The maximum recommended task size is 1000 KiB.\n",
      "23/02/21 15:36:41 WARN org.apache.spark.scheduler.TaskSetManager: Stage 383 contains a task of very large size (29432 KiB). The maximum recommended task size is 1000 KiB.\n",
      "23/02/21 15:36:41 WARN org.apache.spark.scheduler.TaskSetManager: Stage 384 contains a task of very large size (29432 KiB). The maximum recommended task size is 1000 KiB.\n",
      "23/02/21 15:36:41 WARN org.apache.spark.scheduler.TaskSetManager: Stage 385 contains a task of very large size (29432 KiB). The maximum recommended task size is 1000 KiB.\n",
      "23/02/21 15:36:42 WARN org.apache.spark.scheduler.TaskSetManager: Stage 386 contains a task of very large size (29432 KiB). The maximum recommended task size is 1000 KiB.\n",
      "23/02/21 15:36:42 WARN org.apache.spark.scheduler.TaskSetManager: Stage 387 contains a task of very large size (29432 KiB). The maximum recommended task size is 1000 KiB.\n",
      "23/02/21 15:36:43 WARN org.apache.spark.scheduler.TaskSetManager: Stage 388 contains a task of very large size (29432 KiB). The maximum recommended task size is 1000 KiB.\n",
      "23/02/21 15:36:50 WARN org.apache.spark.scheduler.TaskSetManager: Stage 399 contains a task of very large size (29432 KiB). The maximum recommended task size is 1000 KiB.\n",
      "23/02/21 15:36:51 WARN org.apache.spark.scheduler.TaskSetManager: Stage 402 contains a task of very large size (29432 KiB). The maximum recommended task size is 1000 KiB.\n",
      "23/02/21 15:36:52 WARN org.apache.spark.scheduler.TaskSetManager: Stage 403 contains a task of very large size (29432 KiB). The maximum recommended task size is 1000 KiB.\n",
      "23/02/21 15:36:53 WARN org.apache.spark.scheduler.TaskSetManager: Stage 406 contains a task of very large size (29432 KiB). The maximum recommended task size is 1000 KiB.\n",
      "23/02/21 15:36:55 WARN org.apache.spark.scheduler.TaskSetManager: Stage 407 contains a task of very large size (29432 KiB). The maximum recommended task size is 1000 KiB.\n",
      "23/02/21 15:36:58 WARN org.apache.spark.scheduler.TaskSetManager: Stage 408 contains a task of very large size (29432 KiB). The maximum recommended task size is 1000 KiB.\n",
      "23/02/21 15:36:58 WARN org.apache.spark.scheduler.TaskSetManager: Stage 409 contains a task of very large size (29432 KiB). The maximum recommended task size is 1000 KiB.\n",
      "23/02/21 15:36:58 WARN org.apache.spark.scheduler.TaskSetManager: Stage 410 contains a task of very large size (29432 KiB). The maximum recommended task size is 1000 KiB.\n",
      "23/02/21 15:36:59 WARN org.apache.spark.scheduler.TaskSetManager: Stage 411 contains a task of very large size (29432 KiB). The maximum recommended task size is 1000 KiB.\n",
      "23/02/21 15:36:59 WARN org.apache.spark.scheduler.TaskSetManager: Stage 412 contains a task of very large size (29432 KiB). The maximum recommended task size is 1000 KiB.\n",
      "23/02/21 15:36:59 WARN org.apache.spark.scheduler.TaskSetManager: Stage 413 contains a task of very large size (29432 KiB). The maximum recommended task size is 1000 KiB.\n",
      "23/02/21 15:37:00 WARN org.apache.spark.scheduler.TaskSetManager: Stage 414 contains a task of very large size (29432 KiB). The maximum recommended task size is 1000 KiB.\n",
      "23/02/21 15:37:00 WARN org.apache.spark.scheduler.TaskSetManager: Stage 415 contains a task of very large size (29432 KiB). The maximum recommended task size is 1000 KiB.\n",
      "23/02/21 15:37:00 WARN org.apache.spark.scheduler.TaskSetManager: Stage 416 contains a task of very large size (29432 KiB). The maximum recommended task size is 1000 KiB.\n",
      "23/02/21 15:37:01 WARN org.apache.spark.scheduler.TaskSetManager: Stage 417 contains a task of very large size (29432 KiB). The maximum recommended task size is 1000 KiB.\n",
      "23/02/21 15:37:01 WARN org.apache.spark.scheduler.TaskSetManager: Stage 418 contains a task of very large size (29432 KiB). The maximum recommended task size is 1000 KiB.\n",
      "23/02/21 15:37:02 WARN org.apache.spark.scheduler.TaskSetManager: Stage 419 contains a task of very large size (29432 KiB). The maximum recommended task size is 1000 KiB.\n",
      "23/02/21 15:37:09 WARN org.apache.spark.scheduler.TaskSetManager: Stage 430 contains a task of very large size (29432 KiB). The maximum recommended task size is 1000 KiB.\n",
      "23/02/21 15:37:10 WARN org.apache.spark.scheduler.TaskSetManager: Stage 433 contains a task of very large size (29432 KiB). The maximum recommended task size is 1000 KiB.\n",
      "23/02/21 15:37:11 WARN org.apache.spark.scheduler.TaskSetManager: Stage 434 contains a task of very large size (29432 KiB). The maximum recommended task size is 1000 KiB.\n",
      "23/02/21 15:37:12 WARN org.apache.spark.scheduler.TaskSetManager: Stage 437 contains a task of very large size (29432 KiB). The maximum recommended task size is 1000 KiB.\n",
      "23/02/21 15:37:14 WARN org.apache.spark.scheduler.TaskSetManager: Stage 438 contains a task of very large size (29432 KiB). The maximum recommended task size is 1000 KiB.\n",
      "23/02/21 15:37:17 WARN org.apache.spark.scheduler.TaskSetManager: Stage 439 contains a task of very large size (29432 KiB). The maximum recommended task size is 1000 KiB.\n",
      "23/02/21 15:37:17 WARN org.apache.spark.scheduler.TaskSetManager: Stage 440 contains a task of very large size (29432 KiB). The maximum recommended task size is 1000 KiB.\n",
      "23/02/21 15:37:17 WARN org.apache.spark.scheduler.TaskSetManager: Stage 441 contains a task of very large size (29432 KiB). The maximum recommended task size is 1000 KiB.\n",
      "23/02/21 15:37:18 WARN org.apache.spark.scheduler.TaskSetManager: Stage 442 contains a task of very large size (29432 KiB). The maximum recommended task size is 1000 KiB.\n",
      "23/02/21 15:37:18 WARN org.apache.spark.scheduler.TaskSetManager: Stage 443 contains a task of very large size (29432 KiB). The maximum recommended task size is 1000 KiB.\n",
      "23/02/21 15:37:18 WARN org.apache.spark.scheduler.TaskSetManager: Stage 444 contains a task of very large size (29432 KiB). The maximum recommended task size is 1000 KiB.\n",
      "23/02/21 15:37:19 WARN org.apache.spark.scheduler.TaskSetManager: Stage 445 contains a task of very large size (29432 KiB). The maximum recommended task size is 1000 KiB.\n",
      "23/02/21 15:37:19 WARN org.apache.spark.scheduler.TaskSetManager: Stage 446 contains a task of very large size (29432 KiB). The maximum recommended task size is 1000 KiB.\n",
      "23/02/21 15:37:19 WARN org.apache.spark.scheduler.TaskSetManager: Stage 447 contains a task of very large size (29432 KiB). The maximum recommended task size is 1000 KiB.\n",
      "23/02/21 15:37:20 WARN org.apache.spark.scheduler.TaskSetManager: Stage 448 contains a task of very large size (29432 KiB). The maximum recommended task size is 1000 KiB.\n",
      "23/02/21 15:37:20 WARN org.apache.spark.scheduler.TaskSetManager: Stage 449 contains a task of very large size (29432 KiB). The maximum recommended task size is 1000 KiB.\n",
      "23/02/21 15:37:21 WARN org.apache.spark.scheduler.TaskSetManager: Stage 450 contains a task of very large size (29432 KiB). The maximum recommended task size is 1000 KiB.\n",
      "23/02/21 15:37:29 WARN org.apache.spark.scheduler.TaskSetManager: Stage 461 contains a task of very large size (29432 KiB). The maximum recommended task size is 1000 KiB.\n",
      "23/02/21 15:37:29 WARN org.apache.spark.scheduler.TaskSetManager: Stage 464 contains a task of very large size (29432 KiB). The maximum recommended task size is 1000 KiB.\n",
      "23/02/21 15:37:30 WARN org.apache.spark.scheduler.TaskSetManager: Stage 465 contains a task of very large size (29432 KiB). The maximum recommended task size is 1000 KiB.\n",
      "23/02/21 15:37:31 WARN org.apache.spark.scheduler.TaskSetManager: Stage 468 contains a task of very large size (29432 KiB). The maximum recommended task size is 1000 KiB.\n",
      "23/02/21 15:37:33 WARN org.apache.spark.scheduler.TaskSetManager: Stage 469 contains a task of very large size (29432 KiB). The maximum recommended task size is 1000 KiB.\n",
      "23/02/21 15:37:36 WARN org.apache.spark.scheduler.TaskSetManager: Stage 470 contains a task of very large size (29432 KiB). The maximum recommended task size is 1000 KiB.\n",
      "23/02/21 15:37:36 WARN org.apache.spark.scheduler.TaskSetManager: Stage 471 contains a task of very large size (29432 KiB). The maximum recommended task size is 1000 KiB.\n",
      "23/02/21 15:37:37 WARN org.apache.spark.scheduler.TaskSetManager: Stage 472 contains a task of very large size (29432 KiB). The maximum recommended task size is 1000 KiB.\n",
      "23/02/21 15:37:37 WARN org.apache.spark.scheduler.TaskSetManager: Stage 473 contains a task of very large size (29432 KiB). The maximum recommended task size is 1000 KiB.\n",
      "23/02/21 15:37:37 WARN org.apache.spark.scheduler.TaskSetManager: Stage 474 contains a task of very large size (29432 KiB). The maximum recommended task size is 1000 KiB.\n",
      "23/02/21 15:37:38 WARN org.apache.spark.scheduler.TaskSetManager: Stage 475 contains a task of very large size (29432 KiB). The maximum recommended task size is 1000 KiB.\n",
      "23/02/21 15:37:38 WARN org.apache.spark.scheduler.TaskSetManager: Stage 476 contains a task of very large size (29432 KiB). The maximum recommended task size is 1000 KiB.\n",
      "23/02/21 15:37:47 WARN org.apache.spark.scheduler.TaskSetManager: Stage 487 contains a task of very large size (29432 KiB). The maximum recommended task size is 1000 KiB.\n",
      "23/02/21 15:37:47 WARN org.apache.spark.scheduler.TaskSetManager: Stage 490 contains a task of very large size (29432 KiB). The maximum recommended task size is 1000 KiB.\n",
      "23/02/21 15:37:48 WARN org.apache.spark.scheduler.TaskSetManager: Stage 491 contains a task of very large size (29432 KiB). The maximum recommended task size is 1000 KiB.\n",
      "23/02/21 15:37:49 WARN org.apache.spark.scheduler.TaskSetManager: Stage 494 contains a task of very large size (29432 KiB). The maximum recommended task size is 1000 KiB.\n",
      "23/02/21 15:37:51 WARN org.apache.spark.scheduler.TaskSetManager: Stage 495 contains a task of very large size (29432 KiB). The maximum recommended task size is 1000 KiB.\n",
      "23/02/21 15:37:54 WARN org.apache.spark.scheduler.TaskSetManager: Stage 496 contains a task of very large size (29432 KiB). The maximum recommended task size is 1000 KiB.\n",
      "23/02/21 15:37:54 WARN org.apache.spark.scheduler.TaskSetManager: Stage 497 contains a task of very large size (29432 KiB). The maximum recommended task size is 1000 KiB.\n",
      "23/02/21 15:37:55 WARN org.apache.spark.scheduler.TaskSetManager: Stage 498 contains a task of very large size (29432 KiB). The maximum recommended task size is 1000 KiB.\n",
      "23/02/21 15:37:55 WARN org.apache.spark.scheduler.TaskSetManager: Stage 499 contains a task of very large size (29432 KiB). The maximum recommended task size is 1000 KiB.\n",
      "23/02/21 15:37:55 WARN org.apache.spark.scheduler.TaskSetManager: Stage 500 contains a task of very large size (29432 KiB). The maximum recommended task size is 1000 KiB.\n",
      "23/02/21 15:37:56 WARN org.apache.spark.scheduler.TaskSetManager: Stage 501 contains a task of very large size (29432 KiB). The maximum recommended task size is 1000 KiB.\n",
      "23/02/21 15:37:56 WARN org.apache.spark.scheduler.TaskSetManager: Stage 502 contains a task of very large size (29432 KiB). The maximum recommended task size is 1000 KiB.\n",
      "23/02/21 15:38:05 WARN org.apache.spark.scheduler.TaskSetManager: Stage 513 contains a task of very large size (29432 KiB). The maximum recommended task size is 1000 KiB.\n",
      "23/02/21 15:38:08 WARN org.apache.spark.scheduler.TaskSetManager: Stage 516 contains a task of very large size (29432 KiB). The maximum recommended task size is 1000 KiB.\n",
      "23/02/21 15:38:12 WARN org.apache.spark.scheduler.TaskSetManager: Stage 517 contains a task of very large size (29432 KiB). The maximum recommended task size is 1000 KiB.\n",
      "23/02/21 15:38:15 WARN org.apache.spark.scheduler.TaskSetManager: Stage 520 contains a task of very large size (29432 KiB). The maximum recommended task size is 1000 KiB.\n",
      "23/02/21 15:38:22 WARN org.apache.spark.scheduler.TaskSetManager: Stage 521 contains a task of very large size (29432 KiB). The maximum recommended task size is 1000 KiB.\n",
      "23/02/21 15:38:29 WARN org.apache.spark.scheduler.TaskSetManager: Stage 522 contains a task of very large size (29432 KiB). The maximum recommended task size is 1000 KiB.\n",
      "23/02/21 15:38:29 WARN org.apache.spark.scheduler.TaskSetManager: Stage 523 contains a task of very large size (29432 KiB). The maximum recommended task size is 1000 KiB.\n",
      "23/02/21 15:38:30 WARN org.apache.spark.scheduler.TaskSetManager: Stage 524 contains a task of very large size (29432 KiB). The maximum recommended task size is 1000 KiB.\n",
      "23/02/21 15:38:30 WARN org.apache.spark.scheduler.TaskSetManager: Stage 525 contains a task of very large size (29432 KiB). The maximum recommended task size is 1000 KiB.\n",
      "23/02/21 15:38:30 WARN org.apache.spark.scheduler.TaskSetManager: Stage 526 contains a task of very large size (29432 KiB). The maximum recommended task size is 1000 KiB.\n",
      "23/02/21 15:38:31 WARN org.apache.spark.scheduler.TaskSetManager: Stage 527 contains a task of very large size (29432 KiB). The maximum recommended task size is 1000 KiB.\n",
      "23/02/21 15:38:31 WARN org.apache.spark.scheduler.TaskSetManager: Stage 528 contains a task of very large size (29432 KiB). The maximum recommended task size is 1000 KiB.\n",
      "23/02/21 15:38:32 WARN org.apache.spark.scheduler.TaskSetManager: Stage 529 contains a task of very large size (29432 KiB). The maximum recommended task size is 1000 KiB.\n",
      "23/02/21 15:38:32 WARN org.apache.spark.scheduler.TaskSetManager: Stage 530 contains a task of very large size (29432 KiB). The maximum recommended task size is 1000 KiB.\n",
      "23/02/21 15:38:33 WARN org.apache.spark.scheduler.TaskSetManager: Stage 531 contains a task of very large size (29432 KiB). The maximum recommended task size is 1000 KiB.\n",
      "23/02/21 15:38:33 WARN org.apache.spark.scheduler.TaskSetManager: Stage 532 contains a task of very large size (29432 KiB). The maximum recommended task size is 1000 KiB.\n"
     ]
    }
   ],
   "source": [
    "paramGrid = ParamGridBuilder().addGrid(lr.regParam, [0.3, 0.1]).addGrid(lr.maxIter, [10, 5]).addGrid(lr.threshold, \n",
    "                                                                                            [0.4, 0.3]).build()\n",
    "cv = CrossValidator(estimator=pipeline, evaluator=BinaryClassificationEvaluator(), estimatorParamMaps=paramGrid, \n",
    "                    numFolds=2)\n",
    "\n",
    "model = cv.fit(train)"
   ]
  },
  {
   "cell_type": "markdown",
   "source": [
    "CrossValidator permet de trouver le meilleur seuil entre 0.45, 0.4 et 0.35, le paramètre de régularisation entre 0.3 et 0.1, et le nombre maximum d'itérations autorisées entre 10 et 5."
   ],
   "metadata": {
    "id": "01RTMUK4wDNH"
   },
   "id": "01RTMUK4wDNH"
  },
  {
   "cell_type": "code",
   "execution_count": null,
   "id": "ba4cf17a-f2eb-46fc-bd6f-8156271ab6e0",
   "metadata": {
    "id": "ba4cf17a-f2eb-46fc-bd6f-8156271ab6e0",
    "outputId": "1624cbe1-5df7-48f0-efdd-fd44dcf0f9cb"
   },
   "outputs": [
    {
     "name": "stderr",
     "output_type": "stream",
     "text": [
      "23/02/21 15:38:34 WARN org.apache.spark.scheduler.TaskSetManager: Stage 533 contains a task of very large size (29432 KiB). The maximum recommended task size is 1000 KiB.\n",
      "[Stage 533:>                                                        (0 + 1) / 1]\r"
     ]
    },
    {
     "name": "stdout",
     "output_type": "stream",
     "text": [
      "+--------------------+----------+---------+\n",
      "|            features|prediction|trueLabel|\n",
      "+--------------------+----------+---------+\n",
      "|[10.0,1.0,0.0,103...|       0.0|        0|\n",
      "|[10.0,1.0,0.0,103...|       0.0|        0|\n",
      "|[10.0,1.0,0.0,104...|       0.0|        1|\n",
      "|[10.0,1.0,0.0,104...|       0.0|        0|\n",
      "|[10.0,1.0,0.0,104...|       0.0|        0|\n",
      "|[10.0,1.0,0.0,104...|       0.0|        0|\n",
      "|[10.0,1.0,0.0,105...|       0.0|        0|\n",
      "|[10.0,1.0,0.0,105...|       0.0|        0|\n",
      "|[10.0,1.0,0.0,105...|       0.0|        1|\n",
      "|[10.0,1.0,0.0,105...|       0.0|        1|\n",
      "|[10.0,1.0,0.0,106...|       1.0|        1|\n",
      "|[10.0,1.0,0.0,106...|       0.0|        0|\n",
      "|[10.0,1.0,0.0,107...|       0.0|        1|\n",
      "|[10.0,1.0,0.0,107...|       0.0|        1|\n",
      "|[10.0,1.0,0.0,107...|       0.0|        1|\n",
      "|[10.0,1.0,0.0,107...|       0.0|        1|\n",
      "|[10.0,1.0,0.0,108...|       0.0|        0|\n",
      "|[10.0,1.0,0.0,108...|       0.0|        0|\n",
      "|[10.0,1.0,0.0,108...|       0.0|        1|\n",
      "|[10.0,1.0,0.0,108...|       0.0|        0|\n",
      "+--------------------+----------+---------+\n",
      "only showing top 20 rows\n",
      "\n"
     ]
    },
    {
     "name": "stderr",
     "output_type": "stream",
     "text": [
      "                                                                                \r"
     ]
    }
   ],
   "source": [
    "newPrediction = model.transform(test)\n",
    "newPredicted = prediction.select(\"features\", \"prediction\", \"trueLabel\")\n",
    "newPredicted.show()"
   ]
  },
  {
   "cell_type": "markdown",
   "source": [],
   "metadata": {
    "id": "doPJ88ESwu0t"
   },
   "id": "doPJ88ESwu0t"
  },
  {
   "cell_type": "code",
   "execution_count": null,
   "id": "648c9707-c22c-4c55-91af-dd040b4c9f45",
   "metadata": {
    "id": "648c9707-c22c-4c55-91af-dd040b4c9f45",
    "outputId": "9bc837f9-0c0c-4704-926d-04bf3d3d8cf3"
   },
   "outputs": [
    {
     "name": "stderr",
     "output_type": "stream",
     "text": [
      "23/02/21 15:38:35 WARN org.apache.spark.scheduler.TaskSetManager: Stage 534 contains a task of very large size (29432 KiB). The maximum recommended task size is 1000 KiB.\n",
      "23/02/21 15:38:40 WARN org.apache.spark.scheduler.TaskSetManager: Stage 537 contains a task of very large size (29432 KiB). The maximum recommended task size is 1000 KiB.\n",
      "23/02/21 15:38:45 WARN org.apache.spark.scheduler.TaskSetManager: Stage 540 contains a task of very large size (29432 KiB). The maximum recommended task size is 1000 KiB.\n",
      "23/02/21 15:38:49 WARN org.apache.spark.scheduler.TaskSetManager: Stage 543 contains a task of very large size (29432 KiB). The maximum recommended task size is 1000 KiB.\n",
      "                                                                                \r"
     ]
    },
    {
     "name": "stdout",
     "output_type": "stream",
     "text": [
      "+---------+------------------+\n",
      "|   metric|             value|\n",
      "+---------+------------------+\n",
      "|       TP|           88736.0|\n",
      "|       FP|            2589.0|\n",
      "|       TN|          646549.0|\n",
      "|       FN|           72552.0|\n",
      "|Precision| 0.971650698056392|\n",
      "|   Recall|0.5501711224641634|\n",
      "|       F1|0.7025449996635169|\n",
      "+---------+------------------+\n",
      "\n"
     ]
    }
   ],
   "source": [
    "# Recalculate confusion matrix\n",
    "tp2 = float(newPrediction.filter(\"prediction == 1.0 AND truelabel == 1\").count())\n",
    "fp2 = float(newPrediction.filter(\"prediction == 1.0 AND truelabel == 0\").count())\n",
    "tn2 = float(newPrediction.filter(\"prediction == 0.0 AND truelabel == 0\").count())\n",
    "fn2 = float(newPrediction.filter(\"prediction == 0.0 AND truelabel == 1\").count())\n",
    "pr2 = tp2 / (tp2 + fp2)\n",
    "re2 = tp2 / (tp2 + fn2)\n",
    "metrics2 = spark.createDataFrame([\n",
    " (\"TP\", tp2),\n",
    " (\"FP\", fp2),\n",
    " (\"TN\", tn2),\n",
    " (\"FN\", fn2),\n",
    " (\"Precision\", pr2),\n",
    " (\"Recall\", re2),\n",
    " (\"F1\", 2*pr2*re2/(re2+pr2))],[\"metric\", \"value\"])\n",
    "metrics2.show()"
   ]
  },
  {
   "cell_type": "markdown",
   "source": [
    "FN beaucoup plus petit :\n",
    "* 142091 --> 72552\n",
    "\n",
    "Ce qui forcément fait passer FP \n",
    "* 77 --> 2589"
   ],
   "metadata": {
    "id": "HHeUJgQUws20"
   },
   "id": "HHeUJgQUws20"
  },
  {
   "cell_type": "code",
   "execution_count": null,
   "id": "fa98909f-c94e-45e0-9482-0972e5e13e11",
   "metadata": {
    "id": "fa98909f-c94e-45e0-9482-0972e5e13e11",
    "outputId": "81fb13cd-7e6c-4c51-f705-c522b2087d63"
   },
   "outputs": [
    {
     "name": "stderr",
     "output_type": "stream",
     "text": [
      "23/02/21 15:38:54 WARN org.apache.spark.scheduler.TaskSetManager: Stage 548 contains a task of very large size (29432 KiB). The maximum recommended task size is 1000 KiB.\n",
      "[Stage 558:============================>                            (1 + 1) / 2]\r"
     ]
    },
    {
     "name": "stdout",
     "output_type": "stream",
     "text": [
      "AUR2 =  0.9148013793286851\n"
     ]
    },
    {
     "name": "stderr",
     "output_type": "stream",
     "text": [
      "                                                                                \r"
     ]
    }
   ],
   "source": [
    "# Recalculate the Area Under ROC\n",
    "evaluator2 = BinaryClassificationEvaluator(labelCol=\"trueLabel\", rawPredictionCol=\"prediction\", metricName=\"areaUnderROC\")\n",
    "aur2 = evaluator.evaluate(prediction)\n",
    "print( \"AUR2 = \", aur2)"
   ]
  },
  {
   "cell_type": "markdown",
   "source": [
    "\n",
    "Amélioration sans compromettre les autres mesures:\n",
    "* rappel\n",
    "* score F1  "
   ],
   "metadata": {
    "id": "yq0rXpkPxMra"
   },
   "id": "yq0rXpkPxMra"
  },
  {
   "cell_type": "markdown",
   "source": [
    "Je supprime ici flights.csv que j'ai crée dans répertoire courant "
   ],
   "metadata": {
    "id": "P0251JYTxNlz"
   },
   "id": "P0251JYTxNlz"
  },
  {
   "cell_type": "code",
   "execution_count": null,
   "id": "f51ac7c6-a763-479a-b692-8122c8d16ae0",
   "metadata": {
    "id": "f51ac7c6-a763-479a-b692-8122c8d16ae0"
   },
   "outputs": [],
   "source": [
    "!rm flights.csv"
   ]
  }
 ],
 "metadata": {
  "language_info": {
   "codemirror_mode": {
    "name": "ipython",
    "version": 3
   },
   "file_extension": ".py",
   "mimetype": "text/x-python",
   "name": "python",
   "nbconvert_exporter": "python",
   "pygments_lexer": "ipython3",
   "version": "3.8.15"
  },
  "colab": {
   "provenance": []
  }
 },
 "nbformat": 4,
 "nbformat_minor": 5
}
